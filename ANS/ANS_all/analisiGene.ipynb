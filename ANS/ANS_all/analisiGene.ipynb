{
 "cells": [
  {
   "cell_type": "markdown",
   "metadata": {},
   "source": [
    "# Applied Network Science extension"
   ]
  },
  {
   "cell_type": "markdown",
   "metadata": {},
   "source": [
    "### Import libraries"
   ]
  },
  {
   "cell_type": "code",
   "execution_count": 170,
   "metadata": {},
   "outputs": [],
   "source": [
    "import skfda\n",
    "import numpy as np\n",
    "import pandas as pd\n",
    "import matplotlib.pyplot as plt\n",
    "import matplotlib.patches as mpatches\n",
    "import matplotlib.colors as pltcol\n",
    "import os\n",
    "from scipy.cluster.hierarchy import dendrogram, linkage, set_link_color_palette\n",
    "from scipy.spatial.distance import squareform\n",
    "from sklearn import preprocessing\n",
    "import statsmodels.api as sm\n",
    "import statsmodels.formula.api as smf\n",
    "import itertools\n",
    "import time\n",
    "from sklearn.linear_model import ElasticNetCV, enet_path\n"
   ]
  },
  {
   "cell_type": "markdown",
   "metadata": {},
   "source": [
    "### Methods and plot settings"
   ]
  },
  {
   "cell_type": "code",
   "execution_count": 171,
   "metadata": {},
   "outputs": [],
   "source": [
    "def extract_window(time_window):\n",
    "    data_aligned=pd.DataFrame()\n",
    "    for col in data.columns:\n",
    "        first_inv_year=data.loc[~data[col].isna(), col].index[0]\n",
    "        if first_inv_year>1999 and first_inv_year<2021-time_window:\n",
    "            x=data.loc[first_inv_year:,col].reset_index()\n",
    "            data_aligned[col]=x[col]\n",
    "    data_aligned=data_aligned.fillna(0)\n",
    "    data_aligned=data_aligned.cumsum()\n",
    "    data_export=data_aligned.loc[0:time_window-1,:]\n",
    "    return data_export\n",
    "\n",
    "# We run K-means 100 times per sector in order to \"be sure\" of clustering partitions\n",
    "def functional_clustering(data):\n",
    "    clusters={}\n",
    "    kmeans=skfda.ml.clustering.KMeans(n_clusters=2, n_init=100)\n",
    "    for sector in content.industry.unique():\n",
    "        idx=content[content.industry==sector].id_x\n",
    "        mat=data.loc[:,data.columns.isin(idx)]\n",
    "        if mat.shape[1]>1:\n",
    "            fdmat = skfda.FDataGrid(mat.transpose().to_numpy())\n",
    "            labels=kmeans.fit_predict(fdmat)\n",
    "            if kmeans.cluster_centers_.evaluate(0.5)[1]>kmeans.cluster_centers_.evaluate(0.5)[0]:\n",
    "                for x in zip(mat.columns, labels):\n",
    "                    clusters[x[0]]=x[1]\n",
    "            else:\n",
    "                for x in zip(mat.columns, labels):\n",
    "                    clusters[x[0]]= 0 if x[1]==1 else 1\n",
    "    return clusters"
   ]
  },
  {
   "cell_type": "code",
   "execution_count": null,
   "metadata": {},
   "outputs": [],
   "source": [
    "colors = [plt.cm.Set3(i) for i in range(20)]\n",
    "high_regime=colors[0]\n",
    "low_regime=colors[3]\n",
    "default_color=colors[4]\n",
    "default_color2=low_regime\n",
    "default_color3=high_regime\n",
    "default_color4=colors[5]\n",
    "plt.cm.get_cmap('Set3')"
   ]
  },
  {
   "cell_type": "markdown",
   "metadata": {},
   "source": [
    "### Data preprocessing"
   ]
  },
  {
   "cell_type": "code",
   "execution_count": 172,
   "metadata": {},
   "outputs": [
    {
     "name": "stderr",
     "output_type": "stream",
     "text": [
      " c:\\python38\\lib\\site-packages\\pandas\\core\\generic.py:5516: SettingWithCopyWarning:\n",
      "A value is trying to be set on a copy of a slice from a DataFrame.\n",
      "Try using .loc[row_indexer,col_indexer] = value instead\n",
      "\n",
      "See the caveats in the documentation: https://pandas.pydata.org/pandas-docs/stable/user_guide/indexing.html#returning-a-view-versus-a-copy\n"
     ]
    }
   ],
   "source": [
    "cb1 = pd.read_csv('cb1.csv')\n",
    "cb2 = pd.read_csv('cb2.csv')\n",
    "cb3 = pd.read_csv('cb3.csv')\n",
    "cb = cb1.append(cb2)\n",
    "cb = cb.append(cb3)\n",
    "cb.index = range(len(cb))\n",
    "cb['date_my'] = (pd.to_datetime(cb['date'],format='%m/%d/%Y', errors='coerce')).dt.to_period('m')\n",
    "cb['date_y'] = (pd.to_datetime(cb['date'],format='%m/%d/%Y', errors='coerce')).dt.to_period('y')\n",
    "\n",
    "nodes_org = cb[['target_name', 'target_ID']].drop_duplicates()\n",
    "nodes_org['bipartite'] = 1\n",
    "nodes_inv = cb[['investors_name', 'investor_id']].drop_duplicates()\n",
    "nodes_org = nodes_org.rename(columns={\"target_name\": \"node\", \"target_country\": \"country\", \n",
    "                                      \"target_continent\": \"continent\", \"industry\":\"industry\",\n",
    "                                     \"target_ID\":\"index\"})\n",
    "nodes_inv = nodes_inv.rename(columns={\"investors_name\": \"node\",\"investor_country\": \"country\", \n",
    "                                      \"investor_continent\": \"continent\", \"investor_type\":\"industry\",\"investor_id\":'index' })\n",
    "nodes_inv['bipartite'] = 0\n",
    "nodes = nodes_org.append(nodes_inv, ignore_index= True)\n",
    "nodes['id'] = nodes.index\n",
    "\n",
    "numbers = cb.groupby(['target_name','stage'], as_index = False).count()[['target_name','stage','investors_name']].rename(columns={\"investors_name\": \"investor_numbers\"})\n",
    "cb_new = pd.merge(cb, numbers,  how='left', left_on=['target_name','stage'], right_on = ['target_name','stage'])\n",
    "cb_new = pd.merge(cb_new, nodes[nodes['bipartite']== 1],  how='left', left_on=['target_name','target_ID'], right_on = ['node','index'])\n",
    "cb_new = pd.merge(cb_new, nodes[nodes['bipartite']== 0],  how='left', left_on=['investors_name','investor_id'], right_on = ['node','index'])\n",
    "\n",
    "data=cb_new[['target_name', 'industry', 'id_x', 'date_y', 'size_real', 'target_founded', 'target_status', 'round_simp']]\n",
    "data.date_y=data.date_y.dt.year\n",
    "a=data.groupby(['round_simp']).count()\n",
    "a['target_name']=a.target_name/data.shape[0]\n",
    "remove=['Asset Sale', 'Bridge', 'Dead', 'Debt', 'Distressed & Special Situation', 'Leveraged Buyout', 'Line of Credit', \n",
    " 'Loan', 'Management Buyout', 'Milestone Payment', 'Other Investors', 'Portfolio Merger', 'Portfolio NewCo',\n",
    " 'Secondary Market', 'Shareholder Liquidity']\n",
    "\n",
    "data=data[data.size_real>0]\n",
    "#data=data[~data.target_founded.isna()]\n",
    "data=data[data.date_y<2021]\n",
    "data=data.loc[data.industry.isna()==False,]\n",
    "data=data.loc[~data.round_simp.isin(remove)]\n",
    "\n",
    "content=data[['industry','id_x', 'target_name', 'target_founded', 'target_status']].drop_duplicates()\n",
    "content['alive']=np.where(content.target_status.isin(['Alive / Active']),1,0)\n",
    "\n",
    "data=data.groupby(['id_x','target_name','date_y']).mean().reset_index()\n",
    "data=data.pivot('date_y','id_x','size_real')"
   ]
  },
  {
   "cell_type": "code",
   "execution_count": 155,
   "metadata": {},
   "outputs": [
    {
     "name": "stderr",
     "output_type": "stream",
     "text": [
      " C:\\Users\\Public\\Documents\\Wondershare\\CreatorTemp\\ipykernel_20976\\1640326975.py:7: PerformanceWarning:DataFrame is highly fragmented.  This is usually the result of calling `frame.insert` many times, which has poor performance.  Consider joining all columns at once using pd.concat(axis=1) instead.  To get a de-fragmented frame, use `newframe = frame.copy()`\n"
     ]
    }
   ],
   "source": [
    "data3=extract_window(3)\n",
    "data3.to_csv('money_three.csv', index = False)"
   ]
  },
  {
   "cell_type": "code",
   "execution_count": null,
   "metadata": {},
   "outputs": [],
   "source": [
    "content.head()"
   ]
  },
  {
   "cell_type": "code",
   "execution_count": null,
   "metadata": {},
   "outputs": [],
   "source": [
    "content.industry.value_counts()"
   ]
  },
  {
   "cell_type": "markdown",
   "metadata": {},
   "source": [
    "### Processing"
   ]
  },
  {
   "cell_type": "markdown",
   "metadata": {},
   "source": [
    "#### Window analysis"
   ]
  },
  {
   "cell_type": "code",
   "execution_count": 144,
   "metadata": {},
   "outputs": [
    {
     "name": "stderr",
     "output_type": "stream",
     "text": [
      " C:\\Users\\Public\\Documents\\Wondershare\\CreatorTemp\\ipykernel_20976\\1640326975.py:7: PerformanceWarning:DataFrame is highly fragmented.  This is usually the result of calling `frame.insert` many times, which has poor performance.  Consider joining all columns at once using pd.concat(axis=1) instead.  To get a de-fragmented frame, use `newframe = frame.copy()`\n"
     ]
    }
   ],
   "source": [
    "percentage=[]\n",
    "for size in range(5,13):\n",
    "    data_size=extract_window(size)\n",
    "    clusters=functional_clustering(data_size)\n",
    "    percentage.append(sum(clusters.values())/len(clusters.values()))"
   ]
  },
  {
   "cell_type": "code",
   "execution_count": 145,
   "metadata": {},
   "outputs": [
    {
     "name": "stderr",
     "output_type": "stream",
     "text": [
      " C:\\Users\\Public\\Documents\\Wondershare\\CreatorTemp\\ipykernel_20976\\1640326975.py:7: PerformanceWarning:DataFrame is highly fragmented.  This is usually the result of calling `frame.insert` many times, which has poor performance.  Consider joining all columns at once using pd.concat(axis=1) instead.  To get a de-fragmented frame, use `newframe = frame.copy()`\n"
     ]
    }
   ],
   "source": [
    "win_big=[]\n",
    "for size in range(5,13):\n",
    "    data_size=extract_window(size)\n",
    "    win_big.append(data_size.shape[1])"
   ]
  },
  {
   "cell_type": "code",
   "execution_count": 146,
   "metadata": {},
   "outputs": [
    {
     "data": {
      "text/plain": [
       "Text(0, 0.5, 'Fraction of successful firms')"
      ]
     },
     "execution_count": 146,
     "metadata": {},
     "output_type": "execute_result"
    },
    {
     "data": {
      "image/png": "[encoded data removed]",
      "text/plain": [
       "<Figure size 432x288 with 1 Axes>"
      ]
     },
     "metadata": {
      "needs_background": "light"
     },
     "output_type": "display_data"
    }
   ],
   "source": [
    "fig, ax = plt.subplots(1,1, figsize=(6, 4))\n",
    "plt.plot(range(5,13), percentage, c=default_color, linewidth=2)\n",
    "plt.xlabel('Window size')\n",
    "plt.ylabel('Fraction of successful firms')\n",
    "#plt.title('Fraction of high-regime firms by window size')\n",
    "\n",
    "#os.chdir('/Users/ltesta/Documents/GitHub/crunch_net/ANS/plots')\n",
    "#plt.savefig('fraction_high_regime.pdf', bbox_inches=\"tight\")"
   ]
  },
  {
   "cell_type": "code",
   "execution_count": 147,
   "metadata": {},
   "outputs": [
    {
     "data": {
      "text/plain": [
       "Text(0, 0.5, 'Number of firms')"
      ]
     },
     "execution_count": 147,
     "metadata": {},
     "output_type": "execute_result"
    },
    {
     "data": {
      "image/png": "[encoded data removed]",
      "text/plain": [
       "<Figure size 432x288 with 1 Axes>"
      ]
     },
     "metadata": {
      "needs_background": "light"
     },
     "output_type": "display_data"
    }
   ],
   "source": [
    "fig, ax = plt.subplots(1,1, figsize=(6, 4))\n",
    "plt.plot(range(5,13), win_big, c=default_color, linewidth=2)\n",
    "plt.xlabel('Window size')\n",
    "plt.ylabel('Number of firms')\n",
    "#plt.title('Number of firms by window size')\n",
    "\n",
    "#os.chdir('/Users/ltesta/Documents/GitHub/crunch_net/ANS/plots')\n",
    "#plt.savefig('number_firms_window_size.pdf', bbox_inches=\"tight\")"
   ]
  },
  {
   "cell_type": "code",
   "execution_count": 173,
   "metadata": {},
   "outputs": [
    {
     "name": "stderr",
     "output_type": "stream",
     "text": [
      " C:\\Users\\Public\\Documents\\Wondershare\\CreatorTemp\\ipykernel_20976\\1640326975.py:7: PerformanceWarning:DataFrame is highly fragmented.  This is usually the result of calling `frame.insert` many times, which has poor performance.  Consider joining all columns at once using pd.concat(axis=1) instead.  To get a de-fragmented frame, use `newframe = frame.copy()`\n"
     ]
    }
   ],
   "source": [
    "size=8\n",
    "data_size=extract_window(size)\n",
    "#data_size=data_size.apply(np.log)"
   ]
  },
  {
   "cell_type": "code",
   "execution_count": 149,
   "metadata": {},
   "outputs": [
    {
     "data": {
      "text/html": [
       "<div>\n",
       "<style scoped>\n",
       "    .dataframe tbody tr th:only-of-type {\n",
       "        vertical-align: middle;\n",
       "    }\n",
       "\n",
       "    .dataframe tbody tr th {\n",
       "        vertical-align: top;\n",
       "    }\n",
       "\n",
       "    .dataframe thead th {\n",
       "        text-align: right;\n",
       "    }\n",
       "</style>\n",
       "<table border=\"1\" class=\"dataframe\">\n",
       "  <thead>\n",
       "    <tr style=\"text-align: right;\">\n",
       "      <th></th>\n",
       "      <th>15</th>\n",
       "      <th>17</th>\n",
       "      <th>19</th>\n",
       "      <th>23</th>\n",
       "      <th>24</th>\n",
       "      <th>26</th>\n",
       "      <th>27</th>\n",
       "      <th>32</th>\n",
       "      <th>34</th>\n",
       "      <th>36</th>\n",
       "      <th>...</th>\n",
       "      <th>18800</th>\n",
       "      <th>18801</th>\n",
       "      <th>18803</th>\n",
       "      <th>18804</th>\n",
       "      <th>18805</th>\n",
       "      <th>18807</th>\n",
       "      <th>18815</th>\n",
       "      <th>18816</th>\n",
       "      <th>18820</th>\n",
       "      <th>18823</th>\n",
       "    </tr>\n",
       "  </thead>\n",
       "  <tbody>\n",
       "    <tr>\n",
       "      <th>0</th>\n",
       "      <td>8.402846e+06</td>\n",
       "      <td>2.172304e+07</td>\n",
       "      <td>1.543503e+07</td>\n",
       "      <td>7.560706e+06</td>\n",
       "      <td>8.065279e+06</td>\n",
       "      <td>5.965489e+06</td>\n",
       "      <td>2.212317e+08</td>\n",
       "      <td>6.805763e+06</td>\n",
       "      <td>3.910406e+07</td>\n",
       "      <td>1.979740e+05</td>\n",
       "      <td>...</td>\n",
       "      <td>497705.658223</td>\n",
       "      <td>3.555040e+06</td>\n",
       "      <td>8.887601e+05</td>\n",
       "      <td>4.811155e+07</td>\n",
       "      <td>189602.155514</td>\n",
       "      <td>1.386466e+06</td>\n",
       "      <td>6.636075e+05</td>\n",
       "      <td>118501.347196</td>\n",
       "      <td>1.078362e+06</td>\n",
       "      <td>9.800061e+06</td>\n",
       "    </tr>\n",
       "    <tr>\n",
       "      <th>1</th>\n",
       "      <td>8.402846e+06</td>\n",
       "      <td>2.172304e+07</td>\n",
       "      <td>1.543503e+07</td>\n",
       "      <td>1.947403e+07</td>\n",
       "      <td>8.065279e+06</td>\n",
       "      <td>1.971183e+07</td>\n",
       "      <td>2.212317e+08</td>\n",
       "      <td>6.805763e+06</td>\n",
       "      <td>3.910406e+07</td>\n",
       "      <td>3.916830e+05</td>\n",
       "      <td>...</td>\n",
       "      <td>497705.658223</td>\n",
       "      <td>3.555040e+06</td>\n",
       "      <td>8.887601e+05</td>\n",
       "      <td>4.811155e+07</td>\n",
       "      <td>189602.155514</td>\n",
       "      <td>1.386466e+06</td>\n",
       "      <td>6.636075e+05</td>\n",
       "      <td>118501.347196</td>\n",
       "      <td>1.078362e+06</td>\n",
       "      <td>9.800061e+06</td>\n",
       "    </tr>\n",
       "    <tr>\n",
       "      <th>2</th>\n",
       "      <td>8.402846e+06</td>\n",
       "      <td>6.267970e+07</td>\n",
       "      <td>1.543503e+07</td>\n",
       "      <td>1.947403e+07</td>\n",
       "      <td>8.065279e+06</td>\n",
       "      <td>1.971183e+07</td>\n",
       "      <td>2.212317e+08</td>\n",
       "      <td>1.469913e+07</td>\n",
       "      <td>3.910406e+07</td>\n",
       "      <td>1.027576e+06</td>\n",
       "      <td>...</td>\n",
       "      <td>497705.658223</td>\n",
       "      <td>7.048631e+06</td>\n",
       "      <td>1.249764e+06</td>\n",
       "      <td>4.811155e+07</td>\n",
       "      <td>189602.155514</td>\n",
       "      <td>1.386466e+06</td>\n",
       "      <td>2.911523e+06</td>\n",
       "      <td>118501.347196</td>\n",
       "      <td>1.078362e+06</td>\n",
       "      <td>9.800061e+06</td>\n",
       "    </tr>\n",
       "    <tr>\n",
       "      <th>3</th>\n",
       "      <td>8.402846e+06</td>\n",
       "      <td>1.019741e+08</td>\n",
       "      <td>1.543503e+07</td>\n",
       "      <td>1.947403e+07</td>\n",
       "      <td>8.065279e+06</td>\n",
       "      <td>1.971183e+07</td>\n",
       "      <td>2.212317e+08</td>\n",
       "      <td>1.469913e+07</td>\n",
       "      <td>3.910406e+07</td>\n",
       "      <td>1.027576e+06</td>\n",
       "      <td>...</td>\n",
       "      <td>497705.658223</td>\n",
       "      <td>7.048631e+06</td>\n",
       "      <td>1.249764e+06</td>\n",
       "      <td>4.811155e+07</td>\n",
       "      <td>189602.155514</td>\n",
       "      <td>1.386466e+06</td>\n",
       "      <td>9.818099e+06</td>\n",
       "      <td>118501.347196</td>\n",
       "      <td>1.078362e+06</td>\n",
       "      <td>9.800061e+06</td>\n",
       "    </tr>\n",
       "    <tr>\n",
       "      <th>4</th>\n",
       "      <td>8.402846e+06</td>\n",
       "      <td>1.019741e+08</td>\n",
       "      <td>1.543503e+07</td>\n",
       "      <td>1.947403e+07</td>\n",
       "      <td>8.065279e+06</td>\n",
       "      <td>5.960066e+07</td>\n",
       "      <td>2.212317e+08</td>\n",
       "      <td>1.469913e+07</td>\n",
       "      <td>3.910406e+07</td>\n",
       "      <td>1.027576e+06</td>\n",
       "      <td>...</td>\n",
       "      <td>497705.658223</td>\n",
       "      <td>7.048631e+06</td>\n",
       "      <td>1.249764e+06</td>\n",
       "      <td>4.811155e+07</td>\n",
       "      <td>408268.150137</td>\n",
       "      <td>1.386466e+06</td>\n",
       "      <td>9.818099e+06</td>\n",
       "      <td>118501.347196</td>\n",
       "      <td>1.078362e+06</td>\n",
       "      <td>9.800061e+06</td>\n",
       "    </tr>\n",
       "  </tbody>\n",
       "</table>\n",
       "<p>5 rows × 7119 columns</p>\n",
       "</div>"
      ],
      "text/plain": [
       "          15            17            19            23            24     \\\n",
       "0  8.402846e+06  2.172304e+07  1.543503e+07  7.560706e+06  8.065279e+06   \n",
       "1  8.402846e+06  2.172304e+07  1.543503e+07  1.947403e+07  8.065279e+06   \n",
       "2  8.402846e+06  6.267970e+07  1.543503e+07  1.947403e+07  8.065279e+06   \n",
       "3  8.402846e+06  1.019741e+08  1.543503e+07  1.947403e+07  8.065279e+06   \n",
       "4  8.402846e+06  1.019741e+08  1.543503e+07  1.947403e+07  8.065279e+06   \n",
       "\n",
       "          26            27            32            34            36     ...  \\\n",
       "0  5.965489e+06  2.212317e+08  6.805763e+06  3.910406e+07  1.979740e+05  ...   \n",
       "1  1.971183e+07  2.212317e+08  6.805763e+06  3.910406e+07  3.916830e+05  ...   \n",
       "2  1.971183e+07  2.212317e+08  1.469913e+07  3.910406e+07  1.027576e+06  ...   \n",
       "3  1.971183e+07  2.212317e+08  1.469913e+07  3.910406e+07  1.027576e+06  ...   \n",
       "4  5.960066e+07  2.212317e+08  1.469913e+07  3.910406e+07  1.027576e+06  ...   \n",
       "\n",
       "           18800         18801         18803         18804          18805  \\\n",
       "0  497705.658223  3.555040e+06  8.887601e+05  4.811155e+07  189602.155514   \n",
       "1  497705.658223  3.555040e+06  8.887601e+05  4.811155e+07  189602.155514   \n",
       "2  497705.658223  7.048631e+06  1.249764e+06  4.811155e+07  189602.155514   \n",
       "3  497705.658223  7.048631e+06  1.249764e+06  4.811155e+07  189602.155514   \n",
       "4  497705.658223  7.048631e+06  1.249764e+06  4.811155e+07  408268.150137   \n",
       "\n",
       "          18807         18815          18816         18820         18823  \n",
       "0  1.386466e+06  6.636075e+05  118501.347196  1.078362e+06  9.800061e+06  \n",
       "1  1.386466e+06  6.636075e+05  118501.347196  1.078362e+06  9.800061e+06  \n",
       "2  1.386466e+06  2.911523e+06  118501.347196  1.078362e+06  9.800061e+06  \n",
       "3  1.386466e+06  9.818099e+06  118501.347196  1.078362e+06  9.800061e+06  \n",
       "4  1.386466e+06  9.818099e+06  118501.347196  1.078362e+06  9.800061e+06  \n",
       "\n",
       "[5 rows x 7119 columns]"
      ]
     },
     "execution_count": 149,
     "metadata": {},
     "output_type": "execute_result"
    }
   ],
   "source": [
    "data_size.head()"
   ]
  },
  {
   "cell_type": "code",
   "execution_count": null,
   "metadata": {},
   "outputs": [],
   "source": [
    "clusters=functional_clustering(data_size)"
   ]
  },
  {
   "cell_type": "code",
   "execution_count": null,
   "metadata": {},
   "outputs": [],
   "source": [
    "print('Percentage of successful firms:', 100*sum(clusters.values())/len(clusters.values()), '%')"
   ]
  },
  {
   "cell_type": "code",
   "execution_count": 174,
   "metadata": {},
   "outputs": [
    {
     "data": {
      "text/plain": [
       "Text(0, 0.5, 'Cumulative money raised')"
      ]
     },
     "execution_count": 174,
     "metadata": {},
     "output_type": "execute_result"
    },
    {
     "data": {
      "image/png": "[encoded data removed]",
      "text/plain": [
       "<Figure size 432x288 with 1 Axes>"
      ]
     },
     "metadata": {
      "needs_background": "light"
     },
     "output_type": "display_data"
    }
   ],
   "source": [
    "toplot=data_size.loc[:, data_size.columns.isin(content[content.industry=='Drug Discovery'].id_x)]\n",
    "toplot1=toplot.loc[:, toplot.columns.isin([x for x in clusters.keys() if clusters[x]==1])]\n",
    "toplot0=toplot.loc[:, toplot.columns.isin([x for x in clusters.keys() if clusters[x]==0])]\n",
    "\n",
    "fig, ax = plt.subplots(1,1, figsize=(6, 4))\n",
    "plt.plot(toplot1, c=high_regime, alpha=0.3, linestyle='--')\n",
    "plt.plot(toplot0, c=low_regime, alpha=0.1, linestyle='--')\n",
    "plt.plot(range(0,size), np.mean(toplot1, axis=1), c=high_regime, linewidth=2)\n",
    "plt.plot(range(0,size), np.mean(toplot0, axis=1), c=low_regime, linewidth=2)\n",
    "high_patch = mpatches.Patch(color=high_regime, label='High regime')\n",
    "low_patch = mpatches.Patch(color=low_regime, label='Low regime')\n",
    "plt.legend(handles=[high_patch, low_patch])\n",
    "plt.xlabel('Time')\n",
    "plt.xticks(range(0,size))\n",
    "plt.ylabel('Cumulative money raised')\n",
    "#plt.title('Trajectories in Drug Discovery sector by cluster')\n",
    "\n",
    "#os.chdir('/Users/ltesta/Documents/GitHub/crunch_net/ANS/plots')\n",
    "#plt.savefig('drug_discovery_clustering_'+str(size)+'.pdf', bbox_inches=\"tight\")"
   ]
  },
  {
   "cell_type": "markdown",
   "metadata": {},
   "source": [
    "#### Covariates preparation"
   ]
  },
  {
   "cell_type": "code",
   "execution_count": 192,
   "metadata": {},
   "outputs": [],
   "source": [
    "#os.chdir('/Users/ltesta/Documents/GitHub/crunch_net/ANS/ANS_all')\n",
    "covariates=pd.read_csv('covariates.csv')\n",
    "covariates=covariates.drop(['voterank_max', 'voterank_min', 'voterank_median', 'voterank_org'], axis=1)"
   ]
  },
  {
   "cell_type": "code",
   "execution_count": 193,
   "metadata": {},
   "outputs": [
    {
     "data": {
      "text/html": [
       "<div>\n",
       "<style scoped>\n",
       "    .dataframe tbody tr th:only-of-type {\n",
       "        vertical-align: middle;\n",
       "    }\n",
       "\n",
       "    .dataframe tbody tr th {\n",
       "        vertical-align: top;\n",
       "    }\n",
       "\n",
       "    .dataframe thead th {\n",
       "        text-align: right;\n",
       "    }\n",
       "</style>\n",
       "<table border=\"1\" class=\"dataframe\">\n",
       "  <thead>\n",
       "    <tr style=\"text-align: right;\">\n",
       "      <th></th>\n",
       "      <th>Unnamed: 0</th>\n",
       "      <th>node</th>\n",
       "      <th>country</th>\n",
       "      <th>continent</th>\n",
       "      <th>industry</th>\n",
       "      <th>bipartite</th>\n",
       "      <th>id</th>\n",
       "      <th>deg_max</th>\n",
       "      <th>deg_min</th>\n",
       "      <th>deg_median</th>\n",
       "      <th>...</th>\n",
       "      <th>num_inv</th>\n",
       "      <th>deg_org</th>\n",
       "      <th>clustering_org</th>\n",
       "      <th>core_number_org</th>\n",
       "      <th>harmonic_centrality_org</th>\n",
       "      <th>closeness_centrality_org</th>\n",
       "      <th>newman_betweenness_centrality_org</th>\n",
       "      <th>pagerank_org</th>\n",
       "      <th>eigenvector_centrality_org</th>\n",
       "      <th>average_neighbor_degree_org</th>\n",
       "    </tr>\n",
       "  </thead>\n",
       "  <tbody>\n",
       "    <tr>\n",
       "      <th>0</th>\n",
       "      <td>15</td>\n",
       "      <td>NeuroMolecular Pharmaceuticals</td>\n",
       "      <td>United States</td>\n",
       "      <td>North America</td>\n",
       "      <td>Pharmaceuticals / Drugs</td>\n",
       "      <td>1</td>\n",
       "      <td>15</td>\n",
       "      <td>32.0</td>\n",
       "      <td>32.0</td>\n",
       "      <td>32.0</td>\n",
       "      <td>...</td>\n",
       "      <td>1</td>\n",
       "      <td>7.0</td>\n",
       "      <td>1.000000</td>\n",
       "      <td>7.0</td>\n",
       "      <td>1033.095238</td>\n",
       "      <td>0.281749</td>\n",
       "      <td>0.000000</td>\n",
       "      <td>0.000093</td>\n",
       "      <td>0.000112</td>\n",
       "      <td>33.571429</td>\n",
       "    </tr>\n",
       "    <tr>\n",
       "      <th>1</th>\n",
       "      <td>17</td>\n",
       "      <td>AngioScore</td>\n",
       "      <td>United States</td>\n",
       "      <td>North America</td>\n",
       "      <td>Medical Devices &amp; Equipment</td>\n",
       "      <td>1</td>\n",
       "      <td>17</td>\n",
       "      <td>47.0</td>\n",
       "      <td>10.0</td>\n",
       "      <td>14.0</td>\n",
       "      <td>...</td>\n",
       "      <td>5</td>\n",
       "      <td>29.0</td>\n",
       "      <td>0.263547</td>\n",
       "      <td>21.0</td>\n",
       "      <td>983.878571</td>\n",
       "      <td>0.330985</td>\n",
       "      <td>0.000659</td>\n",
       "      <td>0.000282</td>\n",
       "      <td>0.002502</td>\n",
       "      <td>69.000000</td>\n",
       "    </tr>\n",
       "    <tr>\n",
       "      <th>2</th>\n",
       "      <td>19</td>\n",
       "      <td>Prematics</td>\n",
       "      <td>United States</td>\n",
       "      <td>North America</td>\n",
       "      <td>Healthcare Software</td>\n",
       "      <td>1</td>\n",
       "      <td>19</td>\n",
       "      <td>18.0</td>\n",
       "      <td>4.0</td>\n",
       "      <td>10.5</td>\n",
       "      <td>...</td>\n",
       "      <td>4</td>\n",
       "      <td>10.0</td>\n",
       "      <td>0.311111</td>\n",
       "      <td>8.0</td>\n",
       "      <td>1467.222619</td>\n",
       "      <td>0.284009</td>\n",
       "      <td>0.000042</td>\n",
       "      <td>0.000083</td>\n",
       "      <td>0.000077</td>\n",
       "      <td>33.800000</td>\n",
       "    </tr>\n",
       "    <tr>\n",
       "      <th>3</th>\n",
       "      <td>23</td>\n",
       "      <td>GlobeImmune</td>\n",
       "      <td>United States</td>\n",
       "      <td>North America</td>\n",
       "      <td>Drug Development</td>\n",
       "      <td>1</td>\n",
       "      <td>23</td>\n",
       "      <td>21.0</td>\n",
       "      <td>4.0</td>\n",
       "      <td>12.5</td>\n",
       "      <td>...</td>\n",
       "      <td>2</td>\n",
       "      <td>4.0</td>\n",
       "      <td>1.000000</td>\n",
       "      <td>4.0</td>\n",
       "      <td>536.669048</td>\n",
       "      <td>0.246216</td>\n",
       "      <td>0.000000</td>\n",
       "      <td>0.000220</td>\n",
       "      <td>0.000048</td>\n",
       "      <td>13.750000</td>\n",
       "    </tr>\n",
       "    <tr>\n",
       "      <th>4</th>\n",
       "      <td>24</td>\n",
       "      <td>Axium Healthcare Pharmacy</td>\n",
       "      <td>United States</td>\n",
       "      <td>North America</td>\n",
       "      <td>Medical Facilities &amp; Services</td>\n",
       "      <td>1</td>\n",
       "      <td>24</td>\n",
       "      <td>3.0</td>\n",
       "      <td>3.0</td>\n",
       "      <td>3.0</td>\n",
       "      <td>...</td>\n",
       "      <td>1</td>\n",
       "      <td>2.0</td>\n",
       "      <td>1.000000</td>\n",
       "      <td>2.0</td>\n",
       "      <td>1016.290476</td>\n",
       "      <td>0.244604</td>\n",
       "      <td>0.000000</td>\n",
       "      <td>0.000065</td>\n",
       "      <td>0.000004</td>\n",
       "      <td>10.000000</td>\n",
       "    </tr>\n",
       "  </tbody>\n",
       "</table>\n",
       "<p>5 rows × 44 columns</p>\n",
       "</div>"
      ],
      "text/plain": [
       "   Unnamed: 0                            node        country      continent  \\\n",
       "0          15  NeuroMolecular Pharmaceuticals  United States  North America   \n",
       "1          17                      AngioScore  United States  North America   \n",
       "2          19                       Prematics  United States  North America   \n",
       "3          23                     GlobeImmune  United States  North America   \n",
       "4          24       Axium Healthcare Pharmacy  United States  North America   \n",
       "\n",
       "                        industry  bipartite  id  deg_max  deg_min  deg_median  \\\n",
       "0        Pharmaceuticals / Drugs          1  15     32.0     32.0        32.0   \n",
       "1    Medical Devices & Equipment          1  17     47.0     10.0        14.0   \n",
       "2            Healthcare Software          1  19     18.0      4.0        10.5   \n",
       "3               Drug Development          1  23     21.0      4.0        12.5   \n",
       "4  Medical Facilities & Services          1  24      3.0      3.0         3.0   \n",
       "\n",
       "   ...  num_inv  deg_org  clustering_org  core_number_org  \\\n",
       "0  ...        1      7.0        1.000000              7.0   \n",
       "1  ...        5     29.0        0.263547             21.0   \n",
       "2  ...        4     10.0        0.311111              8.0   \n",
       "3  ...        2      4.0        1.000000              4.0   \n",
       "4  ...        1      2.0        1.000000              2.0   \n",
       "\n",
       "   harmonic_centrality_org  closeness_centrality_org  \\\n",
       "0              1033.095238                  0.281749   \n",
       "1               983.878571                  0.330985   \n",
       "2              1467.222619                  0.284009   \n",
       "3               536.669048                  0.246216   \n",
       "4              1016.290476                  0.244604   \n",
       "\n",
       "   newman_betweenness_centrality_org  pagerank_org  \\\n",
       "0                           0.000000      0.000093   \n",
       "1                           0.000659      0.000282   \n",
       "2                           0.000042      0.000083   \n",
       "3                           0.000000      0.000220   \n",
       "4                           0.000000      0.000065   \n",
       "\n",
       "   eigenvector_centrality_org  average_neighbor_degree_org  \n",
       "0                    0.000112                    33.571429  \n",
       "1                    0.002502                    69.000000  \n",
       "2                    0.000077                    33.800000  \n",
       "3                    0.000048                    13.750000  \n",
       "4                    0.000004                    10.000000  \n",
       "\n",
       "[5 rows x 44 columns]"
      ]
     },
     "execution_count": 193,
     "metadata": {},
     "output_type": "execute_result"
    }
   ],
   "source": [
    "covariates.head()"
   ]
  },
  {
   "cell_type": "code",
   "execution_count": 194,
   "metadata": {},
   "outputs": [
    {
     "data": {
      "text/plain": [
       "array([[<AxesSubplot:title={'center':'Unnamed: 0'}>,\n",
       "        <AxesSubplot:title={'center':'bipartite'}>,\n",
       "        <AxesSubplot:title={'center':'id'}>,\n",
       "        <AxesSubplot:title={'center':'deg_max'}>,\n",
       "        <AxesSubplot:title={'center':'deg_min'}>,\n",
       "        <AxesSubplot:title={'center':'deg_median'}>],\n",
       "       [<AxesSubplot:title={'center':'clustering_max'}>,\n",
       "        <AxesSubplot:title={'center':'clustering_min'}>,\n",
       "        <AxesSubplot:title={'center':'clustering_median'}>,\n",
       "        <AxesSubplot:title={'center':'harmonic_centrality_max'}>,\n",
       "        <AxesSubplot:title={'center':'harmonic_centrality_min'}>,\n",
       "        <AxesSubplot:title={'center':'harmonic_centrality_median'}>],\n",
       "       [<AxesSubplot:title={'center':'closeness_centrality_max'}>,\n",
       "        <AxesSubplot:title={'center':'closeness_centrality_min'}>,\n",
       "        <AxesSubplot:title={'center':'closeness_centrality_median'}>,\n",
       "        <AxesSubplot:title={'center':'newman_betweenness_centrality_max'}>,\n",
       "        <AxesSubplot:title={'center':'newman_betweenness_centrality_min'}>,\n",
       "        <AxesSubplot:title={'center':'newman_betweenness_centrality_median'}>],\n",
       "       [<AxesSubplot:title={'center':'pagerank_max'}>,\n",
       "        <AxesSubplot:title={'center':'pagerank_min'}>,\n",
       "        <AxesSubplot:title={'center':'pagerank_median'}>,\n",
       "        <AxesSubplot:title={'center':'betweenness_centrality_max'}>,\n",
       "        <AxesSubplot:title={'center':'betweenness_centrality_min'}>,\n",
       "        <AxesSubplot:title={'center':'betweenness_centrality_median'}>],\n",
       "       [<AxesSubplot:title={'center':'eigenvector_centrality_max'}>,\n",
       "        <AxesSubplot:title={'center':'eigenvector_centrality_min'}>,\n",
       "        <AxesSubplot:title={'center':'eigenvector_centrality_median'}>,\n",
       "        <AxesSubplot:title={'center':'average_neighbor_degree_max'}>,\n",
       "        <AxesSubplot:title={'center':'average_neighbor_degree_min'}>,\n",
       "        <AxesSubplot:title={'center':'average_neighbor_degree_median'}>],\n",
       "       [<AxesSubplot:title={'center':'num_inv'}>,\n",
       "        <AxesSubplot:title={'center':'deg_org'}>,\n",
       "        <AxesSubplot:title={'center':'clustering_org'}>,\n",
       "        <AxesSubplot:title={'center':'core_number_org'}>,\n",
       "        <AxesSubplot:title={'center':'harmonic_centrality_org'}>,\n",
       "        <AxesSubplot:title={'center':'closeness_centrality_org'}>],\n",
       "       [<AxesSubplot:title={'center':'newman_betweenness_centrality_org'}>,\n",
       "        <AxesSubplot:title={'center':'pagerank_org'}>,\n",
       "        <AxesSubplot:title={'center':'eigenvector_centrality_org'}>,\n",
       "        <AxesSubplot:title={'center':'average_neighbor_degree_org'}>,\n",
       "        <AxesSubplot:>, <AxesSubplot:>]], dtype=object)"
      ]
     },
     "execution_count": 194,
     "metadata": {},
     "output_type": "execute_result"
    },
    {
     "data": {
      "image/png": "[encoded data removed]",
      "text/plain": [
       "<Figure size 1440x1440 with 42 Axes>"
      ]
     },
     "metadata": {
      "needs_background": "light"
     },
     "output_type": "display_data"
    }
   ],
   "source": [
    "covariates.hist(figsize=(20,20))\n",
    "#os.chdir('/Users/ltesta/Documents/GitHub/crunch_net/ANS/plots')\n",
    "#plt.savefig('covariates_distribution.pdf', bbox_inches=\"tight\")"
   ]
  },
  {
   "cell_type": "code",
   "execution_count": 195,
   "metadata": {},
   "outputs": [],
   "source": [
    "# Transformations (plotted and chosen individually)\n",
    "covariates['deg_max']=np.log(covariates['deg_max'])\n",
    "covariates['deg_min']=np.log(covariates['deg_min'])\n",
    "covariates['deg_median']=np.log(covariates['deg_median'])\n",
    "covariates['newman_betweenness_centrality_max']=np.log(covariates['newman_betweenness_centrality_max']+0.001)\n",
    "covariates['newman_betweenness_centrality_min']=np.log(covariates['newman_betweenness_centrality_min']+0.001)\n",
    "covariates['newman_betweenness_centrality_median']=np.log(covariates['newman_betweenness_centrality_median']+0.001)\n",
    "covariates['pagerank_max']=np.log(covariates['pagerank_max'])\n",
    "covariates['pagerank_min']=np.log(covariates['pagerank_min'])\n",
    "covariates['pagerank_median']=np.log(covariates['pagerank_median'])\n",
    "covariates['betweenness_centrality_max']=np.log(covariates['betweenness_centrality_max']+0.001)\n",
    "covariates['betweenness_centrality_min']=np.log(covariates['betweenness_centrality_min']+0.001)\n",
    "covariates['betweenness_centrality_median']=np.log(covariates['betweenness_centrality_median']+0.001)\n",
    "covariates['average_neighbor_degree_max']=np.log(covariates['average_neighbor_degree_max'])\n",
    "covariates['average_neighbor_degree_min']=np.log(covariates['average_neighbor_degree_min'])\n",
    "covariates['average_neighbor_degree_median']=np.log(covariates['average_neighbor_degree_median'])\n",
    "\n",
    "covariates['num_inv']=np.log(covariates['num_inv'])\n",
    "\n",
    "covariates['deg_org']=np.log(covariates['deg_org'])\n",
    "covariates['core_number_org']=np.log(covariates['core_number_org'])\n",
    "covariates['newman_betweenness_centrality_org']=np.log(covariates['newman_betweenness_centrality_org']+0.0001)\n",
    "covariates['pagerank_org']=np.log(covariates['pagerank_org'])"
   ]
  },
  {
   "cell_type": "code",
   "execution_count": 196,
   "metadata": {},
   "outputs": [
    {
     "data": {
      "text/plain": [
       "(array([8143.,  322.,  187.,   86.,   43.,   17.,   14.,    0.,    0.,\n",
       "          14.]),\n",
       " array([0.        , 0.00908292, 0.01816584, 0.02724876, 0.03633168,\n",
       "        0.0454146 , 0.05449752, 0.06358044, 0.07266336, 0.08174628,\n",
       "        0.0908292 ]),\n",
       " <BarContainer object of 10 artists>)"
      ]
     },
     "execution_count": 196,
     "metadata": {},
     "output_type": "execute_result"
    },
    {
     "data": {
      "image/png": "[encoded data removed]",
      "text/plain": [
       "<Figure size 432x288 with 1 Axes>"
      ]
     },
     "metadata": {
      "needs_background": "light"
     },
     "output_type": "display_data"
    }
   ],
   "source": [
    "plt.hist(np.log(covariates['eigenvector_centrality_org'] +1))"
   ]
  },
  {
   "cell_type": "code",
   "execution_count": null,
   "metadata": {},
   "outputs": [],
   "source": [
    "covariates.columns"
   ]
  },
  {
   "cell_type": "code",
   "execution_count": null,
   "metadata": {},
   "outputs": [],
   "source": [
    "covariates.hist(figsize=(20,20))\n",
    "#os.chdir('/Users/ltesta/Documents/GitHub/crunch_net/ANS/plots')\n",
    "#plt.savefig('covariates_distribution_after_log.pdf', bbox_inches=\"tight\")"
   ]
  },
  {
   "cell_type": "code",
   "execution_count": 197,
   "metadata": {},
   "outputs": [
    {
     "data": {
      "text/plain": [
       "(8455, 38)"
      ]
     },
     "execution_count": 197,
     "metadata": {},
     "output_type": "execute_result"
    }
   ],
   "source": [
    "Z=covariates.drop(['node','country','continent','industry','bipartite','id'], axis=1)\n",
    "\n",
    "Z=Z.dropna()\n",
    "\n",
    "scaler = preprocessing.StandardScaler().fit(Z)\n",
    "Z_scaled = scaler.transform(Z)\n",
    "Z_scaled=pd.DataFrame(Z_scaled)\n",
    "Z_scaled.columns=Z.columns\n",
    "Z_scaled.shape"
   ]
  },
  {
   "cell_type": "code",
   "execution_count": null,
   "metadata": {},
   "outputs": [],
   "source": [
    "Z_scaled.corr().reset_index()#.iloc[14,:]"
   ]
  },
  {
   "cell_type": "code",
   "execution_count": null,
   "metadata": {},
   "outputs": [],
   "source": [
    "link = linkage(squareform(Z_scaled.corr().apply(lambda x: 1- np.abs(x))), method='complete')\n",
    "fig = plt.figure(figsize=(10, 8))\n",
    "set_link_color_palette([pltcol.rgb2hex(colors[0]), pltcol.rgb2hex(colors[2]), pltcol.rgb2hex(colors[3]), pltcol.rgb2hex(colors[5]), pltcol.rgb2hex(colors[6]), pltcol.rgb2hex(colors[9])])\n",
    "dn=dendrogram(link, labels=Z.columns, leaf_rotation=0, above_threshold_color=pltcol.rgb2hex(default_color), orientation='left')\n",
    "#plt.title('Feature dendrogram')\n",
    "#os.chdir('/Users/ltesta/Documents/GitHub/crunch_net/ANS/plots')\n",
    "#plt.savefig('dendrogram.pdf', bbox_inches=\"tight\")\n"
   ]
  },
  {
   "cell_type": "markdown",
   "metadata": {},
   "source": [
    "Chosen covariates REDO\n",
    "- aaa\n",
    "- clustering_median\n",
    "- newman_betweenness_centrality_org\n",
    "- harmonic_centrality_max\n",
    "- pagerank_min"
   ]
  },
  {
   "cell_type": "markdown",
   "metadata": {},
   "source": [
    "#### Logistic regression"
   ]
  },
  {
   "cell_type": "code",
   "execution_count": 72,
   "metadata": {},
   "outputs": [],
   "source": [
    "clusters=functional_clustering(data_size)"
   ]
  },
  {
   "cell_type": "code",
   "execution_count": null,
   "metadata": {},
   "outputs": [],
   "source": [
    "binary=pd.DataFrame(clusters.keys(), clusters.values()).reset_index()\n",
    "binary.columns=['cluster', 'idx']\n",
    "binary['idx']=binary.idx.apply(float)"
   ]
  },
  {
   "cell_type": "code",
   "execution_count": null,
   "metadata": {},
   "outputs": [],
   "source": [
    "binary_merge=pd.merge(binary, covariates, left_on='idx', right_on='id')\n",
    "binary_merge.index=binary_merge.idx\n",
    "binary_merge=binary_merge.drop(['node', 'id', 'bipartite', 'idx'], axis=1)\n",
    "binary_merge['num_inv']=binary_merge.num_inv.apply(float)\n",
    "cat=binary_merge.select_dtypes(exclude=['float64'])\n",
    "num=binary_merge.select_dtypes(include=['float64'])\n",
    "\n",
    "scaler = preprocessing.StandardScaler().fit(num)\n",
    "num_scaled = scaler.transform(num)\n",
    "num_scaled=pd.DataFrame(num_scaled)\n",
    "num_scaled.columns=num.columns\n",
    "num_scaled.index=cat.index\n",
    "\n",
    "binary_merge=pd.concat([cat, num_scaled], axis=1)"
   ]
  },
  {
   "cell_type": "code",
   "execution_count": null,
   "metadata": {},
   "outputs": [],
   "source": [
    "results = smf.logit('cluster ~ clustering_median + newman_betweenness_centrality_org + harmonic_centrality_max + pagerank_min', data=binary_merge).fit()\n",
    "print(results.summary())"
   ]
  },
  {
   "cell_type": "code",
   "execution_count": null,
   "metadata": {},
   "outputs": [],
   "source": [
    "pseudor=[]\n",
    "pvalues=[]\n",
    "coef=[]\n",
    "for i in range(1000):\n",
    "    pos=binary_merge[binary_merge.cluster==1]\n",
    "    neg=binary_merge[binary_merge.cluster==0].sample(pos.shape[0])\n",
    "    balanced=pd.concat([pos,neg])\n",
    "    results = smf.logit('cluster ~ clustering_median + newman_betweenness_centrality_org + harmonic_centrality_max + pagerank_min', data=balanced).fit()\n",
    "    pseudor.append(results.prsquared)\n",
    "    pvalues.append(results.pvalues)\n",
    "    coef.append(results.params)"
   ]
  },
  {
   "cell_type": "code",
   "execution_count": null,
   "metadata": {},
   "outputs": [],
   "source": [
    "significance=[x.apply(lambda x: -np.log(x)) for x in pvalues]\n",
    "\n",
    "fig, axs = plt.subplots(2, 3, figsize=(15, 10))\n",
    "axs[0, 0].plot([x[0] for x in coef], [x[0] for x in significance], '.', c=default_color)\n",
    "axs[0, 0].axvline(np.mean([x[0] for x in coef]), c=default_color2)\n",
    "axs[0, 0].axvline(np.mean([x[0] for x in coef])-np.std([x[0] for x in coef]), linestyle='--', c=default_color2)\n",
    "axs[0, 0].axvline(np.mean([x[0] for x in coef])+np.std([x[0] for x in coef]), linestyle='--', c=default_color2)\n",
    "axs[0, 0].set_title(significance[0].index[0])\n",
    "axs[0, 1].plot([x[1] for x in coef], [x[1] for x in significance], '.', c=default_color)\n",
    "axs[0, 1].axvline(np.mean([x[1] for x in coef]), c=default_color2)\n",
    "axs[0, 1].axvline(np.mean([x[1] for x in coef])-np.std([x[1] for x in coef]), linestyle='--', c=default_color2)\n",
    "axs[0, 1].axvline(np.mean([x[1] for x in coef])+np.std([x[1] for x in coef]), linestyle='--', c=default_color2)\n",
    "axs[0, 1].set_title(significance[0].index[1])\n",
    "axs[0, 2].plot([x[2] for x in coef], [x[2] for x in significance], '.', c=default_color)\n",
    "axs[0, 2].axvline(np.mean([x[2] for x in coef]), c=default_color2)\n",
    "axs[0, 2].axvline(np.mean([x[2] for x in coef])-np.std([x[2] for x in coef]), linestyle='--', c=default_color2)\n",
    "axs[0, 2].axvline(np.mean([x[2] for x in coef])+np.std([x[2] for x in coef]), linestyle='--', c=default_color2)\n",
    "axs[0, 2].set_title(significance[0].index[2])\n",
    "axs[1, 0].plot([x[3] for x in coef], [x[3] for x in significance], '.', c=default_color)\n",
    "axs[1, 0].axvline(np.mean([x[3] for x in coef]), c=default_color2)\n",
    "axs[1, 0].axvline(np.mean([x[3] for x in coef])-np.std([x[3] for x in coef]), linestyle='--', c=default_color2)\n",
    "axs[1, 0].axvline(np.mean([x[3] for x in coef])+np.std([x[3] for x in coef]), linestyle='--', c=default_color2)\n",
    "axs[1, 0].set_title(significance[0].index[3])\n",
    "axs[1, 1].plot([x[4] for x in coef], [x[4] for x in significance], '.', c=default_color)\n",
    "axs[1, 1].axvline(np.mean([x[4] for x in coef]), c=default_color2)\n",
    "axs[1, 1].axvline(np.mean([x[4] for x in coef])-np.std([x[4] for x in coef]), linestyle='--', c=default_color2)\n",
    "axs[1, 1].axvline(np.mean([x[4] for x in coef])+np.std([x[4] for x in coef]), linestyle='--', c=default_color2)\n",
    "axs[1, 1].set_title(significance[0].index[4])\n",
    "axs[1, 2].set_visible(False)\n",
    "\n",
    "for ax in axs.flat:\n",
    "    ax.set(xlabel='Coefficient estimate', ylabel='Significance')\n",
    "for ax in axs.flat:\n",
    "    ax.axhline(-np.log(0.1),color=default_color3,ls='--')\n",
    "    ax.axvline(0, c=default_color3)\n",
    "\n",
    "#os.chdir('/Users/ltesta/Documents/GitHub/crunch_net/ANS/plots')\n",
    "#plt.savefig('significance_logistic.pdf', bbox_inches=\"tight\")\n",
    "\n",
    "np.mean(pseudor)\n"
   ]
  },
  {
   "cell_type": "markdown",
   "metadata": {},
   "source": [
    "#### Linear regression"
   ]
  },
  {
   "cell_type": "code",
   "execution_count": 198,
   "metadata": {},
   "outputs": [],
   "source": [
    "cumulate=data_size.loc[data_size.shape[0]-1,:]"
   ]
  },
  {
   "cell_type": "code",
   "execution_count": 199,
   "metadata": {},
   "outputs": [
    {
     "data": {
      "image/png": "[encoded data removed]",
      "text/plain": [
       "<Figure size 432x288 with 1 Axes>"
      ]
     },
     "metadata": {
      "needs_background": "light"
     },
     "output_type": "display_data"
    }
   ],
   "source": [
    "plt.hist(np.log(cumulate))\n",
    "plt.show()"
   ]
  },
  {
   "cell_type": "code",
   "execution_count": 200,
   "metadata": {},
   "outputs": [],
   "source": [
    "cumulate=pd.DataFrame(cumulate).reset_index()\n",
    "cumulate.columns=['idx', 'cum']"
   ]
  },
  {
   "cell_type": "code",
   "execution_count": 201,
   "metadata": {},
   "outputs": [],
   "source": [
    "cumulate['cum']=cumulate.cum.apply(np.log)\n",
    "covariates['id']=covariates.id.apply(float)"
   ]
  },
  {
   "cell_type": "code",
   "execution_count": 209,
   "metadata": {},
   "outputs": [],
   "source": [
    "cumulative_merge=pd.merge(cumulate, covariates, left_on='idx', right_on='id')\n",
    "cumulative_merge.index=cumulative_merge.idx\n",
    "cumulative_merge['first'] = data_size.loc[0,]\n",
    "cumulative_merge['first'] = cumulative_merge['first'].apply(np.log)\n",
    "cumulative_merge=cumulative_merge.drop(['node', 'id', 'bipartite', 'idx'], axis=1)\n",
    "\n",
    "cat=cumulative_merge.select_dtypes(exclude=['float64', 'int64'])\n",
    "num=cumulative_merge.select_dtypes(include=['float64', 'int64'])\n",
    "\n",
    "scaler = preprocessing.StandardScaler().fit(num)\n",
    "num_scaled = scaler.transform(num)\n",
    "num_scaled=pd.DataFrame(num_scaled)\n",
    "num_scaled.columns=num.columns\n",
    "num_scaled.index=cat.index\n",
    "\n",
    "cumulative_merge=pd.concat([cat, num_scaled], axis=1)"
   ]
  },
  {
   "cell_type": "code",
   "execution_count": 213,
   "metadata": {},
   "outputs": [
    {
     "name": "stdout",
     "output_type": "stream",
     "text": [
      "                            OLS Regression Results                            \n",
      "==============================================================================\n",
      "Dep. Variable:                    cum   R-squared:                       0.214\n",
      "Model:                            OLS   Adj. R-squared:                  0.209\n",
      "Method:                 Least Squares   F-statistic:                     38.94\n",
      "Date:                Sun, 23 Jan 2022   Prob (F-statistic):          1.08e-198\n",
      "Time:                        14:01:56   Log-Likelihood:                -5354.5\n",
      "No. Observations:                4320   AIC:                         1.077e+04\n",
      "Df Residuals:                    4289   BIC:                         1.097e+04\n",
      "Df Model:                          30                                         \n",
      "Covariance Type:            nonrobust                                         \n",
      "========================================================================================================================\n",
      "                                                           coef    std err          t      P>|t|      [0.025      0.975]\n",
      "------------------------------------------------------------------------------------------------------------------------\n",
      "Intercept                                               -0.5608      0.939     -0.597      0.550      -2.402       1.281\n",
      "industry[T.Biotechnology]                                0.4789      0.421      1.139      0.255      -0.346       1.304\n",
      "industry[T.Dental Products & Services]                   0.3011      0.449      0.671      0.502      -0.579       1.181\n",
      "industry[T.Disease Diagnosis]                            0.4114      0.429      0.960      0.337      -0.429       1.252\n",
      "industry[T.Drug Delivery]                                0.4579      0.429      1.067      0.286      -0.383       1.299\n",
      "industry[T.Drug Development]                             0.6254      0.422      1.483      0.138      -0.201       1.452\n",
      "industry[T.Drug Discovery]                               0.6830      0.426      1.602      0.109      -0.153       1.519\n",
      "industry[T.Drug Manufacturing]                           0.9175      0.449      2.045      0.041       0.038       1.797\n",
      "industry[T.Elective & Aesthetic Medicine]                0.5765      0.462      1.248      0.212      -0.329       1.482\n",
      "industry[T.Health & Wellness (non-internet/mobile)…]    -0.4077      0.469     -0.869      0.385      -1.327       0.512\n",
      "industry[T.Healthcare Plans]                             0.5391      0.476      1.133      0.257      -0.393       1.472\n",
      "industry[T.Healthcare Software]                          0.1660      0.424      0.391      0.696      -0.666       0.998\n",
      "industry[T.Internet Software & Services]                 0.1346      0.424      0.317      0.751      -0.696       0.966\n",
      "industry[T.Medical Devices & Equipment]                  0.3688      0.420      0.877      0.380      -0.455       1.193\n",
      "industry[T.Medical Equipment & Supplies]                 0.1985      0.427      0.465      0.642      -0.638       1.035\n",
      "industry[T.Medical Facilities & Services]                0.5780      0.422      1.370      0.171      -0.249       1.405\n",
      "industry[T.Medical Information]                          0.3394      0.496      0.684      0.494      -0.634       1.313\n",
      "industry[T.Medical Product Distribution]                 0.6610      0.514      1.286      0.198      -0.346       1.668\n",
      "industry[T.Mobile Software & Services]                  -0.0928      0.431     -0.215      0.830      -0.938       0.753\n",
      "industry[T.Pharmaceutical Distribution & Wholesale…]     0.9411      0.472      1.993      0.046       0.015       1.867\n",
      "industry[T.Pharmaceuticals / Drugs]                      0.6424      0.421      1.524      0.128      -0.184       1.469\n",
      "industry[T.Stealth Mode]                                -0.6430      0.464     -1.386      0.166      -1.552       0.266\n",
      "continent[T.Asia]                                        0.4032      0.842      0.479      0.632      -1.247       2.054\n",
      "continent[T.Australia]                                   0.1224      0.862      0.142      0.887      -1.567       1.812\n",
      "continent[T.Europe]                                      0.0446      0.841      0.053      0.958      -1.604       1.693\n",
      "continent[T.North America]                               0.2793      0.841      0.332      0.740      -1.369       1.927\n",
      "continent[T.South America]                               0.2231      0.891      0.250      0.802      -1.523       1.970\n",
      "clustering_median                                       -0.0115      0.014     -0.818      0.413      -0.039       0.016\n",
      "newman_betweenness_centrality_org                        0.2167      0.013     16.657      0.000       0.191       0.242\n",
      "harmonic_centrality_max                                  0.2845      0.016     18.182      0.000       0.254       0.315\n",
      "pagerank_min                                             0.0512      0.013      3.940      0.000       0.026       0.077\n",
      "==============================================================================\n",
      "Omnibus:                      162.771   Durbin-Watson:                   1.774\n",
      "Prob(Omnibus):                  0.000   Jarque-Bera (JB):              182.130\n",
      "Skew:                          -0.477   Prob(JB):                     2.82e-40\n",
      "Kurtosis:                       3.319   Cond. No.                         225.\n",
      "==============================================================================\n",
      "\n",
      "Notes:\n",
      "[1] Standard Errors assume that the covariance matrix of the errors is correctly specified.\n"
     ]
    }
   ],
   "source": [
    "results = smf.ols('cum - first ~ clustering_median + newman_betweenness_centrality_org + harmonic_centrality_max + pagerank_min + industry + continent ', data=cumulative_merge).fit()\n",
    "print(results.summary())"
   ]
  },
  {
   "cell_type": "markdown",
   "metadata": {},
   "source": [
    "#### Best subset selection"
   ]
  },
  {
   "cell_type": "code",
   "execution_count": null,
   "metadata": {},
   "outputs": [],
   "source": [
    "def processSubset(feature_set, X, y):\n",
    "    model = sm.OLS(y, X.loc[:, list(feature_set)], missing='drop')\n",
    "    regr = model.fit()\n",
    "    rsquared=regr.rsquared_adj\n",
    "    return {\"model\":regr, \"R2\":rsquared}\n",
    "\n",
    "def getBest(k, X, y):\n",
    "    tic = time.time()\n",
    "    results = []\n",
    "    for combo in itertools.combinations(X.columns, k):\n",
    "        results.append(processSubset(combo, X, y))\n",
    "    models = pd.DataFrame(results)\n",
    "    best_model = models.loc[models['R2'].argmax()]\n",
    "    toc = time.time()\n",
    "    print(\"Processed\", models.shape[0], \"models on\", k, \"predictors in\", (toc-tic), \"seconds\")\n",
    "    return best_model\n",
    "\n",
    "# Could take quite a while to complete...\n",
    "models_best = pd.DataFrame(columns=[\"R2\", \"model\"])\n",
    "tic = time.time()\n",
    "for i in range(1,4):\n",
    "    models_best.loc[i] = getBest(i, cumulative_merge.drop(['country', 'continent', 'industry', 'cum'], axis=1), cumulative_merge.cum)\n",
    "toc = time.time()\n",
    "print(\"Total elapsed time:\", (toc-tic), \"seconds\")"
   ]
  },
  {
   "cell_type": "code",
   "execution_count": null,
   "metadata": {},
   "outputs": [],
   "source": [
    "models_best.model.iloc[2].params"
   ]
  },
  {
   "cell_type": "code",
   "execution_count": null,
   "metadata": {},
   "outputs": [],
   "source": [
    "def forward(predictors, X, y):\n",
    "    remaining_predictors = [p for p in X.columns if p not in predictors]\n",
    "    tic = time.time()\n",
    "    results = []\n",
    "    for p in remaining_predictors:\n",
    "        results.append(processSubset(predictors+[p], X, y))\n",
    "    models = pd.DataFrame(results)\n",
    "    best_model = models.loc[models['R2'].argmax()]\n",
    "    toc = time.time()\n",
    "    #print(\"Processed \", models.shape[0], \"models on\", len(predictors)+1, \"predictors in\", (toc-tic), \"seconds\")\n",
    "    # Return the best model, along with some other useful information about the model\n",
    "    return best_model\n",
    "\n",
    "models_fwd = pd.DataFrame(columns=[\"R2\", \"model\"])\n",
    "tic = time.time()\n",
    "predictors = []\n",
    "for i in range(1,len(cumulative_merge.drop(['country', 'continent', 'industry', 'cum'], axis=1).columns)+1):    \n",
    "    models_fwd.loc[i] = forward(predictors, cumulative_merge.drop(['country', 'continent', 'industry', 'cum'], axis=1), cumulative_merge.cum)\n",
    "    predictors = models_fwd.loc[i][\"model\"].model.exog_names\n",
    "toc = time.time()\n",
    "print(\"Total elapsed time:\", (toc-tic), \"seconds\")"
   ]
  },
  {
   "cell_type": "code",
   "execution_count": 71,
   "metadata": {},
   "outputs": [
    {
     "ename": "NameError",
     "evalue": "name 'models_fwd' is not defined",
     "output_type": "error",
     "traceback": [
      "\u001b[1;31m---------------------------------------------------------------------------\u001b[0m",
      "\u001b[1;31mNameError\u001b[0m                                 Traceback (most recent call last)",
      "Input \u001b[1;32mIn [71]\u001b[0m, in \u001b[0;36m<module>\u001b[1;34m\u001b[0m\n\u001b[1;32m----> 1\u001b[0m \u001b[43mmodels_fwd\u001b[49m\u001b[38;5;241m.\u001b[39mmodel\u001b[38;5;241m.\u001b[39miloc[\u001b[38;5;241m5\u001b[39m]\u001b[38;5;241m.\u001b[39mparams\n",
      "\u001b[1;31mNameError\u001b[0m: name 'models_fwd' is not defined"
     ]
    }
   ],
   "source": [
    "models_fwd.model.iloc[5].params"
   ]
  },
  {
   "cell_type": "code",
   "execution_count": null,
   "metadata": {},
   "outputs": [],
   "source": [
    "a=cumulative_merge.drop(['country', 'continent', 'industry', 'cum'], axis=1).dropna(axis = 0)\n",
    "regr = ElasticNetCV(cv=5, random_state=0, l1_ratio=[x/100 for x in range(1,100,5)], verbose=False)\n",
    "regr.fit(a, cumulative_merge[cumulative_merge.index.isin(a.index)].cum)"
   ]
  },
  {
   "cell_type": "code",
   "execution_count": null,
   "metadata": {},
   "outputs": [],
   "source": [
    "eps = 5e-3\n",
    "alphas_enet, coefs_enet, _ = enet_path(a, cumulative_merge[cumulative_merge.index.isin(a.index)].cum, eps=eps, l1_ratio=regr.l1_ratio_)\n",
    "neg_log_alphas_enet = -np.log10(alphas_enet)\n",
    "\n",
    "fig, ax = plt.subplots(1,1, figsize=(6, 4))\n",
    "for i in range(len(coefs_enet)):\n",
    "    coef_e=coefs_enet[i]\n",
    "    if regr.coef_[i]!=0:\n",
    "        plt.plot(neg_log_alphas_enet, coef_e, c=default_color3)\n",
    "    else:\n",
    "        plt.plot(neg_log_alphas_enet, coef_e, c=default_color2, alpha=0.4)\n",
    "plt.xlabel(\"-log(alpha)\")\n",
    "plt.ylabel(\"Coefficients\")\n",
    "ax.axvline(-np.log10(regr.alpha_), c=default_color)\n",
    "#plt.title(\"Elastic-Net, l1-ratio=\"+str(regr.l1_ratio_))\n",
    "patcha = mpatches.Patch(color=default_color3, label='Non-zero coefficients')\n",
    "patchb = mpatches.Patch(color=default_color2, label='Zero coefficients')\n",
    "patchc = mpatches.Patch(color=default_color, label='Optimal alpha')\n",
    "plt.legend(handles=[patcha, patchb, patchc])\n",
    "\n",
    "os.chdir('/Users/ltesta/Documents/GitHub/crunch_net/ANS/plots')\n",
    "plt.savefig('elastic_net_coefficients.pdf', bbox_inches=\"tight\")"
   ]
  },
  {
   "cell_type": "code",
   "execution_count": null,
   "metadata": {},
   "outputs": [],
   "source": [
    "a.loc[:,regr.coef_!=0].columns"
   ]
  },
  {
   "cell_type": "code",
   "execution_count": null,
   "metadata": {},
   "outputs": [],
   "source": [
    "regr.coef_"
   ]
  },
  {
   "cell_type": "markdown",
   "metadata": {},
   "source": [
    "Function-on-scalar regression is not supported. We have to save our functional object matrix and rely on R \"refund\" package"
   ]
  },
  {
   "cell_type": "code",
   "execution_count": null,
   "metadata": {},
   "outputs": [],
   "source": []
  }
 ],
 "metadata": {
  "interpreter": {
   "hash": "a582142d3a4a5a6ae69dd97f6c1ccf57e4c5dc69e08ef3e96e58e98b4371aae7"
  },
  "kernelspec": {
   "display_name": "Python 3 (ipykernel)",
   "language": "python",
   "name": "python3"
  },
  "language_info": {
   "codemirror_mode": {
    "name": "ipython",
    "version": 3
   },
   "file_extension": ".py",
   "mimetype": "text/x-python",
   "name": "python",
   "nbconvert_exporter": "python",
   "pygments_lexer": "ipython3",
   "version": "3.8.2"
  }
 },
 "nbformat": 4,
 "nbformat_minor": 5
}
