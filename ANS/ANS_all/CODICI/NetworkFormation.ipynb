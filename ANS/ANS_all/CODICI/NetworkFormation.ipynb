{
 "cells": [
  {
   "cell_type": "code",
   "execution_count": null,
   "metadata": {
    "tags": []
   },
   "outputs": [],
   "source": [
    "import numpy as np\n",
    "import math\n",
    "import statsmodels.api as sm\n",
    "import imblearn\n",
    "from tqdm.notebook import tqdm\n",
    "from scipy import stats\n",
    "import pandas as pd\n",
    "import matplotlib.pyplot as plt\n",
    "import networkx as nx\n",
    "from networkx.algorithms import bipartite, community \n",
    "from numpy import nansum\n",
    "from numpy import nanmean\n",
    "from numpy.random import choice\n",
    "import itertools\n",
    "from networkx.algorithms import community\n",
    "import community as community_louvain\n",
    "import matplotlib.cm as cm\n",
    "import matplotlib.pyplot as plt\n",
    "import networkx as nx"
   ]
  },
  {
   "cell_type": "code",
   "execution_count": null,
   "metadata": {
    "scrolled": true,
    "tags": []
   },
   "outputs": [],
   "source": [
    "#cb1 comes from cleaning the data we retrieved from CB Insights. However, we cannot make them available\n",
    "cb1 = pd.read_csv('cb1.csv')\n",
    "cb2 = pd.read_csv('cb2.csv')\n",
    "cb3 = pd.read_csv('cb3.csv')\n"
   ]
  },
  {
   "cell_type": "code",
   "execution_count": null,
   "metadata": {
    "tags": []
   },
   "outputs": [],
   "source": [
    "cb = cb1.append(cb2)\n",
    "cb = cb.append(cb3)\n",
    "cb.index = range(len(cb))\n",
    "cb['date_my'] = (pd.to_datetime(cb['date'],format='%m/%d/%Y', errors='coerce')).dt.to_period('m')\n",
    "cb['date_y'] = (pd.to_datetime(cb['date'],format='%m/%d/%Y', errors='coerce')).dt.to_period('y')\n",
    "\n",
    "nodes_org = cb[['target_name', 'target_ID', 'target_country', 'target_continent','industry', 'target_founded', 'target_status']].drop_duplicates()\n",
    "nodes_org['bipartite'] = 1\n",
    "nodes_inv = cb[['investors_name', 'investor_id', 'investor_country', 'investor_continent', 'investor_type', 'investor_founded']].drop_duplicates()\n",
    "nodes_org = nodes_org.rename(columns={\"target_name\": \"node\", \"target_country\": \"country\",  \n",
    "                                      \"target_continent\": \"continent\", \"industry\":\"industry\", \"target_status\":\"status\",\n",
    "                                     \"target_ID\":\"index\", \"target_founded\":\"foundation\"})\n",
    "nodes_inv = nodes_inv.rename(columns={\"investors_name\": \"node\",\"investor_country\": \"country\", \n",
    "                                      \"investor_continent\": \"continent\", \"investor_type\":\"industry\",\"investor_id\":'index', \"investor_founded\":\"foundation\" })\n",
    "nodes_inv['bipartite'] = 0\n",
    "nodes = nodes_org.append(nodes_inv, ignore_index= True)\n",
    "nodes['id'] = nodes.index\n",
    "nodes_org = nodes[nodes['bipartite']==1]\n",
    "nodes_inv = nodes[nodes['bipartite']==0]\n",
    "numbers = cb.groupby(['target_name','stage'], as_index = False).count()[['target_name','stage','investors_name']].rename(columns={\"investors_name\": \"investor_numbers\"})\n",
    "cb_new = pd.merge(cb, numbers,  how='left', left_on=['target_name','stage'], right_on = ['target_name','stage'])\n",
    "cb_new = pd.merge(cb_new, nodes[nodes['bipartite']== 1],  how='left', left_on=['target_name','target_ID'], right_on = ['node','index'])\n",
    "cb_new = pd.merge(cb_new, nodes[nodes['bipartite']== 0],  how='left', left_on=['investors_name','investor_id'], right_on = ['node','index'])\n",
    "\n",
    "\n",
    "cb_new.date_y=cb_new.date_y.dt.year\n"
   ]
  },
  {
   "cell_type": "code",
   "execution_count": null,
   "metadata": {
    "tags": []
   },
   "outputs": [],
   "source": [
    "#bipartite graph creation\n",
    "B = nx.MultiGraph(name='org-bid')\n",
    "B.add_nodes_from(nodes[nodes.bipartite==0].id)\n",
    "B.add_nodes_from(nodes[nodes.bipartite==1].id)\n",
    "nx.set_node_attributes(B, pd.Series(nodes.node, index=nodes.id).to_dict(), 'name')\n",
    "nx.set_node_attributes(B, pd.Series(nodes.country, index=nodes.id).to_dict(), 'country')\n",
    "nx.set_node_attributes(B, pd.Series(nodes.continent, index=nodes.continent).to_dict(), 'continent')\n",
    "nx.set_node_attributes(B, pd.Series(nodes.industry, index=nodes.id).to_dict(), 'industry')\n",
    "nx.set_node_attributes(B, pd.Series(nodes.foundation, index=nodes.id).to_dict(), 'foundation')\n",
    "nx.set_node_attributes(B, pd.Series(nodes.bipartite, index=nodes.id).to_dict(), 'bipartite')\n",
    "nx.set_node_attributes(B, pd.Series(nodes.status, index=nodes.id).to_dict(), 'target_status')"
   ]
  },
  {
   "cell_type": "code",
   "execution_count": null,
   "metadata": {
    "tags": []
   },
   "outputs": [],
   "source": [
    "bid_nodes = {n for n, d in B.nodes(data=True) if d[\"bipartite\"] == 0}\n",
    "org_nodes = set(B) - bid_nodes"
   ]
  },
  {
   "cell_type": "code",
   "execution_count": null,
   "metadata": {
    "tags": []
   },
   "outputs": [],
   "source": [
    "cb_new_wo = cb_new[(cb_new[\"round_simp\"] != 'Line of Credit') & (cb_new[\"round_simp\"]!= 'Loan') & (cb_new[\"round_simp\"]!= 'Debt')] #remove dealsconcerning debt: we only consider equity transactions\n",
    "cb_new_wo = cb_new_wo[pd.notna(cb_new_wo['date_y'])] #keep only transactions for which we have a date\n",
    "cb_new_wo = cb_new_wo[pd.notna(cb_new_wo['size_real'])] #keep only transactions for which we have the amount of money invested\n",
    "\n",
    "cb_new_wo.index = range(len(cb_new_wo))\n",
    "for i in range(len(cb_new_wo)):\n",
    "    B.add_edge(cb_new_wo.loc[i,'id_y'], cb_new_wo.loc[i,'id_x'], date=(cb_new_wo.loc[i,'date_y']), m_raised=cb_new_wo.loc[i,'size_real'], \n",
    "               investors = cb_new_wo.loc[i,'investor_numbers'], round_simp =cb_new_wo.loc[i,'round_simp'])"
   ]
  },
  {
   "cell_type": "code",
   "execution_count": null,
   "metadata": {
    "tags": []
   },
   "outputs": [],
   "source": [
    "bad_nodes = [x for x,y in B.nodes(data=True) if (y['name'] in ['Undisclosed Investors', 'ciao']) or (y['name']=='Dead')or (y['name']=='Public')\n",
    "          or  (y['name']=='Undisclosed Angel Investors') or (y['name']=='Undisclosed Venture Investors')] #remove nodes that do not have a precise investor\n",
    "B.remove_nodes_from(bad_nodes)\n"
   ]
  },
  {
   "cell_type": "code",
   "execution_count": null,
   "metadata": {
    "tags": []
   },
   "outputs": [],
   "source": [
    "#Adding an ID to have a unique combination firm-round to subsequently create links among the investors of the same round\n",
    "id_round = cb_new[['target_ID','round_simp']]\n",
    "id_round = id_round.drop_duplicates()\n",
    "id_round.index = range(len(id_round))\n",
    "id_round['id_round'] = id_round.index\n",
    "id_round\n",
    "\n",
    "id_year = cb_new[['target_ID','date_y']]\n",
    "id_year = id_year.drop_duplicates()\n",
    "id_year.index = range(len(id_year))\n",
    "id_year['id_year'] = id_year.index\n",
    "id_year\n",
    "\n",
    "cb_new = pd.merge(cb_new, id_round,  how='left', left_on=['target_ID','round_simp'], right_on = ['target_ID','round_simp'])\n",
    "cb_new = pd.merge(cb_new, id_year,  how='left', left_on=['target_ID','date_y'], right_on = ['target_ID','date_y'])"
   ]
  },
  {
   "cell_type": "code",
   "execution_count": null,
   "metadata": {},
   "outputs": [],
   "source": [
    "#links between investors in the same round\n",
    "links = []\n",
    "subcb = cb_new[['round_simp','date_y','id_y','size_real','id_round','investor_numbers','target_name','id_x','target_country']].drop_duplicates()\n",
    "subcb = subcb[pd.notna(subcb['date_y'])]\n",
    "subcb = subcb[pd.notna(subcb['size_real'])]\n",
    "subcb = subcb[(subcb[\"round_simp\"] != 'Line of Credit') & (subcb[\"round_simp\"]!= 'Loan') & (subcb[\"round_simp\"]!= 'Debt')]\n",
    "for i in tqdm(subcb['id_round'].unique()):\n",
    "    subcb2 = subcb[subcb['id_round']==i]\n",
    "    for couple in itertools.combinations_with_replacement(np.unique(subcb2['id_y'].values),2):\n",
    "        links.append((couple + ({'date': subcb2['date_y'].values[0],\n",
    "                                'round': subcb2['round_simp'].values[0],\n",
    "                                'money': subcb2['size_real'].values[0]/(subcb2['investor_numbers'].values[0]),\n",
    "                                'investor_numbers': subcb2['investor_numbers'].values[0],\n",
    "                                #'status': subcb2[\"stato\"].values[0],\n",
    "                                 'id_target': subcb2[\"id_x\"].values[0],\n",
    "                                 'country_target': subcb2[\"target_country\"].values[0],\n",
    "                                'target_name': subcb2['target_name'].values[0]},)))"
   ]
  },
  {
   "cell_type": "code",
   "execution_count": null,
   "metadata": {},
   "outputs": [],
   "source": [
    "bidbid_stage_self=nx.MultiGraph()\n",
    "bidbid_stage_self.add_nodes_from(nodes[nodes.bipartite==0].id)\n",
    "nx.set_node_attributes(bidbid_stage_self, pd.Series(nodes_inv.node, index=nodes_inv.id).to_dict(), 'name')\n",
    "nx.set_node_attributes(bidbid_stage_self, pd.Series(nodes_inv.country, index=nodes_inv.id).to_dict(), 'country')\n",
    "nx.set_node_attributes(bidbid_stage_self, pd.Series(nodes_inv.continent, index=nodes_inv.id).to_dict(), 'continent')\n",
    "nx.set_node_attributes(bidbid_stage_self, pd.Series(nodes_inv.industry, index=nodes_inv.id).to_dict(), 'industry')\n",
    "nx.set_node_attributes(bidbid_stage_self, pd.Series(nodes_inv.foundation, index=nodes_inv.id).to_dict(), 'foundation')\n",
    "nx.set_node_attributes(bidbid_stage_self, pd.Series(nodes_inv.bipartite, index=nodes_inv.id).to_dict(), 'bipartite')\n",
    "bidbid_stage_self.add_edges_from(links) \n",
    "remove = [node for node,degree in dict(bidbid_stage_self.degree()).items() if degree == 0]\n",
    "bidbid_stage_self.remove_nodes_from(remove)\n",
    "bidbid_stage_self.remove_nodes_from(bad_nodes)\n",
    "nx.readwrite.write_gpickle(bidbid_stage_self,'bidbid_stage_self_cb.gpickle')\n",
    "nx.info(bidbid_stage_self)"
   ]
  },
  {
   "cell_type": "code",
   "execution_count": null,
   "metadata": {},
   "outputs": [],
   "source": [
    "#from multigraph to graph\n",
    "bidbid_stage_self_single = nx.Graph()\n",
    "for u,v,data in tqdm(bidbid_stage_self.edges(data=True)):\n",
    "    d = data['date']\n",
    "    m = data['money']\n",
    "    r = data['round']\n",
    "    t = data['target_name']\n",
    "    \n",
    "    if bidbid_stage_self_single.has_edge(u,v):\n",
    "        bidbid_stage_self_single[u][v]['date'] = list(set([bidbid_stage_self[u][v][0]['date']] + [d]))\n",
    "        bidbid_stage_self_single[u][v]['money'] += m\n",
    "        bidbid_stage_self_single[u][v]['rounds'] = list(set([bidbid_stage_self[u][v][0]['round']] + [r]))\n",
    "        bidbid_stage_self_single[u][v]['target_name'] = list(set([bidbid_stage_self[u][v][0]['target_name']] + [t]))\n",
    "    else:\n",
    "        bidbid_stage_self_single.add_edge(u, v, date=[d])\n",
    "        bidbid_stage_self_single.add_edge(u, v, money = m)\n",
    "        bidbid_stage_self_single.add_edge(u, v, rounds =[r])\n",
    "        bidbid_stage_self_single.add_edge(u, v, target_name = [t])\n",
    "        "
   ]
  },
  {
   "cell_type": "code",
   "execution_count": null,
   "metadata": {},
   "outputs": [],
   "source": [
    "nx.readwrite.write_gpickle(bidbid_stage_self_single,'bidbid_stage_self_single.gpickle')\n",
    "nx.info(bidbid_stage_self_single)"
   ]
  },
  {
   "cell_type": "code",
   "execution_count": null,
   "metadata": {},
   "outputs": [],
   "source": [
    "#create yearly snapshots\n",
    "years = range(1995,2022)\n",
    "for period in years:\n",
    "    locals()[\"bidbid_stage_self_single_\"+str(period-1)]=nx.Graph([(u,v,d) for u,v,d in bidbid_stage_self_single.edges(data=True) if d['date'][-1] < period])\n",
    "    print(period-1)"
   ]
  },
  {
   "cell_type": "code",
   "execution_count": null,
   "metadata": {},
   "outputs": [],
   "source": [
    "for period in years:\n",
    "    nx.readwrite.write_gpickle(locals()[\"bidbid_stage_self_single_\"+str(period-1)], \"bidbid_stage_self_single_\"+str(period-1)+'.gpickle')\n",
    "    print(nx.info(locals()[\"bidbid_stage_self_single_\"+str(period-1)]))"
   ]
  },
  {
   "cell_type": "markdown",
   "metadata": {},
   "source": [
    "# ORGORG"
   ]
  },
  {
   "cell_type": "code",
   "execution_count": null,
   "metadata": {
    "tags": []
   },
   "outputs": [],
   "source": [
    "from itertools import islice\n",
    "\n",
    "def window(seq, n):               \"\n",
    "    it = iter(seq)\n",
    "    result = tuple(islice(it, n))\n",
    "    if len(result) == n:\n",
    "        yield result\n",
    "    for elem in it:\n",
    "        result = result[1:] + (elem,)\n",
    "        yield result"
   ]
  },
  {
   "cell_type": "code",
   "execution_count": null,
   "metadata": {
    "tags": []
   },
   "outputs": [],
   "source": [
    "#projection among the firms\n",
    "count=0\n",
    "finestra = list(range(1990,2022))\n",
    "win = []\n",
    "for i in range(1,len(finestra)+1):\n",
    "    win.append(finestra[:i])\n",
    "for year in range(1979,2022):\n",
    "    locals()[\"orgorg_\"+str(year)] = nx.MultiGraph()\n",
    "\n",
    "for node in tqdm(bid_nodes):\n",
    "    ego=nx.ego_graph(B, node)\n",
    "    ndx=list(ego.nodes())\n",
    "    ndx.remove(node)\n",
    "    for period in win: \n",
    "        subndx=[x for x in ndx if [y for y in list(ego.edges(data=True)) if y[0]==x or y[1]==x][0][2]['date'] in period]\n",
    "        for couple in itertools.combinations(subndx, 2):\n",
    "            year1 = ego[node][couple[0]][0]['date']\n",
    "            year2 = ego[node][couple[1]][0]['date']\n",
    "            if year1 - year2 in range(-6,7):\n",
    "                locals()[\"orgorg_\"+str(period[-1])].add_edge(couple[0], couple[1], year = max(year1,year2))\n",
    "    count+=1\n",
    "    if count%1000==0:\n",
    "        print(count, end=' ')"
   ]
  },
  {
   "cell_type": "code",
   "execution_count": null,
   "metadata": {
    "tags": []
   },
   "outputs": [],
   "source": [
    "#from multi to single\n",
    "for period in win:\n",
    "    a = nx.Graph()\n",
    "    for u,v,data in locals()[\"orgorg_\"+str(period[-1])].edges(data=True):\n",
    "        d = data['year']\n",
    "        if a.has_edge(u,v)==False:\n",
    "            a.add_edge(u, v, date=[d])        \n",
    "    locals()[\"orgorg_single_\"+str(period[-1])] = a\n",
    "    nx.readwrite.write_gpickle(locals()[\"orgorg_single_\"+str(period[-1])], \"orgorg_single\"+str(period[-1])+\".gpickle\")\n",
    "    print(nx.info(locals()[\"orgorg_single_\"+str(period[-1])]))\n",
    "    print(period[-1])"
   ]
  }
 ],
 "metadata": {
  "kernelspec": {
   "display_name": "Python 3 (ipykernel)",
   "language": "python",
   "name": "python3"
  },
  "language_info": {
   "codemirror_mode": {
    "name": "ipython",
    "version": 3
   },
   "file_extension": ".py",
   "mimetype": "text/x-python",
   "name": "python",
   "nbconvert_exporter": "python",
   "pygments_lexer": "ipython3",
   "version": "3.8.2"
  }
 },
 "nbformat": 4,
 "nbformat_minor": 4
}
