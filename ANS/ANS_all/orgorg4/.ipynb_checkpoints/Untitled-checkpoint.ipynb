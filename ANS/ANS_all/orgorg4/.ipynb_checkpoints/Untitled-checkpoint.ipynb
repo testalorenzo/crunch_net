{
 "cells": [
  {
   "cell_type": "code",
   "execution_count": null,
   "metadata": {},
   "outputs": [],
   "source": [
    "import pandas as pd\n",
    "import networkx as nx\n",
    "from tqdm.notebook import tqdm\n",
    "import matplotlib.pyplot as plt\n",
    "import seaborn as sns\n",
    "import numpy as np"
   ]
  },
  {
   "cell_type": "code",
   "execution_count": null,
   "metadata": {},
   "outputs": [],
   "source": [
    "years = range(1990,2022)\n",
    "for y in years:\n",
    "    locals()['Gorg' + str(y)] = nx.read_gpickle(r'C:\\Users\\Marco\\Documents\\GitHub\\crunch_net\\ANS\\ANS_all\\orgorg4\\orgorg4_single' +\n",
    "                                               str(y) +\n",
    "                                               '.gpickle')\n",
    "    print(y)"
   ]
  },
  {
   "cell_type": "code",
   "execution_count": null,
   "metadata": {},
   "outputs": [],
   "source": [
    "def plot_degree_dist(G):\n",
    "    hist = nx.degree_histogram(G)\n",
    "    q = [w+1 for w in hist]\n",
    "    q = np.log(q[1:])\n",
    "    \n",
    "    plt.subplot(7,3, y-2000)\n",
    "    x = np.log(range(1, len(hist)))\n",
    "    plt.plot(x, q, \".\")\n",
    "    plt.title(str(y))\n",
    "    \n",
    "    #plt.loglog()\n",
    "    m, b = np.polyfit(x, q, 1)\n",
    "    plt.plot(x, m*x + b)\n",
    "    #print(y)\n",
    "    #print(m)\n",
    "    #print(' ')"
   ]
  },
  {
   "cell_type": "code",
   "execution_count": null,
   "metadata": {},
   "outputs": [],
   "source": [
    "f, axs = plt.subplots(7,3,figsize=(15,15), sharex=True, sharey=True)\n",
    "\n",
    "for y in range(2001,2022):\n",
    "    plot_degree_dist(locals()['Gorg' + str(y)])\n",
    "f.add_subplot(111, frameon=False)\n",
    "plt.tick_params(labelcolor=\"none\", bottom=False, left=False)\n",
    "plt.xlabel(\"Common X-Axis\")\n",
    "plt.ylabel(\"Common Y-Axis\")\n",
    "plt.show()"
   ]
  },
  {
   "cell_type": "code",
   "execution_count": null,
   "metadata": {},
   "outputs": [],
   "source": []
  },
  {
   "cell_type": "code",
   "execution_count": null,
   "metadata": {},
   "outputs": [],
   "source": [
    "'ciao'"
   ]
  }
 ],
 "metadata": {
  "kernelspec": {
   "display_name": "Python 3 (ipykernel)",
   "language": "python",
   "name": "python3"
  },
  "language_info": {
   "codemirror_mode": {
    "name": "ipython",
    "version": 3
   },
   "file_extension": ".py",
   "mimetype": "text/x-python",
   "name": "python",
   "nbconvert_exporter": "python",
   "pygments_lexer": "ipython3",
   "version": "3.8.2"
  }
 },
 "nbformat": 4,
 "nbformat_minor": 4
}
