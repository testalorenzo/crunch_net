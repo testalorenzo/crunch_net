{
 "cells": [
  {
   "cell_type": "code",
   "execution_count": 1,
   "metadata": {},
   "outputs": [],
   "source": [
    "import pandas as pd\n",
    "import networkx as nx\n",
    "from tqdm.notebook import tqdm\n",
    "import matplotlib.pyplot as plt\n",
    "import seaborn as sns\n",
    "import numpy as np\n",
    "import sys\n",
    "from collections import Counter\n",
    "\n",
    "from IPython.display import display"
   ]
  },
  {
   "cell_type": "code",
   "execution_count": 2,
   "metadata": {},
   "outputs": [
    {
     "name": "stdout",
     "output_type": "stream",
     "text": [
      "1990\n",
      "1991\n",
      "1992\n",
      "1993\n",
      "1994\n",
      "1995\n",
      "1996\n",
      "1997\n",
      "1998\n",
      "1999\n",
      "2000\n",
      "2001\n",
      "2002\n",
      "2003\n",
      "2004\n",
      "2005\n",
      "2006\n",
      "2007\n",
      "2008\n",
      "2009\n",
      "2010\n",
      "2011\n",
      "2012\n",
      "2013\n",
      "2014\n",
      "2015\n",
      "2016\n",
      "2017\n",
      "2018\n",
      "2019\n",
      "2020\n",
      "2021\n"
     ]
    }
   ],
   "source": [
    "years = range(1990,2022)\n",
    "for y in years:\n",
    "    locals()['Gorg' + str(y)] = nx.read_gpickle(r'C:\\Users\\Marco\\Documents\\GitHub\\crunch_net\\ANS\\ANS_all\\orgorg4\\orgorg4_single' +\n",
    "                                               str(y) +\n",
    "                                               '.gpickle')\n",
    "    print(y)"
   ]
  },
  {
   "cell_type": "code",
   "execution_count": 15,
   "metadata": {},
   "outputs": [],
   "source": [
    "\n",
    "import numpy as np\n",
    "import matplotlib.pyplot as plt\n",
    "from scipy.special import comb\n",
    "\n",
    "def hypergeom_pmf(N, A, n, x):\n",
    "    \n",
    "    '''\n",
    "    Probability Mass Function for Hypergeometric Distribution\n",
    "    :param N: population size\n",
    "    :param A: total number of desired items in N\n",
    "    :param n: number of draws made from N\n",
    "    :param x: number of desired items in our draw of n items\n",
    "    :returns: PMF computed at x\n",
    "    '''\n",
    "    Achoosex = comb(A,x)\n",
    "    NAchoosenx = comb(N-A, n-x)\n",
    "    Nchoosen = comb(N,n)\n",
    "    \n",
    "    return (Achoosex)*NAchoosenx/Nchoosen"
   ]
  },
  {
   "cell_type": "code",
   "execution_count": 16,
   "metadata": {},
   "outputs": [],
   "source": [
    "def hypergeom_cdf(N, A, n, t, min_value=None):\n",
    "    \n",
    "    '''\n",
    "    Cumulative Density Funtion for Hypergeometric Distribution\n",
    "    :param N: population size\n",
    "    :param A: total number of desired items in N\n",
    "    :param n: number of draws made from N\n",
    "    :param t: number of desired items in our draw of n items up to t\n",
    "    :returns: CDF computed up to t\n",
    "    '''\n",
    "    if min_value:\n",
    "        return np.sum([hypergeom_pmf(N, A, n, x) for x in range(min_value, t+1)])\n",
    "    \n",
    "    return np.sum([hypergeom_pmf(N, A, n, x) for x in range(t+1)])"
   ]
  },
  {
   "cell_type": "code",
   "execution_count": null,
   "metadata": {},
   "outputs": [],
   "source": [
    "def plot_degree_dist(G):\n",
    "    hist = nx.degree_histogram(G)\n",
    "    q = [w+1 for w in hist]\n",
    "    q = np.log(q[1:])\n",
    "    \n",
    "    plt.subplot(7,3, y-2000)\n",
    "    x = np.log(range(1, len(hist)))\n",
    "    plt.plot(x, q, \".\")\n",
    "    plt.title(str(y))\n",
    "    \n",
    "    #plt.loglog()\n",
    "    m, b = np.polyfit(x, q, 1)\n",
    "    plt.plot(x, m*x + b)\n",
    "    #print(y)\n",
    "    #print(m)\n",
    "    #print(' ')"
   ]
  },
  {
   "cell_type": "code",
   "execution_count": 36,
   "metadata": {},
   "outputs": [],
   "source": [
    "def get_succ(status):\n",
    "    if status == 'Acquired':\n",
    "        return 1\n",
    "    if status == 'Alive / Active':\n",
    "        return 0\n",
    "    if status == 'IPO / Went public':\n",
    "        return 1\n",
    "    if status == 'Merged':\n",
    "        return 1\n",
    "    else:\n",
    "        return 0\n",
    "    \n",
    "    \n"
   ]
  },
  {
   "cell_type": "code",
   "execution_count": null,
   "metadata": {},
   "outputs": [],
   "source": [
    "f, axs = plt.subplots(7,3,figsize=(15,15), sharex=True, sharey=True)\n",
    "\n",
    "for y in range(2001,2022):\n",
    "    plot_degree_dist(locals()['Gorg' + str(y)])\n",
    "f.add_subplot(111, frameon=False)\n",
    "plt.tick_params(labelcolor=\"none\", bottom=False, left=False)\n",
    "plt.xlabel(\"Common X-Axis\")\n",
    "plt.ylabel(\"Common Y-Axis\")\n",
    "plt.show()"
   ]
  },
  {
   "cell_type": "code",
   "execution_count": null,
   "metadata": {},
   "outputs": [],
   "source": []
  },
  {
   "cell_type": "code",
   "execution_count": null,
   "metadata": {},
   "outputs": [],
   "source": [
    "orgs.columns"
   ]
  },
  {
   "cell_type": "markdown",
   "metadata": {},
   "source": [
    "### Most important"
   ]
  },
  {
   "cell_type": "code",
   "execution_count": 17,
   "metadata": {},
   "outputs": [],
   "source": [
    "bidders = pd.read_csv(r'C:\\Users\\Marco\\Documents\\GitHub\\crunch_net\\ANS\\ANS_all\\Covariate_bidbid_final_final2.csv') # <-- relative path\n",
    "orgs = pd.read_csv(r'C:\\Users\\Marco\\Documents\\GitHub\\crunch_net\\ANS\\ANS_all\\Covariates_orgorg_final2.csv') # <-- relative path\n"
   ]
  },
  {
   "cell_type": "code",
   "execution_count": 18,
   "metadata": {},
   "outputs": [],
   "source": [
    "nodes = pd.read_csv(r'C:\\Users\\Marco\\Documents\\GitHub\\crunch_net\\ANS\\ANS_all\\nodes.csv') # <-- relative path\n",
    "covariates = pd.read_csv(r'C:\\Users\\Marco\\Documents\\GitHub\\crunch_net\\ANS\\ANS_all\\covariates.csv')"
   ]
  },
  {
   "cell_type": "code",
   "execution_count": 19,
   "metadata": {},
   "outputs": [],
   "source": [
    "bidders = pd.merge(bidders, nodes, on = 'id')\n",
    "orgs = pd.merge(orgs,nodes, on = 'id')"
   ]
  },
  {
   "cell_type": "code",
   "execution_count": 20,
   "metadata": {},
   "outputs": [],
   "source": [
    "orgs2 = pd.merge(orgs, covariates, on = 'id')"
   ]
  },
  {
   "cell_type": "code",
   "execution_count": 21,
   "metadata": {},
   "outputs": [
    {
     "data": {
      "text/plain": [
       "Index(['Unnamed: 0', 'node', 'country', 'continent', 'industry', 'foundation',\n",
       "       'sector', 'stage', 'first_money', 'date', 'current_sit', 'bipartite',\n",
       "       'id', 'deg_max', 'deg_min', 'deg_median', 'voterank_max',\n",
       "       'voterank_min', 'voterank_median', 'clustering_max', 'clustering_min',\n",
       "       'clustering_median', 'harmonic_centrality_max',\n",
       "       'harmonic_centrality_min', 'harmonic_centrality_median',\n",
       "       'closeness_centrality_max', 'closeness_centrality_min',\n",
       "       'closeness_centrality_median', 'newman_betweenness_centrality_max',\n",
       "       'newman_betweenness_centrality_min',\n",
       "       'newman_betweenness_centrality_median', 'pagerank_max', 'pagerank_min',\n",
       "       'pagerank_median', 'betweenness_centrality_max',\n",
       "       'betweenness_centrality_min', 'betweenness_centrality_median',\n",
       "       'eigenvector_centrality_max', 'eigenvector_centrality_min',\n",
       "       'eigenvector_centrality_median', 'average_neighbor_degree_max',\n",
       "       'average_neighbor_degree_min', 'average_neighbor_degree_median',\n",
       "       'num_inv', 'deg_org', 'voterank_org', 'clustering_org',\n",
       "       'core_number_org', 'harmonic_centrality_org',\n",
       "       'closeness_centrality_org', 'newman_betweenness_centrality_org',\n",
       "       'pagerank_org', 'eigenvector_centrality_org',\n",
       "       'average_neighbor_degree_org'],\n",
       "      dtype='object')"
      ]
     },
     "execution_count": 21,
     "metadata": {},
     "output_type": "execute_result"
    }
   ],
   "source": [
    "covariates.columns"
   ]
  },
  {
   "cell_type": "code",
   "execution_count": 25,
   "metadata": {},
   "outputs": [],
   "source": [
    "bonav = covariates[covariates.date < covariates.foundation +3]"
   ]
  },
  {
   "cell_type": "code",
   "execution_count": 37,
   "metadata": {},
   "outputs": [
    {
     "data": {
      "application/vnd.jupyter.widget-view+json": {
       "model_id": "28aafbf24d624d83a709d169ea376148",
       "version_major": 2,
       "version_minor": 0
      },
      "text/plain": [
       "  0%|          | 0/4307 [00:00<?, ?it/s]"
      ]
     },
     "metadata": {},
     "output_type": "display_data"
    }
   ],
   "source": [
    "outcome = list(set(bonav['current_sit']))\n",
    "success = [0,0,1,1,0,1]\n",
    "\n",
    "bonav2 = pd.merge(bonav, df_s, on = 'current_sit')\n",
    "bonav3 = pd.merge(bonav2, df_st8, on = 'id')\n",
    "\n",
    "st8 = []\n",
    "for i in tqdm(range(0,len(bonav3))):\n",
    "    st8.append(get_succ(bonav3.iloc[i,:]['st8']))"
   ]
  },
  {
   "cell_type": "code",
   "execution_count": 26,
   "metadata": {},
   "outputs": [
    {
     "name": "stdout",
     "output_type": "stream",
     "text": [
      "1995   0\n",
      "1996   1\n",
      "1997   2\n",
      "1998   49\n",
      "1999   134\n",
      "2000   229\n",
      "2001   182\n",
      "2002   152\n",
      "2003   121\n",
      "2004   151\n",
      "2005   154\n",
      "2006   160\n",
      "2007   143\n",
      "2008   111\n",
      "2009   95\n",
      "2010   118\n",
      "2011   201\n",
      "2012   220\n",
      "2013   308\n",
      "2014   457\n",
      "2015   614\n",
      "2016   461\n",
      "2017   215\n",
      "2018   14\n",
      "2019   11\n",
      "2020   4\n",
      "2021   0\n"
     ]
    }
   ],
   "source": [
    "for y in range(1995,2022):\n",
    "    print(y, \" \", len(bonav[bonav.foundation == y]))"
   ]
  },
  {
   "cell_type": "code",
   "execution_count": 34,
   "metadata": {},
   "outputs": [],
   "source": [
    "df_s = pd.DataFrame({'current_sit': outcome, 'success' : success})"
   ]
  },
  {
   "cell_type": "code",
   "execution_count": 38,
   "metadata": {},
   "outputs": [],
   "source": [
    "bonav3['succ8'] = st8"
   ]
  },
  {
   "cell_type": "code",
   "execution_count": 68,
   "metadata": {},
   "outputs": [],
   "source": [
    "b12 = bonav3[bonav3['foundation']<2013]\n",
    "#b12 = b12[b12['first_money']<10000000]\n",
    "b12 = b12[['eigenvector_centrality_org', 'current_sit','success','stage', 'st8', 'succ8','first_money','id', 'node','st8']]\n",
    "b12 = b12[b12['eigenvector_centrality_org'].notnull()]"
   ]
  },
  {
   "cell_type": "code",
   "execution_count": 70,
   "metadata": {},
   "outputs": [],
   "source": [
    "moves = []\n",
    "p = []\n",
    "N = len(b12)\n",
    "A = sum(b12['succ8'])\n",
    "\n",
    "for i in range(20,250):\n",
    "    t = sum(b12.sort_values(ascending=True, by = 'eigenvector_centrality_org')[0:i]['succ8'])\n",
    "    moves.append(t/i)\n",
    "    n = i\n",
    "    p.append(hypergeom_cdf(N, A, n, t, min_value=None))"
   ]
  },
  {
   "cell_type": "code",
   "execution_count": 74,
   "metadata": {},
   "outputs": [],
   "source": [
    "moves = []\n",
    "p = []\n",
    "for i in range(20,250):\n",
    "    t = sum(b12.sort_values(ascending=False, by = 'eigenvector_centrality_org')[0:i]['succ8'])\n",
    "    moves.append(t/i)\n",
    "    n = i\n",
    "    p.append(hypergeom_cdf(N, A, n, t, min_value=None))"
   ]
  },
  {
   "cell_type": "code",
   "execution_count": 75,
   "metadata": {},
   "outputs": [
    {
     "data": {
      "text/plain": [
       "<matplotlib.collections.PathCollection at 0x2ac499a0520>"
      ]
     },
     "execution_count": 75,
     "metadata": {},
     "output_type": "execute_result"
    },
    {
     "data": {
      "image/png": "[encoded data removed]",
      "text/plain": [
       "<Figure size 432x288 with 1 Axes>"
      ]
     },
     "metadata": {
      "needs_background": "light"
     },
     "output_type": "display_data"
    }
   ],
   "source": [
    "plt.scatter(range(20,1500),moves)"
   ]
  },
  {
   "cell_type": "code",
   "execution_count": 47,
   "metadata": {},
   "outputs": [
    {
     "data": {
      "text/plain": [
       "0.24550898203592814"
      ]
     },
     "execution_count": 47,
     "metadata": {},
     "output_type": "execute_result"
    }
   ],
   "source": [
    "sum(b12['succ8'])/len(b12)"
   ]
  },
  {
   "cell_type": "code",
   "execution_count": 46,
   "metadata": {},
   "outputs": [
    {
     "data": {
      "text/plain": [
       "0"
      ]
     },
     "execution_count": 46,
     "metadata": {},
     "output_type": "execute_result"
    }
   ],
   "source": [
    "len(b12[(b12.first_money>10^6) & (b12.first_money<10^8)])"
   ]
  },
  {
   "cell_type": "code",
   "execution_count": null,
   "metadata": {},
   "outputs": [],
   "source": [
    "for y in range(1995,2021):\n",
    "    display(orgs[['closeness_centrality' + str(y), 'node', 'country', 'industry']].sort_values(ascending=False, \n",
    "                                                                                            by = 'closeness_centrality' + str(y)).iloc[0:30,:])"
   ]
  },
  {
   "cell_type": "code",
   "execution_count": 251,
   "metadata": {},
   "outputs": [
    {
     "data": {
      "text/html": [
       "<div>\n",
       "<style scoped>\n",
       "    .dataframe tbody tr th:only-of-type {\n",
       "        vertical-align: middle;\n",
       "    }\n",
       "\n",
       "    .dataframe tbody tr th {\n",
       "        vertical-align: top;\n",
       "    }\n",
       "\n",
       "    .dataframe thead th {\n",
       "        text-align: right;\n",
       "    }\n",
       "</style>\n",
       "<table border=\"1\" class=\"dataframe\">\n",
       "  <thead>\n",
       "    <tr style=\"text-align: right;\">\n",
       "      <th></th>\n",
       "      <th>closeness_centrality_org</th>\n",
       "      <th>current_sit</th>\n",
       "      <th>success</th>\n",
       "      <th>stage</th>\n",
       "      <th>st8</th>\n",
       "      <th>succ8</th>\n",
       "      <th>first_money</th>\n",
       "    </tr>\n",
       "  </thead>\n",
       "  <tbody>\n",
       "    <tr>\n",
       "      <th>2806</th>\n",
       "      <td>0.411731</td>\n",
       "      <td>Acquired</td>\n",
       "      <td>1</td>\n",
       "      <td>Series A</td>\n",
       "      <td>Alive / Active</td>\n",
       "      <td>0</td>\n",
       "      <td>6.986232e+07</td>\n",
       "    </tr>\n",
       "    <tr>\n",
       "      <th>2801</th>\n",
       "      <td>0.410927</td>\n",
       "      <td>Acquired</td>\n",
       "      <td>1</td>\n",
       "      <td>Series A</td>\n",
       "      <td>Alive / Active</td>\n",
       "      <td>0</td>\n",
       "      <td>7.546792e+07</td>\n",
       "    </tr>\n",
       "    <tr>\n",
       "      <th>3193</th>\n",
       "      <td>0.410596</td>\n",
       "      <td>Acquired</td>\n",
       "      <td>1</td>\n",
       "      <td>Series B</td>\n",
       "      <td>Alive / Active</td>\n",
       "      <td>0</td>\n",
       "      <td>6.362443e+07</td>\n",
       "    </tr>\n",
       "    <tr>\n",
       "      <th>2812</th>\n",
       "      <td>0.410262</td>\n",
       "      <td>Acquired</td>\n",
       "      <td>1</td>\n",
       "      <td>Series A</td>\n",
       "      <td>Alive / Active</td>\n",
       "      <td>0</td>\n",
       "      <td>3.697252e+07</td>\n",
       "    </tr>\n",
       "    <tr>\n",
       "      <th>3259</th>\n",
       "      <td>0.406963</td>\n",
       "      <td>Acquired</td>\n",
       "      <td>1</td>\n",
       "      <td>Convertible Note</td>\n",
       "      <td>Alive / Active</td>\n",
       "      <td>0</td>\n",
       "      <td>8.166915e+06</td>\n",
       "    </tr>\n",
       "    <tr>\n",
       "      <th>...</th>\n",
       "      <td>...</td>\n",
       "      <td>...</td>\n",
       "      <td>...</td>\n",
       "      <td>...</td>\n",
       "      <td>...</td>\n",
       "      <td>...</td>\n",
       "      <td>...</td>\n",
       "    </tr>\n",
       "    <tr>\n",
       "      <th>3019</th>\n",
       "      <td>0.300429</td>\n",
       "      <td>Acquired</td>\n",
       "      <td>1</td>\n",
       "      <td>Seed VC</td>\n",
       "      <td>2</td>\n",
       "      <td>0</td>\n",
       "      <td>1.117432e+06</td>\n",
       "    </tr>\n",
       "    <tr>\n",
       "      <th>457</th>\n",
       "      <td>0.300369</td>\n",
       "      <td>Alive / Active</td>\n",
       "      <td>0</td>\n",
       "      <td>Seed VC</td>\n",
       "      <td>2</td>\n",
       "      <td>0</td>\n",
       "      <td>2.750534e+06</td>\n",
       "    </tr>\n",
       "    <tr>\n",
       "      <th>3796</th>\n",
       "      <td>0.300265</td>\n",
       "      <td>IPO / Went public</td>\n",
       "      <td>1</td>\n",
       "      <td>Seed VC</td>\n",
       "      <td>Alive / Active</td>\n",
       "      <td>0</td>\n",
       "      <td>1.568192e+07</td>\n",
       "    </tr>\n",
       "    <tr>\n",
       "      <th>2460</th>\n",
       "      <td>0.300189</td>\n",
       "      <td>Alive / Active</td>\n",
       "      <td>0</td>\n",
       "      <td>Seed</td>\n",
       "      <td>2</td>\n",
       "      <td>0</td>\n",
       "      <td>2.329061e+04</td>\n",
       "    </tr>\n",
       "    <tr>\n",
       "      <th>4054</th>\n",
       "      <td>0.300156</td>\n",
       "      <td>Dead / Inactive</td>\n",
       "      <td>0</td>\n",
       "      <td>Seed</td>\n",
       "      <td>Alive / Active</td>\n",
       "      <td>0</td>\n",
       "      <td>1.275866e+06</td>\n",
       "    </tr>\n",
       "  </tbody>\n",
       "</table>\n",
       "<p>1000 rows × 7 columns</p>\n",
       "</div>"
      ],
      "text/plain": [
       "      closeness_centrality_org        current_sit  success             stage  \\\n",
       "2806                  0.411731           Acquired        1          Series A   \n",
       "2801                  0.410927           Acquired        1          Series A   \n",
       "3193                  0.410596           Acquired        1          Series B   \n",
       "2812                  0.410262           Acquired        1          Series A   \n",
       "3259                  0.406963           Acquired        1  Convertible Note   \n",
       "...                        ...                ...      ...               ...   \n",
       "3019                  0.300429           Acquired        1           Seed VC   \n",
       "457                   0.300369     Alive / Active        0           Seed VC   \n",
       "3796                  0.300265  IPO / Went public        1           Seed VC   \n",
       "2460                  0.300189     Alive / Active        0              Seed   \n",
       "4054                  0.300156    Dead / Inactive        0              Seed   \n",
       "\n",
       "                 st8  succ8   first_money  \n",
       "2806  Alive / Active      0  6.986232e+07  \n",
       "2801  Alive / Active      0  7.546792e+07  \n",
       "3193  Alive / Active      0  6.362443e+07  \n",
       "2812  Alive / Active      0  3.697252e+07  \n",
       "3259  Alive / Active      0  8.166915e+06  \n",
       "...              ...    ...           ...  \n",
       "3019               2      0  1.117432e+06  \n",
       "457                2      0  2.750534e+06  \n",
       "3796  Alive / Active      0  1.568192e+07  \n",
       "2460               2      0  2.329061e+04  \n",
       "4054  Alive / Active      0  1.275866e+06  \n",
       "\n",
       "[1000 rows x 7 columns]"
      ]
     },
     "execution_count": 251,
     "metadata": {},
     "output_type": "execute_result"
    }
   ],
   "source": [
    "b12.sort_values(ascending=False, by = 'closeness_centrality_org')[0:1000]"
   ]
  },
  {
   "cell_type": "markdown",
   "metadata": {},
   "source": [
    "# Definizione Classica"
   ]
  },
  {
   "cell_type": "code",
   "execution_count": 5,
   "metadata": {},
   "outputs": [],
   "source": [
    "cb1 = pd.read_csv('cb1.csv')\n",
    "cb2 = pd.read_csv('cb2.csv')\n",
    "cb3 = pd.read_csv('cb3.csv')\n",
    "cb = cb1.append(cb2)\n",
    "cb = cb.append(cb3)\n",
    "cb.index = range(len(cb))\n",
    "cb['date_my'] = (pd.to_datetime(cb['date'],format='%m/%d/%Y', errors='coerce')).dt.to_period('m')\n",
    "cb['date_y'] = (pd.to_datetime(cb['date'],format='%m/%d/%Y', errors='coerce')).dt.to_period('y')\n",
    "\n",
    "nodes_org = cb[['target_name', 'target_ID']].drop_duplicates()\n",
    "nodes_org['bipartite'] = 1\n",
    "nodes_inv = cb[['investors_name', 'investor_id']].drop_duplicates()\n",
    "nodes_org = nodes_org.rename(columns={\"target_name\": \"node\", \"target_country\": \"country\", \n",
    "                                      \"target_continent\": \"continent\", \"industry\":\"industry\",\n",
    "                                     \"target_ID\":\"index\"})\n",
    "nodes_inv = nodes_inv.rename(columns={\"investors_name\": \"node\",\"investor_country\": \"country\", \n",
    "                                      \"investor_continent\": \"continent\", \"investor_type\":\"industry\",\"investor_id\":'index' })\n",
    "nodes_inv['bipartite'] = 0\n",
    "nodes = nodes_org.append(nodes_inv, ignore_index= True)\n",
    "nodes['id'] = nodes.index\n",
    "\n",
    "numbers = cb.groupby(['target_name','stage'], as_index = False).count()[['target_name','stage','investors_name']].rename(columns={\"investors_name\": \"investor_numbers\"})\n",
    "cb_new = pd.merge(cb, numbers,  how='left', left_on=['target_name','stage'], right_on = ['target_name','stage'])\n",
    "cb_new = pd.merge(cb_new, nodes[nodes['bipartite']== 1],  how='left', left_on=['target_name','target_ID'], right_on = ['node','index'])\n",
    "cb_new = pd.merge(cb_new, nodes[nodes['bipartite']== 0],  how='left', left_on=['investors_name','investor_id'], right_on = ['node','index'])\n"
   ]
  },
  {
   "cell_type": "code",
   "execution_count": 3,
   "metadata": {},
   "outputs": [],
   "source": [
    "def get_status(rounds):\n",
    "    a = list()\n",
    "    for i in rounds:\n",
    "        indice = stage.index(i)\n",
    "        a.append(stato[indice])\n",
    "    return a\n",
    "    \n",
    "    \n"
   ]
  },
  {
   "cell_type": "code",
   "execution_count": 23,
   "metadata": {},
   "outputs": [
    {
     "data": {
      "text/plain": [
       "['Dead / Inactive']"
      ]
     },
     "execution_count": 23,
     "metadata": {},
     "output_type": "execute_result"
    }
   ],
   "source": [
    "get_status(['Dead'])"
   ]
  },
  {
   "cell_type": "code",
   "execution_count": null,
   "metadata": {},
   "outputs": [],
   "source": [
    "Counter(stati_8)"
   ]
  },
  {
   "cell_type": "code",
   "execution_count": 8,
   "metadata": {},
   "outputs": [
    {
     "data": {
      "text/plain": [
       "{'Acquired',\n",
       " 'Alive / Active',\n",
       " 'Assets Purchased',\n",
       " 'Dead / Inactive',\n",
       " 'IPO / Went public',\n",
       " 'Merged'}"
      ]
     },
     "execution_count": 8,
     "metadata": {},
     "output_type": "execute_result"
    }
   ],
   "source": [
    "stati = cb_new.groupby('id_x')\n",
    "stati2 = stati.tail(1).reset_index(drop=True)\n",
    "stati3 = stati2[stati2[\"date\"].notna()]\n",
    "\n",
    "stati2[stati2[\"target_status\"] == \"Merged\"].drop_duplicates()[[\"target_name\",\"round_simp\",\"target_status\", \"date\"]]\n",
    "fun_status = stati2[[\"round_simp\", \"target_status\"]].groupby(['round_simp', \"target_status\"]).size().unstack(fill_value=0)[1:61]\n",
    "fun_status.T.index.values\n",
    "\n",
    "fun_status.mode()['Dead / Inactive']\n",
    "stage = list(fun_status.idxmax(axis=1).index)\n",
    "stage.append(\"Acq - P2P\")\n",
    "\n",
    "stato = list(fun_status.idxmax(axis=1))\n",
    "stato.append(\"Acquired\")\n",
    "\n",
    "set(stato)\n",
    "#robustness nel passare degli anni"
   ]
  },
  {
   "cell_type": "code",
   "execution_count": 10,
   "metadata": {},
   "outputs": [
    {
     "data": {
      "application/vnd.jupyter.widget-view+json": {
       "model_id": "fcbfbce475c64b8a9f2ad504173c0e81",
       "version_major": 2,
       "version_minor": 0
      },
      "text/plain": [
       "  0%|          | 0/46824 [00:00<?, ?it/s]"
      ]
     },
     "metadata": {},
     "output_type": "display_data"
    },
    {
     "name": "stdout",
     "output_type": "stream",
     "text": [
      "0\n",
      "1000\n",
      "2000\n",
      "3000\n",
      "7000\n",
      "8000\n",
      "9000\n",
      "10000\n",
      "11000\n",
      "12000\n",
      "13000\n",
      "14000\n",
      "15000\n",
      "16000\n",
      "17000\n",
      "18000\n",
      "19000\n",
      "20000\n",
      "21000\n",
      "22000\n",
      "23000\n",
      "24000\n",
      "25000\n",
      "26000\n",
      "27000\n",
      "28000\n",
      "29000\n",
      "30000\n",
      "31000\n",
      "32000\n",
      "33000\n",
      "34000\n",
      "35000\n",
      "36000\n",
      "37000\n",
      "38000\n",
      "39000\n",
      "40000\n",
      "41000\n",
      "42000\n",
      "43000\n",
      "44000\n",
      "45000\n",
      "46000\n",
      "47000\n",
      "48000\n",
      "49000\n",
      "50000\n"
     ]
    }
   ],
   "source": [
    "df = cb_new\n",
    "df['date_y']=df['date_y'].dt.year\n",
    "df = df[df['date_y']>0]\n",
    "ids = set(df['id_x'])\n",
    "\n",
    "company = []\n",
    "status_8 = []\n",
    "for i in tqdm(ids):\n",
    "    sub = df[df['id_x']== i][['id_x', 'date_y', 'round_simp']]\n",
    "    sub = sub[(sub['date_y']<sub['date_y'].values[0]+8) & (sub['date_y'].values[0] < 2013)].tail(1)\n",
    "    company.append(i)\n",
    "    roun = sub['round_simp']\n",
    "    status_8.append(get_status(roun))\n",
    "    if i % 1000 == 0:\n",
    "        print(i)\n",
    "    \n",
    "    \n",
    "    \n",
    "    "
   ]
  },
  {
   "cell_type": "code",
   "execution_count": 11,
   "metadata": {},
   "outputs": [],
   "source": [
    "stati_8 = [x[0] if len(x) >= 1 else 2 for x in status_8]"
   ]
  },
  {
   "cell_type": "code",
   "execution_count": 12,
   "metadata": {},
   "outputs": [],
   "source": [
    "df_st8 = pd.DataFrame({'id' : company, 'st8' : stati_8})"
   ]
  },
  {
   "cell_type": "code",
   "execution_count": 13,
   "metadata": {},
   "outputs": [
    {
     "data": {
      "text/plain": [
       "46824"
      ]
     },
     "execution_count": 13,
     "metadata": {},
     "output_type": "execute_result"
    }
   ],
   "source": [
    "len(stati_8)"
   ]
  },
  {
   "cell_type": "code",
   "execution_count": 14,
   "metadata": {},
   "outputs": [
    {
     "data": {
      "text/html": [
       "<div>\n",
       "<style scoped>\n",
       "    .dataframe tbody tr th:only-of-type {\n",
       "        vertical-align: middle;\n",
       "    }\n",
       "\n",
       "    .dataframe tbody tr th {\n",
       "        vertical-align: top;\n",
       "    }\n",
       "\n",
       "    .dataframe thead th {\n",
       "        text-align: right;\n",
       "    }\n",
       "</style>\n",
       "<table border=\"1\" class=\"dataframe\">\n",
       "  <thead>\n",
       "    <tr style=\"text-align: right;\">\n",
       "      <th></th>\n",
       "      <th>id</th>\n",
       "      <th>st8</th>\n",
       "    </tr>\n",
       "  </thead>\n",
       "  <tbody>\n",
       "    <tr>\n",
       "      <th>0</th>\n",
       "      <td>0</td>\n",
       "      <td>IPO / Went public</td>\n",
       "    </tr>\n",
       "    <tr>\n",
       "      <th>1</th>\n",
       "      <td>1</td>\n",
       "      <td>IPO / Went public</td>\n",
       "    </tr>\n",
       "    <tr>\n",
       "      <th>2</th>\n",
       "      <td>2</td>\n",
       "      <td>IPO / Went public</td>\n",
       "    </tr>\n",
       "    <tr>\n",
       "      <th>3</th>\n",
       "      <td>3</td>\n",
       "      <td>IPO / Went public</td>\n",
       "    </tr>\n",
       "    <tr>\n",
       "      <th>4</th>\n",
       "      <td>4</td>\n",
       "      <td>IPO / Went public</td>\n",
       "    </tr>\n",
       "    <tr>\n",
       "      <th>...</th>\n",
       "      <td>...</td>\n",
       "      <td>...</td>\n",
       "    </tr>\n",
       "    <tr>\n",
       "      <th>46819</th>\n",
       "      <td>50457</td>\n",
       "      <td>2</td>\n",
       "    </tr>\n",
       "    <tr>\n",
       "      <th>46820</th>\n",
       "      <td>50458</td>\n",
       "      <td>2</td>\n",
       "    </tr>\n",
       "    <tr>\n",
       "      <th>46821</th>\n",
       "      <td>50459</td>\n",
       "      <td>2</td>\n",
       "    </tr>\n",
       "    <tr>\n",
       "      <th>46822</th>\n",
       "      <td>50460</td>\n",
       "      <td>2</td>\n",
       "    </tr>\n",
       "    <tr>\n",
       "      <th>46823</th>\n",
       "      <td>50461</td>\n",
       "      <td>2</td>\n",
       "    </tr>\n",
       "  </tbody>\n",
       "</table>\n",
       "<p>46824 rows × 2 columns</p>\n",
       "</div>"
      ],
      "text/plain": [
       "          id                st8\n",
       "0          0  IPO / Went public\n",
       "1          1  IPO / Went public\n",
       "2          2  IPO / Went public\n",
       "3          3  IPO / Went public\n",
       "4          4  IPO / Went public\n",
       "...      ...                ...\n",
       "46819  50457                  2\n",
       "46820  50458                  2\n",
       "46821  50459                  2\n",
       "46822  50460                  2\n",
       "46823  50461                  2\n",
       "\n",
       "[46824 rows x 2 columns]"
      ]
     },
     "execution_count": 14,
     "metadata": {},
     "output_type": "execute_result"
    }
   ],
   "source": [
    "df_st8"
   ]
  },
  {
   "cell_type": "code",
   "execution_count": null,
   "metadata": {},
   "outputs": [],
   "source": []
  }
 ],
 "metadata": {
  "kernelspec": {
   "display_name": "Python 3 (ipykernel)",
   "language": "python",
   "name": "python3"
  },
  "language_info": {
   "codemirror_mode": {
    "name": "ipython",
    "version": 3
   },
   "file_extension": ".py",
   "mimetype": "text/x-python",
   "name": "python",
   "nbconvert_exporter": "python",
   "pygments_lexer": "ipython3",
   "version": "3.8.2"
  }
 },
 "nbformat": 4,
 "nbformat_minor": 4
}
