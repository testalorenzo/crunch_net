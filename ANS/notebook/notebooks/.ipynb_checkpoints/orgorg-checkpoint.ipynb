{
 "cells": [
  {
   "cell_type": "code",
   "execution_count": null,
   "metadata": {},
   "outputs": [],
   "source": [
    "import numpy as np\n",
    "import math\n",
    "import statsmodels.api as sm\n",
    "import imblearn\n",
    "from tqdm.notebook import tqdm\n",
    "from scipy import stats\n",
    "import pandas as pd\n",
    "import matplotlib.pyplot as plt\n",
    "import networkx as nx\n",
    "from networkx.algorithms import bipartite, community \n",
    "from numpy import nansum\n",
    "from numpy import nanmean\n",
    "from numpy.random import choice\n",
    "import itertools\n",
    "from networkx.algorithms import community\n",
    "import community as community_louvain\n",
    "import matplotlib.cm as cm\n",
    "import matplotlib.pyplot as plt\n",
    "import networkx as nx\n",
    "pd.set_option('display.max_columns', None)\n",
    "pd.set_option('display.max_rows', 300)"
   ]
  },
  {
   "cell_type": "code",
   "execution_count": null,
   "metadata": {},
   "outputs": [],
   "source": [
    "cb1 = pd.read_csv('cb1.csv')\n",
    "cb2 = pd.read_csv('cb2.csv')\n",
    "cb3 = pd.read_csv('cb3.csv')"
   ]
  },
  {
   "cell_type": "code",
   "execution_count": null,
   "metadata": {},
   "outputs": [],
   "source": [
    "cb = cb1.append(cb2)\n",
    "cb = cb.append(cb3)\n",
    "cb.index = range(len(cb))"
   ]
  },
  {
   "cell_type": "code",
   "execution_count": null,
   "metadata": {},
   "outputs": [],
   "source": [
    "cb['date_my'] = (pd.to_datetime(cb['date'],format='%m/%d/%Y', errors='coerce')).dt.to_period('m')\n",
    "cb['date_y'] = (pd.to_datetime(cb['date'],format='%m/%d/%Y', errors='coerce')).dt.to_period('y')"
   ]
  },
  {
   "cell_type": "code",
   "execution_count": null,
   "metadata": {},
   "outputs": [],
   "source": [
    "nodes_org = cb[['target_name', 'target_ID']].drop_duplicates()\n",
    "nodes_org['bipartite'] = 1\n",
    "nodes_inv = cb[['investors_name', 'investor_id']].drop_duplicates()\n",
    "nodes_org = nodes_org.rename(columns={\"target_name\": \"node\", \"target_country\": \"country\", \n",
    "                                      \"target_continent\": \"continent\", \"industry\":\"industry\",\n",
    "                                     \"target_ID\":\"index\"})\n",
    "nodes_inv = nodes_inv.rename(columns={\"investors_name\": \"node\",\"investor_country\": \"country\", \n",
    "                                      \"investor_continent\": \"continent\", \"investor_type\":\"industry\",\"investor_id\":'index' })\n",
    "nodes_inv['bipartite'] = 0\n",
    "nodes = nodes_org.append(nodes_inv, ignore_index= True)\n",
    "nodes['id'] = nodes.index\n",
    "nodes"
   ]
  },
  {
   "cell_type": "code",
   "execution_count": null,
   "metadata": {},
   "outputs": [],
   "source": [
    "numbers = cb.groupby(['target_name','stage'], as_index = False).count()[['target_name','stage','investors_name']].rename(columns={\"investors_name\": \"investor_numbers\"})"
   ]
  },
  {
   "cell_type": "code",
   "execution_count": null,
   "metadata": {},
   "outputs": [],
   "source": [
    "id_round = cb_new[['target_ID','round_simp']]\n",
    "id_round = id_round.drop_duplicates()\n",
    "id_round.index = range(len(id_round))\n",
    "id_round['id_round'] = id_round.index\n",
    "id_round\n",
    "\n",
    "id_year = cb_new[['target_ID','date_y']]\n",
    "id_year = id_year.drop_duplicates()\n",
    "id_year.index = range(len(id_year))\n",
    "id_year['id_year'] = id_year.index\n",
    "id_year\n",
    "\n",
    "id_stage = cb_new[['target_ID','stage']]\n",
    "id_stage = id_stage.drop_duplicates()\n",
    "id_stage.index = range(len(id_stage))\n",
    "id_stage['id_stage'] = id_stage.index\n",
    "id_stage"
   ]
  },
  {
   "cell_type": "code",
   "execution_count": null,
   "metadata": {},
   "outputs": [],
   "source": [
    "cb_new = pd.merge(cb, numbers,  how='left', left_on=['target_name','stage'], right_on = ['target_name','stage'])\n",
    "cb_new = pd.merge(cb_new, nodes[nodes['bipartite']== 1],  how='left', left_on=['target_name','target_ID'], right_on = ['node','index'])\n",
    "cb_new = pd.merge(cb_new, nodes[nodes['bipartite']== 0],  how='left', left_on=['investors_name','investor_id'], right_on = ['node','index'])\n"
   ]
  },
  {
   "cell_type": "code",
   "execution_count": null,
   "metadata": {},
   "outputs": [],
   "source": [
    "cb_new = pd.merge(cb_new, id_round,  how='left', left_on=['target_ID','round_simp'], right_on = ['target_ID','round_simp'])\n",
    "cb_new = pd.merge(cb_new, id_stage,  how='left', left_on=['target_ID','stage'], right_on = ['target_ID','stage'])\n",
    "cb_new = pd.merge(cb_new, id_year,  how='left', left_on=['target_ID','date_y'], right_on = ['target_ID','date_y'])"
   ]
  },
  {
   "cell_type": "code",
   "execution_count": null,
   "metadata": {},
   "outputs": [],
   "source": [
    "##ripeto quanto fatto prima (semplificato prima per risparmiare tempo) ma aggiungo roba\n",
    "nodes_org = cb_new[['target_name', 'target_ID', 'target_country', 'target_continent',\n",
    "               'industry','target_founded','target_status']].drop_duplicates()\n",
    "nodes_org['bipartite'] = 1\n",
    "nodes_inv = cb_new[['investors_name', 'investor_id', 'investor_country', 'investor_continent', 'investor_type',\n",
    "                   'investor_founded']].drop_duplicates()\n",
    "nodes_org = nodes_org.rename(columns={\"target_name\": \"node\", \"target_country\": \"country\", \n",
    "                                      \"target_continent\": \"continent\", \"industry\":\"industry\",\n",
    "                                     \"target_ID\":\"index\", \"target_founded\":\"foundation\"})\n",
    "nodes_inv = nodes_inv.rename(columns={\"investors_name\": \"node\",\"investor_country\": \"country\", \n",
    "                                      \"investor_continent\": \"continent\", \"investor_type\":\"industry\", \"investor_id\":'index',\n",
    "                                     \"investor_founded\":\"foundation\"})\n",
    "nodes_inv['bipartite'] = 0\n",
    "nodes = nodes_org.append(nodes_inv, ignore_index= True)\n",
    "nodes['id'] = nodes.index\n",
    "nodes.columns\n",
    "\n"
   ]
  },
  {
   "cell_type": "code",
   "execution_count": null,
   "metadata": {},
   "outputs": [],
   "source": [
    "B = nx.MultiGraph(name='org-bid')\n",
    "# Add nodes with the node attribute \"bipartite\"\n",
    "B.add_nodes_from(nodes[nodes.bipartite==0].id)\n",
    "B.add_nodes_from(nodes[nodes.bipartite==1].id)\n",
    "nx.set_node_attributes(B, pd.Series(nodes.node, index=nodes.id).to_dict(), 'name')\n",
    "nx.set_node_attributes(B, pd.Series(nodes.country, index=nodes.id).to_dict(), 'country')\n",
    "nx.set_node_attributes(B, pd.Series(nodes.continent, index=nodes.continent).to_dict(), 'continent')\n",
    "nx.set_node_attributes(B, pd.Series(nodes.industry, index=nodes.id).to_dict(), 'industry')\n",
    "nx.set_node_attributes(B, pd.Series(nodes.foundation, index=nodes.id).to_dict(), 'foundation')\n",
    "nx.set_node_attributes(B, pd.Series(nodes.bipartite, index=nodes.id).to_dict(), 'bipartite')\n",
    "nx.set_node_attributes(B, pd.Series(nodes.target_status, index=nodes.id).to_dict(), 'target_status')\n",
    "# Add edges only between nodes of opposite node sets\n",
    "cb_new_dates = cb_new[pd.notna(cb_new['date_y'])]\n",
    "cb_new_dates.index = range(len(cb_new_dates)) \n",
    "for i in range(len(cb_new_dates)):\n",
    "    B.add_edge(cb_new_dates.loc[i,'id_y'], cb_new_dates.loc[i,'id_x'], date=(cb_new_dates.loc[i,'date_y']).year, m_raised=cb_new_dates.loc[i,'size_real'], \n",
    "               investors = cb_new_dates.loc[i,'investor_numbers'], round_simp =cb_new_dates.loc[i,'round_simp'])\n",
    "brutti = [x for x,y in B.nodes(data=True) if (y['name']=='Undisclosed Investors') or (y['name']=='Dead')   or (y['name']=='Public')  \n",
    "          or  (y['name']=='Undisclosed Angel Investors') or (y['name']=='Undisclosed Venture Investors') or\n",
    "          (y['name']=='Paycheck Protection Program')]\n",
    "B.remove_nodes_from(brutti)\n",
    "remove = [node for node,degree in dict(B.degree()).items() if degree == 0]\n",
    "B.remove_nodes_from(remove)\n",
    "bid_nodes = {n for n, d in B.nodes(data=True) if d[\"bipartite\"] == 0}\n",
    "org_nodes = set(B) - bid_nodes"
   ]
  },
  {
   "cell_type": "code",
   "execution_count": null,
   "metadata": {},
   "outputs": [],
   "source": [
    "def project_multi(B, nodes, name):\n",
    "    G=nx.MultiGraph(name=name)\n",
    "    count=0\n",
    "    for node in tqdm(nodes):\n",
    "        ego=nx.ego_graph(B, node)\n",
    "        ndx=list(ego.nodes())\n",
    "        ndx.remove(node)\n",
    "        for year in range(1970,2022): # bad trick to link depending on year\n",
    "            subndx=[x for x in ndx if [y for y in list(ego.edges(data=True)) if y[0]==x or y[1]==x][0][2]['date']==year]\n",
    "            for couple in itertools.combinations(subndx, 2):\n",
    "                if G.has_edge(couple[0], couple[1]):\n",
    "                    continue\n",
    "                G.add_edge(couple[0], couple[1], anno = year)\n",
    "        count+=1\n",
    "        if count%1000==0:\n",
    "            print(count, end=' ')\n",
    "    return G"
   ]
  },
  {
   "cell_type": "code",
   "execution_count": null,
   "metadata": {},
   "outputs": [],
   "source": [
    "orgorg = project_multi(B, bid_nodes, 'orgorg')"
   ]
  }
 ],
 "metadata": {
  "kernelspec": {
   "display_name": "Python 3",
   "language": "python",
   "name": "python3"
  },
  "language_info": {
   "codemirror_mode": {
    "name": "ipython",
    "version": 3
   },
   "file_extension": ".py",
   "mimetype": "text/x-python",
   "name": "python",
   "nbconvert_exporter": "python",
   "pygments_lexer": "ipython3",
   "version": "3.9.2"
  }
 },
 "nbformat": 4,
 "nbformat_minor": 4
}
