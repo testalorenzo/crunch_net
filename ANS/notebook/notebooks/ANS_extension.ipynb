{
 "cells": [
  {
   "cell_type": "markdown",
   "id": "finnish-newman",
   "metadata": {
    "scrolled": false
   },
   "source": [
    "# Applied Network Science extension"
   ]
  },
  {
   "cell_type": "markdown",
   "id": "adult-agriculture",
   "metadata": {},
   "source": [
    "### Import libraries"
   ]
  },
  {
   "cell_type": "code",
   "execution_count": 86,
   "id": "proud-staff",
   "metadata": {},
   "outputs": [],
   "source": [
    "import skfda\n",
    "import numpy as np\n",
    "import pandas as pd\n",
    "import matplotlib.pyplot as plt\n",
    "import matplotlib.patches as mpatches\n",
    "import os\n",
    "\n",
    "os.chdir('/Users/ltesta/Documents/GitHub/crunch_net/ANS/datasets/cb')"
   ]
  },
  {
   "cell_type": "markdown",
   "id": "selective-fantasy",
   "metadata": {},
   "source": [
    "### Own methods and plot settings"
   ]
  },
  {
   "cell_type": "code",
   "execution_count": 7,
   "id": "rental-hartford",
   "metadata": {},
   "outputs": [],
   "source": [
    "def extract_window(time_window):\n",
    "    data_aligned=pd.DataFrame()\n",
    "    for col in data.columns:\n",
    "        first_inv_year=data.loc[~data[col].isna(), col].index[0]\n",
    "        if first_inv_year>1999 and first_inv_year<2021-time_window:\n",
    "            x=data.loc[first_inv_year:,col].reset_index()\n",
    "            data_aligned[col]=x[col]\n",
    "    data_aligned=data_aligned.fillna(0)\n",
    "    data_aligned=data_aligned.cumsum()\n",
    "    data_export=data_aligned.loc[0:time_window-1,:]\n",
    "    return data_export\n",
    "\n",
    "# We run K-means 100 times per sector in order to \"be sure\" of clustering partitions\n",
    "def functional_clustering(data):\n",
    "    clusters={}\n",
    "    kmeans=skfda.ml.clustering.KMeans(n_clusters=2, n_init=100)\n",
    "    for sector in content.industry.unique():\n",
    "        idx=content[content.industry==sector].index_x\n",
    "        mat=data.loc[:,data.columns.isin(idx)]\n",
    "        if mat.shape[1]>1:\n",
    "            fdmat = skfda.FDataGrid(mat.transpose().to_numpy())\n",
    "            labels=kmeans.fit_predict(fdmat)\n",
    "            if kmeans.cluster_centers_.evaluate(0.5)[1]>kmeans.cluster_centers_.evaluate(0.5)[0]:\n",
    "                for x in zip(mat.columns, labels):\n",
    "                    clusters[x[0]]=x[1]\n",
    "            else:\n",
    "                for x in zip(mat.columns, labels):\n",
    "                    clusters[x[0]]= 0 if x[1]==1 else 1\n",
    "    return clusters"
   ]
  },
  {
   "cell_type": "code",
   "execution_count": 123,
   "id": "b13362f9",
   "metadata": {},
   "outputs": [
    {
     "data": {
      "image/png": "[encoded data removed]",
      "text/html": [
       "<div style=\"vertical-align: middle;\"><strong>Set3</strong> </div><div class=\"cmap\"><img alt=\"Set3 colormap\" title=\"Set3\" style=\"border: 1px solid #555;\" src=\"data:image/png;base64,iVBORw0KGgoAAAANSUhEUgAAAgAAAABACAYAAABsv8+/AAAAE3RFWHRUaXRsZQBTZXQzIGNvbG9ybWFwH1kXwQAAABl0RVh0RGVzY3JpcHRpb24AU2V0MyBjb2xvcm1hcJTrh1kAAAAwdEVYdEF1dGhvcgBNYXRwbG90bGliIHYzLjUuMSwgaHR0cHM6Ly9tYXRwbG90bGliLm9yZ/e3zs8AAAAydEVYdFNvZnR3YXJlAE1hdHBsb3RsaWIgdjMuNS4xLCBodHRwczovL21hdHBsb3RsaWIub3Jn2RFR6AAAAYxJREFUeJzt1i0yKGAYQGE/gSDYhRmjGNkCLEPWZKJoVDu4MxZwi6CxAFkimrlFd7fwJe+Y8zwrOPFs3r6+fG/8EpdHn9MJy54eD6YTlpw+308nLLs5Pp9OWHK9fTedsOzv4c50wrKzf1fTCUve9r6mE5a9//mYTliyf7E7nbDsZOthOmHZ1nQAAPDzDAAABBkAAAgyAAAQZAAAIMgAAECQAQCAIAMAAEEGAACCDAAABBkAAAgyAAAQZAAAIMgAAECQAQCAIAMAAEEGAACCDAAABBkAAAgyAAAQZAAAIMgAAECQAQCAIAMAAEEGAACCDAAABBkAAAgyAAAQZAAAIMgAAECQAQCAIAMAAEEGAACCDAAABBkAAAgyAAAQZAAAIMgAAECQAQCAIAMAAEEGAACCDAAABBkAAAgyAAAQZAAAIMgAAECQAQCAIAMAAEEGAACCDAAABBkAAAgyAAAQZAAAIMgAAECQAQCAIAMAAEEGAACCDAAABBkAAAgyAAAQZAAAIMgAAECQAQCAoP/vpRLaXUZaWQAAAABJRU5ErkJggg==\"></div><div style=\"vertical-align: middle; max-width: 514px; display: flex; justify-content: space-between;\"><div style=\"float: left;\"><div title=\"#8dd3c7ff\" style=\"display: inline-block; width: 1em; height: 1em; margin: 0; vertical-align: middle; border: 1px solid #555; background-color: #8dd3c7ff;\"></div> under</div><div style=\"margin: 0 auto; display: inline-block;\">bad <div title=\"#00000000\" style=\"display: inline-block; width: 1em; height: 1em; margin: 0; vertical-align: middle; border: 1px solid #555; background-color: #00000000;\"></div></div><div style=\"float: right;\">over <div title=\"#ffed6fff\" style=\"display: inline-block; width: 1em; height: 1em; margin: 0; vertical-align: middle; border: 1px solid #555; background-color: #ffed6fff;\"></div></div>"
      ],
      "text/plain": [
       "<matplotlib.colors.ListedColormap at 0x7f88d1bc1d50>"
      ]
     },
     "execution_count": 123,
     "metadata": {},
     "output_type": "execute_result"
    }
   ],
   "source": [
    "colors = [plt.cm.Set3(i) for i in range(20)]\n",
    "high_regime=colors[0]\n",
    "low_regime=colors[3]\n",
    "plt.cm.get_cmap('Set3')"
   ]
  },
  {
   "cell_type": "markdown",
   "id": "animated-bicycle",
   "metadata": {},
   "source": [
    "### Data preprocessing"
   ]
  },
  {
   "cell_type": "code",
   "execution_count": 8,
   "id": "velvet-slope",
   "metadata": {
    "scrolled": false
   },
   "outputs": [
    {
     "name": "stderr",
     "output_type": "stream",
     "text": [
      " /Users/ltesta/opt/anaconda3/envs/netfda/lib/python3.7/site-packages/pandas/core/generic.py:5516: SettingWithCopyWarning:\n",
      "A value is trying to be set on a copy of a slice from a DataFrame.\n",
      "Try using .loc[row_indexer,col_indexer] = value instead\n",
      "\n",
      "See the caveats in the documentation: https://pandas.pydata.org/pandas-docs/stable/user_guide/indexing.html#returning-a-view-versus-a-copy\n"
     ]
    }
   ],
   "source": [
    "cb1 = pd.read_csv('cb1.csv')\n",
    "cb2 = pd.read_csv('cb2.csv')\n",
    "cb3 = pd.read_csv('cb3.csv')\n",
    "cb = cb1.append(cb2)\n",
    "cb = cb.append(cb3)\n",
    "cb.index = range(len(cb))\n",
    "cb['date_my'] = (pd.to_datetime(cb['date'],format='%m/%d/%Y', errors='coerce')).dt.to_period('m')\n",
    "cb['date_y'] = (pd.to_datetime(cb['date'],format='%m/%d/%Y', errors='coerce')).dt.to_period('y')\n",
    "\n",
    "nodes_org = cb[['target_name', 'target_ID']].drop_duplicates()\n",
    "nodes_org['bipartite'] = 1\n",
    "nodes_inv = cb[['investors_name', 'investor_id']].drop_duplicates()\n",
    "nodes_org = nodes_org.rename(columns={\"target_name\": \"node\", \"target_country\": \"country\", \n",
    "                                      \"target_continent\": \"continent\", \"industry\":\"industry\",\n",
    "                                     \"target_ID\":\"index\"})\n",
    "nodes_inv = nodes_inv.rename(columns={\"investors_name\": \"node\",\"investor_country\": \"country\", \n",
    "                                      \"investor_continent\": \"continent\", \"investor_type\":\"industry\",\"investor_id\":'index' })\n",
    "nodes_inv['bipartite'] = 0\n",
    "nodes = nodes_org.append(nodes_inv, ignore_index= True)\n",
    "nodes['id'] = nodes.index\n",
    "\n",
    "numbers = cb.groupby(['target_name','stage'], as_index = False).count()[['target_name','stage','investors_name']].rename(columns={\"investors_name\": \"investor_numbers\"})\n",
    "cb_new = pd.merge(cb, numbers,  how='left', left_on=['target_name','stage'], right_on = ['target_name','stage'])\n",
    "cb_new = pd.merge(cb_new, nodes[nodes['bipartite']== 1],  how='left', left_on=['target_name','target_ID'], right_on = ['node','index'])\n",
    "cb_new = pd.merge(cb_new, nodes[nodes['bipartite']== 0],  how='left', left_on=['investors_name','investor_id'], right_on = ['node','index'])\n",
    "\n",
    "data=cb_new[['target_name', 'industry', 'index_x', 'date_y', 'size_real', 'target_founded', 'target_status', 'round_simp']]\n",
    "data.date_y=data.date_y.dt.year\n",
    "a=data.groupby(['round_simp']).count()\n",
    "a['target_name']=a.target_name/data.shape[0]\n",
    "remove=['Asset Sale', 'Bridge', 'Dead', 'Debt', 'Distressed & Special Situation', 'Leveraged Buyout', 'Line of Credit', \n",
    " 'Loan', 'Management Buyout', 'Milestone Payment', 'Other Investors', 'Portfolio Merger', 'Portfolio NewCo',\n",
    " 'Secondary Market', 'Shareholder Liquidity']\n",
    "\n",
    "data=data[data.size_real>0]\n",
    "data=data[~data.target_founded.isna()]\n",
    "data=data[data.date_y<2021]\n",
    "data=data.loc[data.industry.isna()==False,]\n",
    "data=data.loc[~data.round_simp.isin(remove)]\n",
    "\n",
    "content=data[['industry','index_x', 'target_name', 'target_founded', 'target_status']].drop_duplicates()\n",
    "content['alive']=np.where(content.target_status.isin(['Alive / Active']),1,0)\n",
    "\n",
    "data=data.groupby(['index_x','target_name','date_y']).mean().reset_index()\n",
    "data=data.pivot('date_y','index_x','size_real')"
   ]
  },
  {
   "cell_type": "code",
   "execution_count": 29,
   "id": "f8e739db",
   "metadata": {},
   "outputs": [
    {
     "data": {
      "text/html": [
       "<div>\n",
       "<style scoped>\n",
       "    .dataframe tbody tr th:only-of-type {\n",
       "        vertical-align: middle;\n",
       "    }\n",
       "\n",
       "    .dataframe tbody tr th {\n",
       "        vertical-align: top;\n",
       "    }\n",
       "\n",
       "    .dataframe thead th {\n",
       "        text-align: right;\n",
       "    }\n",
       "</style>\n",
       "<table border=\"1\" class=\"dataframe\">\n",
       "  <thead>\n",
       "    <tr style=\"text-align: right;\">\n",
       "      <th></th>\n",
       "      <th>industry</th>\n",
       "      <th>index_x</th>\n",
       "      <th>target_name</th>\n",
       "      <th>target_founded</th>\n",
       "      <th>target_status</th>\n",
       "      <th>alive</th>\n",
       "    </tr>\n",
       "  </thead>\n",
       "  <tbody>\n",
       "    <tr>\n",
       "      <th>8838</th>\n",
       "      <td>Biotechnology</td>\n",
       "      <td>102322.0</td>\n",
       "      <td>Genentech</td>\n",
       "      <td>1976.0</td>\n",
       "      <td>Acquired</td>\n",
       "      <td>0</td>\n",
       "    </tr>\n",
       "    <tr>\n",
       "      <th>8883</th>\n",
       "      <td>Disease Diagnosis</td>\n",
       "      <td>535053.0</td>\n",
       "      <td>Queue Systems</td>\n",
       "      <td>1981.0</td>\n",
       "      <td>Acquired</td>\n",
       "      <td>0</td>\n",
       "    </tr>\n",
       "    <tr>\n",
       "      <th>8890</th>\n",
       "      <td>Biotechnology</td>\n",
       "      <td>537900.0</td>\n",
       "      <td>Seragen</td>\n",
       "      <td>1979.0</td>\n",
       "      <td>IPO / Went public</td>\n",
       "      <td>0</td>\n",
       "    </tr>\n",
       "    <tr>\n",
       "      <th>8900</th>\n",
       "      <td>Disease Diagnosis</td>\n",
       "      <td>552001.0</td>\n",
       "      <td>Zymark</td>\n",
       "      <td>1981.0</td>\n",
       "      <td>Acquired</td>\n",
       "      <td>0</td>\n",
       "    </tr>\n",
       "    <tr>\n",
       "      <th>8903</th>\n",
       "      <td>Medical Devices &amp; Equipment</td>\n",
       "      <td>495217.0</td>\n",
       "      <td>Amarel Precision Instrume</td>\n",
       "      <td>1980.0</td>\n",
       "      <td>Alive / Active</td>\n",
       "      <td>1</td>\n",
       "    </tr>\n",
       "  </tbody>\n",
       "</table>\n",
       "</div>"
      ],
      "text/plain": [
       "                         industry   index_x                target_name  \\\n",
       "8838                Biotechnology  102322.0                  Genentech   \n",
       "8883            Disease Diagnosis  535053.0              Queue Systems   \n",
       "8890                Biotechnology  537900.0                    Seragen   \n",
       "8900            Disease Diagnosis  552001.0                     Zymark   \n",
       "8903  Medical Devices & Equipment  495217.0  Amarel Precision Instrume   \n",
       "\n",
       "      target_founded      target_status  alive  \n",
       "8838          1976.0           Acquired      0  \n",
       "8883          1981.0           Acquired      0  \n",
       "8890          1979.0  IPO / Went public      0  \n",
       "8900          1981.0           Acquired      0  \n",
       "8903          1980.0     Alive / Active      1  "
      ]
     },
     "execution_count": 29,
     "metadata": {},
     "output_type": "execute_result"
    }
   ],
   "source": [
    "content.head()"
   ]
  },
  {
   "cell_type": "code",
   "execution_count": 32,
   "id": "84c8c937",
   "metadata": {},
   "outputs": [
    {
     "data": {
      "text/plain": [
       "Medical Devices & Equipment                 3068\n",
       "Biotechnology                               2612\n",
       "Internet Software & Services                1344\n",
       "Medical Facilities & Services               1321\n",
       "Drug Development                            1058\n",
       "Mobile Software & Services                   991\n",
       "Pharmaceuticals / Drugs                      842\n",
       "Healthcare Software                          812\n",
       "Disease Diagnosis                            358\n",
       "Drug Discovery                               339\n",
       "Medical Equipment & Supplies                 250\n",
       "Health & Wellness (non-internet/mobile)…     220\n",
       "Drug Delivery                                186\n",
       "Drug Manufacturing                           144\n",
       "Stealth Mode                                 127\n",
       "Dental Products & Services                   102\n",
       "Medical Product Distribution                  40\n",
       "Healthcare Plans                              33\n",
       "Alternative Medicine                          31\n",
       "Medical Information                           30\n",
       "Elective & Aesthetic Medicine                 28\n",
       "Pharmaceutical Distribution & Wholesale…      21\n",
       "Name: industry, dtype: int64"
      ]
     },
     "execution_count": 32,
     "metadata": {},
     "output_type": "execute_result"
    }
   ],
   "source": [
    "content.industry.value_counts()"
   ]
  },
  {
   "cell_type": "markdown",
   "id": "single-deviation",
   "metadata": {},
   "source": [
    "### Processing"
   ]
  },
  {
   "cell_type": "code",
   "execution_count": 163,
   "id": "linear-picnic",
   "metadata": {},
   "outputs": [
    {
     "name": "stderr",
     "output_type": "stream",
     "text": [
      " /Users/ltesta/opt/anaconda3/envs/netfda/lib/python3.7/site-packages/ipykernel_launcher.py:7: PerformanceWarning:DataFrame is highly fragmented.  This is usually the result of calling `frame.insert` many times, which has poor performance.  Consider joining all columns at once using pd.concat(axis=1) instead.  To get a de-fragmented frame, use `newframe = frame.copy()`\n"
     ]
    }
   ],
   "source": [
    "size=8\n",
    "data_size=extract_window(size)"
   ]
  },
  {
   "cell_type": "code",
   "execution_count": 164,
   "id": "female-chinese",
   "metadata": {},
   "outputs": [
    {
     "data": {
      "text/html": [
       "<div>\n",
       "<style scoped>\n",
       "    .dataframe tbody tr th:only-of-type {\n",
       "        vertical-align: middle;\n",
       "    }\n",
       "\n",
       "    .dataframe tbody tr th {\n",
       "        vertical-align: top;\n",
       "    }\n",
       "\n",
       "    .dataframe thead th {\n",
       "        text-align: right;\n",
       "    }\n",
       "</style>\n",
       "<table border=\"1\" class=\"dataframe\">\n",
       "  <thead>\n",
       "    <tr style=\"text-align: right;\">\n",
       "      <th></th>\n",
       "      <th>29.0</th>\n",
       "      <th>64.0</th>\n",
       "      <th>65.0</th>\n",
       "      <th>85.0</th>\n",
       "      <th>102.0</th>\n",
       "      <th>109.0</th>\n",
       "      <th>116.0</th>\n",
       "      <th>184.0</th>\n",
       "      <th>206.0</th>\n",
       "      <th>219.0</th>\n",
       "      <th>...</th>\n",
       "      <th>551800.0</th>\n",
       "      <th>551970.0</th>\n",
       "      <th>552007.0</th>\n",
       "      <th>559679.0</th>\n",
       "      <th>576878.0</th>\n",
       "      <th>580146.0</th>\n",
       "      <th>614199.0</th>\n",
       "      <th>627608.0</th>\n",
       "      <th>632716.0</th>\n",
       "      <th>660680.0</th>\n",
       "    </tr>\n",
       "  </thead>\n",
       "  <tbody>\n",
       "    <tr>\n",
       "      <th>0</th>\n",
       "      <td>2.133636e+07</td>\n",
       "      <td>3.297188e+07</td>\n",
       "      <td>2.619628e+05</td>\n",
       "      <td>1.715246e+07</td>\n",
       "      <td>4.855286e+06</td>\n",
       "      <td>1.125003e+07</td>\n",
       "      <td>4.770676e+07</td>\n",
       "      <td>7.419990e+06</td>\n",
       "      <td>1.349089e+07</td>\n",
       "      <td>5.074074e+06</td>\n",
       "      <td>...</td>\n",
       "      <td>2.315493e+06</td>\n",
       "      <td>9.800061e+06</td>\n",
       "      <td>1.934602e+06</td>\n",
       "      <td>9.965976e+06</td>\n",
       "      <td>94073.077807</td>\n",
       "      <td>1.319827e+05</td>\n",
       "      <td>2.829517e+06</td>\n",
       "      <td>1.495019e+07</td>\n",
       "      <td>5.087145e+06</td>\n",
       "      <td>1.454473e+08</td>\n",
       "    </tr>\n",
       "    <tr>\n",
       "      <th>1</th>\n",
       "      <td>2.133636e+07</td>\n",
       "      <td>3.297188e+07</td>\n",
       "      <td>6.372779e+05</td>\n",
       "      <td>8.390408e+07</td>\n",
       "      <td>2.217543e+07</td>\n",
       "      <td>2.121909e+07</td>\n",
       "      <td>4.770676e+07</td>\n",
       "      <td>7.419990e+06</td>\n",
       "      <td>1.349089e+07</td>\n",
       "      <td>5.074074e+06</td>\n",
       "      <td>...</td>\n",
       "      <td>5.366718e+06</td>\n",
       "      <td>9.800061e+06</td>\n",
       "      <td>1.934602e+06</td>\n",
       "      <td>9.965976e+06</td>\n",
       "      <td>94073.077807</td>\n",
       "      <td>1.079009e+06</td>\n",
       "      <td>4.711450e+06</td>\n",
       "      <td>4.323839e+07</td>\n",
       "      <td>5.087145e+06</td>\n",
       "      <td>1.454473e+08</td>\n",
       "    </tr>\n",
       "    <tr>\n",
       "      <th>2</th>\n",
       "      <td>3.899474e+07</td>\n",
       "      <td>3.297188e+07</td>\n",
       "      <td>1.933739e+06</td>\n",
       "      <td>8.390408e+07</td>\n",
       "      <td>2.217543e+07</td>\n",
       "      <td>2.121909e+07</td>\n",
       "      <td>4.770676e+07</td>\n",
       "      <td>3.498412e+07</td>\n",
       "      <td>4.095466e+07</td>\n",
       "      <td>5.074074e+06</td>\n",
       "      <td>...</td>\n",
       "      <td>5.366718e+06</td>\n",
       "      <td>9.800061e+06</td>\n",
       "      <td>1.934602e+06</td>\n",
       "      <td>9.965976e+06</td>\n",
       "      <td>94073.077807</td>\n",
       "      <td>1.079009e+06</td>\n",
       "      <td>4.711450e+06</td>\n",
       "      <td>5.437382e+07</td>\n",
       "      <td>5.087145e+06</td>\n",
       "      <td>1.454473e+08</td>\n",
       "    </tr>\n",
       "    <tr>\n",
       "      <th>3</th>\n",
       "      <td>3.899474e+07</td>\n",
       "      <td>8.312734e+07</td>\n",
       "      <td>2.816119e+06</td>\n",
       "      <td>8.390408e+07</td>\n",
       "      <td>6.205683e+07</td>\n",
       "      <td>2.121909e+07</td>\n",
       "      <td>1.363433e+08</td>\n",
       "      <td>3.498412e+07</td>\n",
       "      <td>4.095466e+07</td>\n",
       "      <td>5.074074e+06</td>\n",
       "      <td>...</td>\n",
       "      <td>5.366718e+06</td>\n",
       "      <td>9.800061e+06</td>\n",
       "      <td>1.934602e+06</td>\n",
       "      <td>9.965976e+06</td>\n",
       "      <td>94073.077807</td>\n",
       "      <td>1.079009e+06</td>\n",
       "      <td>4.711450e+06</td>\n",
       "      <td>2.467892e+08</td>\n",
       "      <td>5.087145e+06</td>\n",
       "      <td>1.454473e+08</td>\n",
       "    </tr>\n",
       "    <tr>\n",
       "      <th>4</th>\n",
       "      <td>6.316233e+07</td>\n",
       "      <td>1.430096e+08</td>\n",
       "      <td>5.913046e+06</td>\n",
       "      <td>8.390408e+07</td>\n",
       "      <td>6.205683e+07</td>\n",
       "      <td>2.121909e+07</td>\n",
       "      <td>1.363433e+08</td>\n",
       "      <td>3.498412e+07</td>\n",
       "      <td>7.249256e+07</td>\n",
       "      <td>5.074074e+06</td>\n",
       "      <td>...</td>\n",
       "      <td>5.366718e+06</td>\n",
       "      <td>9.800061e+06</td>\n",
       "      <td>1.934602e+06</td>\n",
       "      <td>9.965976e+06</td>\n",
       "      <td>94073.077807</td>\n",
       "      <td>1.079009e+06</td>\n",
       "      <td>4.711450e+06</td>\n",
       "      <td>2.467892e+08</td>\n",
       "      <td>5.087145e+06</td>\n",
       "      <td>1.454473e+08</td>\n",
       "    </tr>\n",
       "  </tbody>\n",
       "</table>\n",
       "<p>5 rows × 3811 columns</p>\n",
       "</div>"
      ],
      "text/plain": [
       "       29.0          64.0          65.0          85.0          102.0     \\\n",
       "0  2.133636e+07  3.297188e+07  2.619628e+05  1.715246e+07  4.855286e+06   \n",
       "1  2.133636e+07  3.297188e+07  6.372779e+05  8.390408e+07  2.217543e+07   \n",
       "2  3.899474e+07  3.297188e+07  1.933739e+06  8.390408e+07  2.217543e+07   \n",
       "3  3.899474e+07  8.312734e+07  2.816119e+06  8.390408e+07  6.205683e+07   \n",
       "4  6.316233e+07  1.430096e+08  5.913046e+06  8.390408e+07  6.205683e+07   \n",
       "\n",
       "       109.0         116.0         184.0         206.0         219.0     ...  \\\n",
       "0  1.125003e+07  4.770676e+07  7.419990e+06  1.349089e+07  5.074074e+06  ...   \n",
       "1  2.121909e+07  4.770676e+07  7.419990e+06  1.349089e+07  5.074074e+06  ...   \n",
       "2  2.121909e+07  4.770676e+07  3.498412e+07  4.095466e+07  5.074074e+06  ...   \n",
       "3  2.121909e+07  1.363433e+08  3.498412e+07  4.095466e+07  5.074074e+06  ...   \n",
       "4  2.121909e+07  1.363433e+08  3.498412e+07  7.249256e+07  5.074074e+06  ...   \n",
       "\n",
       "       551800.0      551970.0      552007.0      559679.0      576878.0  \\\n",
       "0  2.315493e+06  9.800061e+06  1.934602e+06  9.965976e+06  94073.077807   \n",
       "1  5.366718e+06  9.800061e+06  1.934602e+06  9.965976e+06  94073.077807   \n",
       "2  5.366718e+06  9.800061e+06  1.934602e+06  9.965976e+06  94073.077807   \n",
       "3  5.366718e+06  9.800061e+06  1.934602e+06  9.965976e+06  94073.077807   \n",
       "4  5.366718e+06  9.800061e+06  1.934602e+06  9.965976e+06  94073.077807   \n",
       "\n",
       "       580146.0      614199.0      627608.0      632716.0      660680.0  \n",
       "0  1.319827e+05  2.829517e+06  1.495019e+07  5.087145e+06  1.454473e+08  \n",
       "1  1.079009e+06  4.711450e+06  4.323839e+07  5.087145e+06  1.454473e+08  \n",
       "2  1.079009e+06  4.711450e+06  5.437382e+07  5.087145e+06  1.454473e+08  \n",
       "3  1.079009e+06  4.711450e+06  2.467892e+08  5.087145e+06  1.454473e+08  \n",
       "4  1.079009e+06  4.711450e+06  2.467892e+08  5.087145e+06  1.454473e+08  \n",
       "\n",
       "[5 rows x 3811 columns]"
      ]
     },
     "execution_count": 164,
     "metadata": {},
     "output_type": "execute_result"
    }
   ],
   "source": [
    "data_size.head()"
   ]
  },
  {
   "cell_type": "markdown",
   "id": "understanding-scope",
   "metadata": {},
   "source": [
    "#### Logistic regression"
   ]
  },
  {
   "cell_type": "code",
   "execution_count": 169,
   "id": "fadcbb81",
   "metadata": {},
   "outputs": [
    {
     "name": "stderr",
     "output_type": "stream",
     "text": [
      " /Users/ltesta/opt/anaconda3/envs/netfda/lib/python3.7/site-packages/ipykernel_launcher.py:7: PerformanceWarning:DataFrame is highly fragmented.  This is usually the result of calling `frame.insert` many times, which has poor performance.  Consider joining all columns at once using pd.concat(axis=1) instead.  To get a de-fragmented frame, use `newframe = frame.copy()`\n"
     ]
    }
   ],
   "source": [
    "percentage=[]\n",
    "for size in range(5,13):\n",
    "    data_size=extract_window(size)\n",
    "    clusters=functional_clustering(data_size)\n",
    "    percentage.append(sum(clusters.values())/len(clusters.values()))"
   ]
  },
  {
   "cell_type": "code",
   "execution_count": 175,
   "id": "ff813660",
   "metadata": {},
   "outputs": [
    {
     "name": "stderr",
     "output_type": "stream",
     "text": [
      " /Users/ltesta/opt/anaconda3/envs/netfda/lib/python3.7/site-packages/ipykernel_launcher.py:7: PerformanceWarning:DataFrame is highly fragmented.  This is usually the result of calling `frame.insert` many times, which has poor performance.  Consider joining all columns at once using pd.concat(axis=1) instead.  To get a de-fragmented frame, use `newframe = frame.copy()`\n"
     ]
    }
   ],
   "source": [
    "win_big=[]\n",
    "for size in range(5,13):\n",
    "    data_size=extract_window(size)\n",
    "    win_big.append(data_size.shape[1])"
   ]
  },
  {
   "cell_type": "code",
   "execution_count": 172,
   "id": "9e0cdfbb",
   "metadata": {},
   "outputs": [
    {
     "data": {
      "image/png": "[encoded data removed]",
      "text/plain": [
       "<Figure size 432x288 with 1 Axes>"
      ]
     },
     "metadata": {
      "needs_background": "light"
     },
     "output_type": "display_data"
    }
   ],
   "source": [
    "fig, ax = plt.subplots(1,1, figsize=(6, 4))\n",
    "plt.plot(range(5,13), percentage)\n",
    "plt.xlabel('Window size')\n",
    "plt.ylabel('Fraction of successful firms')\n",
    "plt.title('Fraction of high-regime firms by window size')\n",
    "\n",
    "os.chdir('/Users/ltesta/Documents/GitHub/crunch_net/ANS/plots')\n",
    "plt.savefig('fraction_high_regime.pdf', bbox_inches=\"tight\")"
   ]
  },
  {
   "cell_type": "code",
   "execution_count": 176,
   "id": "ce75f660",
   "metadata": {},
   "outputs": [
    {
     "data": {
      "image/png": "[encoded data removed]",
      "text/plain": [
       "<Figure size 432x288 with 1 Axes>"
      ]
     },
     "metadata": {
      "needs_background": "light"
     },
     "output_type": "display_data"
    }
   ],
   "source": [
    "fig, ax = plt.subplots(1,1, figsize=(6, 4))\n",
    "plt.plot(range(5,13), win_big)\n",
    "plt.xlabel('Window size')\n",
    "plt.ylabel('Number of firms')\n",
    "plt.title('Number of firms by window size')\n",
    "\n",
    "os.chdir('/Users/ltesta/Documents/GitHub/crunch_net/ANS/plots')\n",
    "plt.savefig('number_firms_window_size.pdf', bbox_inches=\"tight\")"
   ]
  },
  {
   "cell_type": "code",
   "execution_count": 165,
   "id": "frozen-sodium",
   "metadata": {},
   "outputs": [],
   "source": [
    "clusters=functional_clustering(data_size)"
   ]
  },
  {
   "cell_type": "code",
   "execution_count": 166,
   "id": "136d04e2",
   "metadata": {},
   "outputs": [
    {
     "name": "stdout",
     "output_type": "stream",
     "text": [
      "Percentage of successful firms: 8.711624245604828 %\n"
     ]
    }
   ],
   "source": [
    "print('Percentage of successful firms:', 100*sum(clusters.values())/len(clusters.values()), '%')"
   ]
  },
  {
   "cell_type": "code",
   "execution_count": 167,
   "id": "1f9145bd",
   "metadata": {},
   "outputs": [
    {
     "data": {
      "image/png": "[encoded data removed]",
      "text/plain": [
       "<Figure size 432x288 with 1 Axes>"
      ]
     },
     "metadata": {
      "needs_background": "light"
     },
     "output_type": "display_data"
    }
   ],
   "source": [
    "toplot=data_size.loc[:, data_size.columns.isin(content[content.industry=='Drug Discovery'].index_x)]\n",
    "toplot1=toplot.loc[:, toplot.columns.isin([x for x in clusters.keys() if clusters[x]==1])]\n",
    "toplot0=toplot.loc[:, toplot.columns.isin([x for x in clusters.keys() if clusters[x]==0])]\n",
    "\n",
    "fig, ax = plt.subplots(1,1, figsize=(6, 4))\n",
    "plt.plot(toplot1, c=high_regime, alpha=0.3, linestyle='--')\n",
    "plt.plot(toplot0, c=low_regime, alpha=0.1, linestyle='--')\n",
    "plt.plot(range(0,size), np.mean(toplot1, axis=1), c=high_regime, linewidth=2)\n",
    "plt.plot(range(0,size), np.mean(toplot0, axis=1), c=low_regime, linewidth=2)\n",
    "high_patch = mpatches.Patch(color=high_regime, label='High regime')\n",
    "low_patch = mpatches.Patch(color=low_regime, label='Low regime')\n",
    "plt.legend(handles=[high_patch, low_patch])\n",
    "plt.xlabel('Time')\n",
    "plt.xticks(range(0,size))\n",
    "plt.ylabel('Cumulative money raised')\n",
    "plt.title('Trajectories in Drug Discovery sector by cluster')\n",
    "\n",
    "os.chdir('/Users/ltesta/Documents/GitHub/crunch_net/ANS/plots')\n",
    "plt.savefig('drug_discovery_clustering_'+str(size)+'.pdf', bbox_inches=\"tight\")"
   ]
  },
  {
   "cell_type": "code",
   "execution_count": 168,
   "id": "cc231ebc",
   "metadata": {},
   "outputs": [
    {
     "data": {
      "text/plain": [
       "(8, 108)"
      ]
     },
     "execution_count": 168,
     "metadata": {},
     "output_type": "execute_result"
    }
   ],
   "source": [
    "toplot.shape"
   ]
  },
  {
   "cell_type": "markdown",
   "id": "variable-struggle",
   "metadata": {},
   "source": [
    "#### Linear regression"
   ]
  },
  {
   "cell_type": "code",
   "execution_count": 147,
   "id": "occasional-providence",
   "metadata": {},
   "outputs": [],
   "source": [
    "cumulate=data_size.loc[data_size.shape[0]-1,:]"
   ]
  },
  {
   "cell_type": "code",
   "execution_count": 148,
   "id": "44685b2a",
   "metadata": {},
   "outputs": [
    {
     "data": {
      "image/png": "[encoded data removed]",
      "text/plain": [
       "<Figure size 432x288 with 1 Axes>"
      ]
     },
     "metadata": {
      "needs_background": "light"
     },
     "output_type": "display_data"
    }
   ],
   "source": [
    "plt.hist(np.log(cumulate))\n",
    "plt.show()"
   ]
  },
  {
   "cell_type": "markdown",
   "id": "clinical-parts",
   "metadata": {},
   "source": [
    "Function-on-scalar regression is not supported. We have to save our functional object matrix and rely on R \"refund\" package"
   ]
  }
 ],
 "metadata": {
  "interpreter": {
   "hash": "a582142d3a4a5a6ae69dd97f6c1ccf57e4c5dc69e08ef3e96e58e98b4371aae7"
  },
  "kernelspec": {
   "display_name": "Julia 1.6.2",
   "language": "python",
   "name": "python3"
  },
  "language_info": {
   "codemirror_mode": {
    "name": "ipython",
    "version": 3
   },
   "file_extension": ".py",
   "mimetype": "text/x-python",
   "name": "python",
   "nbconvert_exporter": "python",
   "pygments_lexer": "ipython3",
   "version": "3.7.12"
  }
 },
 "nbformat": 4,
 "nbformat_minor": 5
}
