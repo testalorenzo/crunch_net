{
 "cells": [
  {
   "cell_type": "code",
   "execution_count": null,
   "metadata": {},
   "outputs": [],
   "source": [
    "import numpy as np\n",
    "import math\n",
    "import statsmodels.api as sm\n",
    "import imblearn\n",
    "from tqdm.notebook import tqdm\n",
    "from scipy import stats\n",
    "import pandas as pd\n",
    "import matplotlib.pyplot as plt\n",
    "import networkx as nx\n",
    "from networkx.algorithms import bipartite, community \n",
    "from numpy.random import choice\n",
    "import itertools\n",
    "from cdlib import algorithms, readwrite, evaluation, TemporalClustering\n",
    "from mpl_toolkits.mplot3d import Axes3D"
   ]
  },
  {
   "cell_type": "markdown",
   "metadata": {},
   "source": [
    "# LINK PREDICTION"
   ]
  },
  {
   "cell_type": "code",
   "execution_count": 11,
   "metadata": {},
   "outputs": [],
   "source": [
    "orgorg3_single2019 = nx.readwrite.read_gpickle('orgorg3_single2019.gpickle')\n",
    "orgorg3_single2020 = nx.readwrite.read_gpickle('orgorg3_single2019.gpickle')"
   ]
  },
  {
   "cell_type": "markdown",
   "metadata": {},
   "source": [
    "##### QUI SI CARICA LA LISTA CON INDEXES DELLE ORGORG APPARTENENTI ALLA COMUNITY DI INTERESSE"
   ]
  },
  {
   "cell_type": "code",
   "execution_count": null,
   "metadata": {},
   "outputs": [],
   "source": [
    "com_nodes = #lista nodi della community "
   ]
  },
  {
   "cell_type": "markdown",
   "metadata": {},
   "source": [
    "##### SUBGRAPH FROM ORGORG3_SINGLE2019"
   ]
  },
  {
   "cell_type": "code",
   "execution_count": null,
   "metadata": {},
   "outputs": [],
   "source": [
    "com = orgorg3_single2019.subgraph(com_nodes)"
   ]
  },
  {
   "cell_type": "code",
   "execution_count": null,
   "metadata": {},
   "outputs": [],
   "source": [
    "nodo1 = []\n",
    "nodo2 = []\n",
    "jacques = []\n",
    "for u in com.nodes[]:\n",
    "    for v in com.nodes[]:\n",
    "        if u > v:\n",
    "            j = nx.jaccard_coefficient(com, [(u,v)])\n",
    "            legame.append(int(orgorg3_single2019.has_edge(u,v)))\n",
    "            legame2.append(int(oorg3_single2020.has_edge(u,v)))\n",
    "            nodo1.append(u)\n",
    "            nodo2.append(v)\n",
    "            for u,v,p in j:\n",
    "                nodo1.append(u)\n",
    "                nodo2.append(v)\n",
    "                jacques.append(p)"
   ]
  },
  {
   "cell_type": "code",
   "execution_count": null,
   "metadata": {},
   "outputs": [],
   "source": [
    "adam = []\n",
    "for u in com.nodes[]:\n",
    "    for v in com.nodes[]:\n",
    "        if u > v:\n",
    "            j = nx.adamic_adar_index(com, [(u,v)])\n",
    "            for u,v,p in j:\n",
    "                nodo1.append(u)\n",
    "                nodo2.append(v)\n",
    "                adam.append(p)\n"
   ]
  },
  {
   "cell_type": "code",
   "execution_count": null,
   "metadata": {},
   "outputs": [],
   "source": [
    "dfpred = pd.DataFrame({'nodo1': nodo1, 'nodo2': nodo2, 'jacc': jacques, 'adam': adam, 'legame':legame,'legame2':legame2, 'intercetta':1})\n",
    "dfpred = dfpred[(dfpred['legame']==0)]"
   ]
  },
  {
   "cell_type": "code",
   "execution_count": null,
   "metadata": {},
   "outputs": [],
   "source": [
    "##tools necessari per logisticregression\n",
    "\n",
    "from sklearn import preprocessing\n",
    "import matplotlib.pyplot as plt \n",
    "plt.rc(\"font\", size=14)\n",
    "from sklearn.linear_model import LogisticRegression\n",
    "from sklearn.model_selection import train_test_split\n",
    "import seaborn as sns\n",
    "sns.set(style=\"white\")\n",
    "sns.set(style=\"whitegrid\", color_codes=True)"
   ]
  },
  {
   "cell_type": "code",
   "execution_count": null,
   "metadata": {},
   "outputs": [],
   "source": [
    "y = dfpred['legame2']\n",
    "X = dfpred[['adam','jacc','intercetta']]\n",
    "logit_model=sm.Logit(y,X)\n",
    "result=logit_model.fit()\n",
    "print(result.summary2())\n"
   ]
  }
 ],
 "metadata": {
  "kernelspec": {
   "display_name": "Python 3 (ipykernel)",
   "language": "python",
   "name": "python3"
  },
  "language_info": {
   "codemirror_mode": {
    "name": "ipython",
    "version": 3
   },
   "file_extension": ".py",
   "mimetype": "text/x-python",
   "name": "python",
   "nbconvert_exporter": "python",
   "pygments_lexer": "ipython3",
   "version": "3.8.2"
  }
 },
 "nbformat": 4,
 "nbformat_minor": 4
}
