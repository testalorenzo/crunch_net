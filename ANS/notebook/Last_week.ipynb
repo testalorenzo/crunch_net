{
 "cells": [
  {
   "cell_type": "code",
   "execution_count": 2,
   "id": "apart-reason",
   "metadata": {},
   "outputs": [],
   "source": [
    "import pandas as pd\n",
    "import numpy as np"
   ]
  },
  {
   "cell_type": "markdown",
   "id": "opened-quick",
   "metadata": {},
   "source": [
    "##### Matrice covariate <br>\n",
    "##### Covariate per paese <br>\n",
    "##### Covariate check <br>\n",
    "##### Prova regressione guardando il secondo round <br>\n",
    "##### Katz centrality e altre 3 centrality, testale <br>\n",
    "(Studiati il codice di lorenzo) <br>\n",
    "##### Karsten prova ad applicare il codice <br>"
   ]
  },
  {
   "cell_type": "code",
   "execution_count": 3,
   "id": "soviet-norman",
   "metadata": {},
   "outputs": [
    {
     "name": "stderr",
     "output_type": "stream",
     "text": [
      "/Library/Frameworks/Python.framework/Versions/3.9/lib/python3.9/site-packages/IPython/core/interactiveshell.py:3165: DtypeWarning: Columns (7,184,185,186,187,188,189,190,191,192,193,194,195,196,197,198,199,200,201,202,203,204,205,206,207,208) have mixed types.Specify dtype option on import or set low_memory=False.\n",
      "  has_raised = await self.run_ast_nodes(code_ast.body, cell_name,\n"
     ]
    }
   ],
   "source": [
    "covariate = pd.read_csv('~/Documents/GitHub/crunch_net/ANS/notebook/cb/CB_with_covariates.csv')"
   ]
  },
  {
   "cell_type": "code",
   "execution_count": 7,
   "id": "invalid-cache",
   "metadata": {},
   "outputs": [
    {
     "data": {
      "text/plain": [
       "Index(['Unnamed: 0', 'node', 'index', 'country', 'continent', 'industry',\n",
       "       'foundation', 'target_status', 'bipartite', 'id',\n",
       "       'voterank_single_1997', 'voterank_single_1998', 'voterank_single_1999',\n",
       "       'voterank_single_2000', 'voterank_single_2001'],\n",
       "      dtype='object')"
      ]
     },
     "execution_count": 7,
     "metadata": {},
     "output_type": "execute_result"
    }
   ],
   "source": [
    "covariate.columns[:15]"
   ]
  },
  {
   "cell_type": "code",
   "execution_count": null,
   "id": "regional-holmes",
   "metadata": {},
   "outputs": [],
   "source": []
  }
 ],
 "metadata": {
  "kernelspec": {
   "display_name": "Python 3",
   "language": "python",
   "name": "python3"
  },
  "language_info": {
   "codemirror_mode": {
    "name": "ipython",
    "version": 3
   },
   "file_extension": ".py",
   "mimetype": "text/x-python",
   "name": "python",
   "nbconvert_exporter": "python",
   "pygments_lexer": "ipython3",
   "version": "3.9.2"
  }
 },
 "nbformat": 4,
 "nbformat_minor": 5
}
