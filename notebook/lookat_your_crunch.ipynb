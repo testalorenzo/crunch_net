{
 "cells": [
  {
   "cell_type": "markdown",
   "id": "written-pasta",
   "metadata": {},
   "source": [
    "# Look at your crunch\n",
    "### Some exploratory analysis"
   ]
  },
  {
   "cell_type": "code",
   "execution_count": 1,
   "id": "elder-corrections",
   "metadata": {},
   "outputs": [],
   "source": [
    "import platform\n",
    "import numpy as np\n",
    "import math\n",
    "import sys\n",
    "from operator import itemgetter\n",
    "import pandas as pd\n",
    "import matplotlib.pyplot as plt\n",
    "import networkx as nx\n",
    "import requests\n",
    "import matplotlib\n",
    "import csv\n",
    "import json\n",
    "from pandas.io.json import json_normalize\n",
    "from networkx.algorithms import community \n",
    "import itertools\n",
    "import re\n",
    "from tqdm.notebook import tqdm"
   ]
  },
  {
   "cell_type": "code",
   "execution_count": 26,
   "id": "behavioral-whale",
   "metadata": {},
   "outputs": [],
   "source": [
    "G_bidder=nx.read_gpickle(\"G_bidder.gpickle\")\n",
    "G_bidder_self=nx.read_gpickle(\"G_bidder_self.gpickle\")"
   ]
  },
  {
   "cell_type": "code",
   "execution_count": 20,
   "id": "hindu-board",
   "metadata": {
    "scrolled": true
   },
   "outputs": [
    {
     "name": "stdout",
     "output_type": "stream",
     "text": [
      "Name: \n",
      "Type: MultiGraph\n",
      "Number of nodes: 17953\n",
      "Number of edges: 129088\n",
      "Average degree:  14.3807\n"
     ]
    }
   ],
   "source": [
    "print(nx.info(G_bidder))"
   ]
  },
  {
   "cell_type": "code",
   "execution_count": 27,
   "id": "entire-formula",
   "metadata": {
    "scrolled": true
   },
   "outputs": [
    {
     "name": "stdout",
     "output_type": "stream",
     "text": [
      "Name: \n",
      "Type: MultiGraph\n",
      "Number of nodes: 17953\n",
      "Number of edges: 208059\n",
      "Average degree:  23.1782\n"
     ]
    }
   ],
   "source": [
    "print(nx.info(G_bidder_self))"
   ]
  },
  {
   "cell_type": "code",
   "execution_count": 28,
   "id": "brazilian-ocean",
   "metadata": {},
   "outputs": [
    {
     "name": "stderr",
     "output_type": "stream",
     "text": [
      "/users/testa/.local/lib/python3.8/site-packages/IPython/core/interactiveshell.py:3165: DtypeWarning: Columns (6,20,21,24,25,26,27,48) have mixed types.Specify dtype option on import or set low_memory=False.\n",
      "  has_raised = await self.run_ast_nodes(code_ast.body, cell_name,\n"
     ]
    },
    {
     "data": {
      "text/html": [
       "<div>\n",
       "<style scoped>\n",
       "    .dataframe tbody tr th:only-of-type {\n",
       "        vertical-align: middle;\n",
       "    }\n",
       "\n",
       "    .dataframe tbody tr th {\n",
       "        vertical-align: top;\n",
       "    }\n",
       "\n",
       "    .dataframe thead th {\n",
       "        text-align: right;\n",
       "    }\n",
       "</style>\n",
       "<table border=\"1\" class=\"dataframe\">\n",
       "  <thead>\n",
       "    <tr style=\"text-align: right;\">\n",
       "      <th></th>\n",
       "      <th>Unnamed: 0</th>\n",
       "      <th>Organisation</th>\n",
       "      <th>Funding type</th>\n",
       "      <th>Money raised</th>\n",
       "      <th>Pre-money valuation</th>\n",
       "      <th>Date</th>\n",
       "      <th>Investors</th>\n",
       "      <th>Location</th>\n",
       "      <th>ID</th>\n",
       "      <th>Org_location</th>\n",
       "      <th>...</th>\n",
       "      <th>long_x</th>\n",
       "      <th>Node_y</th>\n",
       "      <th>Country_y</th>\n",
       "      <th>Coo_y</th>\n",
       "      <th>kind_y</th>\n",
       "      <th>id_y</th>\n",
       "      <th>coo_y</th>\n",
       "      <th>lat_y</th>\n",
       "      <th>long_y</th>\n",
       "      <th>idx</th>\n",
       "    </tr>\n",
       "  </thead>\n",
       "  <tbody>\n",
       "    <tr>\n",
       "      <th>0</th>\n",
       "      <td>0</td>\n",
       "      <td>Meddy</td>\n",
       "      <td>Series A</td>\n",
       "      <td>$2,500,000</td>\n",
       "      <td>NaN</td>\n",
       "      <td>2019-10-27</td>\n",
       "      <td>212.0</td>\n",
       "      <td>Dubai, Dubai, United Arab Emirates, Asia</td>\n",
       "      <td>6132</td>\n",
       "      <td>['Dubai', 'Dubai', 'United Arab Emirates', 'As...</td>\n",
       "      <td>...</td>\n",
       "      <td>55.188761</td>\n",
       "      <td>212.0</td>\n",
       "      <td>Turkey</td>\n",
       "      <td>(41.0096334, 28.9651646)</td>\n",
       "      <td>Bidder</td>\n",
       "      <td>22557</td>\n",
       "      <td>['41.0096334', '28.9651646']</td>\n",
       "      <td>41.009633</td>\n",
       "      <td>28.965165</td>\n",
       "      <td>0</td>\n",
       "    </tr>\n",
       "    <tr>\n",
       "      <th>1</th>\n",
       "      <td>1</td>\n",
       "      <td>Lemonaid Health</td>\n",
       "      <td>Series A</td>\n",
       "      <td>$11,000,000</td>\n",
       "      <td>NaN</td>\n",
       "      <td>2017-05-22</td>\n",
       "      <td>415.0</td>\n",
       "      <td>San Francisco, California, United States, Nort...</td>\n",
       "      <td>18965</td>\n",
       "      <td>['San Francisco', 'California', 'United States...</td>\n",
       "      <td>...</td>\n",
       "      <td>-122.419906</td>\n",
       "      <td>415.0</td>\n",
       "      <td>United States</td>\n",
       "      <td>(37.7790262, -122.4199061)</td>\n",
       "      <td>Bidder</td>\n",
       "      <td>22558</td>\n",
       "      <td>['37.7790262', '-122.4199061']</td>\n",
       "      <td>37.779026</td>\n",
       "      <td>-122.419906</td>\n",
       "      <td>1</td>\n",
       "    </tr>\n",
       "    <tr>\n",
       "      <th>2</th>\n",
       "      <td>2</td>\n",
       "      <td>Prellis Biologics</td>\n",
       "      <td>Seed</td>\n",
       "      <td>$1,800,000</td>\n",
       "      <td>NaN</td>\n",
       "      <td>2017-09-13</td>\n",
       "      <td>415.0</td>\n",
       "      <td>San Francisco, California, United States, Nort...</td>\n",
       "      <td>17358</td>\n",
       "      <td>['San Francisco', 'California', 'United States...</td>\n",
       "      <td>...</td>\n",
       "      <td>-122.419906</td>\n",
       "      <td>415.0</td>\n",
       "      <td>United States</td>\n",
       "      <td>(37.7790262, -122.4199061)</td>\n",
       "      <td>Bidder</td>\n",
       "      <td>22558</td>\n",
       "      <td>['37.7790262', '-122.4199061']</td>\n",
       "      <td>37.779026</td>\n",
       "      <td>-122.419906</td>\n",
       "      <td>2</td>\n",
       "    </tr>\n",
       "  </tbody>\n",
       "</table>\n",
       "<p>3 rows × 57 columns</p>\n",
       "</div>"
      ],
      "text/plain": [
       "   Unnamed: 0       Organisation Funding type Money raised  \\\n",
       "0           0              Meddy     Series A   $2,500,000   \n",
       "1           1    Lemonaid Health     Series A  $11,000,000   \n",
       "2           2  Prellis Biologics         Seed   $1,800,000   \n",
       "\n",
       "  Pre-money valuation        Date Investors  \\\n",
       "0                 NaN  2019-10-27     212.0   \n",
       "1                 NaN  2017-05-22     415.0   \n",
       "2                 NaN  2017-09-13     415.0   \n",
       "\n",
       "                                            Location     ID  \\\n",
       "0           Dubai, Dubai, United Arab Emirates, Asia   6132   \n",
       "1  San Francisco, California, United States, Nort...  18965   \n",
       "2  San Francisco, California, United States, Nort...  17358   \n",
       "\n",
       "                                        Org_location  ...      long_x Node_y  \\\n",
       "0  ['Dubai', 'Dubai', 'United Arab Emirates', 'As...  ...   55.188761  212.0   \n",
       "1  ['San Francisco', 'California', 'United States...  ... -122.419906  415.0   \n",
       "2  ['San Francisco', 'California', 'United States...  ... -122.419906  415.0   \n",
       "\n",
       "       Country_y                       Coo_y  kind_y   id_y  \\\n",
       "0         Turkey    (41.0096334, 28.9651646)  Bidder  22557   \n",
       "1  United States  (37.7790262, -122.4199061)  Bidder  22558   \n",
       "2  United States  (37.7790262, -122.4199061)  Bidder  22558   \n",
       "\n",
       "                            coo_y      lat_y      long_y idx  \n",
       "0    ['41.0096334', '28.9651646']  41.009633   28.965165   0  \n",
       "1  ['37.7790262', '-122.4199061']  37.779026 -122.419906   1  \n",
       "2  ['37.7790262', '-122.4199061']  37.779026 -122.419906   2  \n",
       "\n",
       "[3 rows x 57 columns]"
      ]
     },
     "execution_count": 28,
     "metadata": {},
     "output_type": "execute_result"
    }
   ],
   "source": [
    "Pallottola=pd.read_csv(\"Pallottola.csv\")\n",
    "Pallottola.head()"
   ]
  },
  {
   "cell_type": "markdown",
   "id": "cross-crazy",
   "metadata": {},
   "source": [
    "### Create yearly snapshots"
   ]
  },
  {
   "cell_type": "code",
   "execution_count": 30,
   "id": "hybrid-structure",
   "metadata": {
    "scrolled": true
   },
   "outputs": [
    {
     "data": {
      "text/plain": [
       "{1980,\n",
       " 1982,\n",
       " 1983,\n",
       " 1984,\n",
       " 1986,\n",
       " 1987,\n",
       " 1988,\n",
       " 1989,\n",
       " 1990,\n",
       " 1991,\n",
       " 1992,\n",
       " 1993,\n",
       " 1994,\n",
       " 1995,\n",
       " 1996,\n",
       " 1997,\n",
       " 1998,\n",
       " 1999,\n",
       " 2000,\n",
       " 2001,\n",
       " 2002,\n",
       " 2003,\n",
       " 2004,\n",
       " 2005,\n",
       " 2006,\n",
       " 2007,\n",
       " 2008,\n",
       " 2009,\n",
       " 2010,\n",
       " 2011,\n",
       " 2012,\n",
       " 2013,\n",
       " 2014,\n",
       " 2015,\n",
       " 2016,\n",
       " 2017,\n",
       " 2018,\n",
       " 2019,\n",
       " 2020,\n",
       " 2021}"
      ]
     },
     "execution_count": 30,
     "metadata": {},
     "output_type": "execute_result"
    }
   ],
   "source": [
    "#Lista anni\n",
    "lista_unique_year=[]\n",
    "for i in pd.to_datetime(Pallottola['Date']):\n",
    "    lista_unique_year.append(i.year)\n",
    "insieme_year=set(lista_unique_year)\n",
    "insieme_year"
   ]
  },
  {
   "cell_type": "code",
   "execution_count": 44,
   "id": "sonic-hearing",
   "metadata": {},
   "outputs": [],
   "source": [
    "for anno in insieme_year:\n",
    "    locals()[\"SG_\"+str(anno)]=nx.Graph([(u,v,d) for u,v,d in G_bidder.edges(data=True) if pd.to_datetime(d['date']).year==anno])"
   ]
  },
  {
   "cell_type": "code",
   "execution_count": 45,
   "id": "lucky-elite",
   "metadata": {},
   "outputs": [
    {
     "data": {
      "text/plain": [
       "[<matplotlib.lines.Line2D at 0x7f17774834c0>]"
      ]
     },
     "execution_count": 45,
     "metadata": {},
     "output_type": "execute_result"
    },
    {
     "data": {
      "image/png": "[encoded data removed]",
      "text/plain": [
       "<Figure size 432x288 with 1 Axes>"
      ]
     },
     "metadata": {
      "needs_background": "light"
     },
     "output_type": "display_data"
    }
   ],
   "source": [
    "edges_subgraph=[]\n",
    "nodes_subgraph=[]\n",
    "avg_degree_subgraph=[]\n",
    "for anno in insieme_year:\n",
    "    edges_subgraph.append(locals()[\"SG_\"+str(anno)].number_of_edges())\n",
    "    nodes_subgraph.append(locals()[\"SG_\"+str(anno)].number_of_nodes())\n",
    "    avg_degree_subgraph.append(2*locals()[\"SG_\"+str(anno)].number_of_edges()/(locals()[\"SG_\"+str(anno)].number_of_nodes()+1))\n",
    "    \n",
    "plt.plot(list(insieme_year), edges_subgraph)"
   ]
  },
  {
   "cell_type": "code",
   "execution_count": 38,
   "id": "meaning-commonwealth",
   "metadata": {},
   "outputs": [
    {
     "data": {
      "text/plain": [
       "<AxesSubplot:>"
      ]
     },
     "execution_count": 38,
     "metadata": {},
     "output_type": "execute_result"
    },
    {
     "data": {
      "image/png": "[encoded data removed]",
      "text/plain": [
       "<Figure size 432x288 with 1 Axes>"
      ]
     },
     "metadata": {
      "needs_background": "light"
     },
     "output_type": "display_data"
    }
   ],
   "source": [
    "pd.Series(avg_degree_subgraph).plot()"
   ]
  },
  {
   "cell_type": "code",
   "execution_count": 39,
   "id": "white-insert",
   "metadata": {
    "scrolled": true
   },
   "outputs": [
    {
     "data": {
      "image/png": "[encoded data removed]",
      "text/plain": [
       "<Figure size 432x288 with 1 Axes>"
      ]
     },
     "metadata": {
      "needs_background": "light"
     },
     "output_type": "display_data"
    }
   ],
   "source": [
    "hist = nx.degree_histogram(G_bidder)\n",
    "    \n",
    "plt.plot(range(0, len(hist)), hist, \".\")\n",
    "plt.title(\"Degree Distribution\")\n",
    "plt.xlabel(\"Degree\")\n",
    "plt.ylabel(\"#Nodes\")\n",
    "plt.loglog()\n",
    "plt.show()"
   ]
  },
  {
   "cell_type": "code",
   "execution_count": 46,
   "id": "medical-roads",
   "metadata": {},
   "outputs": [],
   "source": [
    "for anno in insieme_year:\n",
    "    locals()[\"SG_self_\"+str(anno)]=nx.MultiGraph([(u,v,d) for u,v,d in G_bidder_self.edges(data=True) if pd.to_datetime(d['date']).year==anno])"
   ]
  },
  {
   "cell_type": "code",
   "execution_count": 47,
   "id": "charitable-somalia",
   "metadata": {},
   "outputs": [],
   "source": [
    "lista_utilissima_numnodes=[]\n",
    "for anno in insieme_year:\n",
    "    lista_utilissima_numnodes.append(locals()[\"SG_self_\"+str(anno)].number_of_nodes())"
   ]
  },
  {
   "cell_type": "code",
   "execution_count": 48,
   "id": "loose-whole",
   "metadata": {},
   "outputs": [
    {
     "data": {
      "text/plain": [
       "<AxesSubplot:>"
      ]
     },
     "execution_count": 48,
     "metadata": {},
     "output_type": "execute_result"
    },
    {
     "data": {
      "image/png": "[encoded data removed]",
      "text/plain": [
       "<Figure size 432x288 with 1 Axes>"
      ]
     },
     "metadata": {
      "needs_background": "light"
     },
     "output_type": "display_data"
    }
   ],
   "source": [
    "pd.Series(lista_utilissima_numnodes).plot()"
   ]
  },
  {
   "cell_type": "code",
   "execution_count": null,
   "id": "explicit-currency",
   "metadata": {},
   "outputs": [],
   "source": []
  }
 ],
 "metadata": {
  "kernelspec": {
   "display_name": "Python 3",
   "language": "python",
   "name": "python3"
  },
  "language_info": {
   "codemirror_mode": {
    "name": "ipython",
    "version": 3
   },
   "file_extension": ".py",
   "mimetype": "text/x-python",
   "name": "python",
   "nbconvert_exporter": "python",
   "pygments_lexer": "ipython3",
   "version": "3.9.2"
  }
 },
 "nbformat": 4,
 "nbformat_minor": 5
}
