{
 "cells": [
  {
   "cell_type": "code",
   "execution_count": null,
   "metadata": {},
   "outputs": [],
   "source": [
    "import numpy as np\n",
    "import math\n",
    "import statsmodels.api as sm\n",
    "import imblearn\n",
    "from tqdm.notebook import tqdm\n",
    "from scipy import stats\n",
    "import pandas as pd\n",
    "import matplotlib.pyplot as plt\n",
    "import networkx as nx\n",
    "from networkx.algorithms import bipartite, community \n",
    "from numpy import nansum\n",
    "from numpy import nanmean\n",
    "from numpy.random import choice\n",
    "import itertools\n",
    "from networkx.algorithms import community\n",
    "import community as community_louvain\n",
    "import matplotlib.cm as cm\n",
    "import matplotlib.pyplot as plt\n",
    "import networkx as nx\n",
    "pd.set_option('display.max_columns', None)\n",
    "pd.set_option('display.max_rows', 300)"
   ]
  },
  {
   "cell_type": "markdown",
   "metadata": {},
   "source": [
    "## Bipartite network generation"
   ]
  },
  {
   "cell_type": "markdown",
   "metadata": {},
   "source": [
    "### Data preparation"
   ]
  },
  {
   "cell_type": "code",
   "execution_count": null,
   "metadata": {},
   "outputs": [],
   "source": [
    "cb1 = pd.read_csv('cb1.csv')\n",
    "cb2 = pd.read_csv('cb2.csv')\n",
    "cb3 = pd.read_csv('cb3.csv')"
   ]
  },
  {
   "cell_type": "code",
   "execution_count": null,
   "metadata": {},
   "outputs": [],
   "source": [
    "cb = cb1.append(cb2)\n",
    "cb = cb.append(cb3)\n",
    "cb.index = range(len(cb))"
   ]
  },
  {
   "cell_type": "code",
   "execution_count": null,
   "metadata": {},
   "outputs": [],
   "source": [
    "cb['date_my'] = (pd.to_datetime(cb['date'],format='%m/%d/%Y', errors='coerce')).dt.to_period('m')\n",
    "cb['date_y'] = (pd.to_datetime(cb['date'],format='%m/%d/%Y', errors='coerce')).dt.to_period('y')"
   ]
  },
  {
   "cell_type": "markdown",
   "metadata": {},
   "source": [
    "# DESCRIZIONE"
   ]
  },
  {
   "cell_type": "code",
   "execution_count": null,
   "metadata": {},
   "outputs": [],
   "source": [
    "cb.groupby(['target_continent','investor_continent']).size().unstack(fill_value=0)"
   ]
  },
  {
   "cell_type": "code",
   "execution_count": null,
   "metadata": {},
   "outputs": [],
   "source": [
    "cb_a = cb.groupby(['target_continent','investor_continent']).size().unstack(fill_value=0)\n",
    "cb_a[\"sum\"] = cb_a.sum(axis = 0)\n",
    "cb_a = cb_a.loc[:,\"Africa\":\"South America\"].div(cb_a[\"sum\"], axis=0)\n",
    "cb_a"
   ]
  },
  {
   "cell_type": "code",
   "execution_count": null,
   "metadata": {},
   "outputs": [],
   "source": [
    "es1 = cb.groupby(['target_name','stage'], as_index = False).agg({\"size_real\": 'first'})\n",
    "es2 = es1[['target_name','size_real']].groupby(['target_name'],as_index=False).sum()\n",
    "es3 = es2[es2['size_real']!=0]\n",
    "np.log(es3['size_real']).plot.kde(0.01)"
   ]
  },
  {
   "cell_type": "code",
   "execution_count": null,
   "metadata": {},
   "outputs": [],
   "source": [
    "np.log(es3['size_real']).plot.kde()"
   ]
  },
  {
   "cell_type": "code",
   "execution_count": null,
   "metadata": {},
   "outputs": [],
   "source": [
    "es3.sort_values(\"size_real\",ascending=False)[0:300]"
   ]
  },
  {
   "cell_type": "code",
   "execution_count": null,
   "metadata": {},
   "outputs": [],
   "source": [
    "cb"
   ]
  },
  {
   "cell_type": "code",
   "execution_count": null,
   "metadata": {},
   "outputs": [],
   "source": [
    "cb[cb['investors_name']=='Public'][-300:]"
   ]
  },
  {
   "cell_type": "code",
   "execution_count": null,
   "metadata": {},
   "outputs": [],
   "source": [
    "#ordinare gli investitori\n",
    "\n",
    "inv_list = list(cb['investors_name'].values)\n",
    "inv_counter = {}\n",
    "for inv in inv_list:\n",
    "    if inv in inv_counter:\n",
    "        inv_counter[inv] += 1\n",
    "    else:\n",
    "        inv_counter[inv] = 1\n",
    "\n",
    "popular_invs = sorted(inv_counter, key = inv_counter.get, reverse = True)\n",
    " \n",
    "top = popular_invs[:20]"
   ]
  },
  {
   "cell_type": "code",
   "execution_count": null,
   "metadata": {},
   "outputs": [],
   "source": [
    "for i in popular_invs:\n",
    "    if pd.isna(i):\n",
    "        print(i)"
   ]
  },
  {
   "cell_type": "code",
   "execution_count": null,
   "metadata": {},
   "outputs": [],
   "source": [
    "inv_counter['Dead']"
   ]
  },
  {
   "cell_type": "markdown",
   "metadata": {},
   "source": [
    "# GRAPHS"
   ]
  },
  {
   "cell_type": "code",
   "execution_count": null,
   "metadata": {},
   "outputs": [],
   "source": [
    "nodes_org = cb[['target_name', 'target_ID']].drop_duplicates()\n",
    "nodes_org['bipartite'] = 1\n",
    "nodes_inv = cb[['investors_name', 'investor_id']].drop_duplicates()\n",
    "nodes_org = nodes_org.rename(columns={\"target_name\": \"node\", \"target_country\": \"country\", \n",
    "                                      \"target_continent\": \"continent\", \"industry\":\"industry\",\n",
    "                                     \"target_ID\":\"index\"})\n",
    "nodes_inv = nodes_inv.rename(columns={\"investors_name\": \"node\",\"investor_country\": \"country\", \n",
    "                                      \"investor_continent\": \"continent\", \"investor_type\":\"industry\",\"investor_id\":'index' })\n",
    "nodes_inv['bipartite'] = 0\n",
    "nodes = nodes_org.append(nodes_inv, ignore_index= True)\n",
    "nodes['id'] = nodes.index\n",
    "nodes"
   ]
  },
  {
   "cell_type": "code",
   "execution_count": null,
   "metadata": {},
   "outputs": [],
   "source": [
    "numbers = cb.groupby(['target_name','stage'], as_index = False).count()[['target_name','stage','investors_name']].rename(columns={\"investors_name\": \"investor_numbers\"})"
   ]
  },
  {
   "cell_type": "code",
   "execution_count": null,
   "metadata": {},
   "outputs": [],
   "source": [
    "cb_new = pd.merge(cb, numbers,  how='left', left_on=['target_name','stage'], right_on = ['target_name','stage'])\n",
    "cb_new = pd.merge(cb_new, nodes[nodes['bipartite']== 1],  how='left', left_on=['target_name','target_ID'], right_on = ['node','index'])\n",
    "cb_new = pd.merge(cb_new, nodes[nodes['bipartite']== 0],  how='left', left_on=['investors_name','investor_id'], right_on = ['node','index'])\n"
   ]
  },
  {
   "cell_type": "code",
   "execution_count": null,
   "metadata": {},
   "outputs": [],
   "source": [
    "##ripeto quanto fatto prima (semplificato prima per risparmiare tempo) ma aggiungo roba\n",
    "nodes_org = cb_new[['target_name', 'target_ID', 'target_country', 'target_continent',\n",
    "               'industry','target_founded','target_status']].drop_duplicates()\n",
    "nodes_org['bipartite'] = 1\n",
    "nodes_inv = cb_new[['investors_name', 'investor_id', 'investor_country', 'investor_continent', 'investor_type',\n",
    "                   'investor_founded']].drop_duplicates()\n",
    "nodes_org = nodes_org.rename(columns={\"target_name\": \"node\", \"target_country\": \"country\", \n",
    "                                      \"target_continent\": \"continent\", \"industry\":\"industry\",\n",
    "                                     \"target_ID\":\"index\", \"target_founded\":\"foundation\"})\n",
    "nodes_inv = nodes_inv.rename(columns={\"investors_name\": \"node\",\"investor_country\": \"country\", \n",
    "                                      \"investor_continent\": \"continent\", \"investor_type\":\"industry\", \"investor_id\":'index',\n",
    "                                     \"investor_founded\":\"foundation\"})\n",
    "nodes_inv['bipartite'] = 0\n",
    "nodes = nodes_org.append(nodes_inv, ignore_index= True)\n",
    "nodes['id'] = nodes.index\n",
    "nodes.columns\n",
    "\n"
   ]
  },
  {
   "cell_type": "code",
   "execution_count": null,
   "metadata": {},
   "outputs": [],
   "source": [
    "B = nx.MultiGraph(name='org-bid')\n",
    "# Add nodes with the node attribute \"bipartite\"\n",
    "B.add_nodes_from(nodes[nodes.bipartite==0].id)\n",
    "B.add_nodes_from(nodes[nodes.bipartite==1].id)\n",
    "nx.set_node_attributes(B, pd.Series(nodes.node, index=nodes.id).to_dict(), 'name')\n",
    "nx.set_node_attributes(B, pd.Series(nodes.country, index=nodes.id).to_dict(), 'country')\n",
    "nx.set_node_attributes(B, pd.Series(nodes.continent, index=nodes.continent).to_dict(), 'continent')\n",
    "nx.set_node_attributes(B, pd.Series(nodes.industry, index=nodes.id).to_dict(), 'industry')\n",
    "nx.set_node_attributes(B, pd.Series(nodes.foundation, index=nodes.id).to_dict(), 'foundation')\n",
    "nx.set_node_attributes(B, pd.Series(nodes.bipartite, index=nodes.id).to_dict(), 'bipartite')\n",
    "nx.set_node_attributes(B, pd.Series(nodes.target_status, index=nodes.id).to_dict(), 'target_status')\n",
    "# Add edges only between nodes of opposite node sets\n",
    "cb_new_dates = cb_new[pd.notna(cb_new['date_y'])]\n",
    "cb_new_dates.index = range(len(cb_new_dates)) \n",
    "for i in range(len(cb_new_dates)):\n",
    "    B.add_edge(cb_new_dates.loc[i,'id_y'], cb_new_dates.loc[i,'id_x'], date=(cb_new_dates.loc[i,'date_y']).year, m_raised=cb_new_dates.loc[i,'size_real'], \n",
    "               investors = cb_new_dates.loc[i,'investor_numbers'], round_simp =cb_new_dates.loc[i,'round_simp'])\n",
    "brutti = [x for x,y in B.nodes(data=True) if (y['name']=='Undisclosed Investors') or (y['name']=='Dead')   or (y['name']=='Public')  \n",
    "          or  (y['name']=='Undisclosed Angel Investors') or (y['name']=='Undisclosed Venture Investors')]\n",
    "B.remove_nodes_from(brutti)\n",
    "remove = [node for node,degree in dict(B.degree()).items() if degree == 0]\n",
    "B.remove_nodes_from(remove)\n",
    "bid_nodes = {n for n, d in B.nodes(data=True) if d[\"bipartite\"] == 0}\n",
    "org_nodes = set(B) - bid_nodes"
   ]
  },
  {
   "cell_type": "code",
   "execution_count": null,
   "metadata": {},
   "outputs": [],
   "source": [
    "##nodi brutti\n",
    "#'Undisclosed Investors',\n",
    "# 'Public',\n",
    "#'Undisclosed Angel Investors',\n",
    "#'Undisclosed Venture Investors',\n",
    "#Dead\n"
   ]
  },
  {
   "cell_type": "code",
   "execution_count": null,
   "metadata": {},
   "outputs": [],
   "source": [
    "bid_nodes = {n for n, d in B.nodes(data=True) if d[\"bipartite\"] == 0}\n",
    "org_nodes = set(B) - bid_nodes"
   ]
  },
  {
   "cell_type": "markdown",
   "metadata": {},
   "source": [
    "# NEW GRAPHS"
   ]
  },
  {
   "cell_type": "markdown",
   "metadata": {},
   "source": [
    "# BIDBID"
   ]
  },
  {
   "cell_type": "code",
   "execution_count": null,
   "metadata": {},
   "outputs": [],
   "source": [
    "id_round = cb_new[['target_ID','round_simp']]\n",
    "id_round = id_round.drop_duplicates()\n",
    "id_round.index = range(len(id_round))\n",
    "id_round['id_round'] = id_round.index\n",
    "id_round\n",
    "\n",
    "id_year = cb_new[['target_ID','date_y']]\n",
    "id_year = id_year.drop_duplicates()\n",
    "id_year.index = range(len(id_year))\n",
    "id_year['id_year'] = id_year.index\n",
    "id_year\n",
    "\n",
    "id_stage = cb_new[['target_ID','stage']]\n",
    "id_stage = id_stage.drop_duplicates()\n",
    "id_stage.index = range(len(id_stage))\n",
    "id_stage['id_stage'] = id_stage.index\n",
    "id_stage"
   ]
  },
  {
   "cell_type": "code",
   "execution_count": null,
   "metadata": {},
   "outputs": [],
   "source": [
    "cb_new = pd.merge(cb_new, id_round,  how='left', left_on=['target_ID','round_simp'], right_on = ['target_ID','round_simp'])\n"
   ]
  },
  {
   "cell_type": "code",
   "execution_count": null,
   "metadata": {},
   "outputs": [],
   "source": [
    "cb_new = pd.merge(cb_new, id_stage,  how='left', left_on=['target_ID','stage'], right_on = ['target_ID','stage'])"
   ]
  },
  {
   "cell_type": "code",
   "execution_count": null,
   "metadata": {},
   "outputs": [],
   "source": [
    "cb_new = pd.merge(cb_new, id_year,  how='left', left_on=['target_ID','date_y'], right_on = ['target_ID','date_y'])"
   ]
  },
  {
   "cell_type": "code",
   "execution_count": null,
   "metadata": {},
   "outputs": [],
   "source": [
    "nodes_org = nodes[nodes['bipartite']==1]\n",
    "nodes_inv = nodes[nodes['bipartite']==0]"
   ]
  },
  {
   "cell_type": "markdown",
   "metadata": {},
   "source": [
    "# FOLLOWERS"
   ]
  },
  {
   "cell_type": "markdown",
   "metadata": {},
   "source": [
    "## STAGE"
   ]
  },
  {
   "cell_type": "code",
   "execution_count": null,
   "metadata": {},
   "outputs": [],
   "source": [
    "##bidbid in stesso stage\n",
    "links = []\n",
    "subcb = cb_new[['stage','date_my','id_y','size_real','investor_numbers','target_name']].drop_duplicates()\n",
    "subcb = subcb[pd.notna(subcb['date_my'])]\n",
    "subcb = subcb[pd.notna(subcb['size_real'])]\n",
    "for i in tqdm(subcb['target_name'].unique()):\n",
    "    subcb2 = subcb[subcb['target_name']==i]\n",
    "    for date1 in (subcb2['date_my']).unique():\n",
    "        for date2 in (subcb2['date_my']).unique():\n",
    "            if date2>date1:\n",
    "                list1 = list(subcb2[subcb2['date_my']==date1]['id_y'])\n",
    "                list2 = list(subcb2[subcb2['date_my']==date2]['id_y'])\n",
    "                for couple in itertools.product(list2, list1):\n",
    "                    riferimento = subcb2[subcb2['date_my']==date2]\n",
    "                    links.append((couple + ({'money': riferimento['size_real'].values[0]/riferimento['investor_numbers'].values[0],\n",
    "                             'date': date2.year,\n",
    "                             'stage': riferimento['stage'].values[0],\n",
    "                             'target_name':i},)))"
   ]
  },
  {
   "cell_type": "code",
   "execution_count": null,
   "metadata": {},
   "outputs": [],
   "source": [
    "bidbid_dir=nx.MultiDiGraph()\n",
    "bidbid_dir.add_nodes_from(nodes[nodes.bipartite==0].id)\n",
    "nx.set_node_attributes(bidbid_dir, pd.Series(nodes_inv.node, index=nodes_inv.id).to_dict(), 'name')\n",
    "nx.set_node_attributes(bidbid_dir, pd.Series(nodes_inv.country, index=nodes_inv.id).to_dict(), 'country')\n",
    "nx.set_node_attributes(bidbid_dir, pd.Series(nodes_inv.continent, index=nodes_inv.id).to_dict(), 'continent')\n",
    "nx.set_node_attributes(bidbid_dir, pd.Series(nodes_inv.industry, index=nodes_inv.id).to_dict(), 'industry')\n",
    "nx.set_node_attributes(bidbid_dir, pd.Series(nodes_inv.foundation, index=nodes_inv.id).to_dict(), 'foundation')\n",
    "nx.set_node_attributes(bidbid_dir, pd.Series(nodes_inv.bipartite, index=nodes_inv.id).to_dict(), 'bipartite')\n",
    "bidbid_dir.add_edges_from(links) \n",
    "remove = [node for node,degree in dict(bidbid_dir.degree()).items() if degree == 0]\n",
    "bidbid_dir.remove_nodes_from(remove)\n",
    "bidbid_dir.remove_nodes_from(brutti)\n",
    "remove2 = [node for node,degree in dict(bidbid_dir.degree()).items() if degree == 0]\n",
    "bidbid_dir.remove_nodes_from(remove2)\n",
    "nx.info(bidbid_dir)"
   ]
  },
  {
   "cell_type": "code",
   "execution_count": null,
   "metadata": {},
   "outputs": [],
   "source": [
    "finestra = window(list(range(1993,2021)),5)"
   ]
  },
  {
   "cell_type": "code",
   "execution_count": null,
   "metadata": {},
   "outputs": [],
   "source": [
    "for periodo in finestra:\n",
    "    locals()[\"bidbid_dir_\"+str(periodo[-1])]=nx.MultiDiGraph([(u,v,d) for u,v,d in bidbid_dir.edges(data=True) if d['date'] in periodo])\n",
    "    print(periodo[-1])"
   ]
  },
  {
   "cell_type": "code",
   "execution_count": null,
   "metadata": {},
   "outputs": [],
   "source": [
    "#tasformo i periodini multi in periodini single\n",
    "for periodo in finestra:\n",
    "    a = nx.DiGraph()\n",
    "    for u,v,data in locals()[\"bidbid_dir_\"+str(periodo[-1])].edges(data=True):\n",
    "        d = data['date']\n",
    "        m = data['money']\n",
    "        s = data['stage']\n",
    "        t = data['target_name']\n",
    "        if a.has_edge(u,v):\n",
    "            a[u][v]['date'] = list(set([locals()[\"bidbid_dir_\"+str(periodo[-1])][u][v][0]['date']] + [d]))\n",
    "            a[u][v]['money'] += m\n",
    "            a[u][v]['stage'] = list(set([locals()[\"bidbid_dir_\"+str(periodo[-1])][u][v][0]['stage']] + [s]))\n",
    "            a[u][v]['target_name'] = list(set([locals()[\"bidbid_dir_\"+str(periodo[-1])][u][v][0]['target_name']] + [t]))\n",
    "        else:\n",
    "            a.add_edge(u, v, date=[d])\n",
    "            a.add_edge(u, v, money = m)\n",
    "            a.add_edge(u, v, stage=[s])\n",
    "            a.add_edge(u, v, target_name = [t])\n",
    "        \n",
    "    locals()[\"bidbid_dir_single_\"+str(periodo[-1])] = a\n",
    "    print(periodo[-1])"
   ]
  },
  {
   "cell_type": "code",
   "execution_count": null,
   "metadata": {},
   "outputs": [],
   "source": [
    "finestra = window(list(range(1993,2021)),5)\n",
    "for periodo in finestra:\n",
    "    locals()[\"bidbid_dir_single_\"+str(periodo[-1])].add_nodes_from(nodes[nodes.bipartite==0].id)\n",
    "    nx.set_node_attributes(locals()[\"bidbid_dir_single_\"+str(periodo[-1])], pd.Series(nodes_inv.node, index=nodes_inv.id).to_dict(), 'name')\n",
    "    nx.set_node_attributes(locals()[\"bidbid_dir_single_\"+str(periodo[-1])], pd.Series(nodes_inv.country, index=nodes_inv.id).to_dict(), 'country')\n",
    "    nx.set_node_attributes(locals()[\"bidbid_dir_single_\"+str(periodo[-1])], pd.Series(nodes_inv.continent, index=nodes_inv.id).to_dict(), 'continent')\n",
    "    nx.set_node_attributes(locals()[\"bidbid_dir_single_\"+str(periodo[-1])], pd.Series(nodes_inv.industry, index=nodes_inv.id).to_dict(), 'industry')\n",
    "    nx.set_node_attributes(locals()[\"bidbid_dir_single_\"+str(periodo[-1])], pd.Series(nodes_inv.foundation, index=nodes_inv.id).to_dict(), 'foundation')\n",
    "    nx.set_node_attributes(locals()[\"bidbid_dir_single_\"+str(periodo[-1])], pd.Series(nodes_inv.bipartite, index=nodes_inv.id).to_dict(), 'bipartite')\n",
    "    remove = [node for node,degree in dict( locals()[\"bidbid_dir_single_\"+str(periodo[-1])].degree()).items() if degree == 0]\n",
    "    locals()[\"bidbid_dir_single_\"+str(periodo[-1])].remove_nodes_from(remove)\n",
    "    locals()[\"bidbid_dir_single_\"+str(periodo[-1])].remove_nodes_from(brutti)\n",
    "    remove2 = [node for node,degree in dict( locals()[\"bidbid_dir_single_\"+str(periodo[-1])].degree()).items() if degree == 0]\n",
    "    locals()[\"bidbid_dir_single_\"+str(periodo[-1])].remove_nodes_from(remove2)\n",
    "    nx.readwrite.write_gpickle(locals()[\"bidbid_dir_single_\"+str(periodo[-1])], \"bidbid_dir_single_\"+str(periodo[-1])+'.gpickle')\n",
    "    nx.info(locals()[\"bidbid_dir_single_\"+str(periodo[-1])])"
   ]
  },
  {
   "cell_type": "markdown",
   "metadata": {},
   "source": [
    "# UNDI"
   ]
  },
  {
   "cell_type": "markdown",
   "metadata": {},
   "source": [
    "## ANNO"
   ]
  },
  {
   "cell_type": "code",
   "execution_count": null,
   "metadata": {},
   "outputs": [],
   "source": [
    "##bidbid in stesso anno\n",
    "links = []\n",
    "subcb = cb_new[['id_year','date_y','id_y']].drop_duplicates()\n",
    "subcb = subcb[pd.notna(subcb['date_y'])]\n",
    "for i in tqdm(subcb['id_year'].unique()):\n",
    "    subcb2 = subcb[subcb['id_year']==i]\n",
    "    for couple in itertools.combinations(np.unique(subcb2['id_y'].values),2):\n",
    "        links.append((couple + ({'date': subcb2['date_y'].values[0].year},)))\n"
   ]
  },
  {
   "cell_type": "code",
   "execution_count": null,
   "metadata": {},
   "outputs": [],
   "source": [
    "bidbid=nx.MultiGraph()\n",
    "bidbid.add_nodes_from(nodes[nodes.bipartite==0].id)\n",
    "nx.set_node_attributes(bidbid, pd.Series(nodes_inv.node, index=nodes_inv.id).to_dict(), 'name')\n",
    "nx.set_node_attributes(bidbid, pd.Series(nodes_inv.country, index=nodes_inv.id).to_dict(), 'country')\n",
    "nx.set_node_attributes(bidbid, pd.Series(nodes_inv.continent, index=nodes_inv.id).to_dict(), 'continent')\n",
    "nx.set_node_attributes(bidbid, pd.Series(nodes_inv.industry, index=nodes_inv.id).to_dict(), 'industry')\n",
    "nx.set_node_attributes(bidbid, pd.Series(nodes_inv.foundation, index=nodes_inv.id).to_dict(), 'foundation')\n",
    "nx.set_node_attributes(bidbid, pd.Series(nodes_inv.bipartite, index=nodes_inv.id).to_dict(), 'bipartite')\n",
    "bidbid.add_edges_from(links) \n",
    "remove = [node for node,degree in dict(bidbid.degree()).items() if degree == 0]\n",
    "bidbid.remove_nodes_from(remove)\n",
    "bidbid.remove_nodes_from(brutti)\n",
    "remove2 = [node for node,degree in dict(bidbid.degree()).items() if degree == 0]\n",
    "bidbid.remove_nodes_from(remove2)\n",
    "nx.readwrite.write_gpickle(bidbid,'bidbid_cb.gpickle')\n",
    "nx.info(bidbid)"
   ]
  },
  {
   "cell_type": "markdown",
   "metadata": {},
   "source": [
    "## ROUND"
   ]
  },
  {
   "cell_type": "code",
   "execution_count": null,
   "metadata": {},
   "outputs": [],
   "source": [
    "##bidbid in stesso round\n",
    "links = []\n",
    "subcb = cb_new[['round_simp','id_year','date_y','id_y','size_real','id_round','investor_numbers','target_name']].drop_duplicates()\n",
    "subcb = subcb[pd.notna(subcb['date_y'])]\n",
    "subcb = subcb[pd.notna(subcb['size_real'])]\n",
    "for i in tqdm(subcb['id_round'].unique()):\n",
    "    subcb2 = subcb[subcb['id_round']==i]\n",
    "    for couple in itertools.combinations(np.unique(subcb2['id_y'].values),2):\n",
    "        links.append((couple + ({'date': subcb2['date_y'].values[0].year,\n",
    "                                'round': subcb2['round_simp'].values[0],\n",
    "                                'money': subcb2['size_real'].values[0]/(subcb2['investor_numbers'].values[0]-1),\n",
    "                                'target_name': subcb2['target_name'].values[0]},)))\n"
   ]
  },
  {
   "cell_type": "code",
   "execution_count": null,
   "metadata": {},
   "outputs": [],
   "source": [
    "bidbid_round=nx.MultiGraph()\n",
    "bidbid_round.add_nodes_from(nodes[nodes.bipartite==0].id)\n",
    "nx.set_node_attributes(bidbid_round, pd.Series(nodes_inv.node, index=nodes_inv.id).to_dict(), 'name')\n",
    "nx.set_node_attributes(bidbid_round, pd.Series(nodes_inv.country, index=nodes_inv.id).to_dict(), 'country')\n",
    "nx.set_node_attributes(bidbid_round, pd.Series(nodes_inv.continent, index=nodes_inv.id).to_dict(), 'continent')\n",
    "nx.set_node_attributes(bidbid_round, pd.Series(nodes_inv.industry, index=nodes_inv.id).to_dict(), 'industry')\n",
    "nx.set_node_attributes(bidbid_round, pd.Series(nodes_inv.foundation, index=nodes_inv.id).to_dict(), 'foundation')\n",
    "nx.set_node_attributes(bidbid_round, pd.Series(nodes_inv.bipartite, index=nodes_inv.id).to_dict(), 'bipartite')\n",
    "bidbid_round.add_edges_from(links) \n",
    "remove = [node for node,degree in dict(bidbid_round.degree()).items() if degree == 0]\n",
    "bidbid_round.remove_nodes_from(remove)\n",
    "bidbid_round.remove_nodes_from(brutti)\n",
    "remove2 = [node for node,degree in dict(bidbid_round.degree()).items() if degree == 0]\n",
    "bidbid_round.remove_nodes_from(remove2)\n",
    "nx.readwrite.write_gpickle(bidbid_round,'bidbid_round_cb.gpickle')\n",
    "nx.info(bidbid_round)"
   ]
  },
  {
   "cell_type": "markdown",
   "metadata": {},
   "source": [
    "# STAGE"
   ]
  },
  {
   "cell_type": "code",
   "execution_count": null,
   "metadata": {},
   "outputs": [],
   "source": [
    "##bidbid in stesso stage\n",
    "links = []\n",
    "subcb = cb_new[['stage','date_y','id_y','size_real','id_stage','investor_numbers','target_name']].drop_duplicates()\n",
    "subcb = subcb[pd.notna(subcb['date_y'])]\n",
    "subcb = subcb[pd.notna(subcb['size_real'])]\n",
    "for i in tqdm(subcb['id_stage'].unique()):\n",
    "    subcb2 = subcb[subcb['id_stage']==i]\n",
    "    for couple in itertools.combinations(np.unique(subcb2['id_y'].values),2):\n",
    "        links.append((couple + ({'date': subcb2['date_y'].values[0].year,\n",
    "                                'stage': subcb2['stage'].values[0],\n",
    "                                'money': subcb2['size_real'].values[0]/(subcb2['investor_numbers'].values[0]-1),\n",
    "                                'target_name': subcb2['target_name'].values[0]},)))"
   ]
  },
  {
   "cell_type": "code",
   "execution_count": null,
   "metadata": {},
   "outputs": [],
   "source": [
    "bidbid_stage=nx.MultiGraph()\n",
    "bidbid_stage.add_nodes_from(nodes[nodes.bipartite==0].id)\n",
    "nx.set_node_attributes(bidbid_stage, pd.Series(nodes_inv.node, index=nodes_inv.id).to_dict(), 'name')\n",
    "nx.set_node_attributes(bidbid_stage, pd.Series(nodes_inv.country, index=nodes_inv.id).to_dict(), 'country')\n",
    "nx.set_node_attributes(bidbid_stage, pd.Series(nodes_inv.continent, index=nodes_inv.id).to_dict(), 'continent')\n",
    "nx.set_node_attributes(bidbid_stage, pd.Series(nodes_inv.industry, index=nodes_inv.id).to_dict(), 'industry')\n",
    "nx.set_node_attributes(bidbid_stage, pd.Series(nodes_inv.foundation, index=nodes_inv.id).to_dict(), 'foundation')\n",
    "nx.set_node_attributes(bidbid_stage, pd.Series(nodes_inv.bipartite, index=nodes_inv.id).to_dict(), 'bipartite')\n",
    "bidbid_stage.add_edges_from(links) \n",
    "remove = [node for node,degree in dict(bidbid_stage.degree()).items() if degree == 0]\n",
    "bidbid_stage.remove_nodes_from(remove)\n",
    "bidbid_stage.remove_nodes_from(brutti)\n",
    "remove2 = [node for node,degree in dict(bidbid_stage.degree()).items() if degree == 0]\n",
    "bidbid_stage.remove_nodes_from(remove2)\n",
    "nx.readwrite.write_gpickle(bidbid_stage,'bidbid_stage_cb.gpickle')\n",
    "nx.info(bidbid_stage)"
   ]
  },
  {
   "cell_type": "markdown",
   "metadata": {},
   "source": [
    "## REPLACEMENT STAGE"
   ]
  },
  {
   "cell_type": "code",
   "execution_count": null,
   "metadata": {},
   "outputs": [],
   "source": [
    "##bidbid in stesso stage\n",
    "links = []\n",
    "subcb = cb_new[['stage','date_y','id_y','size_real','id_stage','investor_numbers','target_name']].drop_duplicates()\n",
    "subcb = subcb[pd.notna(subcb['date_y'])]\n",
    "subcb = subcb[pd.notna(subcb['size_real'])]\n",
    "for i in tqdm(subcb['id_stage'].unique()):\n",
    "    subcb2 = subcb[subcb['id_stage']==i]\n",
    "    for couple in itertools.combinations_with_replacement(np.unique(subcb2['id_y'].values),2):\n",
    "        links.append((couple + ({'date': subcb2['date_y'].values[0].year,\n",
    "                                'stage': subcb2['stage'].values[0],\n",
    "                                'money': subcb2['size_real'].values[0]/(subcb2['investor_numbers'].values[0]),\n",
    "                                'target_name': subcb2['target_name'].values[0]},)))"
   ]
  },
  {
   "cell_type": "code",
   "execution_count": null,
   "metadata": {},
   "outputs": [],
   "source": [
    "bidbid_stage_self=nx.MultiGraph()\n",
    "bidbid_stage_self.add_nodes_from(nodes[nodes.bipartite==0].id)\n",
    "nx.set_node_attributes(bidbid_stage_self, pd.Series(nodes_inv.node, index=nodes_inv.id).to_dict(), 'name')\n",
    "nx.set_node_attributes(bidbid_stage_self, pd.Series(nodes_inv.country, index=nodes_inv.id).to_dict(), 'country')\n",
    "nx.set_node_attributes(bidbid_stage_self, pd.Series(nodes_inv.continent, index=nodes_inv.id).to_dict(), 'continent')\n",
    "nx.set_node_attributes(bidbid_stage_self, pd.Series(nodes_inv.industry, index=nodes_inv.id).to_dict(), 'industry')\n",
    "nx.set_node_attributes(bidbid_stage_self, pd.Series(nodes_inv.foundation, index=nodes_inv.id).to_dict(), 'foundation')\n",
    "nx.set_node_attributes(bidbid_stage_self, pd.Series(nodes_inv.bipartite, index=nodes_inv.id).to_dict(), 'bipartite')\n",
    "bidbid_stage_self.add_edges_from(links) \n",
    "remove = [node for node,degree in dict(bidbid_stage_self.degree()).items() if degree == 0]\n",
    "bidbid_stage_self.remove_nodes_from(remove)\n",
    "bidbid_stage_self.remove_nodes_from(brutti)\n",
    "remove2 = [node for node,degree in dict(bidbid_stage_self.degree()).items() if degree == 0]\n",
    "bidbid_stage_self.remove_nodes_from(remove2)\n",
    "nx.readwrite.write_gpickle(bidbid_stage_self,'bidbid_stage_self.gpickle')\n",
    "nx.info(bidbid_stage_self)"
   ]
  },
  {
   "cell_type": "markdown",
   "metadata": {},
   "source": [
    "# SINGLE\n"
   ]
  },
  {
   "cell_type": "markdown",
   "metadata": {},
   "source": [
    "## STAGE SINGLE"
   ]
  },
  {
   "cell_type": "code",
   "execution_count": null,
   "metadata": {},
   "outputs": [],
   "source": [
    "bidbid_stage_single = nx.Graph()\n",
    "for u,v,data in bidbid_stage.edges(data=True):\n",
    "    d = data['date']\n",
    "    m = data['money']\n",
    "    s = data['stage']\n",
    "    t = data['target_name']\n",
    "    if bidbid_stage_single.has_edge(u,v):\n",
    "        bidbid_stage_single[u][v]['date'] = list(set([bidbid_stage[u][v][0]['date']] + [d]))\n",
    "        bidbid_stage_single[u][v]['money'] += m\n",
    "        bidbid_stage_single[u][v]['stage'] = list(set([bidbid_stage[u][v][0]['stage']] + [s]))\n",
    "        bidbid_stage_single[u][v]['target_name'] = list(set([bidbid_stage[u][v][0]['target_name']] + [t]))\n",
    "    else:\n",
    "        bidbid_stage_single.add_edge(u, v, date=[d])\n",
    "        bidbid_stage_single.add_edge(u, v, money = m)\n",
    "        bidbid_stage_single.add_edge(u, v, stage=[s])\n",
    "        bidbid_stage_single.add_edge(u, v, target_name = [t])\n",
    "        "
   ]
  },
  {
   "cell_type": "code",
   "execution_count": null,
   "metadata": {},
   "outputs": [],
   "source": [
    "nx.readwrite.write_gpickle(bidbid_stage_single,'bidbid_stage_single_cb.gpickle')\n",
    "nx.info(bidbid_stage_single)"
   ]
  },
  {
   "cell_type": "markdown",
   "metadata": {},
   "source": [
    "## REPLACEMENT STAGE SINGLE"
   ]
  },
  {
   "cell_type": "code",
   "execution_count": null,
   "metadata": {},
   "outputs": [],
   "source": [
    "bidbid_stage_self_single = nx.Graph()\n",
    "for u,v,data in bidbid_stage_self.edges(data=True):\n",
    "    d = data['date']\n",
    "    m = data['money']\n",
    "    s = data['stage']\n",
    "    t = data['target_name']\n",
    "    if bidbid_stage_self_single.has_edge(u,v):\n",
    "        bidbid_stage_self_single[u][v]['date'] = list(set([bidbid_stage_self[u][v][0]['date']] + [d]))\n",
    "        bidbid_stage_self_single[u][v]['money'] += m\n",
    "        bidbid_stage_self_single[u][v]['stage'] = list(set([bidbid_stage_self[u][v][0]['stage']] + [s]))\n",
    "        bidbid_stage_self_single[u][v]['target_name'] = list(set([bidbid_stage_self[u][v][0]['target_name']] + [t]))\n",
    "    else:\n",
    "        bidbid_stage_self_single.add_edge(u, v, date=[d])\n",
    "        bidbid_stage_self_single.add_edge(u, v, money = m)\n",
    "        bidbid_stage_self_single.add_edge(u, v, stage=[s])\n",
    "        bidbid_stage_self_single.add_edge(u, v, target_name = [t])\n",
    "        "
   ]
  },
  {
   "cell_type": "code",
   "execution_count": null,
   "metadata": {},
   "outputs": [],
   "source": [
    "nx.readwrite.write_gpickle(bidbid_stage_self_single,'bidbid_stage_self_single.gpickle')\n",
    "nx.info(bidbid_stage_self_single)"
   ]
  },
  {
   "cell_type": "markdown",
   "metadata": {},
   "source": [
    "# WINDOW"
   ]
  },
  {
   "cell_type": "code",
   "execution_count": null,
   "metadata": {},
   "outputs": [],
   "source": [
    "from itertools import islice\n",
    "\n",
    "def window(seq, n):\n",
    "    \"Returns a sliding window (of width n) over data from the iterable\"\n",
    "    \"   s -> (s0,s1,...s[n-1]), (s1,s2,...,sn), ...                   \"\n",
    "    it = iter(seq)\n",
    "    result = tuple(islice(it, n))\n",
    "    if len(result) == n:\n",
    "        yield result\n",
    "    for elem in it:\n",
    "        result = result[1:] + (elem,)\n",
    "        yield result"
   ]
  },
  {
   "cell_type": "code",
   "execution_count": null,
   "metadata": {},
   "outputs": [],
   "source": [
    "finestra = window(list(range(1993,2022)),5)\n",
    "for periodo in finestra:\n",
    "    locals()[\"bidbid_stage_\"+str(periodo[-1])]=nx.MultiGraph([(u,v,d) for u,v,d in bidbid_stage.edges(data=True) if d['date'] in periodo])\n",
    "    print(periodo[-1])"
   ]
  },
  {
   "cell_type": "markdown",
   "metadata": {},
   "source": [
    "## STAGE SINGLE ANNO"
   ]
  },
  {
   "cell_type": "code",
   "execution_count": null,
   "metadata": {},
   "outputs": [],
   "source": [
    "#tasformo i periodini multi in periodini single\n",
    "for periodo in finestra:\n",
    "    a = nx.Graph()\n",
    "    for u,v,data in locals()[\"bidbid_stage_\"+str(periodo[-1])].edges(data=True):\n",
    "        d = data['date']\n",
    "        m = data['money']\n",
    "        s = data['stage']\n",
    "        t = data['target_name']\n",
    "        if a.has_edge(u,v):\n",
    "            a[u][v]['date'] = list(set([locals()[\"bidbid_stage_\"+str(periodo[-1])][u][v][0]['date']] + [d]))\n",
    "            a[u][v]['money'] += m\n",
    "            a[u][v]['stage'] = list(set([locals()[\"bidbid_stage_\"+str(periodo[-1])][u][v][0]['stage']] + [s]))\n",
    "            a[u][v]['target_name'] = list(set([locals()[\"bidbid_stage_\"+str(periodo[-1])][u][v][0]['target_name']] + [t]))\n",
    "        else:\n",
    "            a.add_edge(u, v, date=[d])\n",
    "            a.add_edge(u, v, money = m)\n",
    "            a.add_edge(u, v, stage=[s])\n",
    "            a.add_edge(u, v, target_name = [t])\n",
    "    locals()[\"bidbid_stage_single_\"+str(periodo[-1])] = a\n",
    "    print(periodo[-1])"
   ]
  },
  {
   "cell_type": "code",
   "execution_count": null,
   "metadata": {},
   "outputs": [],
   "source": [
    "finestra = window(list(range(1993,2022)),5)\n",
    "for periodo in finestra:\n",
    "    locals()[\"bidbid_stage_single_\"+str(periodo[-1])].add_nodes_from(nodes[nodes.bipartite==0].id)\n",
    "    nx.set_node_attributes(locals()[\"bidbid_stage_single_\"+str(periodo[-1])], pd.Series(nodes_inv.node, index=nodes_inv.id).to_dict(), 'name')\n",
    "    nx.set_node_attributes(locals()[\"bidbid_stage_single_\"+str(periodo[-1])], pd.Series(nodes_inv.country, index=nodes_inv.id).to_dict(), 'country')\n",
    "    nx.set_node_attributes(locals()[\"bidbid_stage_single_\"+str(periodo[-1])], pd.Series(nodes_inv.continent, index=nodes_inv.id).to_dict(), 'continent')\n",
    "    nx.set_node_attributes(locals()[\"bidbid_stage_single_\"+str(periodo[-1])], pd.Series(nodes_inv.industry, index=nodes_inv.id).to_dict(), 'industry')\n",
    "    nx.set_node_attributes(locals()[\"bidbid_stage_single_\"+str(periodo[-1])], pd.Series(nodes_inv.foundation, index=nodes_inv.id).to_dict(), 'foundation')\n",
    "    nx.set_node_attributes(locals()[\"bidbid_stage_single_\"+str(periodo[-1])], pd.Series(nodes_inv.bipartite, index=nodes_inv.id).to_dict(), 'bipartite')\n",
    "    remove = [node for node,degree in dict( locals()[\"bidbid_stage_single_\"+str(periodo[-1])].degree()).items() if degree == 0]\n",
    "    locals()[\"bidbid_stage_single_\"+str(periodo[-1])].remove_nodes_from(remove)\n",
    "    locals()[\"bidbid_stage_single_\"+str(periodo[-1])].remove_nodes_from(brutti)\n",
    "    remove2 = [node for node,degree in dict( locals()[\"bidbid_stage_single_\"+str(periodo[-1])].degree()).items() if degree == 0]\n",
    "    locals()[\"bidbid_stage_single_\"+str(periodo[-1])].remove_nodes_from(remove2)\n",
    "    nx.readwrite.write_gpickle(locals()[\"bidbid_stage_single_\"+str(periodo[-1])], \"bidbid_stage_single_\"+str(periodo[-1])+'.gpickle')\n",
    "    nx.info(locals()[\"bidbid_stage_single_\"+str(periodo[-1])])"
   ]
  },
  {
   "cell_type": "markdown",
   "metadata": {},
   "source": [
    "## REPLACEMENT STAGE SINGLE ANNO"
   ]
  },
  {
   "cell_type": "code",
   "execution_count": null,
   "metadata": {},
   "outputs": [],
   "source": [
    "for periodo in finestra:\n",
    "    locals()[\"bidbid_stage_self_\"+str(periodo[-1])]=nx.MultiGraph([(u,v,d) for u,v,d in bidbid_stage_self.edges(data=True) if d['date'] in periodo])\n",
    "    print(periodo[-1])"
   ]
  },
  {
   "cell_type": "code",
   "execution_count": null,
   "metadata": {},
   "outputs": [],
   "source": [
    "#tasformo i periodini multi in periodini single\n",
    "for periodo in finestra:\n",
    "    a = nx.Graph()\n",
    "    for u,v,data in locals()[\"bidbid_stage_self_\"+str(periodo[-1])].edges(data=True):\n",
    "        d = data['date']\n",
    "        m = data['money']\n",
    "        s = data['stage']\n",
    "        t = data['target_name']\n",
    "        if a.has_edge(u,v):\n",
    "            a[u][v]['date'] = list(set([locals()[\"bidbid_stage_self_\"+str(periodo[-1])][u][v][0]['date']] + [d]))\n",
    "            a[u][v]['money'] += m\n",
    "            a[u][v]['stage'] = list(set([locals()[\"bidbid_stage_self_\"+str(periodo[-1])][u][v][0]['stage']] + [s]))\n",
    "            a[u][v]['target_name'] = list(set([locals()[\"bidbid_stage_self_\"+str(periodo[-1])][u][v][0]['target_name']] + [t]))\n",
    "        else:\n",
    "            a.add_edge(u, v, date=[d])\n",
    "            a.add_edge(u, v, money = m)\n",
    "            a.add_edge(u, v, stage=[s])\n",
    "            a.add_edge(u, v, target_name = [t])\n",
    "    locals()[\"bidbid_stage_self_single_\"+str(periodo[-1])] = a\n",
    "    nx.readwrite.write_gpickle(locals()[\"bidbid_stage_self_single_\"+str(periodo[-1])], \"bidbid_stage_self_single_\"+str(periodo[-1])+\".gpickle\")\n",
    "    print(periodo[-1])\n",
    "    "
   ]
  },
  {
   "cell_type": "markdown",
   "metadata": {},
   "source": [
    "# COMMUNITIES"
   ]
  },
  {
   "cell_type": "code",
   "execution_count": null,
   "metadata": {},
   "outputs": [],
   "source": [
    "bidbid_stage = nx.readwrite.read_gpickle('bidbid_stage_cb.gpickle')"
   ]
  },
  {
   "cell_type": "code",
   "execution_count": null,
   "metadata": {},
   "outputs": [],
   "source": [
    "partition = community_louvain.best_partition(bidbid_stage)\n",
    "#group the values\n",
    "# store the names (the keys of\n",
    "#the new dict) as a set (keeps elements unique)\n",
    "#com = set(partition.values())"
   ]
  },
  {
   "cell_type": "code",
   "execution_count": null,
   "metadata": {},
   "outputs": [],
   "source": [
    "\n",
    "\n",
    "# use a list comprehension, iterating through keys and checking the values match each n\n",
    "d = {}\n",
    "for n in com:\n",
    "    d[n] = [k for k in partition.keys() if partition[k] == n]\n",
    "e = dict((k, v) for k, v in d.items() if len(v) >= 10)\n",
    "f = list(e.items())"
   ]
  },
  {
   "cell_type": "markdown",
   "metadata": {},
   "source": [
    "# PEOPLE"
   ]
  },
  {
   "cell_type": "code",
   "execution_count": null,
   "metadata": {},
   "outputs": [],
   "source": [
    "cb_new.to_csv('cb_new.csv')"
   ]
  },
  {
   "cell_type": "code",
   "execution_count": null,
   "metadata": {},
   "outputs": [],
   "source": [
    "##STARTUPS\n",
    "\n",
    "nodi_target = cb_new[['target_name','target_people']].drop_duplicates()\n",
    "nodi_target = nodi_target[pd.notna(nodi_target['target_people'])]\n",
    "nodi_target = nodi_target.assign(target_persone=list(nodi_target.target_people.str.split(\",\"))).explode('target_persone')\n",
    "nodi_target = nodi_target[['target_name','target_persone']]\n",
    "import re\n",
    "persona = []\n",
    "carica = []\n",
    "for i in list(nodi_target['target_persone']):\n",
    "        try:\n",
    "            persona.append(i.partition(' (')[0])\n",
    "            carica.append(re.search('\\(([^)]+)', i).group(1))\n",
    "        except:\n",
    "            carica.append('not')\n",
    "for i in range(len(carica)):\n",
    "    if carica[i] == 'not':\n",
    "        carica[i] = carica[i+1]\n",
    "nodi_target = nodi_target.assign(carica = carica, persona = persona)\n",
    "nodi_target = nodi_target[nodi_target['persona']!= ' Jr.']\n",
    "nodi_target_single = nodi_target[['target_name','carica','persona']].rename(columns={'target_name':'name'})\n",
    "nodi_target_single['type'] = 1\n",
    "\n",
    "##INVESTORS\n",
    "nodi_investor = cb_new[['investors_name','investor_ppl']].drop_duplicates()\n",
    "nodi_investor = nodi_investor[pd.notna(nodi_investor['investor_ppl'])]\n",
    "nodi_investor = nodi_investor.assign(investor_persone=list(nodi_investor.investor_ppl.str.split(\",\"))).explode('investor_persone')\n",
    "nodi_investor = nodi_investor[['investors_name','investor_persone']]\n",
    "import re\n",
    "persona = []\n",
    "carica = []\n",
    "for i in list(nodi_investor['investor_persone']):\n",
    "        try:\n",
    "            persona.append(i.partition(' (')[0])\n",
    "            carica.append(re.search('\\(([^)]+)', i).group(1))\n",
    "        except:\n",
    "            carica.append('not')\n",
    "for i in range(len(carica)):\n",
    "    if carica[i] == 'not':\n",
    "        carica[i] = carica[i+1]\n",
    "nodi_investor = nodi_investor.assign(carica = carica, persona = persona)\n",
    "nodi_investor = nodi_investor[nodi_investor['persona']!= ' Jr.']\n",
    "nodi_investor_single = nodi_investor[['investors_name','carica','persona']].rename(columns={'investors_name':'name'})\n",
    "nodi_investor_single['type'] = 0\n",
    "\n",
    "nodi = nodi_target_single.append(nodi_investor_single)"
   ]
  },
  {
   "cell_type": "markdown",
   "metadata": {},
   "source": [
    "# ORGORG"
   ]
  },
  {
   "cell_type": "code",
   "execution_count": null,
   "metadata": {},
   "outputs": [],
   "source": [
    "B = nx.MultiGraph(name='org-bid')\n",
    "# Add nodes with the node attribute \"bipartite\"\n",
    "B.add_nodes_from(nodes[nodes.bipartite==0].id)\n",
    "B.add_nodes_from(nodes[nodes.bipartite==1].id)\n",
    "nx.set_node_attributes(B, pd.Series(nodes.node, index=nodes.id).to_dict(), 'name')\n",
    "nx.set_node_attributes(B, pd.Series(nodes.country, index=nodes.id).to_dict(), 'country')\n",
    "nx.set_node_attributes(B, pd.Series(nodes.continent, index=nodes.continent).to_dict(), 'continent')\n",
    "nx.set_node_attributes(B, pd.Series(nodes.industry, index=nodes.id).to_dict(), 'industry')\n",
    "nx.set_node_attributes(B, pd.Series(nodes.foundation, index=nodes.id).to_dict(), 'foundation')\n",
    "nx.set_node_attributes(B, pd.Series(nodes.bipartite, index=nodes.id).to_dict(), 'bipartite')\n",
    "nx.set_node_attributes(B, pd.Series(nodes.target_status, index=nodes.id).to_dict(), 'target_status')\n",
    "# Add edges only between nodes of opposite node sets\n",
    "cb_new_dates = cb_new[pd.notna(cb_new['date_y'])]\n",
    "cb_new_dates.index = range(len(cb_new_dates)) \n",
    "for i in range(len(cb_new_dates)):\n",
    "    B.add_edge(cb_new_dates.loc[i,'id_y'], cb_new_dates.loc[i,'id_x'], date=(cb_new_dates.loc[i,'date_y']).year, m_raised=cb_new_dates.loc[i,'size_real'], \n",
    "               investors = cb_new_dates.loc[i,'investor_numbers'], round_simp =cb_new_dates.loc[i,'round_simp'])\n",
    "brutti = [x for x,y in B.nodes(data=True) if (y['name']=='Undisclosed Investors') or (y['name']=='Dead')   or (y['name']=='Public')  \n",
    "          or  (y['name']=='Undisclosed Angel Investors') or (y['name']=='Undisclosed Venture Investors')]\n",
    "B.remove_nodes_from(brutti)\n",
    "remove = [node for node,degree in dict(B.degree()).items() if degree == 0]\n",
    "B.remove_nodes_from(remove)\n",
    "bid_nodes = {n for n, d in B.nodes(data=True) if d[\"bipartite\"] == 0}\n",
    "org_nodes = set(B) - bid_nodes"
   ]
  },
  {
   "cell_type": "markdown",
   "metadata": {},
   "source": [
    "## ORGORG"
   ]
  },
  {
   "cell_type": "code",
   "execution_count": null,
   "metadata": {},
   "outputs": [],
   "source": [
    "def project_multi(B, nodes, name):\n",
    "    G=nx.MultiGraph(name=name)\n",
    "    count=0\n",
    "    for node in tqdm(nodes):\n",
    "        ego=nx.ego_graph(B, node)\n",
    "        ndx=list(ego.nodes())\n",
    "        ndx.remove(node)\n",
    "        for year in range(1970,2022): # bad trick to link depending on year\n",
    "            subndx=[x for x in ndx if [y for y in list(ego.edges(data=True)) if y[0]==x or y[1]==x][0][2]['date']==year]\n",
    "            for couple in itertools.combinations(subndx, 2):\n",
    "                if G.has_edge(couple[0], couple[1]):\n",
    "                    continue\n",
    "                G.add_edge(couple[0], couple[1], anno = year)\n",
    "        count+=1\n",
    "        if count%1000==0:\n",
    "            print(count, end=' ')\n",
    "    return G"
   ]
  },
  {
   "cell_type": "code",
   "execution_count": null,
   "metadata": {},
   "outputs": [],
   "source": [
    "orgorg = project_multi(B, bid_nodes, 'orgorg')"
   ]
  },
  {
   "cell_type": "code",
   "execution_count": null,
   "metadata": {},
   "outputs": [],
   "source": [
    "finestra = window(list(range(1970,2022)), 10)\n",
    "for periodo in finestra:\n",
    "    locals()[\"orgorg_\"+str(periodo[-1])]=nx.MultiGraph([(u,v,d) for u,v,d in orgorg.edges(data=True) if d['anno'] in periodo])\n",
    "    print(periodo[-1])"
   ]
  },
  {
   "cell_type": "code",
   "execution_count": null,
   "metadata": {},
   "outputs": [],
   "source": [
    "#tasformo i periodini multi in periodini single\n",
    "finestra = window(list(range(1970,2022)), 10)\n",
    "for periodo in finestra:\n",
    "    a = nx.Graph()\n",
    "    for u,v,data in locals()[\"orgorg_\"+str(periodo[-1])].edges(data=True):\n",
    "        d = data['anno']\n",
    "        if a.has_edge(u,v)==False:\n",
    "            a.add_edge(u, v, date=[d])        \n",
    "    locals()[\"orgorg_single_\"+str(periodo[-1])] = a\n",
    "    nx.readwrite.write_gpickle(locals()[\"orgorg_single_\"+str(periodo[-1])], \"orgorg_single\"+str(periodo[-1])+\".gpickle\")\n",
    "    print(periodo[-1])"
   ]
  },
  {
   "cell_type": "markdown",
   "metadata": {},
   "source": [
    "# ORGORG2"
   ]
  },
  {
   "cell_type": "code",
   "execution_count": null,
   "metadata": {},
   "outputs": [],
   "source": [
    "count=0\n",
    "for year in range(1979,2022):\n",
    "    locals()[\"orgorg2_\"+str(year)] = nx.MultiGraph()\n",
    "for node in tqdm(bid_nodes):\n",
    "    ego=nx.ego_graph(B, node)\n",
    "    ndx=list(ego.nodes())\n",
    "    ndx.remove(node)\n",
    "    finestra = window(list(range(1970,2022)), 10)\n",
    "    for periodo in finestra: # bad trick to link depending on year\n",
    "        subndx=[x for x in ndx if [y for y in list(ego.edges(data=True)) if y[0]==x or y[1]==x][0][2]['date'] in periodo]\n",
    "        for couple in itertools.combinations(subndx, 2):\n",
    "            anno1 = ego[node][couple[0]][0]['date']\n",
    "            anno2 = ego[node][couple[1]][0]['date']\n",
    "            locals()[\"orgorg2_\"+str(periodo[-1])].add_edge(couple[0], couple[1], anno = max(anno1,anno2))\n",
    "    count+=1\n",
    "    if count%1000==0:\n",
    "        print(count, end=' ')"
   ]
  },
  {
   "cell_type": "code",
   "execution_count": null,
   "metadata": {},
   "outputs": [],
   "source": [
    "#tasformo i periodini multi in periodini single\n",
    "finestra = window(list(range(1970,2022)), 10)\n",
    "for periodo in finestra:\n",
    "    a = nx.Graph()\n",
    "    for u,v,data in locals()[\"orgorg2_\"+str(periodo[-1])].edges(data=True):\n",
    "        d = data['anno']\n",
    "        if a.has_edge(u,v)==False:\n",
    "            a.add_edge(u, v, date=[d])        \n",
    "    locals()[\"orgorg2_single_\"+str(periodo[-1])] = a\n",
    "    nx.readwrite.write_gpickle(locals()[\"orgorg2_single_\"+str(periodo[-1])], \"orgorg2_single\"+str(periodo[-1])+\".gpickle\")\n",
    "    print(periodo[-1])"
   ]
  },
  {
   "cell_type": "markdown",
   "metadata": {},
   "source": [
    "# ORGORG3"
   ]
  },
  {
   "cell_type": "code",
   "execution_count": null,
   "metadata": {},
   "outputs": [],
   "source": [
    "count=0\n",
    "finestra = list(range(1979,2022))\n",
    "win = []\n",
    "for i in range(1,len(finestra)+1):\n",
    "    win.append(finestra[:i])\n",
    "for year in range(1979,2022):\n",
    "    locals()[\"orgorg3_\"+str(year)] = nx.MultiGraph()\n",
    "\n",
    "for node in tqdm(bid_nodes):\n",
    "    ego=nx.ego_graph(B, node)\n",
    "    ndx=list(ego.nodes())\n",
    "    ndx.remove(node)\n",
    "    for periodo in win: # bad trick to link depending on year\n",
    "        subndx=[x for x in ndx if [y for y in list(ego.edges(data=True)) if y[0]==x or y[1]==x][0][2]['date'] in periodo]\n",
    "        for couple in itertools.combinations(subndx, 2):\n",
    "            anno1 = ego[node][couple[0]][0]['date']\n",
    "            anno2 = ego[node][couple[1]][0]['date']\n",
    "            locals()[\"orgorg3_\"+str(periodo[-1])].add_edge(couple[0], couple[1], anno = max(anno1,anno2))\n",
    "    count+=1\n",
    "    if count%1000==0:\n",
    "        print(count, end=' ')"
   ]
  },
  {
   "cell_type": "code",
   "execution_count": null,
   "metadata": {},
   "outputs": [],
   "source": [
    "#tasformo i periodini multi in periodini single\n",
    "for periodo in win:\n",
    "    a = nx.Graph()\n",
    "    for u,v,data in locals()[\"orgorg3_\"+str(periodo[-1])].edges(data=True):\n",
    "        d = data['anno']\n",
    "        if a.has_edge(u,v)==False:\n",
    "            a.add_edge(u, v, date=[d])        \n",
    "    locals()[\"orgorg3_single_\"+str(periodo[-1])] = a\n",
    "    nx.readwrite.write_gpickle(locals()[\"orgorg3_single_\"+str(periodo[-1])], \"orgorg3_single\"+str(periodo[-1])+\".gpickle\")\n",
    "    print(periodo[-1])"
   ]
  },
  {
   "cell_type": "markdown",
   "metadata": {},
   "source": [
    "# COVARIATES"
   ]
  },
  {
   "cell_type": "code",
   "execution_count": null,
   "metadata": {},
   "outputs": [],
   "source": [
    "nodes_fda = pd.read_csv('xi.csv')['x']\n",
    "covariates = pd.read_csv('CB_with_covariates.csv')"
   ]
  },
  {
   "cell_type": "code",
   "execution_count": null,
   "metadata": {},
   "outputs": [],
   "source": [
    "eigen_max = []\n",
    "pages_max = []\n",
    "degcen_max = []\n",
    "bet_max = []\n",
    "avg_max = []\n",
    "dis_mean = []\n",
    "clo_max = []\n",
    "newman_max = []\n",
    "vote_min = []\n",
    "for i in tqdm(nodes_fda):\n",
    "    sub = cb_new[['target_ID','date_y','id_y']]\n",
    "    sub = sub[sub['target_ID']==i]\n",
    "    sub2 = sub[sub['date_y']==sub['date_y'].values[0]]\n",
    "    anno = sub['date_y'].values[0].year\n",
    "    investors = set(sub2['id_y'])\n",
    "    eigens = []\n",
    "    pages = []\n",
    "    degcen = []\n",
    "    bet = []\n",
    "    avg = []\n",
    "    dis = []\n",
    "    clo = []\n",
    "    newman = []\n",
    "    vote = []\n",
    "    for l in investors:\n",
    "        try:\n",
    "            eigens.append(covariates[covariates['id']==l]['eigenvector_centrality_single_'+str(anno)].values[0])\n",
    "            pages.append(covariates[covariates['id']==l]['pagerank_single_'+str(anno)].values[0])\n",
    "            degcen.append(covariates[covariates['id']==l]['degree_centrality_single_'+str(anno)].values[0])  \n",
    "            bet.append(covariates[covariates['id']==l]['betweenness_centrality_single_'+str(anno)].values[0]) \n",
    "            avg.append(covariates[covariates['id']==l]['average_neighbor_degree_single_'+str(anno)].values[0])\n",
    "            dis.append(covariates[covariates['id']==l]['dispersion_single_'+str(anno)].values[0])\n",
    "            clo.append(covariates[covariates['id']==l]['closeness_centrality_single_'+str(anno)].values[0])\n",
    "            newman.append(covariates[covariates['id']==l]['newman_betweenness_centrality_single_'+str(anno)].values[0])\n",
    "            vote.append(covariates[covariates['id']==l]['voterank_single_'+str(anno)].values[0])\n",
    "            \n",
    "        except:\n",
    "            eigens.append(np.nan)\n",
    "            pages.append(np.nan)\n",
    "            degcen.append(np.nan)\n",
    "            bet.append(np.nan)\n",
    "            avg.append(np.nan)\n",
    "            dis.append(np.nan)\n",
    "            clo.append(np.nan)\n",
    "            newman.append(np.nan)\n",
    "            vote.append(np.nan)\n",
    "            \n",
    "    eigen_max.append(np.nanmax(eigens))\n",
    "    pages_max.append(np.nanmax(pages))\n",
    "    degcen_max.append(np.nanmax(degcen))\n",
    "    bet_max.append(np.nanmax(bet))\n",
    "    avg_max.append(np.nanmax(avg))\n",
    "    dis_mean.append(np.nanmean(dis))\n",
    "    clo_max.append(np.nanmax(clo))\n",
    "    newman_max.append(np.nanmax(newman))\n",
    "    vote_min.append(np.nanmin(vote))\n"
   ]
  },
  {
   "cell_type": "code",
   "execution_count": null,
   "metadata": {},
   "outputs": [],
   "source": [
    "covariate = nodes[(nodes['index'].isin(list(nodes_fda)))&(nodes['bipartite']==1)]\n",
    "covariate = covariate.assign(eigen_max = eigen_max, pages_max = pages_max, degcen_max = degcen_max, bet_max = bet_max, avg_max = avg_max,\n",
    "                 dis_mean = dis_mean, newman_max = newman_max, vote_min = vote_min)\n"
   ]
  },
  {
   "cell_type": "code",
   "execution_count": null,
   "metadata": {},
   "outputs": [],
   "source": [
    "covariate.to_csv('covariate.csv', index = False)"
   ]
  }
 ],
 "metadata": {
  "kernelspec": {
   "display_name": "Python 3",
   "language": "python",
   "name": "python3"
  },
  "language_info": {
   "codemirror_mode": {
    "name": "ipython",
    "version": 3
   },
   "file_extension": ".py",
   "mimetype": "text/x-python",
   "name": "python",
   "nbconvert_exporter": "python",
   "pygments_lexer": "ipython3",
   "version": "3.8.3"
  }
 },
 "nbformat": 4,
 "nbformat_minor": 4
}
