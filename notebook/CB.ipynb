{
 "cells": [
  {
   "cell_type": "code",
   "execution_count": null,
   "metadata": {},
   "outputs": [],
   "source": [
    "import numpy as np\n",
    "import math\n",
    "import statsmodels.api as sm\n",
    "import imblearn\n",
    "from tqdm.notebook import tqdm\n",
    "from scipy import stats\n",
    "import pandas as pd\n",
    "import matplotlib.pyplot as plt\n",
    "import networkx as nx\n",
    "from networkx.algorithms import bipartite, community \n",
    "from numpy import nansum\n",
    "from numpy import nanmean\n",
    "from numpy.random import choice\n",
    "import itertools\n",
    "from networkx.algorithms import community\n",
    "import community as community_louvain\n",
    "import matplotlib.cm as cm\n",
    "import matplotlib.pyplot as plt\n",
    "import networkx as nx\n",
    "pd.set_option('display.max_columns', None)\n",
    "pd.set_option('display.max_rows', 300)"
   ]
  },
  {
   "cell_type": "markdown",
   "metadata": {},
   "source": [
    "## Bipartite network generation"
   ]
  },
  {
   "cell_type": "markdown",
   "metadata": {},
   "source": [
    "### Data preparation"
   ]
  },
  {
   "cell_type": "code",
   "execution_count": null,
   "metadata": {},
   "outputs": [],
   "source": [
    "cb1 = pd.read_csv('cb1.csv')\n",
    "cb2 = pd.read_csv('cb2.csv')\n",
    "cb3 = pd.read_csv('cb3.csv')"
   ]
  },
  {
   "cell_type": "code",
   "execution_count": null,
   "metadata": {},
   "outputs": [],
   "source": [
    "cb = cb1.append(cb2)\n",
    "cb = cb.append(cb3)\n",
    "cb.index = range(len(cb))"
   ]
  },
  {
   "cell_type": "code",
   "execution_count": null,
   "metadata": {},
   "outputs": [],
   "source": [
    "cb['date_my'] = (pd.to_datetime(cb['date'],format='%m/%d/%Y', errors='coerce')).dt.to_period('m')\n",
    "cb['date_y'] = (pd.to_datetime(cb['date'],format='%m/%d/%Y', errors='coerce')).dt.to_period('y')"
   ]
  },
  {
   "cell_type": "markdown",
   "metadata": {},
   "source": [
    "# DESCRIZIONE"
   ]
  },
  {
   "cell_type": "code",
   "execution_count": null,
   "metadata": {},
   "outputs": [],
   "source": [
    "cb.groupby(['target_continent','investor_continent']).size().unstack(fill_value=0)"
   ]
  },
  {
   "cell_type": "code",
   "execution_count": null,
   "metadata": {},
   "outputs": [],
   "source": [
    "cb_a = cb.groupby(['target_continent','investor_continent']).size().unstack(fill_value=0)\n",
    "cb_a[\"sum\"] = cb_a.sum(axis = 0)\n",
    "cb_a = cb_a.loc[:,\"Africa\":\"South America\"].div(cb_a[\"sum\"], axis=0)\n",
    "cb_a"
   ]
  },
  {
   "cell_type": "code",
   "execution_count": null,
   "metadata": {},
   "outputs": [],
   "source": [
    "es1 = cb.groupby(['target_name','stage'], as_index = False).agg({\"size_real\": 'first'})\n",
    "es2 = es1[['target_name','size_real']].groupby(['target_name'],as_index=False).sum()\n",
    "es3 = es2[es2['size_real']!=0]\n",
    "np.log(es3['size_real']).plot.kde(0.01)"
   ]
  },
  {
   "cell_type": "code",
   "execution_count": null,
   "metadata": {},
   "outputs": [],
   "source": [
    "np.log(es3['size_real']).plot.kde()"
   ]
  },
  {
   "cell_type": "code",
   "execution_count": null,
   "metadata": {},
   "outputs": [],
   "source": [
    "es3.sort_values(\"size_real\",ascending=False)[0:300]"
   ]
  },
  {
   "cell_type": "code",
   "execution_count": null,
   "metadata": {},
   "outputs": [],
   "source": [
    "cb[cb['target_name']=='zumutor']"
   ]
  },
  {
   "cell_type": "code",
   "execution_count": null,
   "metadata": {},
   "outputs": [],
   "source": [
    "cb"
   ]
  },
  {
   "cell_type": "code",
   "execution_count": null,
   "metadata": {},
   "outputs": [],
   "source": [
    "cb[cb['investors_name']=='Public'][-300:]"
   ]
  },
  {
   "cell_type": "code",
   "execution_count": null,
   "metadata": {},
   "outputs": [],
   "source": [
    "#ordinare gli investitori\n",
    "\n",
    "inv_list = list(cb['investors_name'].values)\n",
    "inv_counter = {}\n",
    "for inv in inv_list:\n",
    "    if inv in inv_counter:\n",
    "        inv_counter[inv] += 1\n",
    "    else:\n",
    "        inv_counter[inv] = 1\n",
    "\n",
    "popular_invs = sorted(inv_counter, key = inv_counter.get, reverse = True)\n",
    " \n",
    "top = popular_invs[:20]"
   ]
  },
  {
   "cell_type": "code",
   "execution_count": null,
   "metadata": {},
   "outputs": [],
   "source": [
    "for i in popular_invs:\n",
    "    if pd.isna(i):\n",
    "        print(i)"
   ]
  },
  {
   "cell_type": "code",
   "execution_count": null,
   "metadata": {},
   "outputs": [],
   "source": [
    "inv_counter['Dead']"
   ]
  },
  {
   "cell_type": "markdown",
   "metadata": {},
   "source": [
    "# GRAPHS"
   ]
  },
  {
   "cell_type": "code",
   "execution_count": null,
   "metadata": {},
   "outputs": [],
   "source": [
    "nodes_org = cb[['target_name', 'target_ID']].drop_duplicates()\n",
    "nodes_org['bipartite'] = 1\n",
    "nodes_inv = cb[['investors_name', 'investor_id']].drop_duplicates()\n",
    "nodes_org = nodes_org.rename(columns={\"target_name\": \"node\", \"target_country\": \"country\", \n",
    "                                      \"target_continent\": \"continent\", \"industry\":\"industry\",\n",
    "                                     \"target_ID\":\"index\"})\n",
    "nodes_inv = nodes_inv.rename(columns={\"investors_name\": \"node\",\"investor_country\": \"country\", \n",
    "                                      \"investor_continent\": \"continent\", \"investor_type\":\"industry\",\"investor_id\":'index' })\n",
    "nodes_inv['bipartite'] = 0\n",
    "nodes = nodes_org.append(nodes_inv, ignore_index= True)\n",
    "nodes['id'] = nodes.index\n",
    "nodes"
   ]
  },
  {
   "cell_type": "code",
   "execution_count": null,
   "metadata": {},
   "outputs": [],
   "source": [
    "numbers = cb.groupby(['target_name','stage'], as_index = False).count()[['target_name','stage','investors_name']].rename(columns={\"investors_name\": \"investor_numbers\"})"
   ]
  },
  {
   "cell_type": "code",
   "execution_count": null,
   "metadata": {},
   "outputs": [],
   "source": [
    "cb_new = pd.merge(cb, numbers,  how='left', left_on=['target_name','stage'], right_on = ['target_name','stage'])\n",
    "cb_new = pd.merge(cb_new, nodes[nodes['bipartite']== 1],  how='left', left_on=['target_name','target_ID'], right_on = ['node','index'])\n",
    "cb_new = pd.merge(cb_new, nodes[nodes['bipartite']== 0],  how='left', left_on=['investors_name','investor_id'], right_on = ['node','index'])\n"
   ]
  },
  {
   "cell_type": "code",
   "execution_count": null,
   "metadata": {},
   "outputs": [],
   "source": [
    "##ripeto quanto fatto prima (semplificato prima per risparmiare tempo) ma aggiungo roba\n",
    "nodes_org = cb_new[['target_name', 'target_ID', 'target_country', 'target_continent',\n",
    "               'industry','target_founded','target_status']].drop_duplicates()\n",
    "nodes_org['bipartite'] = 1\n",
    "nodes_inv = cb_new[['investors_name', 'investor_id', 'investor_country', 'investor_continent', 'investor_type',\n",
    "                   'investor_founded']].drop_duplicates()\n",
    "nodes_org = nodes_org.rename(columns={\"target_name\": \"node\", \"target_country\": \"country\", \n",
    "                                      \"target_continent\": \"continent\", \"industry\":\"industry\",\n",
    "                                     \"target_ID\":\"index\", \"target_founded\":\"foundation\"})\n",
    "nodes_inv = nodes_inv.rename(columns={\"investors_name\": \"node\",\"investor_country\": \"country\", \n",
    "                                      \"investor_continent\": \"continent\", \"investor_type\":\"industry\", \"investor_id\":'index',\n",
    "                                     \"investor_founded\":\"foundation\"})\n",
    "nodes_inv['bipartite'] = 0\n",
    "nodes = nodes_org.append(nodes_inv, ignore_index= True)\n",
    "nodes['id'] = nodes.index\n",
    "nodes.columns\n",
    "\n"
   ]
  },
  {
   "cell_type": "code",
   "execution_count": null,
   "metadata": {},
   "outputs": [],
   "source": [
    "B = nx.MultiGraph(name='org-bid')\n",
    "# Add nodes with the node attribute \"bipartite\"\n",
    "B.add_nodes_from(nodes[nodes.bipartite==0].id)\n",
    "B.add_nodes_from(nodes[nodes.bipartite==1].id)\n",
    "nx.set_node_attributes(B, pd.Series(nodes.node, index=nodes.id).to_dict(), 'name')\n",
    "nx.set_node_attributes(B, pd.Series(nodes.country, index=nodes.id).to_dict(), 'country')\n",
    "nx.set_node_attributes(B, pd.Series(nodes.continent, index=nodes.continent).to_dict(), 'continent')\n",
    "nx.set_node_attributes(B, pd.Series(nodes.industry, index=nodes.id).to_dict(), 'industry')\n",
    "nx.set_node_attributes(B, pd.Series(nodes.foundation, index=nodes.id).to_dict(), 'foundation')\n",
    "nx.set_node_attributes(B, pd.Series(nodes.bipartite, index=nodes.id).to_dict(), 'bipartite')\n",
    "nx.set_node_attributes(B, pd.Series(nodes.target_status, index=nodes.id).to_dict(), 'target_status')\n",
    "# Add edges only between nodes of opposite node sets\n",
    "for i in range(len(cb_new)):\n",
    "    B.add_edge(cb_new.loc[i,'id_y'], cb_new.loc[i,'id_x'], date=(cb_new.loc[i,'date_y']).year, m_raised=cb_new.loc[i,'size_real'], \n",
    "               investors = cb_new.loc[i,'investor_numbers'], round_simp =cb_new.loc[i,'round_simp'])"
   ]
  },
  {
   "cell_type": "code",
   "execution_count": null,
   "metadata": {},
   "outputs": [],
   "source": [
    "##nodi brutti\n",
    "#'Undisclosed Investors',\n",
    "# 'Public',\n",
    "#'Undisclosed Angel Investors',\n",
    "#'Undisclosed Venture Investors',\n",
    "#Dead\n"
   ]
  },
  {
   "cell_type": "code",
   "execution_count": null,
   "metadata": {},
   "outputs": [],
   "source": [
    "brutti = [x for x,y in B.nodes(data=True) if (y['name']=='Undisclosed Investors') or (y['name']=='Dead')   or (y['name']=='Public')  \n",
    "          or  (y['name']=='Undisclosed Angel Investors') or (y['name']=='Undisclosed Venture Investors')]\n",
    "B.remove_nodes_from(brutti)"
   ]
  },
  {
   "cell_type": "code",
   "execution_count": null,
   "metadata": {},
   "outputs": [],
   "source": [
    "'Grant - XIII'"
   ]
  },
  {
   "cell_type": "code",
   "execution_count": null,
   "metadata": {},
   "outputs": [],
   "source": [
    "biz = [(x,y) for x,y,d in B.edges(data=True) if (d['round_simp']=='Portfolio Merger')]\n",
    "biz"
   ]
  },
  {
   "cell_type": "code",
   "execution_count": null,
   "metadata": {},
   "outputs": [],
   "source": [
    "##degree sorting\n",
    "sorted(B.degree, key=lambda x: x[1], reverse=True)"
   ]
  },
  {
   "cell_type": "code",
   "execution_count": null,
   "metadata": {},
   "outputs": [],
   "source": [
    "B.nodes[1119]"
   ]
  },
  {
   "cell_type": "code",
   "execution_count": null,
   "metadata": {},
   "outputs": [],
   "source": [
    "bid_nodes = {n for n, d in B.nodes(data=True) if d[\"bipartite\"] == 0}\n",
    "org_nodes = set(B) - bid_nodes"
   ]
  },
  {
   "cell_type": "markdown",
   "metadata": {},
   "source": [
    "# NEW GRAPHS"
   ]
  },
  {
   "cell_type": "markdown",
   "metadata": {},
   "source": [
    "# FOLLOWERS"
   ]
  },
  {
   "cell_type": "code",
   "execution_count": null,
   "metadata": {},
   "outputs": [],
   "source": [
    "#DA SISTEMARE\n",
    "\n",
    "G_bidder_follow=nx.MultiDiGraph()\n",
    "for org in Pallottola.Organisation.unique():\n",
    "    ord_list = list(Pallottola[Pallottola.Organisation==org].sort_values(by=['Date']).id_y)\n",
    "    time_list= list(Pallottola[Pallottola.Organisation==org].sort_values(by=['Date']).Date.dt.year)\n",
    "    for idx in range(len(ord_list)):\n",
    "        if ord_list[idx]!= np.nan:\n",
    "            for seq in range(idx, len(ord_list)):\n",
    "                if ord_list[seq]!=np.nan:\n",
    "                    G_bidder_follow.add_edge(ord_list[idx], ord_list[seq], year=time_list[seq])"
   ]
  },
  {
   "cell_type": "markdown",
   "metadata": {},
   "source": [
    "# BIDBID"
   ]
  },
  {
   "cell_type": "code",
   "execution_count": null,
   "metadata": {},
   "outputs": [],
   "source": [
    "id_round = cb_new[['target_ID','round_simp']]\n",
    "id_round = id_round.drop_duplicates()\n",
    "id_round.index = range(len(id_round))\n",
    "id_round['id_round'] = id_round.index\n",
    "id_round\n",
    "\n",
    "id_year = cb_new[['target_ID','date_y']]\n",
    "id_year = id_year.drop_duplicates()\n",
    "id_year.index = range(len(id_year))\n",
    "id_year['id_year'] = id_year.index\n",
    "id_year"
   ]
  },
  {
   "cell_type": "code",
   "execution_count": null,
   "metadata": {},
   "outputs": [],
   "source": [
    "cb_new = pd.merge(cb_new, id_round,  how='left', left_on=['target_ID','round_simp'], right_on = ['target_ID','round_simp'])\n"
   ]
  },
  {
   "cell_type": "code",
   "execution_count": null,
   "metadata": {},
   "outputs": [],
   "source": [
    "cb_new = pd.merge(cb_new, id_year,  how='left', left_on=['target_ID','date_y'], right_on = ['target_ID','date_y'])"
   ]
  },
  {
   "cell_type": "code",
   "execution_count": null,
   "metadata": {},
   "outputs": [],
   "source": [
    "nodes_inv = nodes[nodes['bipartite']==0]"
   ]
  },
  {
   "cell_type": "code",
   "execution_count": null,
   "metadata": {},
   "outputs": [],
   "source": [
    "nodes_inv"
   ]
  },
  {
   "cell_type": "code",
   "execution_count": null,
   "metadata": {},
   "outputs": [],
   "source": [
    "##bidbid in stesso anno\n",
    "links = []\n",
    "subcb = cb_new[['id_year','date_y','id_y']].drop_duplicates()\n",
    "subcb = subcb[pd.notna(subcb['date_y'])]\n",
    "for i in tqdm(subcb['id_year'].unique()):\n",
    "    subcb2 = subcb[subcb['id_year']==i]\n",
    "    for couple in itertools.combinations(np.unique(subcb2['id_y'].values),2):\n",
    "        links.append((couple + ({'date': subcb2['date_y'].values[0].year},)))\n"
   ]
  },
  {
   "cell_type": "code",
   "execution_count": null,
   "metadata": {},
   "outputs": [],
   "source": [
    "bidbid=nx.MultiGraph()\n",
    "bidbid.add_nodes_from(nodes[nodes.bipartite==0].id)\n",
    "nx.set_node_attributes(bidbid, pd.Series(nodes_inv.node, index=nodes_inv.id).to_dict(), 'name')\n",
    "nx.set_node_attributes(bidbid, pd.Series(nodes_inv.country, index=nodes_inv.id).to_dict(), 'country')\n",
    "nx.set_node_attributes(bidbid, pd.Series(nodes_inv.continent, index=nodes_inv.id).to_dict(), 'continent')\n",
    "nx.set_node_attributes(bidbid, pd.Series(nodes_inv.industry, index=nodes_inv.id).to_dict(), 'industry')\n",
    "nx.set_node_attributes(bidbid, pd.Series(nodes_inv.foundation, index=nodes_inv.id).to_dict(), 'foundation')\n",
    "nx.set_node_attributes(bidbid, pd.Series(nodes_inv.bipartite, index=nodes_inv.id).to_dict(), 'bipartite')\n",
    "bidbid.add_edges_from(links) \n",
    "remove = [node for node,degree in dict(bidbid.degree()).items() if degree == 0]\n",
    "bidbid.remove_nodes_from(remove)\n",
    "bidbid.remove_nodes_from(brutti)\n",
    "nx.readwrite.write_gpickle(bidbid,'bidbid_cb.gpickle')\n",
    "nx.info(bidbid)"
   ]
  },
  {
   "cell_type": "code",
   "execution_count": null,
   "metadata": {},
   "outputs": [],
   "source": [
    "nodes_inv.country"
   ]
  },
  {
   "cell_type": "code",
   "execution_count": 749,
   "metadata": {},
   "outputs": [
    {
     "data": {
      "text/plain": [
       "{'name': 'OrbiMed Advisors',\n",
       " 'country': 'United States',\n",
       " 'continent': 'North America',\n",
       " 'industry': 'Venture Capital',\n",
       " 'foundation': 1989.0,\n",
       " 'bipartite': 0}"
      ]
     },
     "execution_count": 749,
     "metadata": {},
     "output_type": "execute_result"
    }
   ],
   "source": [
    "bidbid.nodes[51253]"
   ]
  },
  {
   "cell_type": "code",
   "execution_count": null,
   "metadata": {},
   "outputs": [],
   "source": [
    "sorted(bidbid.degree, key=lambda x: x[1], reverse=True)"
   ]
  },
  {
   "cell_type": "code",
   "execution_count": null,
   "metadata": {},
   "outputs": [],
   "source": [
    "##bidbid in stesso round\n",
    "links = []\n",
    "for i in cb_new['id_round'].unique():\n",
    "    for couple in itertools.combinations(np.unique(cb_new[cb_new['id_round']==i]['id_y'].values),2):\n",
    "            links_f.append((couple + ({'m_raised': np.unique(Pallottola[Pallottola['idx']==i]['USDraised_cpi'])),\n",
    "                             'date': min(pd.to_datetime(Pallottola[Pallottola['idx']==i]['Date'].values)),\n",
    "                             'round': Pallottola[Pallottola['idx']==i]['Funding type'].values[0],\n",
    "                             'investors': cb_new.unique())),\n",
    "                 'type': 'invinv'},)))\n",
    "bidbid=MultiGraph()\n",
    "bidbid.add_nodes_from(nodes.id)\n",
    "bidbid.add_edges_from(links_)\n",
    "    "
   ]
  },
  {
   "cell_type": "code",
   "execution_count": null,
   "metadata": {},
   "outputs": [],
   "source": [
    "cb_new.head()"
   ]
  },
  {
   "cell_type": "code",
   "execution_count": null,
   "metadata": {},
   "outputs": [],
   "source": [
    "orgorg=project_multi(B, bid_nodes, name='bid-bid')"
   ]
  },
  {
   "cell_type": "markdown",
   "metadata": {},
   "source": [
    "# BIDBID"
   ]
  },
  {
   "cell_type": "code",
   "execution_count": null,
   "metadata": {},
   "outputs": [],
   "source": [
    "bidbid=project_multi(B, org_nodes, name='org-org')"
   ]
  },
  {
   "cell_type": "code",
   "execution_count": null,
   "metadata": {},
   "outputs": [],
   "source": [
    "nx.info(bidbid)"
   ]
  },
  {
   "cell_type": "markdown",
   "metadata": {},
   "source": [
    "# WINDOW"
   ]
  },
  {
   "cell_type": "code",
   "execution_count": null,
   "metadata": {},
   "outputs": [],
   "source": [
    "from itertools import islice\n",
    "\n",
    "def window(seq, n):\n",
    "    \"Returns a sliding window (of width n) over data from the iterable\"\n",
    "    \"   s -> (s0,s1,...s[n-1]), (s1,s2,...,sn), ...                   \"\n",
    "    it = iter(seq)\n",
    "    result = tuple(islice(it, n))\n",
    "    if len(result) == n:\n",
    "        yield result\n",
    "    for elem in it:\n",
    "        result = result[1:] + (elem,)\n",
    "        yield result"
   ]
  },
  {
   "cell_type": "code",
   "execution_count": null,
   "metadata": {},
   "outputs": [],
   "source": [
    "finestra = window(list(range(2000,2022)),5)"
   ]
  },
  {
   "cell_type": "code",
   "execution_count": null,
   "metadata": {},
   "outputs": [],
   "source": [
    "for periodo in finestra:\n",
    "    locals()[\"B_\"+str(periodo[-1])]=nx.MultiGraph([(u,v,d) for u,v,d in B.edges(data=True) if d['date'] in periodo])"
   ]
  },
  {
   "cell_type": "markdown",
   "metadata": {},
   "source": [
    "# COMMUNITIES"
   ]
  },
  {
   "cell_type": "code",
   "execution_count": null,
   "metadata": {},
   "outputs": [],
   "source": [
    "partition = community_louvain.best_partition(bidbid)"
   ]
  },
  {
   "cell_type": "code",
   "execution_count": null,
   "metadata": {},
   "outputs": [],
   "source": [
    "partition"
   ]
  },
  {
   "cell_type": "code",
   "execution_count": null,
   "metadata": {},
   "outputs": [],
   "source": [
    "pos = nx.spring_layout(B)\n",
    "# color the nodes according to their partition\n",
    "cmap = cm.get_cmap('viridis', max(partition.values()) + 1)\n",
    "nx.draw_networkx_nodes(G, pos, partition.keys(), node_size=40,\n",
    "                       cmap=cmap, node_color=list(partition.values()))\n",
    "nx.draw_networkx_edges(G, pos, alpha=0.5)\n",
    "plt.show()"
   ]
  },
  {
   "cell_type": "code",
   "execution_count": null,
   "metadata": {},
   "outputs": [],
   "source": [
    "len(partition)"
   ]
  },
  {
   "cell_type": "code",
   "execution_count": null,
   "metadata": {},
   "outputs": [],
   "source": []
  },
  {
   "cell_type": "code",
   "execution_count": null,
   "metadata": {},
   "outputs": [],
   "source": [
    "cb_new.groupby('round_simp').count()"
   ]
  },
  {
   "cell_type": "code",
   "execution_count": null,
   "metadata": {},
   "outputs": [],
   "source": [
    "'Asset Sale' 'Convertible Note' 'Dead' 'Debt' 'Distressed & Special Situation' 'Leveraged Buyout' 'Line of Credit' 'Loan'\n",
    "'Mezzanine' 'Merger' 'Revenue Finance' 'Project Finance'"
   ]
  }
 ],
 "metadata": {
  "kernelspec": {
   "display_name": "Python 3",
   "language": "python",
   "name": "python3"
  },
  "language_info": {
   "codemirror_mode": {
    "name": "ipython",
    "version": 3
   },
   "file_extension": ".py",
   "mimetype": "text/x-python",
   "name": "python",
   "nbconvert_exporter": "python",
   "pygments_lexer": "ipython3",
   "version": "3.8.3"
  }
 },
 "nbformat": 4,
 "nbformat_minor": 4
}
