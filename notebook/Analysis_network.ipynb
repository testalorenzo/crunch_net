{
 "cells": [
  {
   "cell_type": "code",
   "execution_count": 18,
   "metadata": {},
   "outputs": [],
   "source": [
    "# -*- coding: utf-8 -*-\n",
    "\"\"\"\n",
    "Created on Mon Mar 29 22:33:23 2021\n",
    "\n",
    "@authors: Marco, Christian, Lorenzo\n",
    "\"\"\"\n",
    "\n",
    "import platform\n",
    "import numpy as np\n",
    "import math\n",
    "import sys\n",
    "from operator import itemgetter\n",
    "import pandas as pd\n",
    "import matplotlib.pyplot as plt\n",
    "import networkx as nx\n",
    "import requests\n",
    "import matplotlib\n",
    "import csv\n",
    "import json\n",
    "from pandas.io.json import json_normalize\n",
    "from networkx.algorithms import community \n",
    "import itertools\n",
    "import re"
   ]
  },
  {
   "cell_type": "markdown",
   "metadata": {},
   "source": [
    "## Domande di ricerca\n",
    "Capire se possiamo prevedere a tempo t quanto raccoglierà una determinata impresa a tempo t+1 (t+n) data la conformazione del network <br>\n",
    "Capire se possiamo prevedere se una startup avrà successo a tempo t+1 o t+n data la conformazione del network (proxy di successo = ha ricevuto finanziamenti)<br>\n",
    "Capire se ci sono investitori hub e investitori followers <br>\n",
    "Trovare subgraph similarities all'interno del network"
   ]
  },
  {
   "cell_type": "code",
   "execution_count": 19,
   "metadata": {},
   "outputs": [],
   "source": [
    "tot = pd.read_excel('~/Pasadena.xlsx')"
   ]
  },
  {
   "cell_type": "code",
   "execution_count": 20,
   "metadata": {},
   "outputs": [
    {
     "data": {
      "text/html": [
       "<div>\n",
       "<style scoped>\n",
       "    .dataframe tbody tr th:only-of-type {\n",
       "        vertical-align: middle;\n",
       "    }\n",
       "\n",
       "    .dataframe tbody tr th {\n",
       "        vertical-align: top;\n",
       "    }\n",
       "\n",
       "    .dataframe thead th {\n",
       "        text-align: right;\n",
       "    }\n",
       "</style>\n",
       "<table border=\"1\" class=\"dataframe\">\n",
       "  <thead>\n",
       "    <tr style=\"text-align: right;\">\n",
       "      <th></th>\n",
       "      <th>Unnamed: 0</th>\n",
       "      <th>Organisation</th>\n",
       "      <th>Funding type</th>\n",
       "      <th>Money raised</th>\n",
       "      <th>Pre-money valuation</th>\n",
       "      <th>Date</th>\n",
       "      <th>Investors</th>\n",
       "      <th>Location</th>\n",
       "      <th>ID</th>\n",
       "      <th>Org_location</th>\n",
       "      <th>...</th>\n",
       "      <th>inv_region</th>\n",
       "      <th>inv_country</th>\n",
       "      <th>inv_city_coo</th>\n",
       "      <th>inv_region_coo</th>\n",
       "      <th>inv_country_coo</th>\n",
       "      <th>USDraised</th>\n",
       "      <th>Date_m-y</th>\n",
       "      <th>CPI</th>\n",
       "      <th>CPI_2000</th>\n",
       "      <th>USDraised_cpi</th>\n",
       "    </tr>\n",
       "  </thead>\n",
       "  <tbody>\n",
       "  </tbody>\n",
       "</table>\n",
       "<p>0 rows × 42 columns</p>\n",
       "</div>"
      ],
      "text/plain": [
       "Empty DataFrame\n",
       "Columns: [Unnamed: 0, Organisation, Funding type, Money raised, Pre-money valuation, Date, Investors, Location, ID, Org_location, org_city_country, org_city, org_region, org_country, org_continent, org_city_coo, org_country_coo, org_region_coo, Unnamed: 0_y, Unnamed: 0.1, investor_location, investor_type, investor_patentsGranted, investor_trademarks, investor_founded, investor_industries, investor_investments, investor_rank, investor_revenues, investor_gender, investor_employees, inv_city, inv_region, inv_country, inv_city_coo, inv_region_coo, inv_country_coo, USDraised, Date_m-y, CPI, CPI_2000, USDraised_cpi]\n",
       "Index: []\n",
       "\n",
       "[0 rows x 42 columns]"
      ]
     },
     "execution_count": 20,
     "metadata": {},
     "output_type": "execute_result"
    }
   ],
   "source": [
    "tot[tot['Investors']=='NaN']"
   ]
  },
  {
   "cell_type": "code",
   "execution_count": 21,
   "metadata": {},
   "outputs": [
    {
     "data": {
      "text/html": [
       "<div>\n",
       "<style scoped>\n",
       "    .dataframe tbody tr th:only-of-type {\n",
       "        vertical-align: middle;\n",
       "    }\n",
       "\n",
       "    .dataframe tbody tr th {\n",
       "        vertical-align: top;\n",
       "    }\n",
       "\n",
       "    .dataframe thead th {\n",
       "        text-align: right;\n",
       "    }\n",
       "</style>\n",
       "<table border=\"1\" class=\"dataframe\">\n",
       "  <thead>\n",
       "    <tr style=\"text-align: right;\">\n",
       "      <th></th>\n",
       "      <th>Unnamed: 0</th>\n",
       "      <th>Organisation</th>\n",
       "      <th>Funding type</th>\n",
       "      <th>Money raised</th>\n",
       "      <th>Pre-money valuation</th>\n",
       "      <th>Date</th>\n",
       "      <th>Investors</th>\n",
       "      <th>Location</th>\n",
       "      <th>ID</th>\n",
       "      <th>Org_location</th>\n",
       "      <th>...</th>\n",
       "      <th>inv_region</th>\n",
       "      <th>inv_country</th>\n",
       "      <th>inv_city_coo</th>\n",
       "      <th>inv_region_coo</th>\n",
       "      <th>inv_country_coo</th>\n",
       "      <th>USDraised</th>\n",
       "      <th>Date_m-y</th>\n",
       "      <th>CPI</th>\n",
       "      <th>CPI_2000</th>\n",
       "      <th>USDraised_cpi</th>\n",
       "    </tr>\n",
       "  </thead>\n",
       "  <tbody>\n",
       "    <tr>\n",
       "      <th>0</th>\n",
       "      <td>0</td>\n",
       "      <td>Meddy</td>\n",
       "      <td>Series A</td>\n",
       "      <td>$2,500,000</td>\n",
       "      <td>NaN</td>\n",
       "      <td>2019-10-27</td>\n",
       "      <td>212</td>\n",
       "      <td>Dubai, Dubai, United Arab Emirates, Asia</td>\n",
       "      <td>6132</td>\n",
       "      <td>['Dubai', 'Dubai', 'United Arab Emirates', 'As...</td>\n",
       "      <td>...</td>\n",
       "      <td>Istanbul, Turkey</td>\n",
       "      <td>Turkey</td>\n",
       "      <td>(41.0096334, 28.9651646)</td>\n",
       "      <td>(41.0096334, 28.9651646)</td>\n",
       "      <td>(38.9597594, 34.9249653)</td>\n",
       "      <td>2.500000e+06</td>\n",
       "      <td>2019-10</td>\n",
       "      <td>257.346</td>\n",
       "      <td>147.900000</td>\n",
       "      <td>1.690331e+06</td>\n",
       "    </tr>\n",
       "    <tr>\n",
       "      <th>1</th>\n",
       "      <td>1</td>\n",
       "      <td>Lemonaid Health</td>\n",
       "      <td>Series A</td>\n",
       "      <td>$11,000,000</td>\n",
       "      <td>NaN</td>\n",
       "      <td>2017-05-22</td>\n",
       "      <td>415</td>\n",
       "      <td>San Francisco, California, United States, Nort...</td>\n",
       "      <td>18965</td>\n",
       "      <td>['San Francisco', 'California', 'United States...</td>\n",
       "      <td>...</td>\n",
       "      <td>California, United States</td>\n",
       "      <td>United States</td>\n",
       "      <td>(37.7790262, -122.4199061)</td>\n",
       "      <td>(36.7014631, -118.755997)</td>\n",
       "      <td>(39.7837304, -100.4458825)</td>\n",
       "      <td>1.100000e+07</td>\n",
       "      <td>2017-05</td>\n",
       "      <td>244.733</td>\n",
       "      <td>140.651149</td>\n",
       "      <td>7.820768e+06</td>\n",
       "    </tr>\n",
       "    <tr>\n",
       "      <th>2</th>\n",
       "      <td>2</td>\n",
       "      <td>Prellis Biologics</td>\n",
       "      <td>Seed</td>\n",
       "      <td>$1,800,000</td>\n",
       "      <td>NaN</td>\n",
       "      <td>2017-09-13</td>\n",
       "      <td>415</td>\n",
       "      <td>San Francisco, California, United States, Nort...</td>\n",
       "      <td>17358</td>\n",
       "      <td>['San Francisco', 'California', 'United States...</td>\n",
       "      <td>...</td>\n",
       "      <td>California, United States</td>\n",
       "      <td>United States</td>\n",
       "      <td>(37.7790262, -122.4199061)</td>\n",
       "      <td>(36.7014631, -118.755997)</td>\n",
       "      <td>(39.7837304, -100.4458825)</td>\n",
       "      <td>1.800000e+06</td>\n",
       "      <td>2017-09</td>\n",
       "      <td>246.819</td>\n",
       "      <td>141.850000</td>\n",
       "      <td>1.268946e+06</td>\n",
       "    </tr>\n",
       "    <tr>\n",
       "      <th>3</th>\n",
       "      <td>3</td>\n",
       "      <td>Memed</td>\n",
       "      <td>Seed</td>\n",
       "      <td>R$50,000</td>\n",
       "      <td>NaN</td>\n",
       "      <td>2013-01-01</td>\n",
       "      <td>21212</td>\n",
       "      <td>SÃ£o Paulo, Sao Paulo, Brazil, South America</td>\n",
       "      <td>37577</td>\n",
       "      <td>['SÃ£o Paulo', 'Sao Paulo', 'Brazil', 'South A...</td>\n",
       "      <td>...</td>\n",
       "      <td>Rio de Janeiro, Brazil</td>\n",
       "      <td>Brazil</td>\n",
       "      <td>(-22.9110137, -43.2093727)</td>\n",
       "      <td>(-22.9110137, -43.2093727)</td>\n",
       "      <td>(-10.3333333, -53.2)</td>\n",
       "      <td>2.461280e+04</td>\n",
       "      <td>2013-01</td>\n",
       "      <td>230.280</td>\n",
       "      <td>132.344828</td>\n",
       "      <td>1.859748e+04</td>\n",
       "    </tr>\n",
       "    <tr>\n",
       "      <th>4</th>\n",
       "      <td>4</td>\n",
       "      <td>1859</td>\n",
       "      <td>Venture - Series Unknown</td>\n",
       "      <td>$7,713,742</td>\n",
       "      <td>NaN</td>\n",
       "      <td>2020-08-11</td>\n",
       "      <td>NaN</td>\n",
       "      <td>San Diego, California, United States, North Am...</td>\n",
       "      <td>2158</td>\n",
       "      <td>['San Diego', 'California', 'United States', '...</td>\n",
       "      <td>...</td>\n",
       "      <td>NaN</td>\n",
       "      <td>NaN</td>\n",
       "      <td>NaN</td>\n",
       "      <td>NaN</td>\n",
       "      <td>NaN</td>\n",
       "      <td>7.713742e+06</td>\n",
       "      <td>2020-08</td>\n",
       "      <td>259.918</td>\n",
       "      <td>149.378161</td>\n",
       "      <td>5.163902e+06</td>\n",
       "    </tr>\n",
       "    <tr>\n",
       "      <th>...</th>\n",
       "      <td>...</td>\n",
       "      <td>...</td>\n",
       "      <td>...</td>\n",
       "      <td>...</td>\n",
       "      <td>...</td>\n",
       "      <td>...</td>\n",
       "      <td>...</td>\n",
       "      <td>...</td>\n",
       "      <td>...</td>\n",
       "      <td>...</td>\n",
       "      <td>...</td>\n",
       "      <td>...</td>\n",
       "      <td>...</td>\n",
       "      <td>...</td>\n",
       "      <td>...</td>\n",
       "      <td>...</td>\n",
       "      <td>...</td>\n",
       "      <td>...</td>\n",
       "      <td>...</td>\n",
       "      <td>...</td>\n",
       "      <td>...</td>\n",
       "    </tr>\n",
       "    <tr>\n",
       "      <th>87351</th>\n",
       "      <td>87351</td>\n",
       "      <td>CellScape</td>\n",
       "      <td>Series A</td>\n",
       "      <td>$1,600,000</td>\n",
       "      <td>NaN</td>\n",
       "      <td>2010-12-01</td>\n",
       "      <td>Zygote Ventures</td>\n",
       "      <td>Newark, California, United States, North America</td>\n",
       "      <td>42203</td>\n",
       "      <td>['Newark', 'California', 'United States', 'Nor...</td>\n",
       "      <td>...</td>\n",
       "      <td>California, United States</td>\n",
       "      <td>United States</td>\n",
       "      <td>(37.9735346, -122.5310874)</td>\n",
       "      <td>(36.7014631, -118.755997)</td>\n",
       "      <td>(39.7837304, -100.4458825)</td>\n",
       "      <td>1.600000e+06</td>\n",
       "      <td>2010-12</td>\n",
       "      <td>219.179</td>\n",
       "      <td>125.964943</td>\n",
       "      <td>1.270195e+06</td>\n",
       "    </tr>\n",
       "    <tr>\n",
       "      <th>87352</th>\n",
       "      <td>87352</td>\n",
       "      <td>BioBeats</td>\n",
       "      <td>Venture - Series Unknown</td>\n",
       "      <td>NaN</td>\n",
       "      <td>NaN</td>\n",
       "      <td>2020-01-01</td>\n",
       "      <td>Zynik Capital Corp.</td>\n",
       "      <td>London, England, United Kingdom, Europe</td>\n",
       "      <td>5167</td>\n",
       "      <td>['London', 'England', 'United Kingdom', 'Europe']</td>\n",
       "      <td>...</td>\n",
       "      <td>British Columbia, Canada</td>\n",
       "      <td>Canada</td>\n",
       "      <td>(49.2608724, -123.1139529)</td>\n",
       "      <td>(55.001251, -125.002441)</td>\n",
       "      <td>(61.0666922, -107.991707)</td>\n",
       "      <td>NaN</td>\n",
       "      <td>2020-01</td>\n",
       "      <td>257.971</td>\n",
       "      <td>148.259195</td>\n",
       "      <td>NaN</td>\n",
       "    </tr>\n",
       "    <tr>\n",
       "      <th>87353</th>\n",
       "      <td>87353</td>\n",
       "      <td>Angiotech Pharmaceuticals</td>\n",
       "      <td>Venture - Series Unknown</td>\n",
       "      <td>NaN</td>\n",
       "      <td>NaN</td>\n",
       "      <td>2017-03-21</td>\n",
       "      <td>ZZ Capital</td>\n",
       "      <td>Vancouver, British Columbia, Canada, North Ame...</td>\n",
       "      <td>19835</td>\n",
       "      <td>['Vancouver', 'British Columbia', 'Canada', 'N...</td>\n",
       "      <td>...</td>\n",
       "      <td>Beijing, China</td>\n",
       "      <td>China</td>\n",
       "      <td>(39.906217, 116.3912757)</td>\n",
       "      <td>(39.906217, 116.3912757)</td>\n",
       "      <td>(35.000074, 104.999927)</td>\n",
       "      <td>NaN</td>\n",
       "      <td>2017-03</td>\n",
       "      <td>243.801</td>\n",
       "      <td>140.115517</td>\n",
       "      <td>NaN</td>\n",
       "    </tr>\n",
       "    <tr>\n",
       "      <th>87354</th>\n",
       "      <td>87354</td>\n",
       "      <td>KIMS Hospitals</td>\n",
       "      <td>Debt Financing</td>\n",
       "      <td>â‚¹600,000,000</td>\n",
       "      <td>NaN</td>\n",
       "      <td>2017-11-10</td>\n",
       "      <td>Ñ‘people</td>\n",
       "      <td>Hyderabad, Andhra Pradesh, India, Asia</td>\n",
       "      <td>16513</td>\n",
       "      <td>['Hyderabad', 'Andhra Pradesh', 'India', 'Asia']</td>\n",
       "      <td>...</td>\n",
       "      <td>Maharashtra, India</td>\n",
       "      <td>India</td>\n",
       "      <td>(19.0759899, 72.8773928)</td>\n",
       "      <td>(18.9068356, 75.6741579)</td>\n",
       "      <td>(22.3511148, 78.6677428)</td>\n",
       "      <td>9.251516e+06</td>\n",
       "      <td>2017-11</td>\n",
       "      <td>246.669</td>\n",
       "      <td>141.763793</td>\n",
       "      <td>6.526007e+06</td>\n",
       "    </tr>\n",
       "    <tr>\n",
       "      <th>87355</th>\n",
       "      <td>87355</td>\n",
       "      <td>Century Therapeutics</td>\n",
       "      <td>Series C</td>\n",
       "      <td>$160,000,000</td>\n",
       "      <td>NaN</td>\n",
       "      <td>2021-03-03</td>\n",
       "      <td>NaN</td>\n",
       "      <td>Philadelphia, Pennsylvania, United States, Nor...</td>\n",
       "      <td>11</td>\n",
       "      <td>['Philadelphia', 'Pennsylvania', 'United State...</td>\n",
       "      <td>...</td>\n",
       "      <td>NaN</td>\n",
       "      <td>NaN</td>\n",
       "      <td>NaN</td>\n",
       "      <td>NaN</td>\n",
       "      <td>NaN</td>\n",
       "      <td>1.600000e+08</td>\n",
       "      <td>2021-03</td>\n",
       "      <td>263.014</td>\n",
       "      <td>151.157471</td>\n",
       "      <td>1.058499e+08</td>\n",
       "    </tr>\n",
       "  </tbody>\n",
       "</table>\n",
       "<p>87356 rows × 42 columns</p>\n",
       "</div>"
      ],
      "text/plain": [
       "       Unnamed: 0               Organisation              Funding type  \\\n",
       "0               0                      Meddy                  Series A   \n",
       "1               1            Lemonaid Health                  Series A   \n",
       "2               2          Prellis Biologics                      Seed   \n",
       "3               3                      Memed                      Seed   \n",
       "4               4                       1859  Venture - Series Unknown   \n",
       "...           ...                        ...                       ...   \n",
       "87351       87351                  CellScape                  Series A   \n",
       "87352       87352                   BioBeats  Venture - Series Unknown   \n",
       "87353       87353  Angiotech Pharmaceuticals  Venture - Series Unknown   \n",
       "87354       87354             KIMS Hospitals            Debt Financing   \n",
       "87355       87355       Century Therapeutics                  Series C   \n",
       "\n",
       "         Money raised Pre-money valuation       Date            Investors  \\\n",
       "0          $2,500,000                 NaN 2019-10-27                  212   \n",
       "1         $11,000,000                 NaN 2017-05-22                  415   \n",
       "2          $1,800,000                 NaN 2017-09-13                  415   \n",
       "3            R$50,000                 NaN 2013-01-01                21212   \n",
       "4          $7,713,742                 NaN 2020-08-11                  NaN   \n",
       "...               ...                 ...        ...                  ...   \n",
       "87351      $1,600,000                 NaN 2010-12-01      Zygote Ventures   \n",
       "87352             NaN                 NaN 2020-01-01  Zynik Capital Corp.   \n",
       "87353             NaN                 NaN 2017-03-21           ZZ Capital   \n",
       "87354  â‚¹600,000,000                 NaN 2017-11-10             Ñ‘people   \n",
       "87355    $160,000,000                 NaN 2021-03-03                  NaN   \n",
       "\n",
       "                                                Location     ID  \\\n",
       "0               Dubai, Dubai, United Arab Emirates, Asia   6132   \n",
       "1      San Francisco, California, United States, Nort...  18965   \n",
       "2      San Francisco, California, United States, Nort...  17358   \n",
       "3           SÃ£o Paulo, Sao Paulo, Brazil, South America  37577   \n",
       "4      San Diego, California, United States, North Am...   2158   \n",
       "...                                                  ...    ...   \n",
       "87351   Newark, California, United States, North America  42203   \n",
       "87352            London, England, United Kingdom, Europe   5167   \n",
       "87353  Vancouver, British Columbia, Canada, North Ame...  19835   \n",
       "87354             Hyderabad, Andhra Pradesh, India, Asia  16513   \n",
       "87355  Philadelphia, Pennsylvania, United States, Nor...     11   \n",
       "\n",
       "                                            Org_location  ...  \\\n",
       "0      ['Dubai', 'Dubai', 'United Arab Emirates', 'As...  ...   \n",
       "1      ['San Francisco', 'California', 'United States...  ...   \n",
       "2      ['San Francisco', 'California', 'United States...  ...   \n",
       "3      ['SÃ£o Paulo', 'Sao Paulo', 'Brazil', 'South A...  ...   \n",
       "4      ['San Diego', 'California', 'United States', '...  ...   \n",
       "...                                                  ...  ...   \n",
       "87351  ['Newark', 'California', 'United States', 'Nor...  ...   \n",
       "87352  ['London', 'England', 'United Kingdom', 'Europe']  ...   \n",
       "87353  ['Vancouver', 'British Columbia', 'Canada', 'N...  ...   \n",
       "87354   ['Hyderabad', 'Andhra Pradesh', 'India', 'Asia']  ...   \n",
       "87355  ['Philadelphia', 'Pennsylvania', 'United State...  ...   \n",
       "\n",
       "                      inv_region    inv_country                inv_city_coo  \\\n",
       "0               Istanbul, Turkey         Turkey    (41.0096334, 28.9651646)   \n",
       "1      California, United States  United States  (37.7790262, -122.4199061)   \n",
       "2      California, United States  United States  (37.7790262, -122.4199061)   \n",
       "3         Rio de Janeiro, Brazil         Brazil  (-22.9110137, -43.2093727)   \n",
       "4                            NaN            NaN                         NaN   \n",
       "...                          ...            ...                         ...   \n",
       "87351  California, United States  United States  (37.9735346, -122.5310874)   \n",
       "87352   British Columbia, Canada         Canada  (49.2608724, -123.1139529)   \n",
       "87353             Beijing, China          China    (39.906217, 116.3912757)   \n",
       "87354         Maharashtra, India          India    (19.0759899, 72.8773928)   \n",
       "87355                        NaN            NaN                         NaN   \n",
       "\n",
       "                   inv_region_coo             inv_country_coo     USDraised  \\\n",
       "0        (41.0096334, 28.9651646)    (38.9597594, 34.9249653)  2.500000e+06   \n",
       "1       (36.7014631, -118.755997)  (39.7837304, -100.4458825)  1.100000e+07   \n",
       "2       (36.7014631, -118.755997)  (39.7837304, -100.4458825)  1.800000e+06   \n",
       "3      (-22.9110137, -43.2093727)        (-10.3333333, -53.2)  2.461280e+04   \n",
       "4                             NaN                         NaN  7.713742e+06   \n",
       "...                           ...                         ...           ...   \n",
       "87351   (36.7014631, -118.755997)  (39.7837304, -100.4458825)  1.600000e+06   \n",
       "87352    (55.001251, -125.002441)   (61.0666922, -107.991707)           NaN   \n",
       "87353    (39.906217, 116.3912757)     (35.000074, 104.999927)           NaN   \n",
       "87354    (18.9068356, 75.6741579)    (22.3511148, 78.6677428)  9.251516e+06   \n",
       "87355                         NaN                         NaN  1.600000e+08   \n",
       "\n",
       "      Date_m-y      CPI    CPI_2000  USDraised_cpi  \n",
       "0      2019-10  257.346  147.900000   1.690331e+06  \n",
       "1      2017-05  244.733  140.651149   7.820768e+06  \n",
       "2      2017-09  246.819  141.850000   1.268946e+06  \n",
       "3      2013-01  230.280  132.344828   1.859748e+04  \n",
       "4      2020-08  259.918  149.378161   5.163902e+06  \n",
       "...        ...      ...         ...            ...  \n",
       "87351  2010-12  219.179  125.964943   1.270195e+06  \n",
       "87352  2020-01  257.971  148.259195            NaN  \n",
       "87353  2017-03  243.801  140.115517            NaN  \n",
       "87354  2017-11  246.669  141.763793   6.526007e+06  \n",
       "87355  2021-03  263.014  151.157471   1.058499e+08  \n",
       "\n",
       "[87356 rows x 42 columns]"
      ]
     },
     "execution_count": 21,
     "metadata": {},
     "output_type": "execute_result"
    }
   ],
   "source": [
    "tot"
   ]
  },
  {
   "cell_type": "code",
   "execution_count": 22,
   "metadata": {},
   "outputs": [
    {
     "data": {
      "text/html": [
       "<div>\n",
       "<style scoped>\n",
       "    .dataframe tbody tr th:only-of-type {\n",
       "        vertical-align: middle;\n",
       "    }\n",
       "\n",
       "    .dataframe tbody tr th {\n",
       "        vertical-align: top;\n",
       "    }\n",
       "\n",
       "    .dataframe thead th {\n",
       "        text-align: right;\n",
       "    }\n",
       "</style>\n",
       "<table border=\"1\" class=\"dataframe\">\n",
       "  <thead>\n",
       "    <tr style=\"text-align: right;\">\n",
       "      <th></th>\n",
       "      <th>Organisation</th>\n",
       "      <th>org_country</th>\n",
       "      <th>org_city_coo</th>\n",
       "    </tr>\n",
       "  </thead>\n",
       "  <tbody>\n",
       "    <tr>\n",
       "      <th>0</th>\n",
       "      <td>Meddy</td>\n",
       "      <td>United Arab Emirates</td>\n",
       "      <td>(25.0750095, 55.18876088183319)</td>\n",
       "    </tr>\n",
       "    <tr>\n",
       "      <th>1</th>\n",
       "      <td>Lemonaid Health</td>\n",
       "      <td>United States</td>\n",
       "      <td>(37.7790262, -122.4199061)</td>\n",
       "    </tr>\n",
       "    <tr>\n",
       "      <th>2</th>\n",
       "      <td>Prellis Biologics</td>\n",
       "      <td>United States</td>\n",
       "      <td>(37.7790262, -122.4199061)</td>\n",
       "    </tr>\n",
       "    <tr>\n",
       "      <th>3</th>\n",
       "      <td>Memed</td>\n",
       "      <td>Brazil</td>\n",
       "      <td>(-23.5506507, -46.6333824)</td>\n",
       "    </tr>\n",
       "    <tr>\n",
       "      <th>4</th>\n",
       "      <td>1859</td>\n",
       "      <td>United States</td>\n",
       "      <td>(32.7174202, -117.1627728)</td>\n",
       "    </tr>\n",
       "    <tr>\n",
       "      <th>...</th>\n",
       "      <td>...</td>\n",
       "      <td>...</td>\n",
       "      <td>...</td>\n",
       "    </tr>\n",
       "    <tr>\n",
       "      <th>87295</th>\n",
       "      <td>FertilityDost</td>\n",
       "      <td>India</td>\n",
       "      <td>(28.6138954, 77.2090057)</td>\n",
       "    </tr>\n",
       "    <tr>\n",
       "      <th>87296</th>\n",
       "      <td>Innoweave Biocare</td>\n",
       "      <td>India</td>\n",
       "      <td>(19.0759899, 72.8773928)</td>\n",
       "    </tr>\n",
       "    <tr>\n",
       "      <th>87298</th>\n",
       "      <td>WeeSure</td>\n",
       "      <td>India</td>\n",
       "      <td>(28.5707841, 77.3271074)</td>\n",
       "    </tr>\n",
       "    <tr>\n",
       "      <th>87318</th>\n",
       "      <td>Schwarzer Cardiotek</td>\n",
       "      <td>Germany</td>\n",
       "      <td>(49.142291, 9.218655)</td>\n",
       "    </tr>\n",
       "    <tr>\n",
       "      <th>87319</th>\n",
       "      <td>XENiOS</td>\n",
       "      <td>Germany</td>\n",
       "      <td>(49.142291, 9.218655)</td>\n",
       "    </tr>\n",
       "  </tbody>\n",
       "</table>\n",
       "<p>22557 rows × 3 columns</p>\n",
       "</div>"
      ],
      "text/plain": [
       "              Organisation           org_country  \\\n",
       "0                    Meddy  United Arab Emirates   \n",
       "1          Lemonaid Health         United States   \n",
       "2        Prellis Biologics         United States   \n",
       "3                    Memed                Brazil   \n",
       "4                     1859         United States   \n",
       "...                    ...                   ...   \n",
       "87295        FertilityDost                 India   \n",
       "87296    Innoweave Biocare                 India   \n",
       "87298              WeeSure                 India   \n",
       "87318  Schwarzer Cardiotek               Germany   \n",
       "87319               XENiOS               Germany   \n",
       "\n",
       "                          org_city_coo  \n",
       "0      (25.0750095, 55.18876088183319)  \n",
       "1           (37.7790262, -122.4199061)  \n",
       "2           (37.7790262, -122.4199061)  \n",
       "3           (-23.5506507, -46.6333824)  \n",
       "4           (32.7174202, -117.1627728)  \n",
       "...                                ...  \n",
       "87295         (28.6138954, 77.2090057)  \n",
       "87296         (19.0759899, 72.8773928)  \n",
       "87298         (28.5707841, 77.3271074)  \n",
       "87318            (49.142291, 9.218655)  \n",
       "87319            (49.142291, 9.218655)  \n",
       "\n",
       "[22557 rows x 3 columns]"
      ]
     },
     "execution_count": 22,
     "metadata": {},
     "output_type": "execute_result"
    }
   ],
   "source": [
    "tot[['Organisation', 'org_country', 'org_city_coo']].drop_duplicates()"
   ]
  },
  {
   "cell_type": "code",
   "execution_count": 23,
   "metadata": {},
   "outputs": [],
   "source": [
    "#%%\n",
    "nodes_org = tot[['Organisation', 'org_country', 'org_city_coo']].drop_duplicates()\n",
    "nodes_org['kind'] = 'Target'\n",
    "nodes_inv = tot[['Investors', 'inv_country', 'inv_city_coo']].drop_duplicates()\n",
    "nodes_org = nodes_org.rename(columns={\"Organisation\": \"Node\", \"org_country\": \"Country\", \"org_city_coo\": \"Coo\"})\n",
    "nodes_inv = nodes_inv.rename(columns={\"Investors\": \"Node\",\"inv_country\": \"Country\", \"inv_city_coo\": \"Coo\"})\n",
    "nodes_inv['kind'] = 'Bidder'\n",
    "nodes = nodes_org.append(nodes_inv, ignore_index= True)\n",
    "nodes['id'] = nodes.index"
   ]
  },
  {
   "cell_type": "code",
   "execution_count": null,
   "metadata": {},
   "outputs": [],
   "source": []
  },
  {
   "cell_type": "code",
   "execution_count": 24,
   "metadata": {},
   "outputs": [],
   "source": [
    "nodes_org2 = tot[['Organisation', 'org_country']].drop_duplicates()\n",
    "nodes_org2['kind'] = 'Target'\n",
    "nodes_inv2 = tot[['Investors', 'inv_country']].drop_duplicates()\n",
    "nodes_org2 = nodes_org2.rename(columns={\"Organisation\": \"Node\", \"org_country\": \"Country\", \"org_city_coo\": \"Coo\"})\n",
    "nodes_inv2 = nodes_inv2.rename(columns={\"Investors\": \"Node\",\"inv_country\": \"Country\", \"inv_city_coo\": \"Coo\"})\n",
    "nodes_inv2['kind'] = 'Bidder'\n",
    "nodes2 = nodes_org2.append(nodes_inv2, ignore_index= True)\n",
    "nodes2['id'] = nodes2.index"
   ]
  },
  {
   "cell_type": "code",
   "execution_count": 25,
   "metadata": {},
   "outputs": [
    {
     "data": {
      "text/html": [
       "<div>\n",
       "<style scoped>\n",
       "    .dataframe tbody tr th:only-of-type {\n",
       "        vertical-align: middle;\n",
       "    }\n",
       "\n",
       "    .dataframe tbody tr th {\n",
       "        vertical-align: top;\n",
       "    }\n",
       "\n",
       "    .dataframe thead th {\n",
       "        text-align: right;\n",
       "    }\n",
       "</style>\n",
       "<table border=\"1\" class=\"dataframe\">\n",
       "  <thead>\n",
       "    <tr style=\"text-align: right;\">\n",
       "      <th></th>\n",
       "      <th>Node</th>\n",
       "      <th>Country</th>\n",
       "      <th>kind</th>\n",
       "      <th>id</th>\n",
       "    </tr>\n",
       "  </thead>\n",
       "  <tbody>\n",
       "    <tr>\n",
       "      <th>0</th>\n",
       "      <td>Meddy</td>\n",
       "      <td>United Arab Emirates</td>\n",
       "      <td>Target</td>\n",
       "      <td>0</td>\n",
       "    </tr>\n",
       "    <tr>\n",
       "      <th>1</th>\n",
       "      <td>Lemonaid Health</td>\n",
       "      <td>United States</td>\n",
       "      <td>Target</td>\n",
       "      <td>1</td>\n",
       "    </tr>\n",
       "    <tr>\n",
       "      <th>2</th>\n",
       "      <td>Prellis Biologics</td>\n",
       "      <td>United States</td>\n",
       "      <td>Target</td>\n",
       "      <td>2</td>\n",
       "    </tr>\n",
       "    <tr>\n",
       "      <th>3</th>\n",
       "      <td>Memed</td>\n",
       "      <td>Brazil</td>\n",
       "      <td>Target</td>\n",
       "      <td>3</td>\n",
       "    </tr>\n",
       "    <tr>\n",
       "      <th>4</th>\n",
       "      <td>1859</td>\n",
       "      <td>United States</td>\n",
       "      <td>Target</td>\n",
       "      <td>4</td>\n",
       "    </tr>\n",
       "    <tr>\n",
       "      <th>...</th>\n",
       "      <td>...</td>\n",
       "      <td>...</td>\n",
       "      <td>...</td>\n",
       "      <td>...</td>\n",
       "    </tr>\n",
       "    <tr>\n",
       "      <th>40483</th>\n",
       "      <td>ZWC Partners</td>\n",
       "      <td>Hong Kong</td>\n",
       "      <td>Bidder</td>\n",
       "      <td>40483</td>\n",
       "    </tr>\n",
       "    <tr>\n",
       "      <th>40484</th>\n",
       "      <td>Zygote Ventures</td>\n",
       "      <td>United States</td>\n",
       "      <td>Bidder</td>\n",
       "      <td>40484</td>\n",
       "    </tr>\n",
       "    <tr>\n",
       "      <th>40485</th>\n",
       "      <td>Zynik Capital Corp.</td>\n",
       "      <td>Canada</td>\n",
       "      <td>Bidder</td>\n",
       "      <td>40485</td>\n",
       "    </tr>\n",
       "    <tr>\n",
       "      <th>40486</th>\n",
       "      <td>ZZ Capital</td>\n",
       "      <td>China</td>\n",
       "      <td>Bidder</td>\n",
       "      <td>40486</td>\n",
       "    </tr>\n",
       "    <tr>\n",
       "      <th>40487</th>\n",
       "      <td>Ñ‘people</td>\n",
       "      <td>India</td>\n",
       "      <td>Bidder</td>\n",
       "      <td>40487</td>\n",
       "    </tr>\n",
       "  </tbody>\n",
       "</table>\n",
       "<p>40488 rows × 4 columns</p>\n",
       "</div>"
      ],
      "text/plain": [
       "                      Node               Country    kind     id\n",
       "0                    Meddy  United Arab Emirates  Target      0\n",
       "1          Lemonaid Health         United States  Target      1\n",
       "2        Prellis Biologics         United States  Target      2\n",
       "3                    Memed                Brazil  Target      3\n",
       "4                     1859         United States  Target      4\n",
       "...                    ...                   ...     ...    ...\n",
       "40483         ZWC Partners             Hong Kong  Bidder  40483\n",
       "40484      Zygote Ventures         United States  Bidder  40484\n",
       "40485  Zynik Capital Corp.                Canada  Bidder  40485\n",
       "40486           ZZ Capital                 China  Bidder  40486\n",
       "40487             Ñ‘people                 India  Bidder  40487\n",
       "\n",
       "[40488 rows x 4 columns]"
      ]
     },
     "execution_count": 25,
     "metadata": {},
     "output_type": "execute_result"
    }
   ],
   "source": [
    "nodes2"
   ]
  },
  {
   "cell_type": "code",
   "execution_count": 26,
   "metadata": {},
   "outputs": [
    {
     "name": "stderr",
     "output_type": "stream",
     "text": [
      "<ipython-input-26-77cfa29cf197>:2: FutureWarning: The default value of regex will change from True to False in a future version. In addition, single character regular expressions will*not* be treated as literal strings when regex=True.\n",
      "  nodes = nodes.assign(coo = nodes.Coo.str.replace('(','').str.replace(')',''))\n"
     ]
    }
   ],
   "source": [
    "#%%\n",
    "nodes = nodes.assign(coo = nodes.Coo.str.replace('(','').str.replace(')',''))\n",
    "nodes= nodes.assign(coo = nodes.coo.str.split(', '))\n",
    "\n",
    "lats = [0]*len(nodes)\n",
    "longs = [0]*len(nodes)\n",
    "for i in range(len(nodes)):\n",
    "    if np.any(pd.isnull(nodes.coo[i])) == True: \n",
    "        lats[i] = np.nan\n",
    "        longs[i] = np.nan\n",
    "    else :\n",
    "        lats[i] = nodes.coo[i][0]\n",
    "        longs[i] = nodes.coo[i][1]\n",
    "\n",
    "nodes = nodes.assign(lat = lats, long = longs)\n",
    "nodes.lat = pd.to_numeric(nodes.lat, errors='coerce')\n",
    "nodes.long = pd.to_numeric(nodes.long, errors = 'coerce')\n",
    "\n",
    "#%%"
   ]
  },
  {
   "cell_type": "code",
   "execution_count": 27,
   "metadata": {},
   "outputs": [
    {
     "data": {
      "text/html": [
       "<div>\n",
       "<style scoped>\n",
       "    .dataframe tbody tr th:only-of-type {\n",
       "        vertical-align: middle;\n",
       "    }\n",
       "\n",
       "    .dataframe tbody tr th {\n",
       "        vertical-align: top;\n",
       "    }\n",
       "\n",
       "    .dataframe thead th {\n",
       "        text-align: right;\n",
       "    }\n",
       "</style>\n",
       "<table border=\"1\" class=\"dataframe\">\n",
       "  <thead>\n",
       "    <tr style=\"text-align: right;\">\n",
       "      <th></th>\n",
       "      <th>Node</th>\n",
       "      <th>Country</th>\n",
       "      <th>Coo</th>\n",
       "      <th>kind</th>\n",
       "      <th>id</th>\n",
       "      <th>coo</th>\n",
       "      <th>lat</th>\n",
       "      <th>long</th>\n",
       "    </tr>\n",
       "  </thead>\n",
       "  <tbody>\n",
       "  </tbody>\n",
       "</table>\n",
       "</div>"
      ],
      "text/plain": [
       "Empty DataFrame\n",
       "Columns: [Node, Country, Coo, kind, id, coo, lat, long]\n",
       "Index: []"
      ]
     },
     "execution_count": 27,
     "metadata": {},
     "output_type": "execute_result"
    }
   ],
   "source": [
    "nodes[nodes['Node']=='212']"
   ]
  },
  {
   "cell_type": "code",
   "execution_count": 28,
   "metadata": {},
   "outputs": [
    {
     "ename": "NameError",
     "evalue": "name 'tot2' is not defined",
     "output_type": "error",
     "traceback": [
      "\u001b[0;31m---------------------------------------------------------------------------\u001b[0m",
      "\u001b[0;31mNameError\u001b[0m                                 Traceback (most recent call last)",
      "\u001b[0;32m<ipython-input-28-15d965e05910>\u001b[0m in \u001b[0;36m<module>\u001b[0;34m\u001b[0m\n\u001b[0;32m----> 1\u001b[0;31m \u001b[0mtot2\u001b[0m\u001b[0;34m\u001b[0m\u001b[0;34m\u001b[0m\u001b[0m\n\u001b[0m",
      "\u001b[0;31mNameError\u001b[0m: name 'tot2' is not defined"
     ]
    }
   ],
   "source": [
    "tot2"
   ]
  },
  {
   "cell_type": "code",
   "execution_count": 29,
   "metadata": {},
   "outputs": [],
   "source": [
    "tot3=pd.merge(tot, nodes[nodes['kind']== 'Target'],  how='left', left_on=['Organisation','org_country'], right_on = ['Node','Country'])"
   ]
  },
  {
   "cell_type": "code",
   "execution_count": 30,
   "metadata": {},
   "outputs": [
    {
     "data": {
      "text/html": [
       "<div>\n",
       "<style scoped>\n",
       "    .dataframe tbody tr th:only-of-type {\n",
       "        vertical-align: middle;\n",
       "    }\n",
       "\n",
       "    .dataframe tbody tr th {\n",
       "        vertical-align: top;\n",
       "    }\n",
       "\n",
       "    .dataframe thead th {\n",
       "        text-align: right;\n",
       "    }\n",
       "</style>\n",
       "<table border=\"1\" class=\"dataframe\">\n",
       "  <thead>\n",
       "    <tr style=\"text-align: right;\">\n",
       "      <th></th>\n",
       "      <th>Node</th>\n",
       "      <th>Country</th>\n",
       "      <th>Coo</th>\n",
       "      <th>kind</th>\n",
       "      <th>id</th>\n",
       "      <th>coo</th>\n",
       "      <th>lat</th>\n",
       "      <th>long</th>\n",
       "    </tr>\n",
       "  </thead>\n",
       "  <tbody>\n",
       "    <tr>\n",
       "      <th>0</th>\n",
       "      <td>Meddy</td>\n",
       "      <td>United Arab Emirates</td>\n",
       "      <td>(25.0750095, 55.18876088183319)</td>\n",
       "      <td>Target</td>\n",
       "      <td>0</td>\n",
       "      <td>[25.0750095, 55.18876088183319]</td>\n",
       "      <td>25.075010</td>\n",
       "      <td>55.188761</td>\n",
       "    </tr>\n",
       "    <tr>\n",
       "      <th>1</th>\n",
       "      <td>Lemonaid Health</td>\n",
       "      <td>United States</td>\n",
       "      <td>(37.7790262, -122.4199061)</td>\n",
       "      <td>Target</td>\n",
       "      <td>1</td>\n",
       "      <td>[37.7790262, -122.4199061]</td>\n",
       "      <td>37.779026</td>\n",
       "      <td>-122.419906</td>\n",
       "    </tr>\n",
       "    <tr>\n",
       "      <th>2</th>\n",
       "      <td>Prellis Biologics</td>\n",
       "      <td>United States</td>\n",
       "      <td>(37.7790262, -122.4199061)</td>\n",
       "      <td>Target</td>\n",
       "      <td>2</td>\n",
       "      <td>[37.7790262, -122.4199061]</td>\n",
       "      <td>37.779026</td>\n",
       "      <td>-122.419906</td>\n",
       "    </tr>\n",
       "    <tr>\n",
       "      <th>3</th>\n",
       "      <td>Memed</td>\n",
       "      <td>Brazil</td>\n",
       "      <td>(-23.5506507, -46.6333824)</td>\n",
       "      <td>Target</td>\n",
       "      <td>3</td>\n",
       "      <td>[-23.5506507, -46.6333824]</td>\n",
       "      <td>-23.550651</td>\n",
       "      <td>-46.633382</td>\n",
       "    </tr>\n",
       "    <tr>\n",
       "      <th>4</th>\n",
       "      <td>1859</td>\n",
       "      <td>United States</td>\n",
       "      <td>(32.7174202, -117.1627728)</td>\n",
       "      <td>Target</td>\n",
       "      <td>4</td>\n",
       "      <td>[32.7174202, -117.1627728]</td>\n",
       "      <td>32.717420</td>\n",
       "      <td>-117.162773</td>\n",
       "    </tr>\n",
       "    <tr>\n",
       "      <th>...</th>\n",
       "      <td>...</td>\n",
       "      <td>...</td>\n",
       "      <td>...</td>\n",
       "      <td>...</td>\n",
       "      <td>...</td>\n",
       "      <td>...</td>\n",
       "      <td>...</td>\n",
       "      <td>...</td>\n",
       "    </tr>\n",
       "    <tr>\n",
       "      <th>40505</th>\n",
       "      <td>ZWC Partners</td>\n",
       "      <td>Hong Kong</td>\n",
       "      <td>(22.2793278, 114.1628131)</td>\n",
       "      <td>Bidder</td>\n",
       "      <td>40505</td>\n",
       "      <td>[22.2793278, 114.1628131]</td>\n",
       "      <td>22.279328</td>\n",
       "      <td>114.162813</td>\n",
       "    </tr>\n",
       "    <tr>\n",
       "      <th>40506</th>\n",
       "      <td>Zygote Ventures</td>\n",
       "      <td>United States</td>\n",
       "      <td>(37.9735346, -122.5310874)</td>\n",
       "      <td>Bidder</td>\n",
       "      <td>40506</td>\n",
       "      <td>[37.9735346, -122.5310874]</td>\n",
       "      <td>37.973535</td>\n",
       "      <td>-122.531087</td>\n",
       "    </tr>\n",
       "    <tr>\n",
       "      <th>40507</th>\n",
       "      <td>Zynik Capital Corp.</td>\n",
       "      <td>Canada</td>\n",
       "      <td>(49.2608724, -123.1139529)</td>\n",
       "      <td>Bidder</td>\n",
       "      <td>40507</td>\n",
       "      <td>[49.2608724, -123.1139529]</td>\n",
       "      <td>49.260872</td>\n",
       "      <td>-123.113953</td>\n",
       "    </tr>\n",
       "    <tr>\n",
       "      <th>40508</th>\n",
       "      <td>ZZ Capital</td>\n",
       "      <td>China</td>\n",
       "      <td>(39.906217, 116.3912757)</td>\n",
       "      <td>Bidder</td>\n",
       "      <td>40508</td>\n",
       "      <td>[39.906217, 116.3912757]</td>\n",
       "      <td>39.906217</td>\n",
       "      <td>116.391276</td>\n",
       "    </tr>\n",
       "    <tr>\n",
       "      <th>40509</th>\n",
       "      <td>Ñ‘people</td>\n",
       "      <td>India</td>\n",
       "      <td>(19.0759899, 72.8773928)</td>\n",
       "      <td>Bidder</td>\n",
       "      <td>40509</td>\n",
       "      <td>[19.0759899, 72.8773928]</td>\n",
       "      <td>19.075990</td>\n",
       "      <td>72.877393</td>\n",
       "    </tr>\n",
       "  </tbody>\n",
       "</table>\n",
       "<p>40510 rows × 8 columns</p>\n",
       "</div>"
      ],
      "text/plain": [
       "                      Node               Country  \\\n",
       "0                    Meddy  United Arab Emirates   \n",
       "1          Lemonaid Health         United States   \n",
       "2        Prellis Biologics         United States   \n",
       "3                    Memed                Brazil   \n",
       "4                     1859         United States   \n",
       "...                    ...                   ...   \n",
       "40505         ZWC Partners             Hong Kong   \n",
       "40506      Zygote Ventures         United States   \n",
       "40507  Zynik Capital Corp.                Canada   \n",
       "40508           ZZ Capital                 China   \n",
       "40509             Ñ‘people                 India   \n",
       "\n",
       "                                   Coo    kind     id  \\\n",
       "0      (25.0750095, 55.18876088183319)  Target      0   \n",
       "1           (37.7790262, -122.4199061)  Target      1   \n",
       "2           (37.7790262, -122.4199061)  Target      2   \n",
       "3           (-23.5506507, -46.6333824)  Target      3   \n",
       "4           (32.7174202, -117.1627728)  Target      4   \n",
       "...                                ...     ...    ...   \n",
       "40505        (22.2793278, 114.1628131)  Bidder  40505   \n",
       "40506       (37.9735346, -122.5310874)  Bidder  40506   \n",
       "40507       (49.2608724, -123.1139529)  Bidder  40507   \n",
       "40508         (39.906217, 116.3912757)  Bidder  40508   \n",
       "40509         (19.0759899, 72.8773928)  Bidder  40509   \n",
       "\n",
       "                                   coo        lat        long  \n",
       "0      [25.0750095, 55.18876088183319]  25.075010   55.188761  \n",
       "1           [37.7790262, -122.4199061]  37.779026 -122.419906  \n",
       "2           [37.7790262, -122.4199061]  37.779026 -122.419906  \n",
       "3           [-23.5506507, -46.6333824] -23.550651  -46.633382  \n",
       "4           [32.7174202, -117.1627728]  32.717420 -117.162773  \n",
       "...                                ...        ...         ...  \n",
       "40505        [22.2793278, 114.1628131]  22.279328  114.162813  \n",
       "40506       [37.9735346, -122.5310874]  37.973535 -122.531087  \n",
       "40507       [49.2608724, -123.1139529]  49.260872 -123.113953  \n",
       "40508         [39.906217, 116.3912757]  39.906217  116.391276  \n",
       "40509         [19.0759899, 72.8773928]  19.075990   72.877393  \n",
       "\n",
       "[40510 rows x 8 columns]"
      ]
     },
     "execution_count": 30,
     "metadata": {},
     "output_type": "execute_result"
    }
   ],
   "source": [
    "nodes"
   ]
  },
  {
   "cell_type": "code",
   "execution_count": 31,
   "metadata": {},
   "outputs": [
    {
     "ename": "TypeError",
     "evalue": "unhashable type: 'list'",
     "output_type": "error",
     "traceback": [
      "\u001b[0;31m---------------------------------------------------------------------------\u001b[0m",
      "\u001b[0;31mTypeError\u001b[0m                                 Traceback (most recent call last)",
      "\u001b[0;32m<ipython-input-31-2307011cff17>\u001b[0m in \u001b[0;36m<module>\u001b[0;34m\u001b[0m\n\u001b[0;32m----> 1\u001b[0;31m \u001b[0mpd\u001b[0m\u001b[0;34m.\u001b[0m\u001b[0mconcat\u001b[0m\u001b[0;34m(\u001b[0m\u001b[0;34m[\u001b[0m\u001b[0mtot\u001b[0m\u001b[0;34m,\u001b[0m\u001b[0mtot3\u001b[0m\u001b[0;34m]\u001b[0m\u001b[0;34m)\u001b[0m\u001b[0;34m.\u001b[0m\u001b[0mdrop_duplicates\u001b[0m\u001b[0;34m(\u001b[0m\u001b[0mkeep\u001b[0m\u001b[0;34m=\u001b[0m\u001b[0;32mFalse\u001b[0m\u001b[0;34m)\u001b[0m\u001b[0;34m\u001b[0m\u001b[0;34m\u001b[0m\u001b[0m\n\u001b[0m",
      "\u001b[0;32m/Library/Frameworks/Python.framework/Versions/3.9/lib/python3.9/site-packages/pandas/core/frame.py\u001b[0m in \u001b[0;36mdrop_duplicates\u001b[0;34m(self, subset, keep, inplace, ignore_index)\u001b[0m\n\u001b[1;32m   5269\u001b[0m         \u001b[0minplace\u001b[0m \u001b[0;34m=\u001b[0m \u001b[0mvalidate_bool_kwarg\u001b[0m\u001b[0;34m(\u001b[0m\u001b[0minplace\u001b[0m\u001b[0;34m,\u001b[0m \u001b[0;34m\"inplace\"\u001b[0m\u001b[0;34m)\u001b[0m\u001b[0;34m\u001b[0m\u001b[0;34m\u001b[0m\u001b[0m\n\u001b[1;32m   5270\u001b[0m         \u001b[0mignore_index\u001b[0m \u001b[0;34m=\u001b[0m \u001b[0mvalidate_bool_kwarg\u001b[0m\u001b[0;34m(\u001b[0m\u001b[0mignore_index\u001b[0m\u001b[0;34m,\u001b[0m \u001b[0;34m\"ignore_index\"\u001b[0m\u001b[0;34m)\u001b[0m\u001b[0;34m\u001b[0m\u001b[0;34m\u001b[0m\u001b[0m\n\u001b[0;32m-> 5271\u001b[0;31m         \u001b[0mduplicated\u001b[0m \u001b[0;34m=\u001b[0m \u001b[0mself\u001b[0m\u001b[0;34m.\u001b[0m\u001b[0mduplicated\u001b[0m\u001b[0;34m(\u001b[0m\u001b[0msubset\u001b[0m\u001b[0;34m,\u001b[0m \u001b[0mkeep\u001b[0m\u001b[0;34m=\u001b[0m\u001b[0mkeep\u001b[0m\u001b[0;34m)\u001b[0m\u001b[0;34m\u001b[0m\u001b[0;34m\u001b[0m\u001b[0m\n\u001b[0m\u001b[1;32m   5272\u001b[0m \u001b[0;34m\u001b[0m\u001b[0m\n\u001b[1;32m   5273\u001b[0m         \u001b[0mresult\u001b[0m \u001b[0;34m=\u001b[0m \u001b[0mself\u001b[0m\u001b[0;34m[\u001b[0m\u001b[0;34m-\u001b[0m\u001b[0mduplicated\u001b[0m\u001b[0;34m]\u001b[0m\u001b[0;34m\u001b[0m\u001b[0;34m\u001b[0m\u001b[0m\n",
      "\u001b[0;32m/Library/Frameworks/Python.framework/Versions/3.9/lib/python3.9/site-packages/pandas/core/frame.py\u001b[0m in \u001b[0;36mduplicated\u001b[0;34m(self, subset, keep)\u001b[0m\n\u001b[1;32m   5406\u001b[0m \u001b[0;34m\u001b[0m\u001b[0m\n\u001b[1;32m   5407\u001b[0m         \u001b[0mvals\u001b[0m \u001b[0;34m=\u001b[0m \u001b[0;34m(\u001b[0m\u001b[0mcol\u001b[0m\u001b[0;34m.\u001b[0m\u001b[0mvalues\u001b[0m \u001b[0;32mfor\u001b[0m \u001b[0mname\u001b[0m\u001b[0;34m,\u001b[0m \u001b[0mcol\u001b[0m \u001b[0;32min\u001b[0m \u001b[0mself\u001b[0m\u001b[0;34m.\u001b[0m\u001b[0mitems\u001b[0m\u001b[0;34m(\u001b[0m\u001b[0;34m)\u001b[0m \u001b[0;32mif\u001b[0m \u001b[0mname\u001b[0m \u001b[0;32min\u001b[0m \u001b[0msubset\u001b[0m\u001b[0;34m)\u001b[0m\u001b[0;34m\u001b[0m\u001b[0;34m\u001b[0m\u001b[0m\n\u001b[0;32m-> 5408\u001b[0;31m         \u001b[0mlabels\u001b[0m\u001b[0;34m,\u001b[0m \u001b[0mshape\u001b[0m \u001b[0;34m=\u001b[0m \u001b[0mmap\u001b[0m\u001b[0;34m(\u001b[0m\u001b[0mlist\u001b[0m\u001b[0;34m,\u001b[0m \u001b[0mzip\u001b[0m\u001b[0;34m(\u001b[0m\u001b[0;34m*\u001b[0m\u001b[0mmap\u001b[0m\u001b[0;34m(\u001b[0m\u001b[0mf\u001b[0m\u001b[0;34m,\u001b[0m \u001b[0mvals\u001b[0m\u001b[0;34m)\u001b[0m\u001b[0;34m)\u001b[0m\u001b[0;34m)\u001b[0m\u001b[0;34m\u001b[0m\u001b[0;34m\u001b[0m\u001b[0m\n\u001b[0m\u001b[1;32m   5409\u001b[0m \u001b[0;34m\u001b[0m\u001b[0m\n\u001b[1;32m   5410\u001b[0m         \u001b[0mids\u001b[0m \u001b[0;34m=\u001b[0m \u001b[0mget_group_index\u001b[0m\u001b[0;34m(\u001b[0m\u001b[0mlabels\u001b[0m\u001b[0;34m,\u001b[0m \u001b[0mshape\u001b[0m\u001b[0;34m,\u001b[0m \u001b[0msort\u001b[0m\u001b[0;34m=\u001b[0m\u001b[0;32mFalse\u001b[0m\u001b[0;34m,\u001b[0m \u001b[0mxnull\u001b[0m\u001b[0;34m=\u001b[0m\u001b[0;32mFalse\u001b[0m\u001b[0;34m)\u001b[0m\u001b[0;34m\u001b[0m\u001b[0;34m\u001b[0m\u001b[0m\n",
      "\u001b[0;32m/Library/Frameworks/Python.framework/Versions/3.9/lib/python3.9/site-packages/pandas/core/frame.py\u001b[0m in \u001b[0;36mf\u001b[0;34m(vals)\u001b[0m\n\u001b[1;32m   5380\u001b[0m \u001b[0;34m\u001b[0m\u001b[0m\n\u001b[1;32m   5381\u001b[0m         \u001b[0;32mdef\u001b[0m \u001b[0mf\u001b[0m\u001b[0;34m(\u001b[0m\u001b[0mvals\u001b[0m\u001b[0;34m)\u001b[0m\u001b[0;34m:\u001b[0m\u001b[0;34m\u001b[0m\u001b[0;34m\u001b[0m\u001b[0m\n\u001b[0;32m-> 5382\u001b[0;31m             labels, shape = algorithms.factorize(\n\u001b[0m\u001b[1;32m   5383\u001b[0m                 \u001b[0mvals\u001b[0m\u001b[0;34m,\u001b[0m \u001b[0msize_hint\u001b[0m\u001b[0;34m=\u001b[0m\u001b[0mmin\u001b[0m\u001b[0;34m(\u001b[0m\u001b[0mlen\u001b[0m\u001b[0;34m(\u001b[0m\u001b[0mself\u001b[0m\u001b[0;34m)\u001b[0m\u001b[0;34m,\u001b[0m \u001b[0mSIZE_HINT_LIMIT\u001b[0m\u001b[0;34m)\u001b[0m\u001b[0;34m\u001b[0m\u001b[0;34m\u001b[0m\u001b[0m\n\u001b[1;32m   5384\u001b[0m             )\n",
      "\u001b[0;32m/Library/Frameworks/Python.framework/Versions/3.9/lib/python3.9/site-packages/pandas/core/algorithms.py\u001b[0m in \u001b[0;36mfactorize\u001b[0;34m(values, sort, na_sentinel, size_hint)\u001b[0m\n\u001b[1;32m    720\u001b[0m             \u001b[0mna_value\u001b[0m \u001b[0;34m=\u001b[0m \u001b[0;32mNone\u001b[0m\u001b[0;34m\u001b[0m\u001b[0;34m\u001b[0m\u001b[0m\n\u001b[1;32m    721\u001b[0m \u001b[0;34m\u001b[0m\u001b[0m\n\u001b[0;32m--> 722\u001b[0;31m         codes, uniques = factorize_array(\n\u001b[0m\u001b[1;32m    723\u001b[0m             \u001b[0mvalues\u001b[0m\u001b[0;34m,\u001b[0m \u001b[0mna_sentinel\u001b[0m\u001b[0;34m=\u001b[0m\u001b[0mna_sentinel\u001b[0m\u001b[0;34m,\u001b[0m \u001b[0msize_hint\u001b[0m\u001b[0;34m=\u001b[0m\u001b[0msize_hint\u001b[0m\u001b[0;34m,\u001b[0m \u001b[0mna_value\u001b[0m\u001b[0;34m=\u001b[0m\u001b[0mna_value\u001b[0m\u001b[0;34m\u001b[0m\u001b[0;34m\u001b[0m\u001b[0m\n\u001b[1;32m    724\u001b[0m         )\n",
      "\u001b[0;32m/Library/Frameworks/Python.framework/Versions/3.9/lib/python3.9/site-packages/pandas/core/algorithms.py\u001b[0m in \u001b[0;36mfactorize_array\u001b[0;34m(values, na_sentinel, size_hint, na_value, mask)\u001b[0m\n\u001b[1;32m    526\u001b[0m \u001b[0;34m\u001b[0m\u001b[0m\n\u001b[1;32m    527\u001b[0m     \u001b[0mtable\u001b[0m \u001b[0;34m=\u001b[0m \u001b[0mhash_klass\u001b[0m\u001b[0;34m(\u001b[0m\u001b[0msize_hint\u001b[0m \u001b[0;32mor\u001b[0m \u001b[0mlen\u001b[0m\u001b[0;34m(\u001b[0m\u001b[0mvalues\u001b[0m\u001b[0;34m)\u001b[0m\u001b[0;34m)\u001b[0m\u001b[0;34m\u001b[0m\u001b[0;34m\u001b[0m\u001b[0m\n\u001b[0;32m--> 528\u001b[0;31m     uniques, codes = table.factorize(\n\u001b[0m\u001b[1;32m    529\u001b[0m         \u001b[0mvalues\u001b[0m\u001b[0;34m,\u001b[0m \u001b[0mna_sentinel\u001b[0m\u001b[0;34m=\u001b[0m\u001b[0mna_sentinel\u001b[0m\u001b[0;34m,\u001b[0m \u001b[0mna_value\u001b[0m\u001b[0;34m=\u001b[0m\u001b[0mna_value\u001b[0m\u001b[0;34m,\u001b[0m \u001b[0mmask\u001b[0m\u001b[0;34m=\u001b[0m\u001b[0mmask\u001b[0m\u001b[0;34m\u001b[0m\u001b[0;34m\u001b[0m\u001b[0m\n\u001b[1;32m    530\u001b[0m     )\n",
      "\u001b[0;32mpandas/_libs/hashtable_class_helper.pxi\u001b[0m in \u001b[0;36mpandas._libs.hashtable.PyObjectHashTable.factorize\u001b[0;34m()\u001b[0m\n",
      "\u001b[0;32mpandas/_libs/hashtable_class_helper.pxi\u001b[0m in \u001b[0;36mpandas._libs.hashtable.PyObjectHashTable._unique\u001b[0;34m()\u001b[0m\n",
      "\u001b[0;31mTypeError\u001b[0m: unhashable type: 'list'"
     ]
    }
   ],
   "source": [
    "pd.concat([tot,tot3]).drop_duplicates(keep=False)"
   ]
  },
  {
   "cell_type": "code",
   "execution_count": null,
   "metadata": {},
   "outputs": [],
   "source": []
  },
  {
   "cell_type": "code",
   "execution_count": null,
   "metadata": {},
   "outputs": [],
   "source": [
    "#%%\n",
    "tot2 = pd.merge(tot, nodes[nodes['kind']== 'Target'],  how='left', left_on=['Organisation','org_city_coo'], right_on = ['Node','Coo'])\n",
    "tot2 = pd.merge(tot2, nodes[nodes['kind']== 'Bidder'],  how='left', left_on=['Investors','inv_city_coo'], right_on = ['Node','Coo'])\n",
    "G = nx.MultiGraph()\n",
    "dic = {}\n",
    "for i in range(len(nodes)):\n",
    "               dic[i] = {\"Name\": nodes.Node[i], 'Country':nodes.Country[i], 'kind': nodes.kind[i]}\n",
    "\n",
    "G.add_nodes_from(list(dic.items()))"
   ]
  },
  {
   "cell_type": "code",
   "execution_count": null,
   "metadata": {},
   "outputs": [],
   "source": [
    "#tot2[['org_city_coo', 'coo_y', 'coo_x', 'inv_city_coo']]\n",
    "\n",
    "Pallottola = tot2[tot2.columns[~tot2.columns.str.contains('Unnamed:')]]"
   ]
  },
  {
   "cell_type": "code",
   "execution_count": null,
   "metadata": {},
   "outputs": [],
   "source": [
    "Pallottola.columns.values\n",
    "Pallottola.drop(columns=['org_country', 'inv_country', 'Organisation', 'Investors', 'org_city_coo',\n",
    "                        'inv_city_coo'])"
   ]
  },
  {
   "cell_type": "markdown",
   "metadata": {},
   "source": [
    "### Creiamo links per network inv-inv"
   ]
  },
  {
   "cell_type": "code",
   "execution_count": null,
   "metadata": {},
   "outputs": [],
   "source": [
    "import progressbar\n",
    "links_f = []\n",
    "number_for_percentage = 1\n",
    "#ID in Pallottola indica il round e si ripete \n",
    "bar = progressbar.ProgressBar(maxval=len(Pallottola['ID'].unique()), \\\n",
    "    widgets=[progressbar.Bar('=', '[', ']'), ' ', progressbar.Percentage()])\n",
    "bar.start()\n",
    "for i in Pallottola['ID'].unique():\n",
    "    for couple in itertools.combinations(Pallottola[Pallottola['ID']==i].id_y.values,2):\n",
    "        #if tot2[tot2['ID']==i]['conv'].values[0] != '-':\n",
    "            links_f.append((couple + ({'m_raised': Pallottola[Pallottola['ID']==i]['USDraised_cpi'].values[0],\n",
    "                             'date': Pallottola[Pallottola['ID']==i]['Date'].values[0],\n",
    "                             'round': Pallottola[Pallottola['ID']==i]['Funding type'].values[0],\n",
    "                             'number': 1/(len(Pallottola[Pallottola['ID']==i])-1),\n",
    "                             'type': 'invinv'},)))\n",
    "    number_for_percentage+=1\n",
    "    bar.update(number_for_percentage)\n",
    "    \n",
    "#     print(number_for_percentage/len(Pallottola['ID'].unique()))\n",
    "\n",
    "  "
   ]
  },
  {
   "cell_type": "code",
   "execution_count": null,
   "metadata": {},
   "outputs": [],
   "source": [
    "# dic_bidder"
   ]
  },
  {
   "cell_type": "code",
   "execution_count": null,
   "metadata": {},
   "outputs": [],
   "source": [
    "# links_f"
   ]
  },
  {
   "cell_type": "code",
   "execution_count": null,
   "metadata": {},
   "outputs": [],
   "source": [
    "#G = nx.DiGraph(((source, target, attr) for source, target, attr in my_network.edges_iter(data=True) if attr['weight'] > threshold))\n",
    "#Dictionary of all bidder nodes\n",
    "dic_bidder={}\n",
    "for i in bidder_nodes:\n",
    "    dic_bidder[i]=dic[i]"
   ]
  },
  {
   "cell_type": "code",
   "execution_count": null,
   "metadata": {},
   "outputs": [],
   "source": [
    "# G_bidder = nx.MultiGraph()\n",
    "# G_bidder.add_nodes_from(list(dic_bidder.items()))\n",
    "# G_bidder.add_edges_from(links_f)"
   ]
  },
  {
   "cell_type": "markdown",
   "metadata": {},
   "source": [
    "## G_bidder is our investor graph - dobbiamo aggiungere nome come caratteristica del nodo? Abbiamo solo id del nodo, ricordi?"
   ]
  },
  {
   "cell_type": "code",
   "execution_count": null,
   "metadata": {},
   "outputs": [],
   "source": [
    "G_bidder\n",
    "pd.to_datetime(nx.get_edge_attributes(G,'date')[(22557,27029,0)]).year"
   ]
  },
  {
   "cell_type": "markdown",
   "metadata": {},
   "source": [
    "## Descriptive statistics on G_bidder with igraph"
   ]
  },
  {
   "cell_type": "code",
   "execution_count": null,
   "metadata": {},
   "outputs": [],
   "source": [
    "tot"
   ]
  },
  {
   "cell_type": "code",
   "execution_count": null,
   "metadata": {},
   "outputs": [],
   "source": [
    "G_bidder.number_of_edges()"
   ]
  },
  {
   "cell_type": "code",
   "execution_count": null,
   "metadata": {},
   "outputs": [],
   "source": [
    "ego = nx.ego_graph(G_bidder, 22557) # ego network of the node\n",
    "nx.draw(ego, with_labels=True)"
   ]
  },
  {
   "cell_type": "code",
   "execution_count": null,
   "metadata": {},
   "outputs": [],
   "source": [
    "#Lista anni\n",
    "lista_unique_year=[]\n",
    "for i in Pallottola['Date']:\n",
    "    lista_unique_year.append(i.year)\n",
    "insieme_year=set(lista_unique_year)\n",
    "insieme_year"
   ]
  },
  {
   "cell_type": "code",
   "execution_count": null,
   "metadata": {},
   "outputs": [],
   "source": [
    "newDict={}\n",
    "for (kind, value) in dic.items():\n",
    "   # Check if key is even then add pair to new dictionary\n",
    "    if kind == 'Bidder':\n",
    "        newDict[kind] = value"
   ]
  },
  {
   "cell_type": "code",
   "execution_count": null,
   "metadata": {},
   "outputs": [],
   "source": [
    "from tqdm.notebook import tqdm\n",
    "for anno in tqdm(insieme_year):\n",
    "    locals()[\"SG_\"+str(anno)]=nx.Graph([(u,v,d) for u,v,d in G_bidder.edges(data=True) if pd.to_datetime(d['date']).year==anno])"
   ]
  },
  {
   "cell_type": "code",
   "execution_count": null,
   "metadata": {},
   "outputs": [],
   "source": [
    "nx.info(SG_2018)"
   ]
  },
  {
   "cell_type": "code",
   "execution_count": null,
   "metadata": {},
   "outputs": [],
   "source": [
    "edges=[]\n",
    "nodes=[]\n",
    "avg_degree=[]\n",
    "for anno in insieme_year:\n",
    "    edges.append(locals()[\"SG_\"+str(anno)].number_of_edges())\n",
    "    nodes.append(locals()[\"SG_\"+str(anno)].number_of_nodes())\n",
    "    avg_degree.append(2*locals()[\"SG_\"+str(anno)].number_of_edges()/(locals()[\"SG_\"+str(anno)].number_of_nodes()+1))"
   ]
  },
  {
   "cell_type": "code",
   "execution_count": null,
   "metadata": {},
   "outputs": [],
   "source": [
    "pd.Series(edges).plot()"
   ]
  },
  {
   "cell_type": "markdown",
   "metadata": {},
   "source": [
    "Utile vedere ammontare denaro investito in gruppi >=2 e ammontare denaro quando hai solo un investitore - la domanda che ci siamo posti è un problema? Se un investitore partecipa da solo in 20 round significa che ti stai collegando ad uno con una certa expertise. Se investi con qualcuno che è sempre stato insieme a big player e poi ci investi da solo puoi scoprire se ha davvero la stoffa (è un follower o capisce bene gli investimenti da solo?). Invece se investi con qualcuno che ha sempre trovato deal da solo puoi giudicare bene quanto sia abile. \n",
    "\n",
    "Investitori che anticipano il trend e capiscono ottime opportunità o investitori hub che investono in cose medio buone che ne cambiano il destino perché si portano dietro altri investitori.\n",
    "\n",
    "<b>Network direzionato</b> in cui punti tutti quelli che hanno investito in quell'azienda prima di te, per fare in modo di catturare quelli che hanno partecipato da soli ma che poi sono stati seguiti parecchio. Lo vedi con degree coming in elevato vs degree coming out basso. "
   ]
  },
  {
   "cell_type": "code",
   "execution_count": null,
   "metadata": {},
   "outputs": [],
   "source": [
    "#Hai eliminato i lupi solitari\n",
    "pd.Series(nodes).plot()"
   ]
  },
  {
   "cell_type": "code",
   "execution_count": null,
   "metadata": {},
   "outputs": [],
   "source": [
    "#Non hai contato lupi solitari, in teoria è inflazionato\n",
    "pd.Series(avg_degree).plot()"
   ]
  },
  {
   "cell_type": "markdown",
   "metadata": {},
   "source": [
    "## Degree centrality"
   ]
  },
  {
   "cell_type": "markdown",
   "metadata": {},
   "source": [
    "Nei label degli edges potremmo mettere con quanti investitori sei collegato durante quel round, per capire quanto contribuisce al tuo degree"
   ]
  },
  {
   "cell_type": "code",
   "execution_count": null,
   "metadata": {},
   "outputs": [],
   "source": [
    "G_single = nx.Graph()\n",
    "for u,v,data in G_bidder.edges(data=True):\n",
    "    if data['m_raised']==np.nan:\n",
    "        w=np.nan\n",
    "    else:\n",
    "        w = data['m_raised']*(1/((1/data['number'])+1))*(1/data['number']) if 'm_raised' in data else np.nan\n",
    "    if G_single.has_edge(u,v):\n",
    "        G_single[u][v]['weight'] += w\n",
    "    else:\n",
    "        G_single.add_edge(u, v, weight=w)"
   ]
  },
  {
   "cell_type": "code",
   "execution_count": null,
   "metadata": {},
   "outputs": [],
   "source": [
    "for u,v,data in G_single.edges(data=True):\n",
    "    data['weight']=np.log(data['weight'])"
   ]
  },
  {
   "cell_type": "code",
   "execution_count": null,
   "metadata": {},
   "outputs": [],
   "source": [
    "nx.info(G_single)"
   ]
  },
  {
   "cell_type": "markdown",
   "metadata": {},
   "source": [
    "Necessario ricreare network con un solo collegamento pesato invece che tanti, con anche feature che ti dice sum(money_raised * number)"
   ]
  },
  {
   "cell_type": "markdown",
   "metadata": {},
   "source": [
    "Nel passare a grafo singolo dobbiamo stare attenti al fatto che non è dinamico quindi se dobbiamo filtrare per anno o filtrare per round allora dobbiamo farlo sul multigrafo e poi trasformarlo in grafo (avrebbe anche senso filtrare per round per vedere a diversi stage di investimento come cambiano i rapporti tra investitori)"
   ]
  },
  {
   "cell_type": "code",
   "execution_count": null,
   "metadata": {},
   "outputs": [],
   "source": [
    "centrality_pagerank = nx.pagerank(G_single)"
   ]
  },
  {
   "cell_type": "code",
   "execution_count": null,
   "metadata": {},
   "outputs": [],
   "source": [
    "centrality_eigenvector_2=nx.eigenvector_centrality_numpy(G_single, max_iter=100, tol=1e-06, weight='weight')"
   ]
  },
  {
   "cell_type": "code",
   "execution_count": null,
   "metadata": {},
   "outputs": [],
   "source": [
    "lista_utilissima=[]\n",
    "for u,v,data in G_single.edges(data=True):\n",
    "    lista_utilissima.append(data['weight'])\n",
    "plt.hist((lista_utilissima))"
   ]
  },
  {
   "cell_type": "code",
   "execution_count": null,
   "metadata": {},
   "outputs": [],
   "source": [
    "G_single.edges(data=True)"
   ]
  },
  {
   "cell_type": "code",
   "execution_count": null,
   "metadata": {},
   "outputs": [],
   "source": [
    "centrality_eigenvector"
   ]
  },
  {
   "cell_type": "code",
   "execution_count": null,
   "metadata": {},
   "outputs": [],
   "source": [
    "centrality_betweenness=nx.betweenness_centrality(G_bidder, k=None, normalized=True, weight=None, endpoints=False, seed=None)"
   ]
  },
  {
   "cell_type": "code",
   "execution_count": null,
   "metadata": {},
   "outputs": [],
   "source": [
    "nodes[nodes['kind']=='Bidder'].sort_values('Bidder_centrality_general',ascending=False)[10:20]"
   ]
  },
  {
   "cell_type": "code",
   "execution_count": null,
   "metadata": {},
   "outputs": [],
   "source": [
    "nodes.iloc[22576]"
   ]
  },
  {
   "cell_type": "code",
   "execution_count": null,
   "metadata": {},
   "outputs": [],
   "source": [
    "for key,value in centrality_general.items():\n",
    "    nodes.at[nodes[nodes['id']==key].index[0],'Bidder_centrality_general']=value"
   ]
  },
  {
   "cell_type": "markdown",
   "metadata": {},
   "source": [
    "Interessante <b>comparare degree centrality con eigenvector centrality</b>: nella eigenvector tu vedi l'effetto di amici potenti (con alto degree). Ci sono modi per calcolare centrality in network pesati non direzionati? Possiamo così pesare ciascun nodo con ammontare investimento. Quanto sei centrale rispetto al denaro e non alle persone o una combinazione delle due. <br>\n",
    "<b> Betweenness centrality </b> : quanto sei ponte di collegamento tra mondi diversi"
   ]
  },
  {
   "cell_type": "code",
   "execution_count": null,
   "metadata": {},
   "outputs": [],
   "source": [
    "nodes['Bidder_centrality_general']"
   ]
  },
  {
   "cell_type": "code",
   "execution_count": null,
   "metadata": {},
   "outputs": [],
   "source": [
    "for nodes.at[nodes[nodes['id']==2200].index[0],'Bidder_centrality_general']=np.nan"
   ]
  },
  {
   "cell_type": "markdown",
   "metadata": {},
   "source": [
    "## Memo per la prossima volta: plottare distribuzione del degree di ciascun anno"
   ]
  },
  {
   "cell_type": "code",
   "execution_count": null,
   "metadata": {},
   "outputs": [],
   "source": []
  },
  {
   "cell_type": "markdown",
   "metadata": {},
   "source": [
    "## Clustering coefficient"
   ]
  },
  {
   "cell_type": "markdown",
   "metadata": {},
   "source": [
    "Quanti sono i link presenti nel grafo sui link potenziali"
   ]
  },
  {
   "cell_type": "code",
   "execution_count": null,
   "metadata": {},
   "outputs": [],
   "source": [
    "lista_utilissima=[]\n",
    "for i in insieme_year:\n",
    "    if i>=2000 and i<2021:\n",
    "        lista_utilissima.append(i)"
   ]
  },
  {
   "cell_type": "code",
   "execution_count": null,
   "metadata": {},
   "outputs": [],
   "source": [
    "lista_utilissima"
   ]
  },
  {
   "cell_type": "markdown",
   "metadata": {},
   "source": [
    "Average degree rimane uguale ma il numero di nodi aumenta quindi density diminuisce"
   ]
  },
  {
   "cell_type": "code",
   "execution_count": null,
   "metadata": {},
   "outputs": [],
   "source": [
    "density_anno=[]\n",
    "for anno in lista_utilissima:\n",
    "    density_anno.append(nx.density(locals()[\"SG_\"+str(anno)]))\n",
    "pd.Series(density_anno).plot()                                      "
   ]
  },
  {
   "cell_type": "code",
   "execution_count": null,
   "metadata": {},
   "outputs": [],
   "source": [
    "hist = nx.degree_histogram(G_bidder)\n",
    "    \n",
    "plt.plot(range(0, len(hist)), hist, \".\")\n",
    "plt.title(\"Degree Distribution\")\n",
    "plt.xlabel(\"Degree\")\n",
    "plt.ylabel(\"#Nodes\")\n",
    "plt.loglog()\n",
    "plt.show()"
   ]
  },
  {
   "cell_type": "code",
   "execution_count": null,
   "metadata": {},
   "outputs": [],
   "source": [
    "G_weighted = nx.Graph()\n",
    "for u,v,data in G_bidder.edges(data=True):\n",
    "    w = data['weight'] if 'weight' in data else 1.0\n",
    "    if G.has_edge(u,v):\n",
    "        G_weighted[u][v]['weight'] += w\n",
    "    else:\n",
    "        G_weighted.add_edge(u, v, weight=w)"
   ]
  },
  {
   "cell_type": "code",
   "execution_count": null,
   "metadata": {},
   "outputs": [],
   "source": []
  },
  {
   "cell_type": "markdown",
   "metadata": {},
   "source": [
    "Scontare i legami nel grafo rispetto al tempo, con una sorta di weight decay. \n",
    "Ricordati che per come è costruito il grafo adesso se due investitori investono nella stessa company a stage diversi non hanno un collegamento, per cui il degree tiene conto di questo. Puoi comunque tentare di capire se ci sono investitori hub nel momento in cui studi il grafo bidder-target. Per questo motivo forse non ha senso cancellare i nodi che hanno degree pari a 0. Eppure se vogliamo renderlo da multigraph a weighted graph questi nodi vengono cancellati (la funzione che segue fa questo, passiamo da 17953 a 14363)"
   ]
  },
  {
   "cell_type": "markdown",
   "metadata": {},
   "source": [
    "Creiamo un grafo dove i link sono più generici - basta avere company insieme. Con questo possiamo capire chi sono questi lupi solitari. Cosa interessante è vedere nel tempo quanti siano gli investitori solitari per ogni anno"
   ]
  },
  {
   "cell_type": "markdown",
   "metadata": {},
   "source": [
    "Dobbiamo tornare nel grafo bipartito, vedere quando hanno fatto investimenti e contarli per l'anno. Creiamo un network con self-loop"
   ]
  },
  {
   "cell_type": "code",
   "execution_count": null,
   "metadata": {},
   "outputs": [],
   "source": [
    "lista_utilissima=[]\n",
    "for anno in insieme_year:\n",
    "    for i in list(nx.degree(locals()[\"SG_\"+str(anno)])):\n",
    "        if i[1]==0:\n",
    "            lista_utilissima.append(i[1])\n",
    "    print(len(lista_utilissima))"
   ]
  },
  {
   "cell_type": "code",
   "execution_count": null,
   "metadata": {},
   "outputs": [],
   "source": [
    "nx.info(G_weighted)"
   ]
  },
  {
   "cell_type": "code",
   "execution_count": null,
   "metadata": {},
   "outputs": [],
   "source": [
    "plt.plot(nx.degree(G_bidder),nx.clustering(G_bidder))\n",
    "plt.yscale(\"log\")\n",
    "plt.xscale(\"log\")\n",
    "plt.show()"
   ]
  }
 ],
 "metadata": {
  "kernelspec": {
   "display_name": "Python 3",
   "language": "python",
   "name": "python3"
  },
  "language_info": {
   "codemirror_mode": {
    "name": "ipython",
    "version": 3
   },
   "file_extension": ".py",
   "mimetype": "text/x-python",
   "name": "python",
   "nbconvert_exporter": "python",
   "pygments_lexer": "ipython3",
   "version": "3.9.2"
  }
 },
 "nbformat": 4,
 "nbformat_minor": 4
}
