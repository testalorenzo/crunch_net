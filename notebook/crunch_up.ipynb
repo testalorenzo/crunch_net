{
 "cells": [
  {
   "cell_type": "markdown",
   "metadata": {},
   "source": [
    "# Not all seeds become plants"
   ]
  },
  {
   "cell_type": "code",
   "execution_count": null,
   "metadata": {},
   "outputs": [],
   "source": [
    "import numpy as np\n",
    "import math\n",
    "import statsmodels.api as sm\n",
    "import imblearn\n",
    "from tqdm.notebook import tqdm\n",
    "from scipy import stats\n",
    "import pandas as pd\n",
    "import matplotlib.pyplot as plt\n",
    "import networkx as nx\n",
    "from networkx.algorithms import bipartite, community \n",
    "from numpy.random import choice\n",
    "import itertools\n",
    "from cdlib import algorithms, readwrite, evaluation, TemporalClustering"
   ]
  },
  {
   "cell_type": "markdown",
   "metadata": {},
   "source": [
    "## Bipartite network generation"
   ]
  },
  {
   "cell_type": "markdown",
   "metadata": {},
   "source": [
    "### Data preparation"
   ]
  },
  {
   "cell_type": "code",
   "execution_count": 2,
   "metadata": {
    "scrolled": true
   },
   "outputs": [
    {
     "data": {
      "text/html": [
       "<div>\n",
       "<style scoped>\n",
       "    .dataframe tbody tr th:only-of-type {\n",
       "        vertical-align: middle;\n",
       "    }\n",
       "\n",
       "    .dataframe tbody tr th {\n",
       "        vertical-align: top;\n",
       "    }\n",
       "\n",
       "    .dataframe thead th {\n",
       "        text-align: right;\n",
       "    }\n",
       "</style>\n",
       "<table border=\"1\" class=\"dataframe\">\n",
       "  <thead>\n",
       "    <tr style=\"text-align: right;\">\n",
       "      <th></th>\n",
       "      <th>Node</th>\n",
       "      <th>Country</th>\n",
       "      <th>bipartite</th>\n",
       "      <th>id</th>\n",
       "      <th>lat</th>\n",
       "      <th>long</th>\n",
       "      <th>Coo</th>\n",
       "    </tr>\n",
       "  </thead>\n",
       "  <tbody>\n",
       "    <tr>\n",
       "      <th>0</th>\n",
       "      <td>Meddy</td>\n",
       "      <td>United Arab Emirates</td>\n",
       "      <td>1</td>\n",
       "      <td>0</td>\n",
       "      <td>25.075010</td>\n",
       "      <td>55.188761</td>\n",
       "      <td>(25.0750095, 55.18876088183319)</td>\n",
       "    </tr>\n",
       "    <tr>\n",
       "      <th>1</th>\n",
       "      <td>Lemonaid Health</td>\n",
       "      <td>United States</td>\n",
       "      <td>1</td>\n",
       "      <td>1</td>\n",
       "      <td>37.779026</td>\n",
       "      <td>-122.419906</td>\n",
       "      <td>(37.7790262, -122.4199061)</td>\n",
       "    </tr>\n",
       "    <tr>\n",
       "      <th>2</th>\n",
       "      <td>Prellis Biologics</td>\n",
       "      <td>United States</td>\n",
       "      <td>1</td>\n",
       "      <td>2</td>\n",
       "      <td>37.779026</td>\n",
       "      <td>-122.419906</td>\n",
       "      <td>(37.7790262, -122.4199061)</td>\n",
       "    </tr>\n",
       "    <tr>\n",
       "      <th>3</th>\n",
       "      <td>Memed</td>\n",
       "      <td>Brazil</td>\n",
       "      <td>1</td>\n",
       "      <td>3</td>\n",
       "      <td>-23.550651</td>\n",
       "      <td>-46.633382</td>\n",
       "      <td>(-23.5506507, -46.6333824)</td>\n",
       "    </tr>\n",
       "    <tr>\n",
       "      <th>4</th>\n",
       "      <td>1859</td>\n",
       "      <td>United States</td>\n",
       "      <td>1</td>\n",
       "      <td>4</td>\n",
       "      <td>32.717420</td>\n",
       "      <td>-117.162773</td>\n",
       "      <td>(32.7174202, -117.1627728)</td>\n",
       "    </tr>\n",
       "  </tbody>\n",
       "</table>\n",
       "</div>"
      ],
      "text/plain": [
       "                Node               Country  bipartite  id        lat  \\\n",
       "0              Meddy  United Arab Emirates          1   0  25.075010   \n",
       "1    Lemonaid Health         United States          1   1  37.779026   \n",
       "2  Prellis Biologics         United States          1   2  37.779026   \n",
       "3              Memed                Brazil          1   3 -23.550651   \n",
       "4               1859         United States          1   4  32.717420   \n",
       "\n",
       "         long                              Coo  \n",
       "0   55.188761  (25.0750095, 55.18876088183319)  \n",
       "1 -122.419906       (37.7790262, -122.4199061)  \n",
       "2 -122.419906       (37.7790262, -122.4199061)  \n",
       "3  -46.633382       (-23.5506507, -46.6333824)  \n",
       "4 -117.162773       (32.7174202, -117.1627728)  "
      ]
     },
     "execution_count": 2,
     "metadata": {},
     "output_type": "execute_result"
    }
   ],
   "source": [
    "tot = pd.read_excel('Pasadena.xlsx')\n",
    "nodes_org = tot[['Organisation', 'org_country', 'org_city_coo']].drop_duplicates()\n",
    "nodes_org['bipartite'] = 1\n",
    "nodes_inv = tot[['Investors', 'inv_country', 'inv_city_coo']].drop_duplicates()\n",
    "nodes_org = nodes_org.rename(columns={\"Organisation\": \"Node\", \"org_country\": \"Country\", \"org_city_coo\": \"Coo\"})\n",
    "nodes_inv = nodes_inv.rename(columns={\"Investors\": \"Node\",\"inv_country\": \"Country\", \"inv_city_coo\": \"Coo\"})\n",
    "nodes_inv['bipartite'] = 0\n",
    "nodes = nodes_org.append(nodes_inv, ignore_index= True)\n",
    "nodes['id'] = nodes.index\n",
    "\n",
    "nodes = nodes.assign(coo = nodes.Coo.str.replace('(','').str.replace(')',''))\n",
    "nodes= nodes.assign(coo = nodes.coo.str.split(', '))\n",
    "lats = [0]*len(nodes)\n",
    "longs = [0]*len(nodes)\n",
    "for i in range(len(nodes)):\n",
    "    if np.any(pd.isnull(nodes.coo[i])) == True: \n",
    "        lats[i] = np.nan\n",
    "        longs[i] = np.nan\n",
    "    else :\n",
    "        lats[i] = nodes.coo[i][0]\n",
    "        longs[i] = nodes.coo[i][1]\n",
    "nodes = nodes.assign(lat = lats, long = longs)\n",
    "nodes.lat = pd.to_numeric(nodes.lat, errors='coerce')\n",
    "nodes.long = pd.to_numeric(nodes.long, errors = 'coerce')\n",
    "nodes=nodes.loc[:,['Node', 'Country', 'bipartite', 'id', 'lat', 'long', 'Coo']]\n",
    "nodes.to_csv(\"id_mapping.csv\")\n",
    "nodes.head()"
   ]
  },
  {
   "cell_type": "code",
   "execution_count": 3,
   "metadata": {},
   "outputs": [],
   "source": [
    "tot2 = pd.merge(tot, nodes[nodes['bipartite']== 1],  how='left', left_on=['Organisation','org_city_coo'], right_on = ['Node','Coo'])\n",
    "tot2 = pd.merge(tot2, nodes[nodes['bipartite']== 0],  how='left', left_on=['Investors','inv_city_coo'], right_on = ['Node','Coo'])\n",
    "dic = {}\n",
    "for i in range(len(nodes)):\n",
    "               dic[i] = {\"Name\": nodes.Node[i], 'Country':nodes.Country[i], 'kind': nodes.bipartite[i]}\n",
    "Pallottola = tot2[tot2.columns[~tot2.columns.str.contains('Unnamed:')]]\n",
    "IDs=Pallottola[['Funding type', 'Node_x']].drop_duplicates()\n",
    "IDs['idx']=IDs.index\n",
    "Pallottola = pd.merge(Pallottola, IDs,  how='left', left_on=['Funding type','Node_x'], right_on = ['Funding type','Node_x'])"
   ]
  },
  {
   "cell_type": "markdown",
   "metadata": {},
   "source": [
    "### Graph building"
   ]
  },
  {
   "cell_type": "code",
   "execution_count": 4,
   "metadata": {},
   "outputs": [],
   "source": [
    "B = nx.MultiGraph(name='org-bid')\n",
    "# Add nodes with the node attribute \"bipartite\"\n",
    "B.add_nodes_from(nodes[nodes.bipartite==0].id, bipartite=0)\n",
    "B.add_nodes_from(nodes[nodes.bipartite==1].id, bipartite=1)\n",
    "# Add edges only between nodes of opposite node sets\n",
    "for i in range(len(Pallottola)):\n",
    "    B.add_edge(Pallottola.loc[i,'id_x'], Pallottola.loc[i,'id_y'], date=pd.to_datetime(Pallottola.loc[i,'Date']).year, m_raised=Pallottola.loc[i,'USDraised_cpi'])"
   ]
  },
  {
   "cell_type": "code",
   "execution_count": 5,
   "metadata": {},
   "outputs": [],
   "source": [
    "# Remove NaN node\n",
    "B.remove_node(22560)"
   ]
  },
  {
   "cell_type": "code",
   "execution_count": 6,
   "metadata": {},
   "outputs": [],
   "source": [
    "bid_nodes = {n for n, d in B.nodes(data=True) if d[\"bipartite\"] == 0}\n",
    "org_nodes = set(B) - bid_nodes"
   ]
  },
  {
   "cell_type": "markdown",
   "metadata": {},
   "source": [
    "### Snapshot creation"
   ]
  },
  {
   "cell_type": "code",
   "execution_count": 7,
   "metadata": {
    "scrolled": false
   },
   "outputs": [
    {
     "data": {
      "application/vnd.jupyter.widget-view+json": {
       "model_id": "96e40edacb6c4378ba96b27a9e0020aa",
       "version_major": 2,
       "version_minor": 0
      },
      "text/plain": [
       "HBox(children=(FloatProgress(value=0.0, max=21.0), HTML(value='')))"
      ]
     },
     "metadata": {},
     "output_type": "display_data"
    },
    {
     "name": "stdout",
     "output_type": "stream",
     "text": [
      "\n"
     ]
    }
   ],
   "source": [
    "for year in tqdm(range(2000, 2021)):\n",
    "    locals()[\"SG_\"+str(year)]=nx.MultiGraph()\n",
    "    for x in B.edges(data=True):\n",
    "        if x[2]['date']==year:\n",
    "            locals()[\"SG_\"+str(year)].add_edge(x[0],x[1], date=year, m_raised=x[2]['m_raised'])\n",
    "    for x in locals()[\"SG_\"+str(year)].nodes():\n",
    "        locals()[\"SG_\"+str(year)].nodes[x]['bipartite'] = B.nodes(data=True)[x]['bipartite']\n",
    "    locals()[\"bid_nodes_\"+str(year)] = {n for n, d in locals()[\"SG_\"+str(year)].nodes(data=True) if d[\"bipartite\"] == 0}\n",
    "    locals()[\"org_nodes_\"+str(year)] = set(B) - locals()[\"bid_nodes_\"+str(year)]"
   ]
  },
  {
   "cell_type": "code",
   "execution_count": 8,
   "metadata": {
    "scrolled": true
   },
   "outputs": [
    {
     "data": {
      "text/plain": [
       "[<matplotlib.lines.Line2D at 0x15c7b122880>]"
      ]
     },
     "execution_count": 8,
     "metadata": {},
     "output_type": "execute_result"
    },
    {
     "data": {
      "image/png": "[encoded data removed]",
      "text/plain": [
       "<Figure size 432x288 with 1 Axes>"
      ]
     },
     "metadata": {
      "needs_background": "light"
     },
     "output_type": "display_data"
    }
   ],
   "source": [
    "edges_subgraph=[]\n",
    "nodes_subgraph=[]\n",
    "avg_degree_subgraph=[]\n",
    "for year in range(2000,2021):\n",
    "    edges_subgraph.append(locals()[\"SG_\"+str(year)].number_of_edges())\n",
    "    nodes_subgraph.append(locals()[\"SG_\"+str(year)].number_of_nodes())\n",
    "    #avg_degree_subgraph.append(2*locals()[\"SG_\"+str(year)].number_of_edges()/(locals()[\"SG_\"+str(year)].number_of_nodes()+1))\n",
    "    \n",
    "plt.plot(range(2000,2021), edges_subgraph)"
   ]
  },
  {
   "cell_type": "code",
   "execution_count": null,
   "metadata": {
    "scrolled": true
   },
   "outputs": [],
   "source": [
    "plt.plot(range(2000,2021), nodes_subgraph)"
   ]
  },
  {
   "cell_type": "markdown",
   "metadata": {},
   "source": [
    "### Projections"
   ]
  },
  {
   "cell_type": "markdown",
   "metadata": {},
   "source": [
    "There is no algorithm that projects multigraphs. The following one tries to figure out a possible solution (indeed it has some drawbacks and some arbitrary technicalities)\n",
    "\n",
    "Indeed, two investors that have invested in the same company, in the same year TWICE are connected by a SINGLE arc (we are using years as granular basis)"
   ]
  },
  {
   "cell_type": "code",
   "execution_count": 9,
   "metadata": {},
   "outputs": [],
   "source": [
    "def project_multi(B, nodes, name):\n",
    "    G=nx.MultiGraph(name=name)\n",
    "    count=0\n",
    "    for node in nodes:\n",
    "        ego=nx.ego_graph(B, node)\n",
    "        ndx=list(ego.nodes())\n",
    "        ndx.remove(node)\n",
    "        for year in range(2000,2021): # bad trick to link depending on year\n",
    "            subndx=[x for x in ndx if [y for y in list(ego.edges(data=True)) if y[0]==x or y[1]==x][0][2]['date']==year]\n",
    "            for couple in itertools.combinations(subndx, 2):\n",
    "                if G.has_edge(couple[0], couple[1]):\n",
    "                    continue\n",
    "                G.add_edge(couple[0], couple[1], anno = year)\n",
    "        count+=1\n",
    "        if count%1000==0:\n",
    "            print(count, end=' ')\n",
    "    return G"
   ]
  },
  {
   "cell_type": "code",
   "execution_count": 10,
   "metadata": {
    "scrolled": true
   },
   "outputs": [
    {
     "name": "stdout",
     "output_type": "stream",
     "text": [
      "1000 2000 3000 4000 5000 6000 7000 8000 9000 10000 11000 12000 13000 14000 15000 16000 17000 "
     ]
    }
   ],
   "source": [
    "##IMPO: BIDBID è IL NETWORK TRA STARTUPS!!\n",
    "orgorg=project_multi(B, bid_nodes, name='bid-bid')"
   ]
  },
  {
   "cell_type": "code",
   "execution_count": null,
   "metadata": {
    "scrolled": true
   },
   "outputs": [],
   "source": [
    "print(nx.info(bidbid))"
   ]
  },
  {
   "cell_type": "code",
   "execution_count": 11,
   "metadata": {
    "scrolled": true
   },
   "outputs": [
    {
     "name": "stdout",
     "output_type": "stream",
     "text": [
      "1000 2000 3000 4000 5000 6000 7000 8000 9000 10000 11000 12000 13000 14000 15000 16000 17000 18000 19000 20000 21000 22000 "
     ]
    }
   ],
   "source": [
    "bidbid=project_multi(B, org_nodes, name='org-org')"
   ]
  },
  {
   "cell_type": "code",
   "execution_count": null,
   "metadata": {
    "scrolled": true
   },
   "outputs": [],
   "source": [
    "print(nx.info(orgorg))"
   ]
  },
  {
   "cell_type": "code",
   "execution_count": null,
   "metadata": {},
   "outputs": [],
   "source": [
    "# Save projections :-)\n",
    "nx.readwrite.write_gpickle(bidbid, 'bidbid.gpickle')\n",
    "nx.readwrite.write_gpickle(orgorg, 'orgorg.gpickle')"
   ]
  },
  {
   "cell_type": "markdown",
   "metadata": {},
   "source": [
    "## Network characterisation"
   ]
  },
  {
   "cell_type": "markdown",
   "metadata": {},
   "source": [
    "### Link prediction"
   ]
  },
  {
   "cell_type": "code",
   "execution_count": 93,
   "metadata": {},
   "outputs": [],
   "source": [
    "#to apply jaccard we need normalh graph. We consider a combination of B and bidbid\n",
    "##Bsingle\n",
    "Bsingle = nx.Graph()\n",
    "for u,v,data in B.edges(data=True):\n",
    "    d = data['date'] if 'date' in data else np.nan\n",
    "    m = data['m_raised'] if 'm_raised' in data else np.nan\n",
    "    if Bsingle.has_edge(u,v):\n",
    "        Bsingle[u][v]['date'] = B[u][v][0]['date']\n",
    "        if np.isnan(m):\n",
    "            Bsingle[u][v]['m_raised'] =B[u][v][0]['m_raised']\n",
    "        if np.isnan(m) == False and np.isnan(B[u][v][0]['m_raised']):\n",
    "            Bsingle[u][v]['m_raised'] = m\n",
    "        if np.isnan(m) == False and np.isnan(B[u][v][0]['m_raised'])==False:\n",
    "            Bsingle[u][v]['m_raised'] += m\n",
    "    else:\n",
    "        Bsingle.add_edge(u, v, date=d)\n",
    "        Bsingle.add_edge(u, v, m_raised = m)\n",
    "    "
   ]
  },
  {
   "cell_type": "code",
   "execution_count": null,
   "metadata": {},
   "outputs": [],
   "source": [
    "for u,v,data in orgorg.edges(data=True):\n",
    "    print(data['anno'])"
   ]
  },
  {
   "cell_type": "code",
   "execution_count": 94,
   "metadata": {},
   "outputs": [],
   "source": [
    "##orgorgs\n",
    "orgorgsingle = nx.Graph()\n",
    "for u,v,data in orgorg.edges(data=True):\n",
    "    if orgorgsingle.has_edge(u,v) == False:\n",
    "        orgorgsingle.add_edge(u, v, anno = data['anno'])"
   ]
  },
  {
   "cell_type": "code",
   "execution_count": 95,
   "metadata": {},
   "outputs": [],
   "source": [
    "##grafo unito\n",
    "F = nx.compose(Bsingle,orgorgsingle)"
   ]
  },
  {
   "cell_type": "code",
   "execution_count": 18,
   "metadata": {},
   "outputs": [
    {
     "data": {
      "text/plain": [
       "'Name: org-bid\\nType: MultiGraph\\nNumber of nodes: 40509\\nNumber of edges: 70861\\nAverage degree:   3.4985'"
      ]
     },
     "execution_count": 18,
     "metadata": {},
     "output_type": "execute_result"
    }
   ],
   "source": [
    "nx.info(B)"
   ]
  },
  {
   "cell_type": "markdown",
   "metadata": {},
   "source": [
    "#### Jaccard "
   ]
  },
  {
   "cell_type": "code",
   "execution_count": 96,
   "metadata": {},
   "outputs": [
    {
     "data": {
      "application/vnd.jupyter.widget-view+json": {
       "model_id": "d5a552986cbb415ba257df2f22db26c4",
       "version_major": 2,
       "version_minor": 0
      },
      "text/plain": [
       "HBox(children=(FloatProgress(value=0.0, max=130384.0), HTML(value='')))"
      ]
     },
     "metadata": {},
     "output_type": "display_data"
    },
    {
     "name": "stdout",
     "output_type": "stream",
     "text": [
      "\n"
     ]
    }
   ],
   "source": [
    "jacques = []\n",
    "for u,v,data in tqdm(F.edges(data=True)):\n",
    "    j = nx.jaccard_coefficient(F, [(u,v)])\n",
    "    for u,v,p in j:\n",
    "        jacques.append(p)\n",
    "    \n"
   ]
  },
  {
   "cell_type": "code",
   "execution_count": null,
   "metadata": {},
   "outputs": [],
   "source": [
    "max(jacques)"
   ]
  },
  {
   "cell_type": "code",
   "execution_count": 97,
   "metadata": {},
   "outputs": [
    {
     "data": {
      "text/plain": [
       "[<matplotlib.lines.Line2D at 0x15d95de3460>]"
      ]
     },
     "execution_count": 97,
     "metadata": {},
     "output_type": "execute_result"
    },
    {
     "data": {
      "image/png": "[encoded data removed]",
      "text/plain": [
       "<Figure size 432x288 with 1 Axes>"
      ]
     },
     "metadata": {},
     "output_type": "display_data"
    }
   ],
   "source": [
    "plt.plot(sorted(jacques))"
   ]
  },
  {
   "cell_type": "markdown",
   "metadata": {},
   "source": [
    "#### Adamic/Adar"
   ]
  },
  {
   "cell_type": "code",
   "execution_count": 98,
   "metadata": {},
   "outputs": [
    {
     "data": {
      "application/vnd.jupyter.widget-view+json": {
       "model_id": "a7c9638a76b24d30ae3e3fcf25207d65",
       "version_major": 2,
       "version_minor": 0
      },
      "text/plain": [
       "HBox(children=(FloatProgress(value=0.0, max=130384.0), HTML(value='')))"
      ]
     },
     "metadata": {},
     "output_type": "display_data"
    },
    {
     "name": "stdout",
     "output_type": "stream",
     "text": [
      "\n"
     ]
    }
   ],
   "source": [
    "adam = []\n",
    "for u,v,data in tqdm(F.edges(data=True)):\n",
    "    j = nx.adamic_adar_index(F, [(u,v)])\n",
    "    for u,v,p in j:\n",
    "        adam.append(p)\n",
    "    \n"
   ]
  },
  {
   "cell_type": "code",
   "execution_count": null,
   "metadata": {},
   "outputs": [],
   "source": [
    "plt.plot(sorted(adam))"
   ]
  },
  {
   "cell_type": "code",
   "execution_count": 92,
   "metadata": {},
   "outputs": [
    {
     "ename": "ValueError",
     "evalue": "x and y must have the same length.",
     "output_type": "error",
     "traceback": [
      "\u001b[1;31m---------------------------------------------------------------------------\u001b[0m",
      "\u001b[1;31mValueError\u001b[0m                                Traceback (most recent call last)",
      "\u001b[1;32m<ipython-input-92-ca0a7f3076b6>\u001b[0m in \u001b[0;36m<module>\u001b[1;34m\u001b[0m\n\u001b[1;32m----> 1\u001b[1;33m \u001b[0mstats\u001b[0m\u001b[1;33m.\u001b[0m\u001b[0mpearsonr\u001b[0m\u001b[1;33m(\u001b[0m\u001b[0mjacques\u001b[0m\u001b[1;33m,\u001b[0m\u001b[0madam\u001b[0m\u001b[1;33m)\u001b[0m\u001b[1;33m\u001b[0m\u001b[1;33m\u001b[0m\u001b[0m\n\u001b[0m",
      "\u001b[1;32m~\\anaconda3\\lib\\site-packages\\scipy\\stats\\stats.py\u001b[0m in \u001b[0;36mpearsonr\u001b[1;34m(x, y)\u001b[0m\n\u001b[0;32m   3833\u001b[0m     \u001b[0mn\u001b[0m \u001b[1;33m=\u001b[0m \u001b[0mlen\u001b[0m\u001b[1;33m(\u001b[0m\u001b[0mx\u001b[0m\u001b[1;33m)\u001b[0m\u001b[1;33m\u001b[0m\u001b[1;33m\u001b[0m\u001b[0m\n\u001b[0;32m   3834\u001b[0m     \u001b[1;32mif\u001b[0m \u001b[0mn\u001b[0m \u001b[1;33m!=\u001b[0m \u001b[0mlen\u001b[0m\u001b[1;33m(\u001b[0m\u001b[0my\u001b[0m\u001b[1;33m)\u001b[0m\u001b[1;33m:\u001b[0m\u001b[1;33m\u001b[0m\u001b[1;33m\u001b[0m\u001b[0m\n\u001b[1;32m-> 3835\u001b[1;33m         \u001b[1;32mraise\u001b[0m \u001b[0mValueError\u001b[0m\u001b[1;33m(\u001b[0m\u001b[1;34m'x and y must have the same length.'\u001b[0m\u001b[1;33m)\u001b[0m\u001b[1;33m\u001b[0m\u001b[1;33m\u001b[0m\u001b[0m\n\u001b[0m\u001b[0;32m   3836\u001b[0m \u001b[1;33m\u001b[0m\u001b[0m\n\u001b[0;32m   3837\u001b[0m     \u001b[1;32mif\u001b[0m \u001b[0mn\u001b[0m \u001b[1;33m<\u001b[0m \u001b[1;36m2\u001b[0m\u001b[1;33m:\u001b[0m\u001b[1;33m\u001b[0m\u001b[1;33m\u001b[0m\u001b[0m\n",
      "\u001b[1;31mValueError\u001b[0m: x and y must have the same length."
     ]
    }
   ],
   "source": [
    "stats.pearsonr(jacques,adam)"
   ]
  },
  {
   "cell_type": "markdown",
   "metadata": {},
   "source": [
    "#### enorme trial"
   ]
  },
  {
   "cell_type": "code",
   "execution_count": 99,
   "metadata": {},
   "outputs": [
    {
     "data": {
      "application/vnd.jupyter.widget-view+json": {
       "model_id": "bd25494af8624145a4a0f02a0d4ad7c9",
       "version_major": 2,
       "version_minor": 0
      },
      "text/plain": [
       "HBox(children=(FloatProgress(value=0.0, max=1000.0), HTML(value='')))"
      ]
     },
     "metadata": {},
     "output_type": "display_data"
    },
    {
     "name": "stdout",
     "output_type": "stream",
     "text": [
      "\n"
     ]
    }
   ],
   "source": [
    "##vedo un po' quanto ci metto per subset di 1000\n",
    "import random\n",
    "jacqgrande = []\n",
    "oosn = list(orgorgsingle.nodes)\n",
    "random.seed(10)\n",
    "oosns = random.sample(oosn, 1000)\n",
    "for u in tqdm(oosns):\n",
    "    for v in oosns:\n",
    "        if u!=v:\n",
    "            j = nx.jaccard_coefficient(orgorgsingle, [(u,v)])\n",
    "            for u,v,p in j:\n",
    "                jacqgrande.append(p)\n",
    "    \n"
   ]
  },
  {
   "cell_type": "code",
   "execution_count": null,
   "metadata": {},
   "outputs": [],
   "source": [
    "plt.plot(sorted(jacqgrande))"
   ]
  },
  {
   "cell_type": "markdown",
   "metadata": {},
   "source": [
    "#### Modello logistico"
   ]
  },
  {
   "cell_type": "code",
   "execution_count": 101,
   "metadata": {},
   "outputs": [],
   "source": [
    "ootrial = nx.Graph([(u,v,d) for u,v,d in orgorgsingle.edges(data=True) if d['anno'] in range(2000,2019)])\n",
    "ootest = nx.Graph([(u,v,d) for u,v,d in orgorgsingle.edges(data=True) if d['anno'] in range (2000,2020)])"
   ]
  },
  {
   "cell_type": "code",
   "execution_count": 62,
   "metadata": {},
   "outputs": [
    {
     "data": {
      "application/vnd.jupyter.widget-view+json": {
       "model_id": "9bf6306ec4e64f41ba7ff092342ebc0e",
       "version_major": 2,
       "version_minor": 0
      },
      "text/plain": [
       "HBox(children=(FloatProgress(value=0.0, max=2000.0), HTML(value='')))"
      ]
     },
     "metadata": {},
     "output_type": "display_data"
    },
    {
     "name": "stdout",
     "output_type": "stream",
     "text": [
      "\n"
     ]
    }
   ],
   "source": [
    "import random\n",
    "col1 = []\n",
    "col2 = []\n",
    "jacqtrial = []\n",
    "adamtrial = []\n",
    "saltontrial =[]\n",
    "legame = []\n",
    "legame2 = []\n",
    "ootrn = list(ootrial.nodes)\n",
    "random.seed(10)\n",
    "ootrns = random.sample(ootrn, 2000)\n",
    "for u in tqdm(ootrns):\n",
    "    for v in ootrns:\n",
    "        if u!=v:\n",
    "            j = nx.jaccard_coefficient(ootrial, [(u,v)])\n",
    "            for u,v,p in j:\n",
    "                if u>v:\n",
    "                    col1.append(u)\n",
    "                    col2.append(v)\n",
    "                    jacqtrial.append(p)\n",
    "                    legame.append(int(ootrial.has_edge(u,v)))\n",
    "                    legame2.append(int(ootest.has_edge(u,v)))\n",
    "                    saltontrial.append(salton_index(ootrial, [(u,v)]))\n",
    "                    aa = nx.adamic_adar_index(ootrial, [(u,v)])\n",
    "                    for u,v,p in aa:\n",
    "                        adamtrial.append(p)"
   ]
  },
  {
   "cell_type": "code",
   "execution_count": 102,
   "metadata": {},
   "outputs": [],
   "source": [
    "dfpred = pd.DataFrame({'col1': col1, 'col2': col2, 'jacc': jacqtrial, 'legame': legame, 'legame2':legame2, 'adam':adamtrial, \n",
    "                       'salton':saltontrial, 'intercetta':1})"
   ]
  },
  {
   "cell_type": "code",
   "execution_count": 104,
   "metadata": {},
   "outputs": [
    {
     "data": {
      "text/plain": [
       "1999000"
      ]
     },
     "execution_count": 104,
     "metadata": {},
     "output_type": "execute_result"
    }
   ],
   "source": [
    "len(dfpred)"
   ]
  },
  {
   "cell_type": "code",
   "execution_count": 105,
   "metadata": {},
   "outputs": [],
   "source": [
    "dfpred2 = dfpred[dfpred['legame']== 0]"
   ]
  },
  {
   "cell_type": "code",
   "execution_count": 106,
   "metadata": {},
   "outputs": [
    {
     "data": {
      "text/html": [
       "<div>\n",
       "<style scoped>\n",
       "    .dataframe tbody tr th:only-of-type {\n",
       "        vertical-align: middle;\n",
       "    }\n",
       "\n",
       "    .dataframe tbody tr th {\n",
       "        vertical-align: top;\n",
       "    }\n",
       "\n",
       "    .dataframe thead th {\n",
       "        text-align: right;\n",
       "    }\n",
       "</style>\n",
       "<table border=\"1\" class=\"dataframe\">\n",
       "  <thead>\n",
       "    <tr style=\"text-align: right;\">\n",
       "      <th></th>\n",
       "      <th>col1</th>\n",
       "      <th>col2</th>\n",
       "      <th>jacc</th>\n",
       "      <th>legame</th>\n",
       "      <th>legame2</th>\n",
       "      <th>adam</th>\n",
       "      <th>salton</th>\n",
       "      <th>intercetta</th>\n",
       "    </tr>\n",
       "  </thead>\n",
       "  <tbody>\n",
       "    <tr>\n",
       "      <th>114585</th>\n",
       "      <td>39036</td>\n",
       "      <td>38505</td>\n",
       "      <td>0.000000</td>\n",
       "      <td>0</td>\n",
       "      <td>1</td>\n",
       "      <td>0.000000</td>\n",
       "      <td>0.000000</td>\n",
       "      <td>1</td>\n",
       "    </tr>\n",
       "    <tr>\n",
       "      <th>114827</th>\n",
       "      <td>39036</td>\n",
       "      <td>31360</td>\n",
       "      <td>0.000000</td>\n",
       "      <td>0</td>\n",
       "      <td>1</td>\n",
       "      <td>0.000000</td>\n",
       "      <td>0.000000</td>\n",
       "      <td>1</td>\n",
       "    </tr>\n",
       "    <tr>\n",
       "      <th>114873</th>\n",
       "      <td>39036</td>\n",
       "      <td>23523</td>\n",
       "      <td>0.011050</td>\n",
       "      <td>0</td>\n",
       "      <td>1</td>\n",
       "      <td>0.410513</td>\n",
       "      <td>0.021858</td>\n",
       "      <td>1</td>\n",
       "    </tr>\n",
       "    <tr>\n",
       "      <th>115059</th>\n",
       "      <td>39036</td>\n",
       "      <td>31124</td>\n",
       "      <td>0.008929</td>\n",
       "      <td>0</td>\n",
       "      <td>1</td>\n",
       "      <td>0.193834</td>\n",
       "      <td>0.022751</td>\n",
       "      <td>1</td>\n",
       "    </tr>\n",
       "    <tr>\n",
       "      <th>115061</th>\n",
       "      <td>39036</td>\n",
       "      <td>37467</td>\n",
       "      <td>0.087591</td>\n",
       "      <td>0</td>\n",
       "      <td>1</td>\n",
       "      <td>2.543387</td>\n",
       "      <td>0.165710</td>\n",
       "      <td>1</td>\n",
       "    </tr>\n",
       "    <tr>\n",
       "      <th>...</th>\n",
       "      <td>...</td>\n",
       "      <td>...</td>\n",
       "      <td>...</td>\n",
       "      <td>...</td>\n",
       "      <td>...</td>\n",
       "      <td>...</td>\n",
       "      <td>...</td>\n",
       "      <td>...</td>\n",
       "    </tr>\n",
       "    <tr>\n",
       "      <th>1991621</th>\n",
       "      <td>36750</td>\n",
       "      <td>24940</td>\n",
       "      <td>0.000000</td>\n",
       "      <td>0</td>\n",
       "      <td>1</td>\n",
       "      <td>0.000000</td>\n",
       "      <td>0.000000</td>\n",
       "      <td>1</td>\n",
       "    </tr>\n",
       "    <tr>\n",
       "      <th>1992045</th>\n",
       "      <td>36750</td>\n",
       "      <td>34332</td>\n",
       "      <td>0.000000</td>\n",
       "      <td>0</td>\n",
       "      <td>1</td>\n",
       "      <td>0.000000</td>\n",
       "      <td>0.000000</td>\n",
       "      <td>1</td>\n",
       "    </tr>\n",
       "    <tr>\n",
       "      <th>1992363</th>\n",
       "      <td>36750</td>\n",
       "      <td>27281</td>\n",
       "      <td>0.000000</td>\n",
       "      <td>0</td>\n",
       "      <td>1</td>\n",
       "      <td>0.000000</td>\n",
       "      <td>0.000000</td>\n",
       "      <td>1</td>\n",
       "    </tr>\n",
       "    <tr>\n",
       "      <th>1992795</th>\n",
       "      <td>36750</td>\n",
       "      <td>25600</td>\n",
       "      <td>0.016949</td>\n",
       "      <td>0</td>\n",
       "      <td>1</td>\n",
       "      <td>0.191757</td>\n",
       "      <td>0.041667</td>\n",
       "      <td>1</td>\n",
       "    </tr>\n",
       "    <tr>\n",
       "      <th>1992811</th>\n",
       "      <td>36750</td>\n",
       "      <td>35906</td>\n",
       "      <td>0.019231</td>\n",
       "      <td>0</td>\n",
       "      <td>1</td>\n",
       "      <td>0.781145</td>\n",
       "      <td>0.041100</td>\n",
       "      <td>1</td>\n",
       "    </tr>\n",
       "  </tbody>\n",
       "</table>\n",
       "<p>147 rows × 8 columns</p>\n",
       "</div>"
      ],
      "text/plain": [
       "          col1   col2      jacc  legame  legame2      adam    salton  \\\n",
       "114585   39036  38505  0.000000       0        1  0.000000  0.000000   \n",
       "114827   39036  31360  0.000000       0        1  0.000000  0.000000   \n",
       "114873   39036  23523  0.011050       0        1  0.410513  0.021858   \n",
       "115059   39036  31124  0.008929       0        1  0.193834  0.022751   \n",
       "115061   39036  37467  0.087591       0        1  2.543387  0.165710   \n",
       "...        ...    ...       ...     ...      ...       ...       ...   \n",
       "1991621  36750  24940  0.000000       0        1  0.000000  0.000000   \n",
       "1992045  36750  34332  0.000000       0        1  0.000000  0.000000   \n",
       "1992363  36750  27281  0.000000       0        1  0.000000  0.000000   \n",
       "1992795  36750  25600  0.016949       0        1  0.191757  0.041667   \n",
       "1992811  36750  35906  0.019231       0        1  0.781145  0.041100   \n",
       "\n",
       "         intercetta  \n",
       "114585            1  \n",
       "114827            1  \n",
       "114873            1  \n",
       "115059            1  \n",
       "115061            1  \n",
       "...             ...  \n",
       "1991621           1  \n",
       "1992045           1  \n",
       "1992363           1  \n",
       "1992795           1  \n",
       "1992811           1  \n",
       "\n",
       "[147 rows x 8 columns]"
      ]
     },
     "execution_count": 106,
     "metadata": {},
     "output_type": "execute_result"
    }
   ],
   "source": [
    "dfpred2[dfpred2['legame2']==1]"
   ]
  },
  {
   "cell_type": "code",
   "execution_count": 66,
   "metadata": {},
   "outputs": [
    {
     "data": {
      "text/plain": [
       "[<matplotlib.lines.Line2D at 0x15c3094a8b0>]"
      ]
     },
     "execution_count": 66,
     "metadata": {},
     "output_type": "execute_result"
    },
    {
     "data": {
      "image/png": "[encoded data removed]",
      "text/plain": [
       "<Figure size 432x288 with 1 Axes>"
      ]
     },
     "metadata": {
      "needs_background": "light"
     },
     "output_type": "display_data"
    }
   ],
   "source": [
    "plt.plot(list(dfpred2['jacc']))"
   ]
  },
  {
   "cell_type": "code",
   "execution_count": 107,
   "metadata": {},
   "outputs": [],
   "source": [
    "##tools necessari per logisticregression\n",
    "\n",
    "from sklearn import preprocessing\n",
    "import matplotlib.pyplot as plt \n",
    "plt.rc(\"font\", size=14)\n",
    "from sklearn.linear_model import LogisticRegression\n",
    "from sklearn.model_selection import train_test_split\n",
    "import seaborn as sns\n",
    "sns.set(style=\"white\")\n",
    "sns.set(style=\"whitegrid\", color_codes=True)"
   ]
  },
  {
   "cell_type": "code",
   "execution_count": 111,
   "metadata": {},
   "outputs": [
    {
     "data": {
      "text/plain": [
       "0    1997318\n",
       "1       1682\n",
       "Name: legame2, dtype: int64"
      ]
     },
     "execution_count": 111,
     "metadata": {},
     "output_type": "execute_result"
    }
   ],
   "source": [
    "dfpred['legame2'].value_counts()"
   ]
  },
  {
   "cell_type": "code",
   "execution_count": 113,
   "metadata": {},
   "outputs": [
    {
     "data": {
      "text/html": [
       "<div>\n",
       "<style scoped>\n",
       "    .dataframe tbody tr th:only-of-type {\n",
       "        vertical-align: middle;\n",
       "    }\n",
       "\n",
       "    .dataframe tbody tr th {\n",
       "        vertical-align: top;\n",
       "    }\n",
       "\n",
       "    .dataframe thead th {\n",
       "        text-align: right;\n",
       "    }\n",
       "</style>\n",
       "<table border=\"1\" class=\"dataframe\">\n",
       "  <thead>\n",
       "    <tr style=\"text-align: right;\">\n",
       "      <th></th>\n",
       "      <th>col1</th>\n",
       "      <th>col2</th>\n",
       "      <th>jacc</th>\n",
       "      <th>legame</th>\n",
       "      <th>adam</th>\n",
       "      <th>salton</th>\n",
       "      <th>intercetta</th>\n",
       "    </tr>\n",
       "    <tr>\n",
       "      <th>legame2</th>\n",
       "      <th></th>\n",
       "      <th></th>\n",
       "      <th></th>\n",
       "      <th></th>\n",
       "      <th></th>\n",
       "      <th></th>\n",
       "      <th></th>\n",
       "    </tr>\n",
       "  </thead>\n",
       "  <tbody>\n",
       "    <tr>\n",
       "      <th>0</th>\n",
       "      <td>34697.298102</td>\n",
       "      <td>28668.019659</td>\n",
       "      <td>0.000628</td>\n",
       "      <td>0.0</td>\n",
       "      <td>0.005673</td>\n",
       "      <td>0.001466</td>\n",
       "      <td>1.0</td>\n",
       "    </tr>\n",
       "    <tr>\n",
       "      <th>1</th>\n",
       "      <td>35431.258503</td>\n",
       "      <td>29142.605442</td>\n",
       "      <td>0.018608</td>\n",
       "      <td>0.0</td>\n",
       "      <td>0.320420</td>\n",
       "      <td>0.037138</td>\n",
       "      <td>1.0</td>\n",
       "    </tr>\n",
       "  </tbody>\n",
       "</table>\n",
       "</div>"
      ],
      "text/plain": [
       "                 col1          col2      jacc  legame      adam    salton  \\\n",
       "legame2                                                                     \n",
       "0        34697.298102  28668.019659  0.000628     0.0  0.005673  0.001466   \n",
       "1        35431.258503  29142.605442  0.018608     0.0  0.320420  0.037138   \n",
       "\n",
       "         intercetta  \n",
       "legame2              \n",
       "0               1.0  \n",
       "1               1.0  "
      ]
     },
     "execution_count": 113,
     "metadata": {},
     "output_type": "execute_result"
    }
   ],
   "source": [
    "dfpred2.groupby('legame2').mean()"
   ]
  },
  {
   "cell_type": "code",
   "execution_count": 114,
   "metadata": {},
   "outputs": [
    {
     "data": {
      "text/html": [
       "<div>\n",
       "<style scoped>\n",
       "    .dataframe tbody tr th:only-of-type {\n",
       "        vertical-align: middle;\n",
       "    }\n",
       "\n",
       "    .dataframe tbody tr th {\n",
       "        vertical-align: top;\n",
       "    }\n",
       "\n",
       "    .dataframe thead th {\n",
       "        text-align: right;\n",
       "    }\n",
       "</style>\n",
       "<table border=\"1\" class=\"dataframe\">\n",
       "  <thead>\n",
       "    <tr style=\"text-align: right;\">\n",
       "      <th></th>\n",
       "      <th>jacc</th>\n",
       "      <th>legame2</th>\n",
       "      <th>adam</th>\n",
       "      <th>intercetta</th>\n",
       "      <th>salton</th>\n",
       "    </tr>\n",
       "  </thead>\n",
       "  <tbody>\n",
       "    <tr>\n",
       "      <th>0</th>\n",
       "      <td>0.0</td>\n",
       "      <td>0</td>\n",
       "      <td>0.0</td>\n",
       "      <td>1</td>\n",
       "      <td>0.0</td>\n",
       "    </tr>\n",
       "    <tr>\n",
       "      <th>1</th>\n",
       "      <td>0.0</td>\n",
       "      <td>0</td>\n",
       "      <td>0.0</td>\n",
       "      <td>1</td>\n",
       "      <td>0.0</td>\n",
       "    </tr>\n",
       "    <tr>\n",
       "      <th>2</th>\n",
       "      <td>0.0</td>\n",
       "      <td>0</td>\n",
       "      <td>0.0</td>\n",
       "      <td>1</td>\n",
       "      <td>0.0</td>\n",
       "    </tr>\n",
       "    <tr>\n",
       "      <th>3</th>\n",
       "      <td>0.0</td>\n",
       "      <td>0</td>\n",
       "      <td>0.0</td>\n",
       "      <td>1</td>\n",
       "      <td>0.0</td>\n",
       "    </tr>\n",
       "    <tr>\n",
       "      <th>4</th>\n",
       "      <td>0.0</td>\n",
       "      <td>0</td>\n",
       "      <td>0.0</td>\n",
       "      <td>1</td>\n",
       "      <td>0.0</td>\n",
       "    </tr>\n",
       "  </tbody>\n",
       "</table>\n",
       "</div>"
      ],
      "text/plain": [
       "   jacc  legame2  adam  intercetta  salton\n",
       "0   0.0        0   0.0           1     0.0\n",
       "1   0.0        0   0.0           1     0.0\n",
       "2   0.0        0   0.0           1     0.0\n",
       "3   0.0        0   0.0           1     0.0\n",
       "4   0.0        0   0.0           1     0.0"
      ]
     },
     "execution_count": 114,
     "metadata": {},
     "output_type": "execute_result"
    }
   ],
   "source": [
    "dfpred3 = dfpred2[['jacc','legame2','adam','intercetta','salton']]\n",
    "dfpred3.head()"
   ]
  },
  {
   "cell_type": "code",
   "execution_count": 115,
   "metadata": {
    "scrolled": true
   },
   "outputs": [
    {
     "name": "stdout",
     "output_type": "stream",
     "text": [
      "length of oversampled data is  2796230\n",
      "Number of no subscription in oversampled data 1398115\n",
      "Number of subscription 1398115\n",
      "Proportion of no subscription data in oversampled data is  0.5\n",
      "Proportion of subscription data in oversampled data is  0.5\n"
     ]
    }
   ],
   "source": [
    "##oversampling\n",
    "X = dfpred3.loc[:, dfpred3.columns != 'legame2']\n",
    "y = dfpred3.loc[:, dfpred3.columns == 'legame2']\n",
    "from imblearn.over_sampling import SMOTE\n",
    "os = SMOTE(random_state=0)\n",
    "X_train, X_test, y_train, y_test = train_test_split(X, y, test_size=0.3, random_state=0)\n",
    "columns = X_train.columns\n",
    "os_data_X,os_data_y=os.fit_resample(X_train, y_train)\n",
    "os_data_X = pd.DataFrame(data=os_data_X,columns=columns )\n",
    "os_data_y= pd.DataFrame(data=os_data_y,columns=['legame2'])\n",
    "# we can Check the numbers of our data\n",
    "print(\"length of oversampled data is \",len(os_data_X))\n",
    "print(\"Number of no subscription in oversampled data\",len(os_data_y[os_data_y['legame2']==0]))\n",
    "print(\"Number of subscription\",len(os_data_y[os_data_y['legame2']==1]))\n",
    "print(\"Proportion of no subscription data in oversampled data is \",len(os_data_y[os_data_y['legame2']==0])/len(os_data_X))\n",
    "print(\"Proportion of subscription data in oversampled data is \",len(os_data_y[os_data_y['legame2']==1])/len(os_data_X))\n"
   ]
  },
  {
   "cell_type": "code",
   "execution_count": 117,
   "metadata": {},
   "outputs": [
    {
     "data": {
      "text/html": [
       "<div>\n",
       "<style scoped>\n",
       "    .dataframe tbody tr th:only-of-type {\n",
       "        vertical-align: middle;\n",
       "    }\n",
       "\n",
       "    .dataframe tbody tr th {\n",
       "        vertical-align: top;\n",
       "    }\n",
       "\n",
       "    .dataframe thead th {\n",
       "        text-align: right;\n",
       "    }\n",
       "</style>\n",
       "<table border=\"1\" class=\"dataframe\">\n",
       "  <thead>\n",
       "    <tr style=\"text-align: right;\">\n",
       "      <th></th>\n",
       "      <th>jacc</th>\n",
       "      <th>adam</th>\n",
       "      <th>intercetta</th>\n",
       "      <th>salton</th>\n",
       "    </tr>\n",
       "  </thead>\n",
       "  <tbody>\n",
       "    <tr>\n",
       "      <th>0</th>\n",
       "      <td>0.000000</td>\n",
       "      <td>0.000000</td>\n",
       "      <td>1</td>\n",
       "      <td>0.000000</td>\n",
       "    </tr>\n",
       "    <tr>\n",
       "      <th>1</th>\n",
       "      <td>0.000000</td>\n",
       "      <td>0.000000</td>\n",
       "      <td>1</td>\n",
       "      <td>0.000000</td>\n",
       "    </tr>\n",
       "    <tr>\n",
       "      <th>2</th>\n",
       "      <td>0.000000</td>\n",
       "      <td>0.000000</td>\n",
       "      <td>1</td>\n",
       "      <td>0.000000</td>\n",
       "    </tr>\n",
       "    <tr>\n",
       "      <th>3</th>\n",
       "      <td>0.000000</td>\n",
       "      <td>0.000000</td>\n",
       "      <td>1</td>\n",
       "      <td>0.000000</td>\n",
       "    </tr>\n",
       "    <tr>\n",
       "      <th>4</th>\n",
       "      <td>0.000000</td>\n",
       "      <td>0.000000</td>\n",
       "      <td>1</td>\n",
       "      <td>0.000000</td>\n",
       "    </tr>\n",
       "    <tr>\n",
       "      <th>...</th>\n",
       "      <td>...</td>\n",
       "      <td>...</td>\n",
       "      <td>...</td>\n",
       "      <td>...</td>\n",
       "    </tr>\n",
       "    <tr>\n",
       "      <th>2796225</th>\n",
       "      <td>0.022249</td>\n",
       "      <td>0.819083</td>\n",
       "      <td>1</td>\n",
       "      <td>0.046265</td>\n",
       "    </tr>\n",
       "    <tr>\n",
       "      <th>2796226</th>\n",
       "      <td>0.013780</td>\n",
       "      <td>0.639050</td>\n",
       "      <td>1</td>\n",
       "      <td>0.029032</td>\n",
       "    </tr>\n",
       "    <tr>\n",
       "      <th>2796227</th>\n",
       "      <td>0.000000</td>\n",
       "      <td>0.000000</td>\n",
       "      <td>1</td>\n",
       "      <td>0.000000</td>\n",
       "    </tr>\n",
       "    <tr>\n",
       "      <th>2796228</th>\n",
       "      <td>0.012485</td>\n",
       "      <td>0.516267</td>\n",
       "      <td>1</td>\n",
       "      <td>0.032970</td>\n",
       "    </tr>\n",
       "    <tr>\n",
       "      <th>2796229</th>\n",
       "      <td>0.000000</td>\n",
       "      <td>0.000000</td>\n",
       "      <td>1</td>\n",
       "      <td>0.000000</td>\n",
       "    </tr>\n",
       "  </tbody>\n",
       "</table>\n",
       "<p>2796230 rows × 4 columns</p>\n",
       "</div>"
      ],
      "text/plain": [
       "             jacc      adam  intercetta    salton\n",
       "0        0.000000  0.000000           1  0.000000\n",
       "1        0.000000  0.000000           1  0.000000\n",
       "2        0.000000  0.000000           1  0.000000\n",
       "3        0.000000  0.000000           1  0.000000\n",
       "4        0.000000  0.000000           1  0.000000\n",
       "...           ...       ...         ...       ...\n",
       "2796225  0.022249  0.819083           1  0.046265\n",
       "2796226  0.013780  0.639050           1  0.029032\n",
       "2796227  0.000000  0.000000           1  0.000000\n",
       "2796228  0.012485  0.516267           1  0.032970\n",
       "2796229  0.000000  0.000000           1  0.000000\n",
       "\n",
       "[2796230 rows x 4 columns]"
      ]
     },
     "execution_count": 117,
     "metadata": {},
     "output_type": "execute_result"
    }
   ],
   "source": [
    "os_data_X"
   ]
  },
  {
   "cell_type": "code",
   "execution_count": 118,
   "metadata": {},
   "outputs": [
    {
     "name": "stdout",
     "output_type": "stream",
     "text": [
      "Optimization terminated successfully.\n",
      "         Current function value: 0.573556\n",
      "         Iterations 10\n",
      "                          Results: Logit\n",
      "===================================================================\n",
      "Model:              Logit            Pseudo R-squared: 0.173       \n",
      "Dependent Variable: legame2          AIC:              3207599.6614\n",
      "Date:               2021-08-15 00:02 BIC:              3207651.0366\n",
      "No. Observations:   2796230          Log-Likelihood:   -1.6038e+06 \n",
      "Df Model:           3                LL-Null:          -1.9382e+06 \n",
      "Df Residuals:       2796226          LLR p-value:      0.0000      \n",
      "Converged:          1.0000           Scale:            1.0000      \n",
      "No. Iterations:     10.0000                                        \n",
      "-------------------------------------------------------------------\n",
      "                Coef.   Std.Err.     z     P>|z|   [0.025   0.975] \n",
      "-------------------------------------------------------------------\n",
      "jacc           -19.2979   0.7020  -27.4917 0.0000 -20.6738 -17.9221\n",
      "adam            10.1439   0.0387  262.0659 0.0000  10.0680  10.2197\n",
      "intercetta      -0.4316   0.0014 -317.0298 0.0000  -0.4343  -0.4290\n",
      "salton           3.8483   0.3447   11.1656 0.0000   3.1728   4.5238\n",
      "===================================================================\n",
      "\n"
     ]
    }
   ],
   "source": [
    "logit_model=sm.Logit(os_data_y,os_data_X)\n",
    "result=logit_model.fit()\n",
    "print(result.summary2())\n"
   ]
  },
  {
   "cell_type": "code",
   "execution_count": 85,
   "metadata": {},
   "outputs": [
    {
     "data": {
      "text/plain": [
       "LogisticRegression()"
      ]
     },
     "execution_count": 85,
     "metadata": {},
     "output_type": "execute_result"
    }
   ],
   "source": [
    "from sklearn.linear_model import LogisticRegression\n",
    "from sklearn import metrics\n",
    "X_train, X_test, y_train, y_test = train_test_split(os_data_X, os_data_y.values.ravel(), test_size=0.3, random_state=0)\n",
    "logreg = LogisticRegression()\n",
    "logreg.fit(X_train, y_train)"
   ]
  },
  {
   "cell_type": "code",
   "execution_count": 86,
   "metadata": {},
   "outputs": [
    {
     "data": {
      "text/html": [
       "<div>\n",
       "<style scoped>\n",
       "    .dataframe tbody tr th:only-of-type {\n",
       "        vertical-align: middle;\n",
       "    }\n",
       "\n",
       "    .dataframe tbody tr th {\n",
       "        vertical-align: top;\n",
       "    }\n",
       "\n",
       "    .dataframe thead th {\n",
       "        text-align: right;\n",
       "    }\n",
       "</style>\n",
       "<table border=\"1\" class=\"dataframe\">\n",
       "  <thead>\n",
       "    <tr style=\"text-align: right;\">\n",
       "      <th></th>\n",
       "      <th>jacc</th>\n",
       "      <th>adam</th>\n",
       "      <th>intercetta</th>\n",
       "      <th>salton</th>\n",
       "    </tr>\n",
       "  </thead>\n",
       "  <tbody>\n",
       "    <tr>\n",
       "      <th>1907249</th>\n",
       "      <td>0.0</td>\n",
       "      <td>0.0</td>\n",
       "      <td>1</td>\n",
       "      <td>0.0</td>\n",
       "    </tr>\n",
       "    <tr>\n",
       "      <th>2264725</th>\n",
       "      <td>0.0</td>\n",
       "      <td>0.0</td>\n",
       "      <td>1</td>\n",
       "      <td>0.0</td>\n",
       "    </tr>\n",
       "    <tr>\n",
       "      <th>1197852</th>\n",
       "      <td>0.0</td>\n",
       "      <td>0.0</td>\n",
       "      <td>1</td>\n",
       "      <td>0.0</td>\n",
       "    </tr>\n",
       "    <tr>\n",
       "      <th>340907</th>\n",
       "      <td>0.0</td>\n",
       "      <td>0.0</td>\n",
       "      <td>1</td>\n",
       "      <td>0.0</td>\n",
       "    </tr>\n",
       "    <tr>\n",
       "      <th>2027577</th>\n",
       "      <td>0.0</td>\n",
       "      <td>0.0</td>\n",
       "      <td>1</td>\n",
       "      <td>0.0</td>\n",
       "    </tr>\n",
       "    <tr>\n",
       "      <th>...</th>\n",
       "      <td>...</td>\n",
       "      <td>...</td>\n",
       "      <td>...</td>\n",
       "      <td>...</td>\n",
       "    </tr>\n",
       "    <tr>\n",
       "      <th>2249467</th>\n",
       "      <td>0.0</td>\n",
       "      <td>0.0</td>\n",
       "      <td>1</td>\n",
       "      <td>0.0</td>\n",
       "    </tr>\n",
       "    <tr>\n",
       "      <th>963395</th>\n",
       "      <td>0.0</td>\n",
       "      <td>0.0</td>\n",
       "      <td>1</td>\n",
       "      <td>0.0</td>\n",
       "    </tr>\n",
       "    <tr>\n",
       "      <th>2215104</th>\n",
       "      <td>0.0</td>\n",
       "      <td>0.0</td>\n",
       "      <td>1</td>\n",
       "      <td>0.0</td>\n",
       "    </tr>\n",
       "    <tr>\n",
       "      <th>1484405</th>\n",
       "      <td>0.0</td>\n",
       "      <td>0.0</td>\n",
       "      <td>1</td>\n",
       "      <td>0.0</td>\n",
       "    </tr>\n",
       "    <tr>\n",
       "      <th>305711</th>\n",
       "      <td>0.0</td>\n",
       "      <td>0.0</td>\n",
       "      <td>1</td>\n",
       "      <td>0.0</td>\n",
       "    </tr>\n",
       "  </tbody>\n",
       "</table>\n",
       "<p>1957361 rows × 4 columns</p>\n",
       "</div>"
      ],
      "text/plain": [
       "         jacc  adam  intercetta  salton\n",
       "1907249   0.0   0.0           1     0.0\n",
       "2264725   0.0   0.0           1     0.0\n",
       "1197852   0.0   0.0           1     0.0\n",
       "340907    0.0   0.0           1     0.0\n",
       "2027577   0.0   0.0           1     0.0\n",
       "...       ...   ...         ...     ...\n",
       "2249467   0.0   0.0           1     0.0\n",
       "963395    0.0   0.0           1     0.0\n",
       "2215104   0.0   0.0           1     0.0\n",
       "1484405   0.0   0.0           1     0.0\n",
       "305711    0.0   0.0           1     0.0\n",
       "\n",
       "[1957361 rows x 4 columns]"
      ]
     },
     "execution_count": 86,
     "metadata": {},
     "output_type": "execute_result"
    }
   ],
   "source": [
    "X_train"
   ]
  },
  {
   "cell_type": "code",
   "execution_count": 88,
   "metadata": {},
   "outputs": [
    {
     "name": "stdout",
     "output_type": "stream",
     "text": [
      "Accuracy of logistic regression classifier on test set: 0.68\n"
     ]
    }
   ],
   "source": [
    "y_pred = logreg.predict(X_test)\n",
    "print('Accuracy of logistic regression classifier on test set: {:.2f}'.format(logreg.score(X_test, y_test)))"
   ]
  },
  {
   "cell_type": "code",
   "execution_count": 91,
   "metadata": {},
   "outputs": [
    {
     "data": {
      "text/plain": [
       "array([0, 0, 1, ..., 0, 0, 0], dtype=int64)"
      ]
     },
     "execution_count": 91,
     "metadata": {},
     "output_type": "execute_result"
    }
   ],
   "source": []
  },
  {
   "cell_type": "code",
   "execution_count": 89,
   "metadata": {},
   "outputs": [
    {
     "name": "stdout",
     "output_type": "stream",
     "text": [
      "[[412912   6940]\n",
      " [262327 156690]]\n"
     ]
    }
   ],
   "source": [
    "from sklearn.metrics import confusion_matrix\n",
    "confusion_matrix = confusion_matrix(y_test, y_pred)\n",
    "print(confusion_matrix)"
   ]
  },
  {
   "cell_type": "code",
   "execution_count": null,
   "metadata": {},
   "outputs": [],
   "source": [
    "stats.pearsonr(list(dfpred3['legame2']),list(dfpred3['jacc']))"
   ]
  },
  {
   "cell_type": "markdown",
   "metadata": {},
   "source": [
    "### Modello con aggiustamento rare events\n",
    "per info check King G and Zeng L (2001). “Logistic Regression in Rare Events Data.” Political Analysis, 9 (2), pp. 137-163."
   ]
  },
  {
   "cell_type": "code",
   "execution_count": 20,
   "metadata": {},
   "outputs": [],
   "source": [
    "##creo indice non presente in network x\n",
    "def salton_index(G, coppia):\n",
    "    u = coppia[0][0]\n",
    "    v = coppia[0][1]\n",
    "    neigh1 = [n for n in G[u]]\n",
    "    neigh2 = [n for n in G[v]]\n",
    "    numerator = len(list(set(neigh1) & set(neigh2)))\n",
    "    deg1 = G.degree[u]\n",
    "    deg2 = G.degree[v]\n",
    "    denominator = math.sqrt(deg1*deg2)\n",
    "    salton = numerator/denominator\n",
    "    return salton"
   ]
  },
  {
   "cell_type": "code",
   "execution_count": 24,
   "metadata": {},
   "outputs": [],
   "source": [
    "##creo jacc modificato\n",
    "def jacc_index(G, coppia):\n",
    "    u = coppia[0][0]\n",
    "    v = coppia[0][1]\n",
    "    neigh1 = [n for n in G[u]]\n",
    "    neigh2 = [n for n in G[v]]\n",
    "    numerator = len(list(set(neigh1) & set(neigh2)))\n",
    "    denominator = len(list(set(neigh1 + neigh2)))\n",
    "    jacc = numerator/denominator\n",
    "    return jacc"
   ]
  },
  {
   "cell_type": "code",
   "execution_count": 26,
   "metadata": {},
   "outputs": [
    {
     "data": {
      "text/plain": [
       "0.7142857142857143"
      ]
     },
     "execution_count": 26,
     "metadata": {},
     "output_type": "execute_result"
    }
   ],
   "source": [
    "jacc_index(F,[(22557,0)])"
   ]
  },
  {
   "cell_type": "code",
   "execution_count": 32,
   "metadata": {},
   "outputs": [
    {
     "data": {
      "application/vnd.jupyter.widget-view+json": {
       "model_id": "1bcf743925654de491f6917aa207e1a5",
       "version_major": 2,
       "version_minor": 0
      },
      "text/plain": [
       "HBox(children=(FloatProgress(value=0.0, max=59588.0), HTML(value='')))"
      ]
     },
     "metadata": {},
     "output_type": "display_data"
    },
    {
     "name": "stdout",
     "output_type": "stream",
     "text": [
      "\n"
     ]
    },
    {
     "data": {
      "application/vnd.jupyter.widget-view+json": {
       "model_id": "1bf90929626e4b5885633a9399a5af1a",
       "version_major": 2,
       "version_minor": 0
      },
      "text/plain": [
       "HBox(children=(FloatProgress(value=0.0, max=32115.0), HTML(value='')))"
      ]
     },
     "metadata": {},
     "output_type": "display_data"
    },
    {
     "name": "stdout",
     "output_type": "stream",
     "text": [
      "\n"
     ]
    }
   ],
   "source": [
    "##Prima prendo quelli collegati nel network con 2020 compreso con valori di interesse\n",
    "import random\n",
    "col1 = []\n",
    "col2 = []\n",
    "existing = []\n",
    "linktrial = []\n",
    "linktest = []\n",
    "jacq = []\n",
    "adam = []\n",
    "salton = []\n",
    "for u,v,data in tqdm(ootest.edges(data=True)):\n",
    "    if u>v:\n",
    "        col1.append(u)\n",
    "        col2.append(v)\n",
    "        linktrial.append(int(ootrial.has_edge(u,v)))\n",
    "        linktest.append(int(ootest.has_edge(u,v)))\n",
    "        existing.append(int(ootrial.has_node(u)&ootrial.has_node(v)))\n",
    "        if int(ootrial.has_node(u)&ootrial.has_node(v)):\n",
    "            j = nx.jaccard_coefficient(ootrial, [(u,v)])\n",
    "            for u,v,p in j:\n",
    "                jacq.append(p)\n",
    "            aa = nx.adamic_adar_index(ootrial, [(u,v)])\n",
    "            for u,v,p in aa:\n",
    "                adam.append(p)\n",
    "            salton.append(salton_index(ootrial, [(u,v)]))\n",
    "        else:\n",
    "            jacq.append(0)\n",
    "            adam.append(0)\n",
    "            salton.append(0)\n",
    "dflogis = pd.DataFrame({'col1':col1, 'col2':col2, 'existing':existing, 'linktrial':linktrial, 'linktest':linktest,\n",
    "                       'jacq' : jacq, 'adam':adam, 'salton' : salton})\n",
    "numbers = len(dflogis[(dflogis['existing']==1) & (dflogis['linktest']== 1) & (dflogis['linktrial']== 0) ])\n",
    "list_of_candidates = list((ootrial.nodes))\n",
    "list_degree = [val for (node, val) in ootrial.degree()]\n",
    "list_degree_p = []\n",
    "for number in list_degree:\n",
    "    list_degree_p.append(number/sum(list_degree))\n",
    "random.seed(10)\n",
    "draw1 = choice(list_of_candidates, numbers*15,\n",
    "              p= list_degree_p, replace=True)\n",
    "p2 = []\n",
    "for number in list_degree:\n",
    "    p2.append(1/len(list_degree))\n",
    "random.seed(11)\n",
    "draw2 = choice(list_of_candidates, numbers*15,\n",
    "              p= list_degree_p, replace=True)\n",
    "count = 0\n",
    "\n",
    "for i in tqdm(range(len(draw1))):\n",
    "    while count < numbers*10:\n",
    "        if ootrial.has_edge(draw1[i], draw2[i])==False and ootest.has_edge(draw1[i], draw2[i]) == False:\n",
    "            col1.append(draw1[i])\n",
    "            col2.append(draw2[i])\n",
    "            existing.append(1)\n",
    "            linktrial.append(0)\n",
    "            linktest.append(0)\n",
    "            j = nx.jaccard_coefficient(ootrial, [(draw1[i],draw2[i])])\n",
    "            for u,v,p in j:\n",
    "                jacq.append(p)\n",
    "            aa = nx.adamic_adar_index(ootrial, [(draw1[i],draw2[i])])\n",
    "            for u,v,p in aa:\n",
    "                adam.append(p)\n",
    "            salton.append(salton_index(ootrial, [(draw1[i],draw2[i])]))\n",
    "            count+=1\n",
    "                          \n",
    "dflogis = pd.DataFrame({'col1':col1, 'col2':col2, 'existing':existing, 'linktrial':linktrial, 'linktest':linktest,\n",
    "                        'jacq':jacq, 'adam':adam, 'salton':salton})\n"
   ]
  },
  {
   "cell_type": "code",
   "execution_count": 34,
   "metadata": {},
   "outputs": [
    {
     "data": {
      "text/plain": [
       "21410"
      ]
     },
     "execution_count": 34,
     "metadata": {},
     "output_type": "execute_result"
    }
   ],
   "source": [
    "len(dflogis[(dflogis['existing']==1) & (dflogis['linktest']== 0) & (dflogis['linktrial']== 0) ])\n"
   ]
  },
  {
   "cell_type": "code",
   "execution_count": 35,
   "metadata": {},
   "outputs": [
    {
     "data": {
      "text/plain": [
       "[<matplotlib.lines.Line2D at 0x15c7b3c3130>]"
      ]
     },
     "execution_count": 35,
     "metadata": {},
     "output_type": "execute_result"
    },
    {
     "data": {
      "image/png": "[encoded data removed]",
      "text/plain": [
       "<Figure size 432x288 with 1 Axes>"
      ]
     },
     "metadata": {
      "needs_background": "light"
     },
     "output_type": "display_data"
    }
   ],
   "source": [
    "plt.plot(list(dflogis[dflogis['linktrial']==0]['jacq']))"
   ]
  },
  {
   "cell_type": "code",
   "execution_count": 36,
   "metadata": {},
   "outputs": [
    {
     "data": {
      "text/plain": [
       "'Name: \\nType: Graph\\nNumber of nodes: 10758\\nNumber of edges: 49601\\nAverage degree:   9.2212'"
      ]
     },
     "execution_count": 36,
     "metadata": {},
     "output_type": "execute_result"
    }
   ],
   "source": [
    "nx.info(ootrial)"
   ]
  },
  {
   "cell_type": "code",
   "execution_count": null,
   "metadata": {},
   "outputs": [],
   "source": [
    "jacqito = list(dflogis[(dflogis['existing']!=0) & (dflogis['linktrial']== 1)]['jacq'])"
   ]
  },
  {
   "cell_type": "code",
   "execution_count": null,
   "metadata": {},
   "outputs": [],
   "source": [
    "dfristretto = dflogis[(dflogis['existing']==1) & (dflogis['linktrial']== 0)]"
   ]
  },
  {
   "cell_type": "code",
   "execution_count": null,
   "metadata": {},
   "outputs": [],
   "source": [
    "len(set(dfristretto['col1']))"
   ]
  },
  {
   "cell_type": "code",
   "execution_count": null,
   "metadata": {},
   "outputs": [],
   "source": [
    "plt.plot(sorted(jacqito))"
   ]
  },
  {
   "cell_type": "code",
   "execution_count": 37,
   "metadata": {},
   "outputs": [
    {
     "data": {
      "text/plain": [
       "[<matplotlib.lines.Line2D at 0x15c7b4b04f0>]"
      ]
     },
     "execution_count": 37,
     "metadata": {},
     "output_type": "execute_result"
    },
    {
     "data": {
      "image/png": "[encoded data removed]",
      "text/plain": [
       "<Figure size 432x288 with 1 Axes>"
      ]
     },
     "metadata": {
      "needs_background": "light"
     },
     "output_type": "display_data"
    }
   ],
   "source": [
    "plt.plot(sorted(salton))"
   ]
  },
  {
   "cell_type": "code",
   "execution_count": 38,
   "metadata": {},
   "outputs": [
    {
     "data": {
      "text/plain": [
       "(0.969012573633117, 0.0)"
      ]
     },
     "execution_count": 38,
     "metadata": {},
     "output_type": "execute_result"
    }
   ],
   "source": [
    "stats.pearsonr(jacq,salton)"
   ]
  },
  {
   "cell_type": "code",
   "execution_count": 39,
   "metadata": {},
   "outputs": [
    {
     "name": "stderr",
     "output_type": "stream",
     "text": [
      "<ipython-input-39-05059706a07f>:2: SettingWithCopyWarning: \n",
      "A value is trying to be set on a copy of a slice from a DataFrame.\n",
      "Try using .loc[row_indexer,col_indexer] = value instead\n",
      "\n",
      "See the caveats in the documentation: https://pandas.pydata.org/pandas-docs/stable/user_guide/indexing.html#returning-a-view-versus-a-copy\n",
      "  dflogis2['intercetta']=1\n"
     ]
    }
   ],
   "source": [
    "dflogis2 = (dflogis[(dflogis['existing']==1) & (dflogis['linktrial']== 0) ])\n",
    "dflogis2['intercetta']=1"
   ]
  },
  {
   "cell_type": "code",
   "execution_count": 42,
   "metadata": {},
   "outputs": [
    {
     "data": {
      "text/html": [
       "<div>\n",
       "<style scoped>\n",
       "    .dataframe tbody tr th:only-of-type {\n",
       "        vertical-align: middle;\n",
       "    }\n",
       "\n",
       "    .dataframe tbody tr th {\n",
       "        vertical-align: top;\n",
       "    }\n",
       "\n",
       "    .dataframe thead th {\n",
       "        text-align: right;\n",
       "    }\n",
       "</style>\n",
       "<table border=\"1\" class=\"dataframe\">\n",
       "  <thead>\n",
       "    <tr style=\"text-align: right;\">\n",
       "      <th></th>\n",
       "      <th>col1</th>\n",
       "      <th>col2</th>\n",
       "      <th>existing</th>\n",
       "      <th>linktrial</th>\n",
       "      <th>jacq</th>\n",
       "      <th>adam</th>\n",
       "      <th>salton</th>\n",
       "      <th>intercetta</th>\n",
       "    </tr>\n",
       "    <tr>\n",
       "      <th>linktest</th>\n",
       "      <th></th>\n",
       "      <th></th>\n",
       "      <th></th>\n",
       "      <th></th>\n",
       "      <th></th>\n",
       "      <th></th>\n",
       "      <th></th>\n",
       "      <th></th>\n",
       "    </tr>\n",
       "  </thead>\n",
       "  <tbody>\n",
       "    <tr>\n",
       "      <th>0</th>\n",
       "      <td>608622070</td>\n",
       "      <td>704538870</td>\n",
       "      <td>21410</td>\n",
       "      <td>0</td>\n",
       "      <td>0.000000</td>\n",
       "      <td>0.00000</td>\n",
       "      <td>0.000000</td>\n",
       "      <td>21410</td>\n",
       "    </tr>\n",
       "    <tr>\n",
       "      <th>1</th>\n",
       "      <td>74099268</td>\n",
       "      <td>61115408</td>\n",
       "      <td>2141</td>\n",
       "      <td>0</td>\n",
       "      <td>45.802672</td>\n",
       "      <td>1280.58529</td>\n",
       "      <td>97.570698</td>\n",
       "      <td>2141</td>\n",
       "    </tr>\n",
       "  </tbody>\n",
       "</table>\n",
       "</div>"
      ],
      "text/plain": [
       "               col1       col2  existing  linktrial       jacq        adam  \\\n",
       "linktest                                                                     \n",
       "0         608622070  704538870     21410          0   0.000000     0.00000   \n",
       "1          74099268   61115408      2141          0  45.802672  1280.58529   \n",
       "\n",
       "             salton  intercetta  \n",
       "linktest                         \n",
       "0          0.000000       21410  \n",
       "1         97.570698        2141  "
      ]
     },
     "execution_count": 42,
     "metadata": {},
     "output_type": "execute_result"
    }
   ],
   "source": [
    "dflogis2.groupby('linktest').sum()"
   ]
  },
  {
   "cell_type": "code",
   "execution_count": 559,
   "metadata": {},
   "outputs": [
    {
     "data": {
      "text/plain": [
       "27540"
      ]
     },
     "execution_count": 559,
     "metadata": {},
     "output_type": "execute_result"
    }
   ],
   "source": [
    "draw2[i]"
   ]
  },
  {
   "cell_type": "code",
   "execution_count": 43,
   "metadata": {},
   "outputs": [],
   "source": [
    "y = dflogis2['linktest']\n",
    "X = dflogis2[['adam','salton','intercetta']]"
   ]
  },
  {
   "cell_type": "code",
   "execution_count": 46,
   "metadata": {},
   "outputs": [
    {
     "name": "stdout",
     "output_type": "stream",
     "text": [
      "Warning: Maximum number of iterations has been exceeded.\n",
      "         Current function value: 0.202533\n",
      "         Iterations: 35\n",
      "                              Results: Logit\n",
      "==========================================================================\n",
      "Model:                  Logit               Pseudo R-squared:    0.335    \n",
      "Dependent Variable:     linktest            AIC:                 9545.7006\n",
      "Date:                   2021-08-14 15:26    BIC:                 9569.9013\n",
      "No. Observations:       23551               Log-Likelihood:      -4769.9  \n",
      "Df Model:               2                   LL-Null:             -7174.5  \n",
      "Df Residuals:           23548               LLR p-value:         0.0000   \n",
      "Converged:              0.0000              Scale:               1.0000   \n",
      "No. Iterations:         35.0000                                           \n",
      "--------------------------------------------------------------------------\n",
      "            Coef.     Std.Err.     z     P>|z|      [0.025       0.975]   \n",
      "--------------------------------------------------------------------------\n",
      "adam       126.7902 122735.8986   0.0010 0.9992  -240431.1508  240684.7311\n",
      "salton      63.4766 757219.8431   0.0001 0.9999 -1484060.1442 1484187.0974\n",
      "intercetta  -2.8593      0.0294 -97.4044 0.0000       -2.9168      -2.8018\n",
      "==========================================================================\n",
      "\n"
     ]
    },
    {
     "name": "stderr",
     "output_type": "stream",
     "text": [
      "C:\\Users\\Marco\\anaconda3\\lib\\site-packages\\statsmodels\\base\\model.py:567: ConvergenceWarning: Maximum Likelihood optimization failed to converge. Check mle_retvals\n",
      "  warn(\"Maximum Likelihood optimization failed to converge. \"\n"
     ]
    }
   ],
   "source": [
    "logit_model=sm.Logit(y,X)\n",
    "result=logit_model.fit()\n",
    "print(result.summary2())"
   ]
  },
  {
   "cell_type": "code",
   "execution_count": 49,
   "metadata": {},
   "outputs": [
    {
     "data": {
      "text/plain": [
       "10       1\n",
       "12       1\n",
       "16       1\n",
       "17       1\n",
       "37       1\n",
       "        ..\n",
       "51425    0\n",
       "51426    0\n",
       "51427    0\n",
       "51428    0\n",
       "51429    0\n",
       "Name: linktest, Length: 23551, dtype: int64"
      ]
     },
     "execution_count": 49,
     "metadata": {},
     "output_type": "execute_result"
    }
   ],
   "source": [
    "y"
   ]
  },
  {
   "cell_type": "markdown",
   "metadata": {},
   "source": [
    "### Summary statistics"
   ]
  },
  {
   "cell_type": "code",
   "execution_count": null,
   "metadata": {
    "scrolled": true
   },
   "outputs": [],
   "source": [
    "print(nx.info(B))"
   ]
  },
  {
   "cell_type": "code",
   "execution_count": null,
   "metadata": {},
   "outputs": [],
   "source": [
    "bipartite.density(B, bid_nodes)"
   ]
  },
  {
   "cell_type": "markdown",
   "metadata": {},
   "source": [
    "### Dynamic community discovery"
   ]
  },
  {
   "cell_type": "code",
   "execution_count": null,
   "metadata": {},
   "outputs": [],
   "source": [
    "tc = TemporalClustering()\n",
    "for year in range(2000,2021):\n",
    "    coms = algorithms.bimlpa(locals()[\"SG_\"+str(year)])  # here any CDlib algorithm can be applied -- Ask Rossetti for ambiguity\n",
    "    tc.add_clustering(coms, year)"
   ]
  },
  {
   "cell_type": "code",
   "execution_count": null,
   "metadata": {},
   "outputs": [],
   "source": [
    "from cdlib import TemporalClustering"
   ]
  },
  {
   "cell_type": "code",
   "execution_count": null,
   "metadata": {},
   "outputs": [],
   "source": [
    "tc2 = TemporalClustering()\n",
    "for year in range(2000,2021):\n",
    "    coms = algorithms.louvain(locals()[\"SG_\"+str(year)])  # Louvain\n",
    "    tc2.add_clustering(coms, year)"
   ]
  },
  {
   "cell_type": "code",
   "execution_count": null,
   "metadata": {
    "scrolled": true
   },
   "outputs": [],
   "source": [
    "size = [len(x) for x in tc2.get_clustering_at(2017).communities]\n",
    "mod = evaluation.avg_distance(SG_2017, tc2.get_clustering_at(2017), summary=False)"
   ]
  },
  {
   "cell_type": "code",
   "execution_count": null,
   "metadata": {
    "scrolled": true
   },
   "outputs": [],
   "source": [
    "plt.plot(size, mod, '.')\n",
    "plt.xlabel('size')\n",
    "plt.ylabel('avg_distance')\n",
    "plt.show()"
   ]
  },
  {
   "cell_type": "code",
   "execution_count": null,
   "metadata": {},
   "outputs": [],
   "source": [
    "common_n = lambda x, y:  len(set(x) & set(y))\n",
    "match_list=tc2.community_matching(method=common_n)"
   ]
  },
  {
   "cell_type": "code",
   "execution_count": null,
   "metadata": {},
   "outputs": [],
   "source": [
    "[(x[0], len(tc2.get_community(x[0])), x[1], len(tc2.get_community(x[1])), x[2]) for x in match_list if x[2]>100]"
   ]
  },
  {
   "cell_type": "markdown",
   "metadata": {},
   "source": [
    "## Link prediction"
   ]
  },
  {
   "cell_type": "markdown",
   "metadata": {},
   "source": [
    "## Functional data analysis"
   ]
  },
  {
   "cell_type": "markdown",
   "metadata": {},
   "source": [
    "### Data preparation"
   ]
  },
  {
   "cell_type": "code",
   "execution_count": null,
   "metadata": {
    "scrolled": false
   },
   "outputs": [],
   "source": [
    "data=Pallottola[['Organisation', 'id_x', 'USDraised_cpi', 'Date']]"
   ]
  },
  {
   "cell_type": "code",
   "execution_count": null,
   "metadata": {},
   "outputs": [],
   "source": [
    "data.Date=data.Date.dt.year"
   ]
  },
  {
   "cell_type": "code",
   "execution_count": null,
   "metadata": {},
   "outputs": [],
   "source": [
    "data=data[data.Date>=2000]\n",
    "data=data[data.Date<2021]"
   ]
  },
  {
   "cell_type": "code",
   "execution_count": null,
   "metadata": {},
   "outputs": [],
   "source": [
    "data=data.groupby(['id_x','Organisation','Date']).sum().reset_index()"
   ]
  },
  {
   "cell_type": "code",
   "execution_count": null,
   "metadata": {},
   "outputs": [],
   "source": [
    "data=data.pivot('Date','id_x','USDraised_cpi')"
   ]
  },
  {
   "cell_type": "code",
   "execution_count": null,
   "metadata": {},
   "outputs": [],
   "source": [
    "data"
   ]
  },
  {
   "cell_type": "code",
   "execution_count": null,
   "metadata": {},
   "outputs": [],
   "source": [
    "data.to_csv('to_functionalise.csv')"
   ]
  },
  {
   "cell_type": "markdown",
   "metadata": {},
   "source": [
    "### Functional clustering"
   ]
  },
  {
   "cell_type": "markdown",
   "metadata": {},
   "source": [
    "### Function - on - scalar and function - on - function regressions"
   ]
  }
 ],
 "metadata": {
  "kernelspec": {
   "display_name": "Python 3",
   "language": "python",
   "name": "python3"
  },
  "language_info": {
   "codemirror_mode": {
    "name": "ipython",
    "version": 3
   },
   "file_extension": ".py",
   "mimetype": "text/x-python",
   "name": "python",
   "nbconvert_exporter": "python",
   "pygments_lexer": "ipython3",
   "version": "3.8.3"
  }
 },
 "nbformat": 4,
 "nbformat_minor": 5
}
