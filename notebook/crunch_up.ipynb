{
 "cells": [
  {
   "cell_type": "markdown",
   "id": "isolated-crack",
   "metadata": {},
   "source": [
    "# Not all seeds become plants"
   ]
  },
  {
   "cell_type": "code",
   "execution_count": 128,
   "id": "difficult-africa",
   "metadata": {},
   "outputs": [],
   "source": [
    "import numpy as np\n",
    "import pandas as pd\n",
    "import matplotlib.pyplot as plt\n",
    "import networkx as nx\n",
    "from networkx.algorithms import bipartite, community \n",
    "import itertools\n",
    "from cdlib import algorithms, readwrite, evaluation, TemporalClustering"
   ]
  },
  {
   "cell_type": "markdown",
   "id": "parliamentary-senator",
   "metadata": {},
   "source": [
    "## Bipartite network generation"
   ]
  },
  {
   "cell_type": "markdown",
   "id": "fatty-state",
   "metadata": {},
   "source": [
    "### Data preparation"
   ]
  },
  {
   "cell_type": "code",
   "execution_count": 129,
   "id": "aging-tulsa",
   "metadata": {
    "scrolled": true
   },
   "outputs": [
    {
     "name": "stderr",
     "output_type": "stream",
     "text": [
      "<ipython-input-129-bebb74d81ad5>:11: FutureWarning: The default value of regex will change from True to False in a future version. In addition, single character regular expressions will*not* be treated as literal strings when regex=True.\n",
      "  nodes = nodes.assign(coo = nodes.Coo.str.replace('(','').str.replace(')',''))\n"
     ]
    },
    {
     "data": {
      "text/html": [
       "<div>\n",
       "<style scoped>\n",
       "    .dataframe tbody tr th:only-of-type {\n",
       "        vertical-align: middle;\n",
       "    }\n",
       "\n",
       "    .dataframe tbody tr th {\n",
       "        vertical-align: top;\n",
       "    }\n",
       "\n",
       "    .dataframe thead th {\n",
       "        text-align: right;\n",
       "    }\n",
       "</style>\n",
       "<table border=\"1\" class=\"dataframe\">\n",
       "  <thead>\n",
       "    <tr style=\"text-align: right;\">\n",
       "      <th></th>\n",
       "      <th>Node</th>\n",
       "      <th>Country</th>\n",
       "      <th>bipartite</th>\n",
       "      <th>id</th>\n",
       "      <th>lat</th>\n",
       "      <th>long</th>\n",
       "      <th>Coo</th>\n",
       "    </tr>\n",
       "  </thead>\n",
       "  <tbody>\n",
       "    <tr>\n",
       "      <th>0</th>\n",
       "      <td>Meddy</td>\n",
       "      <td>United Arab Emirates</td>\n",
       "      <td>1</td>\n",
       "      <td>0</td>\n",
       "      <td>25.075010</td>\n",
       "      <td>55.188761</td>\n",
       "      <td>(25.0750095, 55.18876088183319)</td>\n",
       "    </tr>\n",
       "    <tr>\n",
       "      <th>1</th>\n",
       "      <td>Lemonaid Health</td>\n",
       "      <td>United States</td>\n",
       "      <td>1</td>\n",
       "      <td>1</td>\n",
       "      <td>37.779026</td>\n",
       "      <td>-122.419906</td>\n",
       "      <td>(37.7790262, -122.4199061)</td>\n",
       "    </tr>\n",
       "    <tr>\n",
       "      <th>2</th>\n",
       "      <td>Prellis Biologics</td>\n",
       "      <td>United States</td>\n",
       "      <td>1</td>\n",
       "      <td>2</td>\n",
       "      <td>37.779026</td>\n",
       "      <td>-122.419906</td>\n",
       "      <td>(37.7790262, -122.4199061)</td>\n",
       "    </tr>\n",
       "    <tr>\n",
       "      <th>3</th>\n",
       "      <td>Memed</td>\n",
       "      <td>Brazil</td>\n",
       "      <td>1</td>\n",
       "      <td>3</td>\n",
       "      <td>-23.550651</td>\n",
       "      <td>-46.633382</td>\n",
       "      <td>(-23.5506507, -46.6333824)</td>\n",
       "    </tr>\n",
       "    <tr>\n",
       "      <th>4</th>\n",
       "      <td>1859</td>\n",
       "      <td>United States</td>\n",
       "      <td>1</td>\n",
       "      <td>4</td>\n",
       "      <td>32.717420</td>\n",
       "      <td>-117.162773</td>\n",
       "      <td>(32.7174202, -117.1627728)</td>\n",
       "    </tr>\n",
       "  </tbody>\n",
       "</table>\n",
       "</div>"
      ],
      "text/plain": [
       "                Node               Country  bipartite  id        lat  \\\n",
       "0              Meddy  United Arab Emirates          1   0  25.075010   \n",
       "1    Lemonaid Health         United States          1   1  37.779026   \n",
       "2  Prellis Biologics         United States          1   2  37.779026   \n",
       "3              Memed                Brazil          1   3 -23.550651   \n",
       "4               1859         United States          1   4  32.717420   \n",
       "\n",
       "         long                              Coo  \n",
       "0   55.188761  (25.0750095, 55.18876088183319)  \n",
       "1 -122.419906       (37.7790262, -122.4199061)  \n",
       "2 -122.419906       (37.7790262, -122.4199061)  \n",
       "3  -46.633382       (-23.5506507, -46.6333824)  \n",
       "4 -117.162773       (32.7174202, -117.1627728)  "
      ]
     },
     "execution_count": 129,
     "metadata": {},
     "output_type": "execute_result"
    }
   ],
   "source": [
    "tot = pd.read_excel('Pasadena.xlsx')\n",
    "nodes_org = tot[['Organisation', 'org_country', 'org_city_coo']].drop_duplicates()\n",
    "nodes_org['bipartite'] = 1\n",
    "nodes_inv = tot[['Investors', 'inv_country', 'inv_city_coo']].drop_duplicates()\n",
    "nodes_org = nodes_org.rename(columns={\"Organisation\": \"Node\", \"org_country\": \"Country\", \"org_city_coo\": \"Coo\"})\n",
    "nodes_inv = nodes_inv.rename(columns={\"Investors\": \"Node\",\"inv_country\": \"Country\", \"inv_city_coo\": \"Coo\"})\n",
    "nodes_inv['bipartite'] = 0\n",
    "nodes = nodes_org.append(nodes_inv, ignore_index= True)\n",
    "nodes['id'] = nodes.index\n",
    "\n",
    "nodes = nodes.assign(coo = nodes.Coo.str.replace('(','').str.replace(')',''))\n",
    "nodes= nodes.assign(coo = nodes.coo.str.split(', '))\n",
    "lats = [0]*len(nodes)\n",
    "longs = [0]*len(nodes)\n",
    "for i in range(len(nodes)):\n",
    "    if np.any(pd.isnull(nodes.coo[i])) == True: \n",
    "        lats[i] = np.nan\n",
    "        longs[i] = np.nan\n",
    "    else :\n",
    "        lats[i] = nodes.coo[i][0]\n",
    "        longs[i] = nodes.coo[i][1]\n",
    "nodes = nodes.assign(lat = lats, long = longs)\n",
    "nodes.lat = pd.to_numeric(nodes.lat, errors='coerce')\n",
    "nodes.long = pd.to_numeric(nodes.long, errors = 'coerce')\n",
    "nodes=nodes.loc[:,['Node', 'Country', 'bipartite', 'id', 'lat', 'long', 'Coo']]\n",
    "nodes.to_csv(\"id_mapping.csv\")\n",
    "nodes.head()"
   ]
  },
  {
   "cell_type": "code",
   "execution_count": 130,
   "id": "sharp-match",
   "metadata": {},
   "outputs": [],
   "source": [
    "tot2 = pd.merge(tot, nodes[nodes['bipartite']== 1],  how='left', left_on=['Organisation','org_city_coo'], right_on = ['Node','Coo'])\n",
    "tot2 = pd.merge(tot2, nodes[nodes['bipartite']== 0],  how='left', left_on=['Investors','inv_city_coo'], right_on = ['Node','Coo'])\n",
    "dic = {}\n",
    "for i in range(len(nodes)):\n",
    "               dic[i] = {\"Name\": nodes.Node[i], 'Country':nodes.Country[i], 'kind': nodes.bipartite[i]}\n",
    "Pallottola = tot2[tot2.columns[~tot2.columns.str.contains('Unnamed:')]]\n",
    "IDs=Pallottola[['Funding type', 'Node_x']].drop_duplicates()\n",
    "IDs['idx']=IDs.index\n",
    "Pallottola = pd.merge(Pallottola, IDs,  how='left', left_on=['Funding type','Node_x'], right_on = ['Funding type','Node_x'])"
   ]
  },
  {
   "cell_type": "markdown",
   "id": "interstate-gather",
   "metadata": {},
   "source": [
    "### Graph building"
   ]
  },
  {
   "cell_type": "code",
   "execution_count": 131,
   "id": "genuine-massachusetts",
   "metadata": {},
   "outputs": [],
   "source": [
    "B = nx.MultiGraph(name='org-bid')\n",
    "# Add nodes with the node attribute \"bipartite\"\n",
    "B.add_nodes_from(nodes[nodes.bipartite==0].id, bipartite=0)\n",
    "B.add_nodes_from(nodes[nodes.bipartite==1].id, bipartite=1)\n",
    "# Add edges only between nodes of opposite node sets\n",
    "for i in range(len(Pallottola)):\n",
    "    B.add_edge(Pallottola.loc[i,'id_x'], Pallottola.loc[i,'id_y'], date=pd.to_datetime(Pallottola.loc[i,'Date']).year, m_raised=Pallottola.loc[i,'USDraised_cpi'])"
   ]
  },
  {
   "cell_type": "code",
   "execution_count": 132,
   "id": "czech-agent",
   "metadata": {},
   "outputs": [],
   "source": [
    "# Remove NaN node\n",
    "B.remove_node(22560)"
   ]
  },
  {
   "cell_type": "code",
   "execution_count": 133,
   "id": "angry-wisdom",
   "metadata": {},
   "outputs": [],
   "source": [
    "bid_nodes = {n for n, d in B.nodes(data=True) if d[\"bipartite\"] == 0}\n",
    "org_nodes = set(B) - bid_nodes"
   ]
  },
  {
   "cell_type": "markdown",
   "id": "golden-photograph",
   "metadata": {},
   "source": [
    "### Snapshot creation"
   ]
  },
  {
   "cell_type": "code",
   "execution_count": 134,
   "id": "starting-affair",
   "metadata": {
    "scrolled": false
   },
   "outputs": [],
   "source": [
    "for year in range(2000, 2021):\n",
    "    locals()[\"SG_\"+str(year)]=nx.MultiGraph()\n",
    "    for x in B.edges(data=True):\n",
    "        if x[2]['date']==year:\n",
    "            locals()[\"SG_\"+str(year)].add_edge(x[0],x[1], date=year, m_raised=x[2]['m_raised'])\n",
    "    for x in locals()[\"SG_\"+str(year)].nodes():\n",
    "        locals()[\"SG_\"+str(year)].nodes[x]['bipartite'] = B.nodes(data=True)[x]['bipartite']\n",
    "    locals()[\"bid_nodes_\"+str(year)] = {n for n, d in locals()[\"SG_\"+str(year)].nodes(data=True) if d[\"bipartite\"] == 0}\n",
    "    locals()[\"org_nodes_\"+str(year)] = set(B) - locals()[\"bid_nodes_\"+str(year)]"
   ]
  },
  {
   "cell_type": "code",
   "execution_count": 135,
   "id": "medical-liberal",
   "metadata": {
    "scrolled": true
   },
   "outputs": [
    {
     "data": {
      "text/plain": [
       "[<matplotlib.lines.Line2D at 0x7fdb314ecfa0>]"
      ]
     },
     "execution_count": 135,
     "metadata": {},
     "output_type": "execute_result"
    },
    {
     "data": {
      "image/png": "[encoded data removed]",
      "text/plain": [
       "<Figure size 432x288 with 1 Axes>"
      ]
     },
     "metadata": {
      "needs_background": "light"
     },
     "output_type": "display_data"
    }
   ],
   "source": [
    "edges_subgraph=[]\n",
    "nodes_subgraph=[]\n",
    "avg_degree_subgraph=[]\n",
    "for year in range(2000,2021):\n",
    "    edges_subgraph.append(locals()[\"SG_\"+str(year)].number_of_edges())\n",
    "    nodes_subgraph.append(locals()[\"SG_\"+str(year)].number_of_nodes())\n",
    "    #avg_degree_subgraph.append(2*locals()[\"SG_\"+str(year)].number_of_edges()/(locals()[\"SG_\"+str(year)].number_of_nodes()+1))\n",
    "    \n",
    "plt.plot(range(2000,2021), edges_subgraph)"
   ]
  },
  {
   "cell_type": "code",
   "execution_count": 136,
   "id": "correct-recipient",
   "metadata": {
    "scrolled": true
   },
   "outputs": [
    {
     "data": {
      "text/plain": [
       "[<matplotlib.lines.Line2D at 0x7fdb08e0a460>]"
      ]
     },
     "execution_count": 136,
     "metadata": {},
     "output_type": "execute_result"
    },
    {
     "data": {
      "image/png": "[encoded data removed]",
      "text/plain": [
       "<Figure size 432x288 with 1 Axes>"
      ]
     },
     "metadata": {
      "needs_background": "light"
     },
     "output_type": "display_data"
    }
   ],
   "source": [
    "plt.plot(range(2000,2021), nodes_subgraph)"
   ]
  },
  {
   "cell_type": "markdown",
   "id": "upper-aurora",
   "metadata": {},
   "source": [
    "### Projections"
   ]
  },
  {
   "cell_type": "markdown",
   "id": "functional-senate",
   "metadata": {},
   "source": [
    "There is no algorithm that projects multigraphs. The following one tries to figure out a possible solution (indeed it has some drawbacks and some arbitrary technicalities)\n",
    "\n",
    "Indeed, two investors that have invested in the same company, in the same year TWICE are connected by a SINGLE arc (we are using years as granular basis)"
   ]
  },
  {
   "cell_type": "code",
   "execution_count": 213,
   "id": "macro-telescope",
   "metadata": {},
   "outputs": [],
   "source": [
    "def project_multi(B, nodes, name):\n",
    "    G=nx.MultiGraph(name=name)\n",
    "    count=0\n",
    "    for node in nodes:\n",
    "        ego=nx.ego_graph(B, node)\n",
    "        ndx=list(ego.nodes())\n",
    "        ndx.remove(node)\n",
    "        for year in range(2000,2021): # bad trick to link depending on year\n",
    "            subndx=[x for x in ndx if [y for y in list(ego.edges(data=True)) if y[0]==x or y[1]==x][0][2]['date']==year]\n",
    "            for couple in itertools.combinations(subndx, 2):\n",
    "                if G.has_edge(couple[0], couple[1], year):\n",
    "                    continue\n",
    "                G.add_edge(couple[0], couple[1], year)\n",
    "        count+=1\n",
    "        if count%1000==0:\n",
    "            print(count, end=' ')\n",
    "    return G"
   ]
  },
  {
   "cell_type": "code",
   "execution_count": 216,
   "id": "sunrise-proposal",
   "metadata": {
    "scrolled": true
   },
   "outputs": [
    {
     "name": "stdout",
     "output_type": "stream",
     "text": [
      "1000 2000 3000 4000 5000 6000 7000 8000 9000 10000 11000 12000 13000 14000 15000 16000 17000 "
     ]
    }
   ],
   "source": [
    "bidbid=project_multi(B, bid_nodes, name='bid-bid')"
   ]
  },
  {
   "cell_type": "code",
   "execution_count": 217,
   "id": "crazy-services",
   "metadata": {
    "scrolled": true
   },
   "outputs": [
    {
     "name": "stdout",
     "output_type": "stream",
     "text": [
      "Name: bid-bid\n",
      "Type: MultiGraph\n",
      "Number of nodes: 12151\n",
      "Number of edges: 94549\n",
      "Average degree:  15.5623\n"
     ]
    }
   ],
   "source": [
    "print(nx.info(bidbid))"
   ]
  },
  {
   "cell_type": "code",
   "execution_count": 214,
   "id": "harmful-covering",
   "metadata": {
    "scrolled": true
   },
   "outputs": [
    {
     "name": "stdout",
     "output_type": "stream",
     "text": [
      "1000 2000 3000 4000 5000 6000 7000 8000 9000 10000 11000 12000 13000 14000 15000 16000 17000 18000 19000 20000 21000 22000 "
     ]
    }
   ],
   "source": [
    "orgorg=project_multi(B, org_nodes, name='org-org')"
   ]
  },
  {
   "cell_type": "code",
   "execution_count": 215,
   "id": "occupational-twist",
   "metadata": {
    "scrolled": true
   },
   "outputs": [
    {
     "name": "stdout",
     "output_type": "stream",
     "text": [
      "Name: org-org\n",
      "Type: MultiGraph\n",
      "Number of nodes: 14318\n",
      "Number of edges: 81081\n",
      "Average degree:  11.3257\n"
     ]
    }
   ],
   "source": [
    "print(nx.info(orgorg))"
   ]
  },
  {
   "cell_type": "code",
   "execution_count": 124,
   "id": "sorted-lottery",
   "metadata": {},
   "outputs": [],
   "source": [
    "# Save projections :-)\n",
    "nx.readwrite.write_gpickle(bidbid, 'bidbid.gpickle')\n",
    "nx.readwrite.write_gpickle(orgorg, 'orgorg.gpickle')"
   ]
  },
  {
   "cell_type": "markdown",
   "id": "special-legislation",
   "metadata": {},
   "source": [
    "## Network characterisation"
   ]
  },
  {
   "cell_type": "markdown",
   "id": "retired-electric",
   "metadata": {},
   "source": [
    "### Summary statistics"
   ]
  },
  {
   "cell_type": "code",
   "execution_count": 218,
   "id": "sweet-tolerance",
   "metadata": {
    "scrolled": true
   },
   "outputs": [
    {
     "name": "stdout",
     "output_type": "stream",
     "text": [
      "Name: org-bid\n",
      "Type: MultiGraph\n",
      "Number of nodes: 40509\n",
      "Number of edges: 70861\n",
      "Average degree:   3.4985\n"
     ]
    }
   ],
   "source": [
    "print(nx.info(B))"
   ]
  },
  {
   "cell_type": "code",
   "execution_count": 219,
   "id": "collaborative-trash",
   "metadata": {},
   "outputs": [
    {
     "data": {
      "text/plain": [
       "0.00017498994624590174"
      ]
     },
     "execution_count": 219,
     "metadata": {},
     "output_type": "execute_result"
    }
   ],
   "source": [
    "bipartite.density(B, bid_nodes)"
   ]
  },
  {
   "cell_type": "markdown",
   "id": "placed-heart",
   "metadata": {},
   "source": [
    "### Dynamic community discovery"
   ]
  },
  {
   "cell_type": "code",
   "execution_count": 220,
   "id": "pacific-percentage",
   "metadata": {
    "collapsed": true
   },
   "outputs": [
    {
     "ename": "IndexError",
     "evalue": "list index out of range",
     "output_type": "error",
     "traceback": [
      "\u001b[0;31m---------------------------------------------------------------------------\u001b[0m",
      "\u001b[0;31mIndexError\u001b[0m                                Traceback (most recent call last)",
      "\u001b[0;32m<ipython-input-220-5e9080ac0168>\u001b[0m in \u001b[0;36m<module>\u001b[0;34m\u001b[0m\n\u001b[1;32m      1\u001b[0m \u001b[0mtc\u001b[0m \u001b[0;34m=\u001b[0m \u001b[0mTemporalClustering\u001b[0m\u001b[0;34m(\u001b[0m\u001b[0;34m)\u001b[0m\u001b[0;34m\u001b[0m\u001b[0;34m\u001b[0m\u001b[0m\n\u001b[1;32m      2\u001b[0m \u001b[0;32mfor\u001b[0m \u001b[0myear\u001b[0m \u001b[0;32min\u001b[0m \u001b[0mrange\u001b[0m\u001b[0;34m(\u001b[0m\u001b[0;36m2000\u001b[0m\u001b[0;34m,\u001b[0m\u001b[0;36m2021\u001b[0m\u001b[0;34m)\u001b[0m\u001b[0;34m:\u001b[0m\u001b[0;34m\u001b[0m\u001b[0;34m\u001b[0m\u001b[0m\n\u001b[0;32m----> 3\u001b[0;31m     \u001b[0mcoms\u001b[0m \u001b[0;34m=\u001b[0m \u001b[0malgorithms\u001b[0m\u001b[0;34m.\u001b[0m\u001b[0mbimlpa\u001b[0m\u001b[0;34m(\u001b[0m\u001b[0mlocals\u001b[0m\u001b[0;34m(\u001b[0m\u001b[0;34m)\u001b[0m\u001b[0;34m[\u001b[0m\u001b[0;34m\"SG_\"\u001b[0m\u001b[0;34m+\u001b[0m\u001b[0mstr\u001b[0m\u001b[0;34m(\u001b[0m\u001b[0myear\u001b[0m\u001b[0;34m)\u001b[0m\u001b[0;34m]\u001b[0m\u001b[0;34m)\u001b[0m  \u001b[0;31m# here any CDlib algorithm can be applied -- Ask Rossetti for ambiguity\u001b[0m\u001b[0;34m\u001b[0m\u001b[0;34m\u001b[0m\u001b[0m\n\u001b[0m\u001b[1;32m      4\u001b[0m     \u001b[0mtc\u001b[0m\u001b[0;34m.\u001b[0m\u001b[0madd_clustering\u001b[0m\u001b[0;34m(\u001b[0m\u001b[0mcoms\u001b[0m\u001b[0;34m,\u001b[0m \u001b[0myear\u001b[0m\u001b[0;34m)\u001b[0m\u001b[0;34m\u001b[0m\u001b[0;34m\u001b[0m\u001b[0m\n",
      "\u001b[0;32m~/.local/lib/python3.8/site-packages/cdlib/algorithms/bipartite_clustering.py\u001b[0m in \u001b[0;36mbimlpa\u001b[0;34m(g_original, theta, lambd)\u001b[0m\n\u001b[1;32m     65\u001b[0m     \u001b[0mtop_coms\u001b[0m\u001b[0;34m,\u001b[0m \u001b[0mbottom_coms\u001b[0m \u001b[0;34m=\u001b[0m \u001b[0moutput_community\u001b[0m\u001b[0;34m(\u001b[0m\u001b[0mg\u001b[0m\u001b[0;34m)\u001b[0m\u001b[0;34m\u001b[0m\u001b[0;34m\u001b[0m\u001b[0m\n\u001b[1;32m     66\u001b[0m \u001b[0;34m\u001b[0m\u001b[0m\n\u001b[0;32m---> 67\u001b[0;31m     return BiNodeClustering(\n\u001b[0m\u001b[1;32m     68\u001b[0m         \u001b[0mtop_coms\u001b[0m\u001b[0;34m,\u001b[0m\u001b[0;34m\u001b[0m\u001b[0;34m\u001b[0m\u001b[0m\n\u001b[1;32m     69\u001b[0m         \u001b[0mbottom_coms\u001b[0m\u001b[0;34m,\u001b[0m\u001b[0;34m\u001b[0m\u001b[0;34m\u001b[0m\u001b[0m\n",
      "\u001b[0;32m~/.local/lib/python3.8/site-packages/cdlib/classes/bipartite_node_clustering.py\u001b[0m in \u001b[0;36m__init__\u001b[0;34m(self, left_communities, right_communities, graph, method_name, method_parameters, overlap)\u001b[0m\n\u001b[1;32m     25\u001b[0m         \u001b[0mself\u001b[0m\u001b[0;34m.\u001b[0m\u001b[0mleft_communities\u001b[0m \u001b[0;34m=\u001b[0m \u001b[0mleft_communities\u001b[0m\u001b[0;34m\u001b[0m\u001b[0;34m\u001b[0m\u001b[0m\n\u001b[1;32m     26\u001b[0m         \u001b[0mself\u001b[0m\u001b[0;34m.\u001b[0m\u001b[0mright_communities\u001b[0m \u001b[0;34m=\u001b[0m \u001b[0mright_communities\u001b[0m\u001b[0;34m\u001b[0m\u001b[0;34m\u001b[0m\u001b[0m\n\u001b[0;32m---> 27\u001b[0;31m         super().__init__(\n\u001b[0m\u001b[1;32m     28\u001b[0m             \u001b[0mself\u001b[0m\u001b[0;34m.\u001b[0m\u001b[0mleft_communities\u001b[0m \u001b[0;34m+\u001b[0m \u001b[0mself\u001b[0m\u001b[0;34m.\u001b[0m\u001b[0mright_communities\u001b[0m\u001b[0;34m,\u001b[0m\u001b[0;34m\u001b[0m\u001b[0;34m\u001b[0m\u001b[0m\n\u001b[1;32m     29\u001b[0m             \u001b[0mgraph\u001b[0m\u001b[0;34m,\u001b[0m\u001b[0;34m\u001b[0m\u001b[0;34m\u001b[0m\u001b[0m\n",
      "\u001b[0;32m~/.local/lib/python3.8/site-packages/cdlib/classes/node_clustering.py\u001b[0m in \u001b[0;36m__init__\u001b[0;34m(self, communities, graph, method_name, method_parameters, overlap)\u001b[0m\n\u001b[1;32m     29\u001b[0m         \u001b[0moverlap\u001b[0m\u001b[0;34m:\u001b[0m \u001b[0mbool\u001b[0m \u001b[0;34m=\u001b[0m \u001b[0;32mFalse\u001b[0m\u001b[0;34m,\u001b[0m\u001b[0;34m\u001b[0m\u001b[0;34m\u001b[0m\u001b[0m\n\u001b[1;32m     30\u001b[0m     ):\n\u001b[0;32m---> 31\u001b[0;31m         \u001b[0msuper\u001b[0m\u001b[0;34m(\u001b[0m\u001b[0;34m)\u001b[0m\u001b[0;34m.\u001b[0m\u001b[0m__init__\u001b[0m\u001b[0;34m(\u001b[0m\u001b[0mcommunities\u001b[0m\u001b[0;34m,\u001b[0m \u001b[0mgraph\u001b[0m\u001b[0;34m,\u001b[0m \u001b[0mmethod_name\u001b[0m\u001b[0;34m,\u001b[0m \u001b[0mmethod_parameters\u001b[0m\u001b[0;34m,\u001b[0m \u001b[0moverlap\u001b[0m\u001b[0;34m)\u001b[0m\u001b[0;34m\u001b[0m\u001b[0;34m\u001b[0m\u001b[0m\n\u001b[0m\u001b[1;32m     32\u001b[0m \u001b[0;34m\u001b[0m\u001b[0m\n\u001b[1;32m     33\u001b[0m         \u001b[0;32mif\u001b[0m \u001b[0mgraph\u001b[0m \u001b[0;32mis\u001b[0m \u001b[0;32mnot\u001b[0m \u001b[0;32mNone\u001b[0m\u001b[0;34m:\u001b[0m\u001b[0;34m\u001b[0m\u001b[0;34m\u001b[0m\u001b[0m\n",
      "\u001b[0;32m~/.local/lib/python3.8/site-packages/cdlib/classes/clustering.py\u001b[0m in \u001b[0;36m__init__\u001b[0;34m(self, communities, graph, method_name, method_parameters, overlap)\u001b[0m\n\u001b[1;32m     40\u001b[0m         \u001b[0;32mif\u001b[0m \u001b[0misinstance\u001b[0m\u001b[0;34m(\u001b[0m\u001b[0mcommunities\u001b[0m\u001b[0;34m,\u001b[0m \u001b[0mset\u001b[0m\u001b[0;34m)\u001b[0m\u001b[0;34m:\u001b[0m\u001b[0;34m\u001b[0m\u001b[0;34m\u001b[0m\u001b[0m\n\u001b[1;32m     41\u001b[0m             \u001b[0mcommunities\u001b[0m \u001b[0;34m=\u001b[0m \u001b[0mlist\u001b[0m\u001b[0;34m(\u001b[0m\u001b[0mcommunities\u001b[0m\u001b[0;34m)\u001b[0m\u001b[0;34m\u001b[0m\u001b[0;34m\u001b[0m\u001b[0m\n\u001b[0;32m---> 42\u001b[0;31m         \u001b[0mcommunities\u001b[0m \u001b[0;34m=\u001b[0m \u001b[0mself\u001b[0m\u001b[0;34m.\u001b[0m\u001b[0m__convert_back_to_original_nodes_names_if_needed\u001b[0m\u001b[0;34m(\u001b[0m\u001b[0mcommunities\u001b[0m\u001b[0;34m)\u001b[0m\u001b[0;34m\u001b[0m\u001b[0;34m\u001b[0m\u001b[0m\n\u001b[0m\u001b[1;32m     43\u001b[0m         \u001b[0mself\u001b[0m\u001b[0;34m.\u001b[0m\u001b[0mcommunities\u001b[0m \u001b[0;34m=\u001b[0m \u001b[0msorted\u001b[0m\u001b[0;34m(\u001b[0m\u001b[0mcommunities\u001b[0m\u001b[0;34m,\u001b[0m \u001b[0mkey\u001b[0m\u001b[0;34m=\u001b[0m\u001b[0mlen\u001b[0m\u001b[0;34m,\u001b[0m \u001b[0mreverse\u001b[0m\u001b[0;34m=\u001b[0m\u001b[0;32mTrue\u001b[0m\u001b[0;34m)\u001b[0m\u001b[0;34m\u001b[0m\u001b[0;34m\u001b[0m\u001b[0m\n\u001b[1;32m     44\u001b[0m         \u001b[0mself\u001b[0m\u001b[0;34m.\u001b[0m\u001b[0mgraph\u001b[0m \u001b[0;34m=\u001b[0m \u001b[0mgraph\u001b[0m\u001b[0;34m\u001b[0m\u001b[0;34m\u001b[0m\u001b[0m\n",
      "\u001b[0;32m~/.local/lib/python3.8/site-packages/cdlib/classes/clustering.py\u001b[0m in \u001b[0;36m__convert_back_to_original_nodes_names_if_needed\u001b[0;34m(communities)\u001b[0m\n\u001b[1;32m     14\u001b[0m             \u001b[0mlen\u001b[0m\u001b[0;34m(\u001b[0m\u001b[0mcommunities\u001b[0m\u001b[0;34m)\u001b[0m \u001b[0;34m>\u001b[0m \u001b[0;36m0\u001b[0m\u001b[0;34m\u001b[0m\u001b[0;34m\u001b[0m\u001b[0m\n\u001b[1;32m     15\u001b[0m             \u001b[0;32mand\u001b[0m \u001b[0;32mnot\u001b[0m \u001b[0misinstance\u001b[0m\u001b[0;34m(\u001b[0m\u001b[0mcommunities\u001b[0m\u001b[0;34m[\u001b[0m\u001b[0;36m0\u001b[0m\u001b[0;34m]\u001b[0m\u001b[0;34m,\u001b[0m \u001b[0mdict\u001b[0m\u001b[0;34m)\u001b[0m\u001b[0;34m\u001b[0m\u001b[0;34m\u001b[0m\u001b[0m\n\u001b[0;32m---> 16\u001b[0;31m             \u001b[0;32mand\u001b[0m \u001b[0misinstance\u001b[0m\u001b[0;34m(\u001b[0m\u001b[0mlist\u001b[0m\u001b[0;34m(\u001b[0m\u001b[0mcommunities\u001b[0m\u001b[0;34m[\u001b[0m\u001b[0;36m0\u001b[0m\u001b[0;34m]\u001b[0m\u001b[0;34m)\u001b[0m\u001b[0;34m[\u001b[0m\u001b[0;36m0\u001b[0m\u001b[0;34m]\u001b[0m\u001b[0;34m,\u001b[0m \u001b[0mstr\u001b[0m\u001b[0;34m)\u001b[0m\u001b[0;34m\u001b[0m\u001b[0;34m\u001b[0m\u001b[0m\n\u001b[0m\u001b[1;32m     17\u001b[0m         ):\n\u001b[1;32m     18\u001b[0m             \u001b[0;32mif\u001b[0m \u001b[0mcommunities\u001b[0m\u001b[0;34m[\u001b[0m\u001b[0;36m0\u001b[0m\u001b[0;34m]\u001b[0m\u001b[0;34m[\u001b[0m\u001b[0;36m0\u001b[0m\u001b[0;34m]\u001b[0m\u001b[0;34m[\u001b[0m\u001b[0;34m:\u001b[0m\u001b[0;36m1\u001b[0m\u001b[0;34m]\u001b[0m \u001b[0;34m==\u001b[0m \u001b[0;34m\"\\\\\"\u001b[0m\u001b[0;34m:\u001b[0m\u001b[0;34m\u001b[0m\u001b[0;34m\u001b[0m\u001b[0m\n",
      "\u001b[0;31mIndexError\u001b[0m: list index out of range"
     ]
    }
   ],
   "source": [
    "tc = TemporalClustering()\n",
    "for year in range(2000,2021):\n",
    "    coms = algorithms.bimlpa(locals()[\"SG_\"+str(year)])  # here any CDlib algorithm can be applied -- Ask Rossetti for ambiguity\n",
    "    tc.add_clustering(coms, year)"
   ]
  },
  {
   "cell_type": "code",
   "execution_count": 261,
   "id": "optional-allergy",
   "metadata": {},
   "outputs": [],
   "source": [
    "tc2 = TemporalClustering()\n",
    "for year in range(2000,2021):\n",
    "    coms = algorithms.louvain(locals()[\"SG_\"+str(year)])  # Louvain\n",
    "    tc2.add_clustering(coms, year)"
   ]
  },
  {
   "cell_type": "code",
   "execution_count": 265,
   "id": "pediatric-fields",
   "metadata": {
    "scrolled": true
   },
   "outputs": [],
   "source": [
    "size = [len(x) for x in tc2.get_clustering_at(2017).communities]\n",
    "mod = evaluation.avg_distance(SG_2017, tc2.get_clustering_at(2017), summary=False)"
   ]
  },
  {
   "cell_type": "code",
   "execution_count": 266,
   "id": "competitive-microphone",
   "metadata": {
    "scrolled": true
   },
   "outputs": [
    {
     "data": {
      "image/png": "[encoded data removed]",
      "text/plain": [
       "<Figure size 432x288 with 1 Axes>"
      ]
     },
     "metadata": {
      "needs_background": "light"
     },
     "output_type": "display_data"
    }
   ],
   "source": [
    "plt.plot(size, mod, '.')\n",
    "plt.xlabel('size')\n",
    "plt.ylabel('avg_distance')\n",
    "plt.show()"
   ]
  },
  {
   "cell_type": "code",
   "execution_count": 267,
   "id": "crucial-warehouse",
   "metadata": {},
   "outputs": [],
   "source": [
    "common_n = lambda x, y:  len(set(x) & set(y))\n",
    "match_list=tc2.community_matching(method=common_n)"
   ]
  },
  {
   "cell_type": "code",
   "execution_count": 270,
   "id": "compatible-soviet",
   "metadata": {},
   "outputs": [
    {
     "data": {
      "text/plain": [
       "[('2019_0', 533, '2020_0', 618, 148)]"
      ]
     },
     "execution_count": 270,
     "metadata": {},
     "output_type": "execute_result"
    }
   ],
   "source": [
    "[(x[0], len(tc2.get_community(x[0])), x[1], len(tc2.get_community(x[1])), x[2]) for x in match_list if x[2]>100]"
   ]
  },
  {
   "cell_type": "markdown",
   "id": "common-richmond",
   "metadata": {},
   "source": [
    "## Link prediction"
   ]
  },
  {
   "cell_type": "markdown",
   "id": "residential-victorian",
   "metadata": {},
   "source": [
    "## Functional data analysis"
   ]
  },
  {
   "cell_type": "markdown",
   "id": "underlying-deficit",
   "metadata": {},
   "source": [
    "### Data preparation"
   ]
  },
  {
   "cell_type": "code",
   "execution_count": 345,
   "id": "seasonal-complexity",
   "metadata": {
    "scrolled": false
   },
   "outputs": [],
   "source": [
    "data=Pallottola[['Organisation', 'id_x', 'USDraised_cpi', 'Date']]"
   ]
  },
  {
   "cell_type": "code",
   "execution_count": 346,
   "id": "crazy-reading",
   "metadata": {},
   "outputs": [
    {
     "name": "stderr",
     "output_type": "stream",
     "text": [
      "/users/testa/.local/lib/python3.8/site-packages/pandas/core/generic.py:5494: SettingWithCopyWarning: \n",
      "A value is trying to be set on a copy of a slice from a DataFrame.\n",
      "Try using .loc[row_indexer,col_indexer] = value instead\n",
      "\n",
      "See the caveats in the documentation: https://pandas.pydata.org/pandas-docs/stable/user_guide/indexing.html#returning-a-view-versus-a-copy\n",
      "  self[name] = value\n"
     ]
    }
   ],
   "source": [
    "data.Date=data.Date.dt.year"
   ]
  },
  {
   "cell_type": "code",
   "execution_count": 347,
   "id": "suspended-component",
   "metadata": {},
   "outputs": [],
   "source": [
    "data=data[data.Date>=2000]\n",
    "data=data[data.Date<2021]"
   ]
  },
  {
   "cell_type": "code",
   "execution_count": 348,
   "id": "independent-lambda",
   "metadata": {},
   "outputs": [],
   "source": [
    "data=data.groupby(['id_x','Organisation','Date']).sum().reset_index()"
   ]
  },
  {
   "cell_type": "code",
   "execution_count": 349,
   "id": "incredible-collector",
   "metadata": {},
   "outputs": [],
   "source": [
    "data=data.pivot('Date','id_x','USDraised_cpi')"
   ]
  },
  {
   "cell_type": "code",
   "execution_count": 353,
   "id": "iraqi-superintendent",
   "metadata": {},
   "outputs": [
    {
     "data": {
      "text/html": [
       "<div>\n",
       "<style scoped>\n",
       "    .dataframe tbody tr th:only-of-type {\n",
       "        vertical-align: middle;\n",
       "    }\n",
       "\n",
       "    .dataframe tbody tr th {\n",
       "        vertical-align: top;\n",
       "    }\n",
       "\n",
       "    .dataframe thead th {\n",
       "        text-align: right;\n",
       "    }\n",
       "</style>\n",
       "<table border=\"1\" class=\"dataframe\">\n",
       "  <thead>\n",
       "    <tr style=\"text-align: right;\">\n",
       "      <th>id_x</th>\n",
       "      <th>0</th>\n",
       "      <th>1</th>\n",
       "      <th>2</th>\n",
       "      <th>3</th>\n",
       "      <th>4</th>\n",
       "      <th>5</th>\n",
       "      <th>6</th>\n",
       "      <th>7</th>\n",
       "      <th>8</th>\n",
       "      <th>9</th>\n",
       "      <th>...</th>\n",
       "      <th>22547</th>\n",
       "      <th>22548</th>\n",
       "      <th>22549</th>\n",
       "      <th>22550</th>\n",
       "      <th>22551</th>\n",
       "      <th>22552</th>\n",
       "      <th>22553</th>\n",
       "      <th>22554</th>\n",
       "      <th>22555</th>\n",
       "      <th>22556</th>\n",
       "    </tr>\n",
       "    <tr>\n",
       "      <th>Date</th>\n",
       "      <th></th>\n",
       "      <th></th>\n",
       "      <th></th>\n",
       "      <th></th>\n",
       "      <th></th>\n",
       "      <th></th>\n",
       "      <th></th>\n",
       "      <th></th>\n",
       "      <th></th>\n",
       "      <th></th>\n",
       "      <th></th>\n",
       "      <th></th>\n",
       "      <th></th>\n",
       "      <th></th>\n",
       "      <th></th>\n",
       "      <th></th>\n",
       "      <th></th>\n",
       "      <th></th>\n",
       "      <th></th>\n",
       "      <th></th>\n",
       "      <th></th>\n",
       "    </tr>\n",
       "  </thead>\n",
       "  <tbody>\n",
       "    <tr>\n",
       "      <th>2000</th>\n",
       "      <td>NaN</td>\n",
       "      <td>NaN</td>\n",
       "      <td>NaN</td>\n",
       "      <td>NaN</td>\n",
       "      <td>NaN</td>\n",
       "      <td>NaN</td>\n",
       "      <td>NaN</td>\n",
       "      <td>NaN</td>\n",
       "      <td>NaN</td>\n",
       "      <td>NaN</td>\n",
       "      <td>...</td>\n",
       "      <td>NaN</td>\n",
       "      <td>NaN</td>\n",
       "      <td>NaN</td>\n",
       "      <td>NaN</td>\n",
       "      <td>NaN</td>\n",
       "      <td>NaN</td>\n",
       "      <td>NaN</td>\n",
       "      <td>NaN</td>\n",
       "      <td>NaN</td>\n",
       "      <td>NaN</td>\n",
       "    </tr>\n",
       "    <tr>\n",
       "      <th>2001</th>\n",
       "      <td>NaN</td>\n",
       "      <td>NaN</td>\n",
       "      <td>NaN</td>\n",
       "      <td>NaN</td>\n",
       "      <td>NaN</td>\n",
       "      <td>NaN</td>\n",
       "      <td>NaN</td>\n",
       "      <td>NaN</td>\n",
       "      <td>NaN</td>\n",
       "      <td>NaN</td>\n",
       "      <td>...</td>\n",
       "      <td>NaN</td>\n",
       "      <td>NaN</td>\n",
       "      <td>NaN</td>\n",
       "      <td>NaN</td>\n",
       "      <td>NaN</td>\n",
       "      <td>NaN</td>\n",
       "      <td>NaN</td>\n",
       "      <td>NaN</td>\n",
       "      <td>NaN</td>\n",
       "      <td>NaN</td>\n",
       "    </tr>\n",
       "    <tr>\n",
       "      <th>2002</th>\n",
       "      <td>NaN</td>\n",
       "      <td>NaN</td>\n",
       "      <td>NaN</td>\n",
       "      <td>NaN</td>\n",
       "      <td>NaN</td>\n",
       "      <td>NaN</td>\n",
       "      <td>NaN</td>\n",
       "      <td>NaN</td>\n",
       "      <td>NaN</td>\n",
       "      <td>NaN</td>\n",
       "      <td>...</td>\n",
       "      <td>NaN</td>\n",
       "      <td>NaN</td>\n",
       "      <td>NaN</td>\n",
       "      <td>NaN</td>\n",
       "      <td>NaN</td>\n",
       "      <td>NaN</td>\n",
       "      <td>NaN</td>\n",
       "      <td>NaN</td>\n",
       "      <td>NaN</td>\n",
       "      <td>NaN</td>\n",
       "    </tr>\n",
       "    <tr>\n",
       "      <th>2003</th>\n",
       "      <td>NaN</td>\n",
       "      <td>NaN</td>\n",
       "      <td>NaN</td>\n",
       "      <td>NaN</td>\n",
       "      <td>NaN</td>\n",
       "      <td>NaN</td>\n",
       "      <td>NaN</td>\n",
       "      <td>NaN</td>\n",
       "      <td>NaN</td>\n",
       "      <td>NaN</td>\n",
       "      <td>...</td>\n",
       "      <td>NaN</td>\n",
       "      <td>NaN</td>\n",
       "      <td>NaN</td>\n",
       "      <td>NaN</td>\n",
       "      <td>NaN</td>\n",
       "      <td>NaN</td>\n",
       "      <td>NaN</td>\n",
       "      <td>NaN</td>\n",
       "      <td>NaN</td>\n",
       "      <td>NaN</td>\n",
       "    </tr>\n",
       "    <tr>\n",
       "      <th>2004</th>\n",
       "      <td>NaN</td>\n",
       "      <td>NaN</td>\n",
       "      <td>NaN</td>\n",
       "      <td>NaN</td>\n",
       "      <td>NaN</td>\n",
       "      <td>NaN</td>\n",
       "      <td>NaN</td>\n",
       "      <td>NaN</td>\n",
       "      <td>NaN</td>\n",
       "      <td>NaN</td>\n",
       "      <td>...</td>\n",
       "      <td>NaN</td>\n",
       "      <td>NaN</td>\n",
       "      <td>NaN</td>\n",
       "      <td>NaN</td>\n",
       "      <td>NaN</td>\n",
       "      <td>NaN</td>\n",
       "      <td>NaN</td>\n",
       "      <td>NaN</td>\n",
       "      <td>NaN</td>\n",
       "      <td>NaN</td>\n",
       "    </tr>\n",
       "    <tr>\n",
       "      <th>2005</th>\n",
       "      <td>NaN</td>\n",
       "      <td>NaN</td>\n",
       "      <td>NaN</td>\n",
       "      <td>NaN</td>\n",
       "      <td>NaN</td>\n",
       "      <td>NaN</td>\n",
       "      <td>NaN</td>\n",
       "      <td>NaN</td>\n",
       "      <td>NaN</td>\n",
       "      <td>NaN</td>\n",
       "      <td>...</td>\n",
       "      <td>NaN</td>\n",
       "      <td>NaN</td>\n",
       "      <td>NaN</td>\n",
       "      <td>NaN</td>\n",
       "      <td>NaN</td>\n",
       "      <td>NaN</td>\n",
       "      <td>NaN</td>\n",
       "      <td>NaN</td>\n",
       "      <td>NaN</td>\n",
       "      <td>NaN</td>\n",
       "    </tr>\n",
       "    <tr>\n",
       "      <th>2006</th>\n",
       "      <td>NaN</td>\n",
       "      <td>NaN</td>\n",
       "      <td>NaN</td>\n",
       "      <td>NaN</td>\n",
       "      <td>NaN</td>\n",
       "      <td>NaN</td>\n",
       "      <td>NaN</td>\n",
       "      <td>NaN</td>\n",
       "      <td>NaN</td>\n",
       "      <td>NaN</td>\n",
       "      <td>...</td>\n",
       "      <td>NaN</td>\n",
       "      <td>NaN</td>\n",
       "      <td>NaN</td>\n",
       "      <td>NaN</td>\n",
       "      <td>NaN</td>\n",
       "      <td>NaN</td>\n",
       "      <td>NaN</td>\n",
       "      <td>NaN</td>\n",
       "      <td>NaN</td>\n",
       "      <td>NaN</td>\n",
       "    </tr>\n",
       "    <tr>\n",
       "      <th>2007</th>\n",
       "      <td>NaN</td>\n",
       "      <td>NaN</td>\n",
       "      <td>NaN</td>\n",
       "      <td>NaN</td>\n",
       "      <td>NaN</td>\n",
       "      <td>NaN</td>\n",
       "      <td>NaN</td>\n",
       "      <td>NaN</td>\n",
       "      <td>NaN</td>\n",
       "      <td>NaN</td>\n",
       "      <td>...</td>\n",
       "      <td>NaN</td>\n",
       "      <td>NaN</td>\n",
       "      <td>NaN</td>\n",
       "      <td>NaN</td>\n",
       "      <td>NaN</td>\n",
       "      <td>NaN</td>\n",
       "      <td>NaN</td>\n",
       "      <td>NaN</td>\n",
       "      <td>NaN</td>\n",
       "      <td>NaN</td>\n",
       "    </tr>\n",
       "    <tr>\n",
       "      <th>2008</th>\n",
       "      <td>NaN</td>\n",
       "      <td>NaN</td>\n",
       "      <td>NaN</td>\n",
       "      <td>NaN</td>\n",
       "      <td>NaN</td>\n",
       "      <td>NaN</td>\n",
       "      <td>NaN</td>\n",
       "      <td>NaN</td>\n",
       "      <td>NaN</td>\n",
       "      <td>NaN</td>\n",
       "      <td>...</td>\n",
       "      <td>NaN</td>\n",
       "      <td>NaN</td>\n",
       "      <td>NaN</td>\n",
       "      <td>NaN</td>\n",
       "      <td>NaN</td>\n",
       "      <td>NaN</td>\n",
       "      <td>NaN</td>\n",
       "      <td>NaN</td>\n",
       "      <td>0.0</td>\n",
       "      <td>NaN</td>\n",
       "    </tr>\n",
       "    <tr>\n",
       "      <th>2009</th>\n",
       "      <td>NaN</td>\n",
       "      <td>NaN</td>\n",
       "      <td>NaN</td>\n",
       "      <td>NaN</td>\n",
       "      <td>NaN</td>\n",
       "      <td>NaN</td>\n",
       "      <td>NaN</td>\n",
       "      <td>NaN</td>\n",
       "      <td>NaN</td>\n",
       "      <td>NaN</td>\n",
       "      <td>...</td>\n",
       "      <td>NaN</td>\n",
       "      <td>NaN</td>\n",
       "      <td>NaN</td>\n",
       "      <td>NaN</td>\n",
       "      <td>NaN</td>\n",
       "      <td>NaN</td>\n",
       "      <td>NaN</td>\n",
       "      <td>NaN</td>\n",
       "      <td>NaN</td>\n",
       "      <td>NaN</td>\n",
       "    </tr>\n",
       "    <tr>\n",
       "      <th>2010</th>\n",
       "      <td>NaN</td>\n",
       "      <td>NaN</td>\n",
       "      <td>NaN</td>\n",
       "      <td>NaN</td>\n",
       "      <td>NaN</td>\n",
       "      <td>NaN</td>\n",
       "      <td>NaN</td>\n",
       "      <td>NaN</td>\n",
       "      <td>NaN</td>\n",
       "      <td>NaN</td>\n",
       "      <td>...</td>\n",
       "      <td>NaN</td>\n",
       "      <td>NaN</td>\n",
       "      <td>NaN</td>\n",
       "      <td>NaN</td>\n",
       "      <td>NaN</td>\n",
       "      <td>NaN</td>\n",
       "      <td>NaN</td>\n",
       "      <td>NaN</td>\n",
       "      <td>NaN</td>\n",
       "      <td>NaN</td>\n",
       "    </tr>\n",
       "    <tr>\n",
       "      <th>2011</th>\n",
       "      <td>NaN</td>\n",
       "      <td>NaN</td>\n",
       "      <td>NaN</td>\n",
       "      <td>NaN</td>\n",
       "      <td>NaN</td>\n",
       "      <td>NaN</td>\n",
       "      <td>NaN</td>\n",
       "      <td>1362617.299</td>\n",
       "      <td>NaN</td>\n",
       "      <td>NaN</td>\n",
       "      <td>...</td>\n",
       "      <td>NaN</td>\n",
       "      <td>NaN</td>\n",
       "      <td>NaN</td>\n",
       "      <td>NaN</td>\n",
       "      <td>NaN</td>\n",
       "      <td>NaN</td>\n",
       "      <td>NaN</td>\n",
       "      <td>NaN</td>\n",
       "      <td>NaN</td>\n",
       "      <td>NaN</td>\n",
       "    </tr>\n",
       "    <tr>\n",
       "      <th>2012</th>\n",
       "      <td>NaN</td>\n",
       "      <td>NaN</td>\n",
       "      <td>NaN</td>\n",
       "      <td>NaN</td>\n",
       "      <td>NaN</td>\n",
       "      <td>NaN</td>\n",
       "      <td>NaN</td>\n",
       "      <td>NaN</td>\n",
       "      <td>NaN</td>\n",
       "      <td>NaN</td>\n",
       "      <td>...</td>\n",
       "      <td>NaN</td>\n",
       "      <td>NaN</td>\n",
       "      <td>NaN</td>\n",
       "      <td>NaN</td>\n",
       "      <td>NaN</td>\n",
       "      <td>NaN</td>\n",
       "      <td>NaN</td>\n",
       "      <td>NaN</td>\n",
       "      <td>NaN</td>\n",
       "      <td>NaN</td>\n",
       "    </tr>\n",
       "    <tr>\n",
       "      <th>2013</th>\n",
       "      <td>NaN</td>\n",
       "      <td>NaN</td>\n",
       "      <td>NaN</td>\n",
       "      <td>1.859748e+04</td>\n",
       "      <td>NaN</td>\n",
       "      <td>NaN</td>\n",
       "      <td>5.599681e+05</td>\n",
       "      <td>NaN</td>\n",
       "      <td>NaN</td>\n",
       "      <td>NaN</td>\n",
       "      <td>...</td>\n",
       "      <td>121494.9233</td>\n",
       "      <td>NaN</td>\n",
       "      <td>NaN</td>\n",
       "      <td>NaN</td>\n",
       "      <td>NaN</td>\n",
       "      <td>NaN</td>\n",
       "      <td>NaN</td>\n",
       "      <td>NaN</td>\n",
       "      <td>NaN</td>\n",
       "      <td>NaN</td>\n",
       "    </tr>\n",
       "    <tr>\n",
       "      <th>2014</th>\n",
       "      <td>NaN</td>\n",
       "      <td>NaN</td>\n",
       "      <td>NaN</td>\n",
       "      <td>7.411162e+05</td>\n",
       "      <td>NaN</td>\n",
       "      <td>NaN</td>\n",
       "      <td>NaN</td>\n",
       "      <td>NaN</td>\n",
       "      <td>NaN</td>\n",
       "      <td>NaN</td>\n",
       "      <td>...</td>\n",
       "      <td>NaN</td>\n",
       "      <td>NaN</td>\n",
       "      <td>NaN</td>\n",
       "      <td>NaN</td>\n",
       "      <td>NaN</td>\n",
       "      <td>NaN</td>\n",
       "      <td>NaN</td>\n",
       "      <td>NaN</td>\n",
       "      <td>NaN</td>\n",
       "      <td>NaN</td>\n",
       "    </tr>\n",
       "    <tr>\n",
       "      <th>2015</th>\n",
       "      <td>NaN</td>\n",
       "      <td>4.816304e+06</td>\n",
       "      <td>NaN</td>\n",
       "      <td>1.095185e+06</td>\n",
       "      <td>NaN</td>\n",
       "      <td>NaN</td>\n",
       "      <td>1.861305e+06</td>\n",
       "      <td>NaN</td>\n",
       "      <td>NaN</td>\n",
       "      <td>NaN</td>\n",
       "      <td>...</td>\n",
       "      <td>NaN</td>\n",
       "      <td>NaN</td>\n",
       "      <td>NaN</td>\n",
       "      <td>NaN</td>\n",
       "      <td>NaN</td>\n",
       "      <td>NaN</td>\n",
       "      <td>NaN</td>\n",
       "      <td>NaN</td>\n",
       "      <td>NaN</td>\n",
       "      <td>0.0</td>\n",
       "    </tr>\n",
       "    <tr>\n",
       "      <th>2016</th>\n",
       "      <td>5.745495e+04</td>\n",
       "      <td>2.249017e+06</td>\n",
       "      <td>NaN</td>\n",
       "      <td>NaN</td>\n",
       "      <td>NaN</td>\n",
       "      <td>NaN</td>\n",
       "      <td>NaN</td>\n",
       "      <td>NaN</td>\n",
       "      <td>NaN</td>\n",
       "      <td>NaN</td>\n",
       "      <td>...</td>\n",
       "      <td>NaN</td>\n",
       "      <td>NaN</td>\n",
       "      <td>NaN</td>\n",
       "      <td>324011.2685</td>\n",
       "      <td>320879.8376</td>\n",
       "      <td>NaN</td>\n",
       "      <td>NaN</td>\n",
       "      <td>NaN</td>\n",
       "      <td>NaN</td>\n",
       "      <td>NaN</td>\n",
       "    </tr>\n",
       "    <tr>\n",
       "      <th>2017</th>\n",
       "      <td>NaN</td>\n",
       "      <td>8.602845e+07</td>\n",
       "      <td>5.246565e+06</td>\n",
       "      <td>6.448717e+06</td>\n",
       "      <td>NaN</td>\n",
       "      <td>NaN</td>\n",
       "      <td>NaN</td>\n",
       "      <td>NaN</td>\n",
       "      <td>NaN</td>\n",
       "      <td>NaN</td>\n",
       "      <td>...</td>\n",
       "      <td>NaN</td>\n",
       "      <td>NaN</td>\n",
       "      <td>3210055.034</td>\n",
       "      <td>NaN</td>\n",
       "      <td>NaN</td>\n",
       "      <td>NaN</td>\n",
       "      <td>NaN</td>\n",
       "      <td>NaN</td>\n",
       "      <td>NaN</td>\n",
       "      <td>NaN</td>\n",
       "    </tr>\n",
       "    <tr>\n",
       "      <th>2018</th>\n",
       "      <td>NaN</td>\n",
       "      <td>NaN</td>\n",
       "      <td>0.000000e+00</td>\n",
       "      <td>NaN</td>\n",
       "      <td>NaN</td>\n",
       "      <td>NaN</td>\n",
       "      <td>NaN</td>\n",
       "      <td>NaN</td>\n",
       "      <td>NaN</td>\n",
       "      <td>NaN</td>\n",
       "      <td>...</td>\n",
       "      <td>NaN</td>\n",
       "      <td>NaN</td>\n",
       "      <td>NaN</td>\n",
       "      <td>NaN</td>\n",
       "      <td>NaN</td>\n",
       "      <td>NaN</td>\n",
       "      <td>NaN</td>\n",
       "      <td>NaN</td>\n",
       "      <td>NaN</td>\n",
       "      <td>NaN</td>\n",
       "    </tr>\n",
       "    <tr>\n",
       "      <th>2019</th>\n",
       "      <td>1.014199e+07</td>\n",
       "      <td>NaN</td>\n",
       "      <td>1.786532e+07</td>\n",
       "      <td>NaN</td>\n",
       "      <td>3.396540e+05</td>\n",
       "      <td>NaN</td>\n",
       "      <td>NaN</td>\n",
       "      <td>NaN</td>\n",
       "      <td>69126.6209</td>\n",
       "      <td>680.889696</td>\n",
       "      <td>...</td>\n",
       "      <td>NaN</td>\n",
       "      <td>0.0</td>\n",
       "      <td>NaN</td>\n",
       "      <td>NaN</td>\n",
       "      <td>NaN</td>\n",
       "      <td>0.0</td>\n",
       "      <td>0.0</td>\n",
       "      <td>0.0</td>\n",
       "      <td>NaN</td>\n",
       "      <td>NaN</td>\n",
       "    </tr>\n",
       "    <tr>\n",
       "      <th>2020</th>\n",
       "      <td>NaN</td>\n",
       "      <td>1.728460e+08</td>\n",
       "      <td>0.000000e+00</td>\n",
       "      <td>6.199288e+06</td>\n",
       "      <td>5.163902e+06</td>\n",
       "      <td>4394953.151</td>\n",
       "      <td>NaN</td>\n",
       "      <td>NaN</td>\n",
       "      <td>NaN</td>\n",
       "      <td>NaN</td>\n",
       "      <td>...</td>\n",
       "      <td>NaN</td>\n",
       "      <td>NaN</td>\n",
       "      <td>NaN</td>\n",
       "      <td>NaN</td>\n",
       "      <td>NaN</td>\n",
       "      <td>NaN</td>\n",
       "      <td>NaN</td>\n",
       "      <td>NaN</td>\n",
       "      <td>NaN</td>\n",
       "      <td>NaN</td>\n",
       "    </tr>\n",
       "  </tbody>\n",
       "</table>\n",
       "<p>21 rows × 22270 columns</p>\n",
       "</div>"
      ],
      "text/plain": [
       "id_x         0             1             2             3             4      \\\n",
       "Date                                                                         \n",
       "2000           NaN           NaN           NaN           NaN           NaN   \n",
       "2001           NaN           NaN           NaN           NaN           NaN   \n",
       "2002           NaN           NaN           NaN           NaN           NaN   \n",
       "2003           NaN           NaN           NaN           NaN           NaN   \n",
       "2004           NaN           NaN           NaN           NaN           NaN   \n",
       "2005           NaN           NaN           NaN           NaN           NaN   \n",
       "2006           NaN           NaN           NaN           NaN           NaN   \n",
       "2007           NaN           NaN           NaN           NaN           NaN   \n",
       "2008           NaN           NaN           NaN           NaN           NaN   \n",
       "2009           NaN           NaN           NaN           NaN           NaN   \n",
       "2010           NaN           NaN           NaN           NaN           NaN   \n",
       "2011           NaN           NaN           NaN           NaN           NaN   \n",
       "2012           NaN           NaN           NaN           NaN           NaN   \n",
       "2013           NaN           NaN           NaN  1.859748e+04           NaN   \n",
       "2014           NaN           NaN           NaN  7.411162e+05           NaN   \n",
       "2015           NaN  4.816304e+06           NaN  1.095185e+06           NaN   \n",
       "2016  5.745495e+04  2.249017e+06           NaN           NaN           NaN   \n",
       "2017           NaN  8.602845e+07  5.246565e+06  6.448717e+06           NaN   \n",
       "2018           NaN           NaN  0.000000e+00           NaN           NaN   \n",
       "2019  1.014199e+07           NaN  1.786532e+07           NaN  3.396540e+05   \n",
       "2020           NaN  1.728460e+08  0.000000e+00  6.199288e+06  5.163902e+06   \n",
       "\n",
       "id_x        5             6            7           8           9      ...  \\\n",
       "Date                                                                  ...   \n",
       "2000          NaN           NaN          NaN         NaN         NaN  ...   \n",
       "2001          NaN           NaN          NaN         NaN         NaN  ...   \n",
       "2002          NaN           NaN          NaN         NaN         NaN  ...   \n",
       "2003          NaN           NaN          NaN         NaN         NaN  ...   \n",
       "2004          NaN           NaN          NaN         NaN         NaN  ...   \n",
       "2005          NaN           NaN          NaN         NaN         NaN  ...   \n",
       "2006          NaN           NaN          NaN         NaN         NaN  ...   \n",
       "2007          NaN           NaN          NaN         NaN         NaN  ...   \n",
       "2008          NaN           NaN          NaN         NaN         NaN  ...   \n",
       "2009          NaN           NaN          NaN         NaN         NaN  ...   \n",
       "2010          NaN           NaN          NaN         NaN         NaN  ...   \n",
       "2011          NaN           NaN  1362617.299         NaN         NaN  ...   \n",
       "2012          NaN           NaN          NaN         NaN         NaN  ...   \n",
       "2013          NaN  5.599681e+05          NaN         NaN         NaN  ...   \n",
       "2014          NaN           NaN          NaN         NaN         NaN  ...   \n",
       "2015          NaN  1.861305e+06          NaN         NaN         NaN  ...   \n",
       "2016          NaN           NaN          NaN         NaN         NaN  ...   \n",
       "2017          NaN           NaN          NaN         NaN         NaN  ...   \n",
       "2018          NaN           NaN          NaN         NaN         NaN  ...   \n",
       "2019          NaN           NaN          NaN  69126.6209  680.889696  ...   \n",
       "2020  4394953.151           NaN          NaN         NaN         NaN  ...   \n",
       "\n",
       "id_x        22547  22548        22549        22550        22551  22552  22553  \\\n",
       "Date                                                                            \n",
       "2000          NaN    NaN          NaN          NaN          NaN    NaN    NaN   \n",
       "2001          NaN    NaN          NaN          NaN          NaN    NaN    NaN   \n",
       "2002          NaN    NaN          NaN          NaN          NaN    NaN    NaN   \n",
       "2003          NaN    NaN          NaN          NaN          NaN    NaN    NaN   \n",
       "2004          NaN    NaN          NaN          NaN          NaN    NaN    NaN   \n",
       "2005          NaN    NaN          NaN          NaN          NaN    NaN    NaN   \n",
       "2006          NaN    NaN          NaN          NaN          NaN    NaN    NaN   \n",
       "2007          NaN    NaN          NaN          NaN          NaN    NaN    NaN   \n",
       "2008          NaN    NaN          NaN          NaN          NaN    NaN    NaN   \n",
       "2009          NaN    NaN          NaN          NaN          NaN    NaN    NaN   \n",
       "2010          NaN    NaN          NaN          NaN          NaN    NaN    NaN   \n",
       "2011          NaN    NaN          NaN          NaN          NaN    NaN    NaN   \n",
       "2012          NaN    NaN          NaN          NaN          NaN    NaN    NaN   \n",
       "2013  121494.9233    NaN          NaN          NaN          NaN    NaN    NaN   \n",
       "2014          NaN    NaN          NaN          NaN          NaN    NaN    NaN   \n",
       "2015          NaN    NaN          NaN          NaN          NaN    NaN    NaN   \n",
       "2016          NaN    NaN          NaN  324011.2685  320879.8376    NaN    NaN   \n",
       "2017          NaN    NaN  3210055.034          NaN          NaN    NaN    NaN   \n",
       "2018          NaN    NaN          NaN          NaN          NaN    NaN    NaN   \n",
       "2019          NaN    0.0          NaN          NaN          NaN    0.0    0.0   \n",
       "2020          NaN    NaN          NaN          NaN          NaN    NaN    NaN   \n",
       "\n",
       "id_x  22554  22555  22556  \n",
       "Date                       \n",
       "2000    NaN    NaN    NaN  \n",
       "2001    NaN    NaN    NaN  \n",
       "2002    NaN    NaN    NaN  \n",
       "2003    NaN    NaN    NaN  \n",
       "2004    NaN    NaN    NaN  \n",
       "2005    NaN    NaN    NaN  \n",
       "2006    NaN    NaN    NaN  \n",
       "2007    NaN    NaN    NaN  \n",
       "2008    NaN    0.0    NaN  \n",
       "2009    NaN    NaN    NaN  \n",
       "2010    NaN    NaN    NaN  \n",
       "2011    NaN    NaN    NaN  \n",
       "2012    NaN    NaN    NaN  \n",
       "2013    NaN    NaN    NaN  \n",
       "2014    NaN    NaN    NaN  \n",
       "2015    NaN    NaN    0.0  \n",
       "2016    NaN    NaN    NaN  \n",
       "2017    NaN    NaN    NaN  \n",
       "2018    NaN    NaN    NaN  \n",
       "2019    0.0    NaN    NaN  \n",
       "2020    NaN    NaN    NaN  \n",
       "\n",
       "[21 rows x 22270 columns]"
      ]
     },
     "execution_count": 353,
     "metadata": {},
     "output_type": "execute_result"
    }
   ],
   "source": [
    "data"
   ]
  },
  {
   "cell_type": "code",
   "execution_count": 354,
   "id": "continental-setup",
   "metadata": {},
   "outputs": [],
   "source": [
    "data.to_csv('to_functionalise.csv')"
   ]
  },
  {
   "cell_type": "markdown",
   "id": "aware-remains",
   "metadata": {},
   "source": [
    "### Functional clustering"
   ]
  },
  {
   "cell_type": "markdown",
   "id": "intimate-arizona",
   "metadata": {},
   "source": [
    "### Function - on - scalar and function - on - function regressions"
   ]
  }
 ],
 "metadata": {
  "kernelspec": {
   "display_name": "Python 3",
   "language": "python",
   "name": "python3"
  },
  "language_info": {
   "codemirror_mode": {
    "name": "ipython",
    "version": 3
   },
   "file_extension": ".py",
   "mimetype": "text/x-python",
   "name": "python",
   "nbconvert_exporter": "python",
   "pygments_lexer": "ipython3",
   "version": "3.8.0"
  }
 },
 "nbformat": 4,
 "nbformat_minor": 5
}
