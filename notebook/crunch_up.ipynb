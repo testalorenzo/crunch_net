{
 "cells": [
  {
   "cell_type": "markdown",
   "id": "balanced-strip",
   "metadata": {},
   "source": [
    "# Not all seeds become plants"
   ]
  },
  {
   "cell_type": "code",
   "execution_count": 334,
   "id": "greatest-aruba",
   "metadata": {},
   "outputs": [],
   "source": [
    "import numpy as np\n",
    "import math\n",
    "import statsmodels.api as sm\n",
    "import imblearn\n",
    "from tqdm.notebook import tqdm\n",
    "from scipy import stats\n",
    "import pandas as pd\n",
    "import matplotlib.pyplot as plt\n",
    "import networkx as nx\n",
    "from networkx.algorithms import bipartite, community \n",
    "from numpy.random import choice\n",
    "import itertools\n",
    "from cdlib import algorithms, readwrite, evaluation, TemporalClustering\n",
    "from mpl_toolkits.mplot3d import Axes3D"
   ]
  },
  {
   "cell_type": "code",
   "execution_count": 81,
   "id": "departmental-builder",
   "metadata": {},
   "outputs": [
    {
     "data": {
      "text/html": [
       "<div>\n",
       "<style scoped>\n",
       "    .dataframe tbody tr th:only-of-type {\n",
       "        vertical-align: middle;\n",
       "    }\n",
       "\n",
       "    .dataframe tbody tr th {\n",
       "        vertical-align: top;\n",
       "    }\n",
       "\n",
       "    .dataframe thead th {\n",
       "        text-align: right;\n",
       "    }\n",
       "</style>\n",
       "<table border=\"1\" class=\"dataframe\">\n",
       "  <thead>\n",
       "    <tr style=\"text-align: right;\">\n",
       "      <th></th>\n",
       "      <th>target_name</th>\n",
       "      <th>stage</th>\n",
       "      <th>size</th>\n",
       "      <th>date</th>\n",
       "      <th>investors_name</th>\n",
       "      <th>url</th>\n",
       "      <th>description</th>\n",
       "      <th>industry</th>\n",
       "      <th>target_country</th>\n",
       "      <th>target_collections</th>\n",
       "      <th>target_status</th>\n",
       "      <th>target_ID</th>\n",
       "      <th>target_founded</th>\n",
       "      <th>round_simp</th>\n",
       "      <th>target_continent</th>\n",
       "      <th>target_state</th>\n",
       "      <th>target_city</th>\n",
       "      <th>target_street</th>\n",
       "      <th>target_people</th>\n",
       "      <th>target_competitors</th>\n",
       "    </tr>\n",
       "  </thead>\n",
       "  <tbody>\n",
       "    <tr>\n",
       "      <th>0</th>\n",
       "      <td>SShionogi &amp; Co.</td>\n",
       "      <td>IPO</td>\n",
       "      <td>NaN</td>\n",
       "      <td>05/16/1949</td>\n",
       "      <td>Public</td>\n",
       "      <td>shionogi.com</td>\n",
       "      <td>Shionogi &amp; Co. (TYO: 4507) focuses on the rese...</td>\n",
       "      <td>Pharmaceuticals / Drugs</td>\n",
       "      <td>Japan</td>\n",
       "      <td>Pharma Startups</td>\n",
       "      <td>IPO / Went public</td>\n",
       "      <td>262824</td>\n",
       "      <td>1878.0</td>\n",
       "      <td>IPO</td>\n",
       "      <td>Asia</td>\n",
       "      <td>NaN</td>\n",
       "      <td>Osaka</td>\n",
       "      <td>1-8, Doshomachi 3-chome Chuo-ku…</td>\n",
       "      <td>NaN</td>\n",
       "      <td>Sumitomo Dainippon Pharma</td>\n",
       "    </tr>\n",
       "    <tr>\n",
       "      <th>1</th>\n",
       "      <td>AAstellas Pharma</td>\n",
       "      <td>IPO</td>\n",
       "      <td>NaN</td>\n",
       "      <td>05/16/1949</td>\n",
       "      <td>Public</td>\n",
       "      <td>astellas.com</td>\n",
       "      <td>Astellas Pharma (TSE: 4503) specializes in the...</td>\n",
       "      <td>Pharmaceuticals / Drugs</td>\n",
       "      <td>Japan</td>\n",
       "      <td>Digital Therapeutics, Pharma Startups, Cancer ...</td>\n",
       "      <td>IPO / Went public</td>\n",
       "      <td>243168</td>\n",
       "      <td>1923.0</td>\n",
       "      <td>IPO</td>\n",
       "      <td>Asia</td>\n",
       "      <td>NaN</td>\n",
       "      <td>Tokyo</td>\n",
       "      <td>2-5-1, Nihonbashi-Honcho, Chuo-ku…</td>\n",
       "      <td>Yoshihiko Hatanaka (CEO),Yoshirou Myyokawa (EV...</td>\n",
       "      <td>Sumitomo Dainippon Pharma</td>\n",
       "    </tr>\n",
       "    <tr>\n",
       "      <th>2</th>\n",
       "      <td>SSumitomo Dainippon Pharma</td>\n",
       "      <td>IPO</td>\n",
       "      <td>NaN</td>\n",
       "      <td>05/16/1949</td>\n",
       "      <td>Public</td>\n",
       "      <td>ds-pharma.com</td>\n",
       "      <td>Sumitomo Dainippon Pharma (TYO: 4506) is a pha...</td>\n",
       "      <td>Pharmaceuticals / Drugs</td>\n",
       "      <td>Japan</td>\n",
       "      <td>Digital Therapeutics and Pharma Startups…</td>\n",
       "      <td>IPO / Went public</td>\n",
       "      <td>447180</td>\n",
       "      <td>1897.0</td>\n",
       "      <td>IPO</td>\n",
       "      <td>Asia</td>\n",
       "      <td>NaN</td>\n",
       "      <td>Osaka</td>\n",
       "      <td>6-8, Doshomachi 2-chome Chuo-ku…</td>\n",
       "      <td>Masayo Tada (CEO)</td>\n",
       "      <td>Astellas Pharma,Chugai Pharmaceutical,Daiichi ...</td>\n",
       "    </tr>\n",
       "    <tr>\n",
       "      <th>3</th>\n",
       "      <td>Konica Minolta</td>\n",
       "      <td>IPO</td>\n",
       "      <td>NaN</td>\n",
       "      <td>05/16/1949</td>\n",
       "      <td>Public</td>\n",
       "      <td>konicaminolta.com</td>\n",
       "      <td>Konica Minolta (コニカミノルタ) (TYO: 4902), founded ...</td>\n",
       "      <td>Medical Devices &amp; Equipment</td>\n",
       "      <td>Japan</td>\n",
       "      <td>Conference Exhibitors</td>\n",
       "      <td>IPO / Went public</td>\n",
       "      <td>57191</td>\n",
       "      <td>1936.0</td>\n",
       "      <td>IPO</td>\n",
       "      <td>Asia</td>\n",
       "      <td>NaN</td>\n",
       "      <td>Tokyo</td>\n",
       "      <td>JP Tower 2-7-2 Marunouchi, Chiyoda-ku…</td>\n",
       "      <td>Michael Mathé (SVP)</td>\n",
       "      <td>Xerox</td>\n",
       "    </tr>\n",
       "    <tr>\n",
       "      <th>4</th>\n",
       "      <td>TTakeda Pharmaceutical</td>\n",
       "      <td>IPO</td>\n",
       "      <td>NaN</td>\n",
       "      <td>05/16/1949</td>\n",
       "      <td>Public</td>\n",
       "      <td>takeda.com</td>\n",
       "      <td>Takeda Pharmaceutical (TYO: 4502) (NYSE: TAK) ...</td>\n",
       "      <td>Pharmaceuticals / Drugs</td>\n",
       "      <td>Japan</td>\n",
       "      <td>Poop Tech, Pharma Startups, Rare Diseases, Sle...</td>\n",
       "      <td>IPO / Went public</td>\n",
       "      <td>373007</td>\n",
       "      <td>1781.0</td>\n",
       "      <td>IPO</td>\n",
       "      <td>Asia</td>\n",
       "      <td>NaN</td>\n",
       "      <td>Tokyo</td>\n",
       "      <td>2-1-1 Nihonbashihonmachi, Chuo-ku…</td>\n",
       "      <td>Frank Morich (CEO),Yasuchika Hasegawa (CEO),Da...</td>\n",
       "      <td>Sumitomo Dainippon Pharma,Sunovion…</td>\n",
       "    </tr>\n",
       "    <tr>\n",
       "      <th>...</th>\n",
       "      <td>...</td>\n",
       "      <td>...</td>\n",
       "      <td>...</td>\n",
       "      <td>...</td>\n",
       "      <td>...</td>\n",
       "      <td>...</td>\n",
       "      <td>...</td>\n",
       "      <td>...</td>\n",
       "      <td>...</td>\n",
       "      <td>...</td>\n",
       "      <td>...</td>\n",
       "      <td>...</td>\n",
       "      <td>...</td>\n",
       "      <td>...</td>\n",
       "      <td>...</td>\n",
       "      <td>...</td>\n",
       "      <td>...</td>\n",
       "      <td>...</td>\n",
       "      <td>...</td>\n",
       "      <td>...</td>\n",
       "    </tr>\n",
       "    <tr>\n",
       "      <th>98413</th>\n",
       "      <td>PPons</td>\n",
       "      <td>Biz Plan Competition</td>\n",
       "      <td>NaN</td>\n",
       "      <td>08/04/2021</td>\n",
       "      <td>Mercedes-Benz</td>\n",
       "      <td>ponstech.co</td>\n",
       "      <td>Pons develops an AI-driven digital health plat...</td>\n",
       "      <td>Medical Devices &amp; Equipment</td>\n",
       "      <td>United States</td>\n",
       "      <td>NaN</td>\n",
       "      <td>Alive / Active</td>\n",
       "      <td>664607</td>\n",
       "      <td>NaN</td>\n",
       "      <td>Business Plan Competition</td>\n",
       "      <td>North America</td>\n",
       "      <td>New Jersey</td>\n",
       "      <td>NaN</td>\n",
       "      <td>NaN</td>\n",
       "      <td>NaN</td>\n",
       "      <td>NaN</td>\n",
       "    </tr>\n",
       "    <tr>\n",
       "      <th>98414</th>\n",
       "      <td>LLeto Laboratories</td>\n",
       "      <td>Series B - II</td>\n",
       "      <td>NaN</td>\n",
       "      <td>08/04/2021</td>\n",
       "      <td>China Capital Management</td>\n",
       "      <td>letolab.net</td>\n",
       "      <td>Leto Laboratories is committed to protein scie...</td>\n",
       "      <td>Biotechnology</td>\n",
       "      <td>China</td>\n",
       "      <td>Pharma Startups</td>\n",
       "      <td>Alive / Active</td>\n",
       "      <td>370752</td>\n",
       "      <td>NaN</td>\n",
       "      <td>Series B</td>\n",
       "      <td>Asia</td>\n",
       "      <td>Beijing</td>\n",
       "      <td>Beijing</td>\n",
       "      <td>Room A0928, Science and Technology Complex, Be...</td>\n",
       "      <td>Wei Zhang (CEO),Jian Cui (COO)</td>\n",
       "      <td>NaN</td>\n",
       "    </tr>\n",
       "    <tr>\n",
       "      <th>98415</th>\n",
       "      <td>Healthgrades</td>\n",
       "      <td>Acq - Pending</td>\n",
       "      <td>NaN</td>\n",
       "      <td>08/04/2021</td>\n",
       "      <td>Red Ventures</td>\n",
       "      <td>healthgrades.com</td>\n",
       "      <td>Healthgrades is dedicated to empowering strong...</td>\n",
       "      <td>Medical Facilities &amp; Services</td>\n",
       "      <td>United States</td>\n",
       "      <td>Conference Exhibitors and Health IT …</td>\n",
       "      <td>Acquired</td>\n",
       "      <td>910</td>\n",
       "      <td>1995.0</td>\n",
       "      <td>Acquisition</td>\n",
       "      <td>North America</td>\n",
       "      <td>Colorado</td>\n",
       "      <td>Denver</td>\n",
       "      <td>1801 California Street Suite 800…</td>\n",
       "      <td>Scott Booker (CEO),Robert Draughon (CFO),Keith...</td>\n",
       "      <td>Achieve CCA,Ascent Healthcare Solutions,Assist...</td>\n",
       "    </tr>\n",
       "    <tr>\n",
       "      <th>98416</th>\n",
       "      <td>EEmbody</td>\n",
       "      <td>Debt</td>\n",
       "      <td>$9.00M</td>\n",
       "      <td>08/04/2021</td>\n",
       "      <td>Horizon Technology Finance Management</td>\n",
       "      <td>embody-inc.com</td>\n",
       "      <td>Embody is focused on a next-generation regener...</td>\n",
       "      <td>Medical Devices &amp; Equipment</td>\n",
       "      <td>United States</td>\n",
       "      <td>Regenerative Medicine and Medical Devices…</td>\n",
       "      <td>Alive / Active</td>\n",
       "      <td>272211</td>\n",
       "      <td>2014.0</td>\n",
       "      <td>Debt</td>\n",
       "      <td>North America</td>\n",
       "      <td>Virginia</td>\n",
       "      <td>Norfolk</td>\n",
       "      <td>4211 Monarch Way Suite 500…</td>\n",
       "      <td>Jeffrey Conroy (CEO),Rob Brown (Chief Commerci...</td>\n",
       "      <td>NaN</td>\n",
       "    </tr>\n",
       "    <tr>\n",
       "      <th>98417</th>\n",
       "      <td>LLighthouse Autism Center</td>\n",
       "      <td>Private Equity - II</td>\n",
       "      <td>NaN</td>\n",
       "      <td>08/04/2021</td>\n",
       "      <td>ABRY Partners,Cerberus Capital Management</td>\n",
       "      <td>lighthouseautismcenter.com</td>\n",
       "      <td>Lighthouse Autism Center is a provider of cent...</td>\n",
       "      <td>Medical Facilities &amp; Services</td>\n",
       "      <td>United States</td>\n",
       "      <td>NaN</td>\n",
       "      <td>Alive / Active</td>\n",
       "      <td>353854</td>\n",
       "      <td>2012.0</td>\n",
       "      <td>Private Equity</td>\n",
       "      <td>North America</td>\n",
       "      <td>Indiana</td>\n",
       "      <td>Mishawaka</td>\n",
       "      <td>3730 Edison Lakes Parkway…</td>\n",
       "      <td>Gregg Maggioli (CEO),Matthew McGough (CFO)…</td>\n",
       "      <td>NaN</td>\n",
       "    </tr>\n",
       "  </tbody>\n",
       "</table>\n",
       "<p>98418 rows × 20 columns</p>\n",
       "</div>"
      ],
      "text/plain": [
       "                      target_name                 stage    size        date  \\\n",
       "0                 SShionogi & Co.                   IPO     NaN  05/16/1949   \n",
       "1                AAstellas Pharma                   IPO     NaN  05/16/1949   \n",
       "2      SSumitomo Dainippon Pharma                   IPO     NaN  05/16/1949   \n",
       "3                  Konica Minolta                   IPO     NaN  05/16/1949   \n",
       "4          TTakeda Pharmaceutical                   IPO     NaN  05/16/1949   \n",
       "...                           ...                   ...     ...         ...   \n",
       "98413                       PPons  Biz Plan Competition     NaN  08/04/2021   \n",
       "98414          LLeto Laboratories         Series B - II     NaN  08/04/2021   \n",
       "98415                Healthgrades         Acq - Pending     NaN  08/04/2021   \n",
       "98416                     EEmbody                  Debt  $9.00M  08/04/2021   \n",
       "98417   LLighthouse Autism Center   Private Equity - II     NaN  08/04/2021   \n",
       "\n",
       "                                  investors_name                         url  \\\n",
       "0                                         Public                shionogi.com   \n",
       "1                                         Public                astellas.com   \n",
       "2                                         Public               ds-pharma.com   \n",
       "3                                         Public           konicaminolta.com   \n",
       "4                                         Public                  takeda.com   \n",
       "...                                          ...                         ...   \n",
       "98413                              Mercedes-Benz                 ponstech.co   \n",
       "98414                   China Capital Management                 letolab.net   \n",
       "98415                               Red Ventures            healthgrades.com   \n",
       "98416      Horizon Technology Finance Management              embody-inc.com   \n",
       "98417  ABRY Partners,Cerberus Capital Management  lighthouseautismcenter.com   \n",
       "\n",
       "                                             description  \\\n",
       "0      Shionogi & Co. (TYO: 4507) focuses on the rese...   \n",
       "1      Astellas Pharma (TSE: 4503) specializes in the...   \n",
       "2      Sumitomo Dainippon Pharma (TYO: 4506) is a pha...   \n",
       "3      Konica Minolta (コニカミノルタ) (TYO: 4902), founded ...   \n",
       "4      Takeda Pharmaceutical (TYO: 4502) (NYSE: TAK) ...   \n",
       "...                                                  ...   \n",
       "98413  Pons develops an AI-driven digital health plat...   \n",
       "98414  Leto Laboratories is committed to protein scie...   \n",
       "98415  Healthgrades is dedicated to empowering strong...   \n",
       "98416  Embody is focused on a next-generation regener...   \n",
       "98417  Lighthouse Autism Center is a provider of cent...   \n",
       "\n",
       "                            industry target_country  \\\n",
       "0            Pharmaceuticals / Drugs          Japan   \n",
       "1            Pharmaceuticals / Drugs          Japan   \n",
       "2            Pharmaceuticals / Drugs          Japan   \n",
       "3        Medical Devices & Equipment          Japan   \n",
       "4            Pharmaceuticals / Drugs          Japan   \n",
       "...                              ...            ...   \n",
       "98413    Medical Devices & Equipment  United States   \n",
       "98414                  Biotechnology          China   \n",
       "98415  Medical Facilities & Services  United States   \n",
       "98416    Medical Devices & Equipment  United States   \n",
       "98417  Medical Facilities & Services  United States   \n",
       "\n",
       "                                      target_collections      target_status  \\\n",
       "0                                        Pharma Startups  IPO / Went public   \n",
       "1      Digital Therapeutics, Pharma Startups, Cancer ...  IPO / Went public   \n",
       "2              Digital Therapeutics and Pharma Startups…  IPO / Went public   \n",
       "3                                  Conference Exhibitors  IPO / Went public   \n",
       "4      Poop Tech, Pharma Startups, Rare Diseases, Sle...  IPO / Went public   \n",
       "...                                                  ...                ...   \n",
       "98413                                                NaN     Alive / Active   \n",
       "98414                                    Pharma Startups     Alive / Active   \n",
       "98415              Conference Exhibitors and Health IT …           Acquired   \n",
       "98416         Regenerative Medicine and Medical Devices…     Alive / Active   \n",
       "98417                                                NaN     Alive / Active   \n",
       "\n",
       "       target_ID  target_founded                 round_simp target_continent  \\\n",
       "0         262824          1878.0                        IPO             Asia   \n",
       "1         243168          1923.0                        IPO             Asia   \n",
       "2         447180          1897.0                        IPO             Asia   \n",
       "3          57191          1936.0                        IPO             Asia   \n",
       "4         373007          1781.0                        IPO             Asia   \n",
       "...          ...             ...                        ...              ...   \n",
       "98413     664607             NaN  Business Plan Competition    North America   \n",
       "98414     370752             NaN                   Series B             Asia   \n",
       "98415        910          1995.0                Acquisition    North America   \n",
       "98416     272211          2014.0                       Debt    North America   \n",
       "98417     353854          2012.0             Private Equity    North America   \n",
       "\n",
       "      target_state target_city  \\\n",
       "0              NaN       Osaka   \n",
       "1              NaN       Tokyo   \n",
       "2              NaN       Osaka   \n",
       "3              NaN       Tokyo   \n",
       "4              NaN       Tokyo   \n",
       "...            ...         ...   \n",
       "98413   New Jersey         NaN   \n",
       "98414      Beijing     Beijing   \n",
       "98415     Colorado      Denver   \n",
       "98416     Virginia     Norfolk   \n",
       "98417      Indiana   Mishawaka   \n",
       "\n",
       "                                           target_street  \\\n",
       "0                       1-8, Doshomachi 3-chome Chuo-ku…   \n",
       "1                     2-5-1, Nihonbashi-Honcho, Chuo-ku…   \n",
       "2                       6-8, Doshomachi 2-chome Chuo-ku…   \n",
       "3                 JP Tower 2-7-2 Marunouchi, Chiyoda-ku…   \n",
       "4                     2-1-1 Nihonbashihonmachi, Chuo-ku…   \n",
       "...                                                  ...   \n",
       "98413                                                NaN   \n",
       "98414  Room A0928, Science and Technology Complex, Be...   \n",
       "98415                  1801 California Street Suite 800…   \n",
       "98416                        4211 Monarch Way Suite 500…   \n",
       "98417                         3730 Edison Lakes Parkway…   \n",
       "\n",
       "                                           target_people  \\\n",
       "0                                                    NaN   \n",
       "1      Yoshihiko Hatanaka (CEO),Yoshirou Myyokawa (EV...   \n",
       "2                                      Masayo Tada (CEO)   \n",
       "3                                    Michael Mathé (SVP)   \n",
       "4      Frank Morich (CEO),Yasuchika Hasegawa (CEO),Da...   \n",
       "...                                                  ...   \n",
       "98413                                                NaN   \n",
       "98414                     Wei Zhang (CEO),Jian Cui (COO)   \n",
       "98415  Scott Booker (CEO),Robert Draughon (CFO),Keith...   \n",
       "98416  Jeffrey Conroy (CEO),Rob Brown (Chief Commerci...   \n",
       "98417        Gregg Maggioli (CEO),Matthew McGough (CFO)…   \n",
       "\n",
       "                                      target_competitors  \n",
       "0                              Sumitomo Dainippon Pharma  \n",
       "1                              Sumitomo Dainippon Pharma  \n",
       "2      Astellas Pharma,Chugai Pharmaceutical,Daiichi ...  \n",
       "3                                                  Xerox  \n",
       "4                    Sumitomo Dainippon Pharma,Sunovion…  \n",
       "...                                                  ...  \n",
       "98413                                                NaN  \n",
       "98414                                                NaN  \n",
       "98415  Achieve CCA,Ascent Healthcare Solutions,Assist...  \n",
       "98416                                                NaN  \n",
       "98417                                                NaN  \n",
       "\n",
       "[98418 rows x 20 columns]"
      ]
     },
     "execution_count": 81,
     "metadata": {},
     "output_type": "execute_result"
    }
   ],
   "source": [
    "pd.read_csv('~/Documents/GitHub/crunch_net/insight/deals.csv')"
   ]
  },
  {
   "cell_type": "markdown",
   "id": "synthetic-hampton",
   "metadata": {},
   "source": [
    "## Bipartite network generation"
   ]
  },
  {
   "cell_type": "markdown",
   "id": "fleet-mortality",
   "metadata": {},
   "source": [
    "### Data preparation"
   ]
  },
  {
   "cell_type": "code",
   "execution_count": 96,
   "id": "legislative-horizontal",
   "metadata": {
    "scrolled": true
   },
   "outputs": [
    {
     "name": "stderr",
     "output_type": "stream",
     "text": [
      "<ipython-input-96-760ee8041d1b>:11: FutureWarning: The default value of regex will change from True to False in a future version. In addition, single character regular expressions will*not* be treated as literal strings when regex=True.\n",
      "  nodes = nodes.assign(coo = nodes.Coo.str.replace('(','').str.replace(')',''))\n"
     ]
    },
    {
     "data": {
      "text/html": [
       "<div>\n",
       "<style scoped>\n",
       "    .dataframe tbody tr th:only-of-type {\n",
       "        vertical-align: middle;\n",
       "    }\n",
       "\n",
       "    .dataframe tbody tr th {\n",
       "        vertical-align: top;\n",
       "    }\n",
       "\n",
       "    .dataframe thead th {\n",
       "        text-align: right;\n",
       "    }\n",
       "</style>\n",
       "<table border=\"1\" class=\"dataframe\">\n",
       "  <thead>\n",
       "    <tr style=\"text-align: right;\">\n",
       "      <th></th>\n",
       "      <th>Node</th>\n",
       "      <th>Country</th>\n",
       "      <th>bipartite</th>\n",
       "      <th>id</th>\n",
       "      <th>lat</th>\n",
       "      <th>long</th>\n",
       "      <th>Coo</th>\n",
       "    </tr>\n",
       "  </thead>\n",
       "  <tbody>\n",
       "    <tr>\n",
       "      <th>0</th>\n",
       "      <td>Meddy</td>\n",
       "      <td>United Arab Emirates</td>\n",
       "      <td>1</td>\n",
       "      <td>0</td>\n",
       "      <td>25.075010</td>\n",
       "      <td>55.188761</td>\n",
       "      <td>(25.0750095, 55.18876088183319)</td>\n",
       "    </tr>\n",
       "    <tr>\n",
       "      <th>1</th>\n",
       "      <td>Lemonaid Health</td>\n",
       "      <td>United States</td>\n",
       "      <td>1</td>\n",
       "      <td>1</td>\n",
       "      <td>37.779026</td>\n",
       "      <td>-122.419906</td>\n",
       "      <td>(37.7790262, -122.4199061)</td>\n",
       "    </tr>\n",
       "    <tr>\n",
       "      <th>2</th>\n",
       "      <td>Prellis Biologics</td>\n",
       "      <td>United States</td>\n",
       "      <td>1</td>\n",
       "      <td>2</td>\n",
       "      <td>37.779026</td>\n",
       "      <td>-122.419906</td>\n",
       "      <td>(37.7790262, -122.4199061)</td>\n",
       "    </tr>\n",
       "    <tr>\n",
       "      <th>3</th>\n",
       "      <td>Memed</td>\n",
       "      <td>Brazil</td>\n",
       "      <td>1</td>\n",
       "      <td>3</td>\n",
       "      <td>-23.550651</td>\n",
       "      <td>-46.633382</td>\n",
       "      <td>(-23.5506507, -46.6333824)</td>\n",
       "    </tr>\n",
       "    <tr>\n",
       "      <th>4</th>\n",
       "      <td>1859</td>\n",
       "      <td>United States</td>\n",
       "      <td>1</td>\n",
       "      <td>4</td>\n",
       "      <td>32.717420</td>\n",
       "      <td>-117.162773</td>\n",
       "      <td>(32.7174202, -117.1627728)</td>\n",
       "    </tr>\n",
       "  </tbody>\n",
       "</table>\n",
       "</div>"
      ],
      "text/plain": [
       "                Node               Country  bipartite  id        lat  \\\n",
       "0              Meddy  United Arab Emirates          1   0  25.075010   \n",
       "1    Lemonaid Health         United States          1   1  37.779026   \n",
       "2  Prellis Biologics         United States          1   2  37.779026   \n",
       "3              Memed                Brazil          1   3 -23.550651   \n",
       "4               1859         United States          1   4  32.717420   \n",
       "\n",
       "         long                              Coo  \n",
       "0   55.188761  (25.0750095, 55.18876088183319)  \n",
       "1 -122.419906       (37.7790262, -122.4199061)  \n",
       "2 -122.419906       (37.7790262, -122.4199061)  \n",
       "3  -46.633382       (-23.5506507, -46.6333824)  \n",
       "4 -117.162773       (32.7174202, -117.1627728)  "
      ]
     },
     "execution_count": 96,
     "metadata": {},
     "output_type": "execute_result"
    }
   ],
   "source": [
    "tot = pd.read_excel('~/Documents/GitHub/crunch_net/datasets/Pasadena.xlsx')\n",
    "nodes_org = tot[['Organisation', 'org_country', 'org_city_coo']].drop_duplicates()\n",
    "nodes_org['bipartite'] = 1\n",
    "nodes_inv = tot[['Investors', 'inv_country', 'inv_city_coo']].drop_duplicates()\n",
    "nodes_org = nodes_org.rename(columns={\"Organisation\": \"Node\", \"org_country\": \"Country\", \"org_city_coo\": \"Coo\"})\n",
    "nodes_inv = nodes_inv.rename(columns={\"Investors\": \"Node\",\"inv_country\": \"Country\", \"inv_city_coo\": \"Coo\"})\n",
    "nodes_inv['bipartite'] = 0\n",
    "nodes = nodes_org.append(nodes_inv, ignore_index= True)\n",
    "nodes['id'] = nodes.index\n",
    "\n",
    "nodes = nodes.assign(coo = nodes.Coo.str.replace('(','').str.replace(')',''))\n",
    "nodes= nodes.assign(coo = nodes.coo.str.split(', '))\n",
    "lats = [0]*len(nodes)\n",
    "longs = [0]*len(nodes)\n",
    "for i in range(len(nodes)):\n",
    "    if np.any(pd.isnull(nodes.coo[i])) == True: \n",
    "        lats[i] = np.nan\n",
    "        longs[i] = np.nan\n",
    "    else :\n",
    "        lats[i] = nodes.coo[i][0]\n",
    "        longs[i] = nodes.coo[i][1]\n",
    "nodes = nodes.assign(lat = lats, long = longs)\n",
    "nodes.lat = pd.to_numeric(nodes.lat, errors='coerce')\n",
    "nodes.long = pd.to_numeric(nodes.long, errors = 'coerce')\n",
    "nodes=nodes.loc[:,['Node', 'Country', 'bipartite', 'id', 'lat', 'long', 'Coo']]\n",
    "nodes.to_csv(\"id_mapping.csv\")\n",
    "nodes.head()"
   ]
  },
  {
   "cell_type": "code",
   "execution_count": 97,
   "id": "functional-container",
   "metadata": {},
   "outputs": [],
   "source": [
    "tot2 = pd.merge(tot, nodes[nodes['bipartite']== 1],  how='left', left_on=['Organisation','org_city_coo'], right_on = ['Node','Coo'])\n",
    "tot2 = pd.merge(tot2, nodes[nodes['bipartite']== 0],  how='left', left_on=['Investors','inv_city_coo'], right_on = ['Node','Coo'])\n",
    "dic = {}\n",
    "for i in range(len(nodes)):\n",
    "               dic[i] = {\"Name\": nodes.Node[i], 'Country':nodes.Country[i], 'kind': nodes.bipartite[i]}\n",
    "Pallottola = tot2[tot2.columns[~tot2.columns.str.contains('Unnamed:')]]\n",
    "IDs=Pallottola[['Funding type', 'Node_x']].drop_duplicates()\n",
    "IDs['idx']=IDs.index\n",
    "Pallottola = pd.merge(Pallottola, IDs,  how='left', left_on=['Funding type','Node_x'], right_on = ['Funding type','Node_x'])"
   ]
  },
  {
   "cell_type": "markdown",
   "id": "tired-chile",
   "metadata": {},
   "source": [
    "### Graph building"
   ]
  },
  {
   "cell_type": "code",
   "execution_count": 10,
   "id": "accompanied-prairie",
   "metadata": {},
   "outputs": [],
   "source": [
    "B = nx.MultiGraph(name='org-bid')\n",
    "# Add nodes with the node attribute \"bipartite\"\n",
    "B.add_nodes_from(nodes[nodes.bipartite==0].id, bipartite=0)\n",
    "B.add_nodes_from(nodes[nodes.bipartite==1].id, bipartite=1)\n",
    "# Add edges only between nodes of opposite node sets\n",
    "for i in range(len(Pallottola)):\n",
    "    B.add_edge(Pallottola.loc[i,'id_x'], Pallottola.loc[i,'id_y'], date=pd.to_datetime(Pallottola.loc[i,'Date']).year, m_raised=Pallottola.loc[i,'USDraised_cpi'])"
   ]
  },
  {
   "cell_type": "code",
   "execution_count": 11,
   "id": "earned-acoustic",
   "metadata": {},
   "outputs": [],
   "source": [
    "# Remove NaN node\n",
    "B.remove_node(22560)"
   ]
  },
  {
   "cell_type": "code",
   "execution_count": 12,
   "id": "exempt-alert",
   "metadata": {},
   "outputs": [],
   "source": [
    "bid_nodes = {n for n, d in B.nodes(data=True) if d[\"bipartite\"] == 0}\n",
    "org_nodes = set(B) - bid_nodes"
   ]
  },
  {
   "cell_type": "markdown",
   "id": "brave-grammar",
   "metadata": {},
   "source": [
    "### Snapshot creation"
   ]
  },
  {
   "cell_type": "code",
   "execution_count": 13,
   "id": "incorporated-motion",
   "metadata": {},
   "outputs": [
    {
     "data": {
      "application/vnd.jupyter.widget-view+json": {
       "model_id": "39498893b409472b9b102dca1d96e3ec",
       "version_major": 2,
       "version_minor": 0
      },
      "text/plain": [
       "  0%|          | 0/21 [00:00<?, ?it/s]"
      ]
     },
     "metadata": {},
     "output_type": "display_data"
    }
   ],
   "source": [
    "for year in tqdm(range(2000, 2021)):\n",
    "    locals()[\"SG_\"+str(year)]=nx.MultiGraph()\n",
    "    for x in B.edges(data=True):\n",
    "        if x[2]['date']==year:\n",
    "            locals()[\"SG_\"+str(year)].add_edge(x[0],x[1], date=year, m_raised=x[2]['m_raised'])\n",
    "    for x in locals()[\"SG_\"+str(year)].nodes():\n",
    "        locals()[\"SG_\"+str(year)].nodes[x]['bipartite'] = B.nodes(data=True)[x]['bipartite']\n",
    "    locals()[\"bid_nodes_\"+str(year)] = {n for n, d in locals()[\"SG_\"+str(year)].nodes(data=True) if d[\"bipartite\"] == 0}\n",
    "    locals()[\"org_nodes_\"+str(year)] = set(B) - locals()[\"bid_nodes_\"+str(year)]"
   ]
  },
  {
   "cell_type": "code",
   "execution_count": 14,
   "id": "cleared-novelty",
   "metadata": {
    "scrolled": true
   },
   "outputs": [
    {
     "data": {
      "text/plain": [
       "[<matplotlib.lines.Line2D at 0x7fc2d8cd39d0>]"
      ]
     },
     "execution_count": 14,
     "metadata": {},
     "output_type": "execute_result"
    },
    {
     "data": {
      "image/png": "[encoded data removed]",
      "text/plain": [
       "<Figure size 432x288 with 1 Axes>"
      ]
     },
     "metadata": {
      "needs_background": "light"
     },
     "output_type": "display_data"
    }
   ],
   "source": [
    "edges_subgraph=[]\n",
    "nodes_subgraph=[]\n",
    "avg_degree_subgraph=[]\n",
    "for year in range(2000,2021):\n",
    "    edges_subgraph.append(locals()[\"SG_\"+str(year)].number_of_edges())\n",
    "    nodes_subgraph.append(locals()[\"SG_\"+str(year)].number_of_nodes())\n",
    "    #avg_degree_subgraph.append(2*locals()[\"SG_\"+str(year)].number_of_edges()/(locals()[\"SG_\"+str(year)].number_of_nodes()+1))\n",
    "    \n",
    "plt.plot(range(2000,2021), edges_subgraph)"
   ]
  },
  {
   "cell_type": "code",
   "execution_count": 15,
   "id": "entire-limitation",
   "metadata": {
    "scrolled": true
   },
   "outputs": [
    {
     "data": {
      "text/plain": [
       "[<matplotlib.lines.Line2D at 0x7fc2b9b3c490>]"
      ]
     },
     "execution_count": 15,
     "metadata": {},
     "output_type": "execute_result"
    },
    {
     "data": {
      "image/png": "[encoded data removed]",
      "text/plain": [
       "<Figure size 432x288 with 1 Axes>"
      ]
     },
     "metadata": {
      "needs_background": "light"
     },
     "output_type": "display_data"
    }
   ],
   "source": [
    "plt.plot(range(2000,2021), nodes_subgraph)"
   ]
  },
  {
   "cell_type": "markdown",
   "id": "blessed-cross",
   "metadata": {},
   "source": [
    "### Projections"
   ]
  },
  {
   "cell_type": "markdown",
   "id": "blessed-southeast",
   "metadata": {},
   "source": [
    "There is no algorithm that projects multigraphs. The following one tries to figure out a possible solution (indeed it has some drawbacks and some arbitrary technicalities)\n",
    "\n",
    "Indeed, two investors that have invested in the same company, in the same year TWICE are connected by a SINGLE arc (we are using years as granular basis)"
   ]
  },
  {
   "cell_type": "code",
   "execution_count": 9,
   "id": "linear-while",
   "metadata": {},
   "outputs": [],
   "source": [
    "def project_multi(B, nodes, name):\n",
    "    G=nx.MultiGraph(name=name)\n",
    "    count=0\n",
    "    for node in nodes:\n",
    "        ego=nx.ego_graph(B, node)\n",
    "        ndx=list(ego.nodes())\n",
    "        ndx.remove(node)\n",
    "        for year in range(2000,2021): # bad trick to link depending on year\n",
    "            subndx=[x for x in ndx if [y for y in list(ego.edges(data=True)) if y[0]==x or y[1]==x][0][2]['date']==year]\n",
    "            for couple in itertools.combinations(subndx, 2):\n",
    "                if G.has_edge(couple[0], couple[1]):\n",
    "                    continue\n",
    "                G.add_edge(couple[0], couple[1], anno = year)\n",
    "        count+=1\n",
    "        if count%1000==0:\n",
    "            print(count, end=' ')\n",
    "    return G"
   ]
  },
  {
   "cell_type": "code",
   "execution_count": 10,
   "id": "going-belief",
   "metadata": {
    "scrolled": true
   },
   "outputs": [
    {
     "name": "stdout",
     "output_type": "stream",
     "text": [
      "1000 2000 3000 4000 5000 6000 7000 8000 9000 10000 11000 12000 13000 14000 15000 16000 17000 "
     ]
    }
   ],
   "source": [
    "##IMPO: BIDBID è IL NETWORK TRA STARTUPS!!\n",
    "orgorg=project_multi(B, bid_nodes, name='bid-bid')"
   ]
  },
  {
   "cell_type": "code",
   "execution_count": null,
   "id": "detailed-happiness",
   "metadata": {
    "scrolled": true
   },
   "outputs": [],
   "source": [
    "print(nx.info(bidbid))"
   ]
  },
  {
   "cell_type": "code",
   "execution_count": 11,
   "id": "special-entry",
   "metadata": {
    "scrolled": true
   },
   "outputs": [
    {
     "name": "stdout",
     "output_type": "stream",
     "text": [
      "1000 2000 3000 4000 5000 6000 7000 8000 9000 10000 11000 12000 13000 14000 15000 16000 17000 18000 19000 20000 21000 22000 "
     ]
    }
   ],
   "source": [
    "bidbid=project_multi(B, org_nodes, name='org-org')"
   ]
  },
  {
   "cell_type": "code",
   "execution_count": null,
   "id": "joint-shift",
   "metadata": {
    "scrolled": true
   },
   "outputs": [],
   "source": [
    "print(nx.info(orgorg))"
   ]
  },
  {
   "cell_type": "code",
   "execution_count": null,
   "id": "personalized-relation",
   "metadata": {},
   "outputs": [],
   "source": [
    "# Save projections :-)\n",
    "nx.readwrite.write_gpickle(bidbid, 'bidbid.gpickle')\n",
    "nx.readwrite.write_gpickle(orgorg, 'orgorg.gpickle')"
   ]
  },
  {
   "cell_type": "markdown",
   "id": "earlier-diabetes",
   "metadata": {},
   "source": [
    "## Network characterisation"
   ]
  },
  {
   "cell_type": "markdown",
   "id": "atlantic-governor",
   "metadata": {},
   "source": [
    "### Descriptive statistics"
   ]
  },
  {
   "cell_type": "markdown",
   "id": "silent-authorization",
   "metadata": {},
   "source": [
    "#### Degree"
   ]
  },
  {
   "cell_type": "code",
   "execution_count": 42,
   "id": "alleged-retailer",
   "metadata": {},
   "outputs": [],
   "source": [
    "B_degree=dict(B.degree())"
   ]
  },
  {
   "cell_type": "code",
   "execution_count": 47,
   "id": "interested-polyester",
   "metadata": {},
   "outputs": [],
   "source": [
    "sorted_degree=dict(sorted(B_degree.items(), key=lambda item: item[1], reverse=True))"
   ]
  },
  {
   "cell_type": "markdown",
   "id": "proper-copyright",
   "metadata": {},
   "source": [
    "Degree distribution"
   ]
  },
  {
   "cell_type": "code",
   "execution_count": 53,
   "id": "persistent-thermal",
   "metadata": {},
   "outputs": [
    {
     "data": {
      "text/plain": [
       "<AxesSubplot:>"
      ]
     },
     "execution_count": 53,
     "metadata": {},
     "output_type": "execute_result"
    },
    {
     "data": {
      "image/png": "[encoded data removed]",
      "text/plain": [
       "<Figure size 432x288 with 1 Axes>"
      ]
     },
     "metadata": {
      "needs_background": "light"
     },
     "output_type": "display_data"
    }
   ],
   "source": [
    "pd.Series(sorted_degree.values()).plot()"
   ]
  },
  {
   "cell_type": "markdown",
   "id": "ecological-witch",
   "metadata": {},
   "source": [
    "Zoom-in on the first 200 nodes"
   ]
  },
  {
   "cell_type": "code",
   "execution_count": 63,
   "id": "caroline-guidance",
   "metadata": {},
   "outputs": [
    {
     "data": {
      "text/plain": [
       "<AxesSubplot:>"
      ]
     },
     "execution_count": 63,
     "metadata": {},
     "output_type": "execute_result"
    },
    {
     "data": {
      "image/png": "[encoded data removed]",
      "text/plain": [
       "<Figure size 432x288 with 1 Axes>"
      ]
     },
     "metadata": {
      "needs_background": "light"
     },
     "output_type": "display_data"
    }
   ],
   "source": [
    "pd.Series(sorted_degree.values())[:200].plot()"
   ]
  },
  {
   "cell_type": "code",
   "execution_count": 65,
   "id": "detailed-employment",
   "metadata": {},
   "outputs": [
    {
     "name": "stdout",
     "output_type": "stream",
     "text": [
      "Name: org-bid\n",
      "Type: MultiGraph\n",
      "Number of nodes: 40509\n",
      "Number of edges: 70861\n",
      "Average degree:   3.4985\n"
     ]
    }
   ],
   "source": [
    "print(nx.info(B))"
   ]
  },
  {
   "cell_type": "code",
   "execution_count": 98,
   "id": "subject-dragon",
   "metadata": {},
   "outputs": [
    {
     "data": {
      "text/html": [
       "<div>\n",
       "<style scoped>\n",
       "    .dataframe tbody tr th:only-of-type {\n",
       "        vertical-align: middle;\n",
       "    }\n",
       "\n",
       "    .dataframe tbody tr th {\n",
       "        vertical-align: top;\n",
       "    }\n",
       "\n",
       "    .dataframe thead th {\n",
       "        text-align: right;\n",
       "    }\n",
       "</style>\n",
       "<table border=\"1\" class=\"dataframe\">\n",
       "  <thead>\n",
       "    <tr style=\"text-align: right;\">\n",
       "      <th></th>\n",
       "      <th>Node</th>\n",
       "      <th>Country</th>\n",
       "      <th>bipartite</th>\n",
       "      <th>id</th>\n",
       "      <th>lat</th>\n",
       "      <th>long</th>\n",
       "      <th>Coo</th>\n",
       "    </tr>\n",
       "  </thead>\n",
       "  <tbody>\n",
       "    <tr>\n",
       "      <th>0</th>\n",
       "      <td>Meddy</td>\n",
       "      <td>United Arab Emirates</td>\n",
       "      <td>1</td>\n",
       "      <td>0</td>\n",
       "      <td>25.075010</td>\n",
       "      <td>55.188761</td>\n",
       "      <td>(25.0750095, 55.18876088183319)</td>\n",
       "    </tr>\n",
       "    <tr>\n",
       "      <th>1</th>\n",
       "      <td>Lemonaid Health</td>\n",
       "      <td>United States</td>\n",
       "      <td>1</td>\n",
       "      <td>1</td>\n",
       "      <td>37.779026</td>\n",
       "      <td>-122.419906</td>\n",
       "      <td>(37.7790262, -122.4199061)</td>\n",
       "    </tr>\n",
       "    <tr>\n",
       "      <th>2</th>\n",
       "      <td>Prellis Biologics</td>\n",
       "      <td>United States</td>\n",
       "      <td>1</td>\n",
       "      <td>2</td>\n",
       "      <td>37.779026</td>\n",
       "      <td>-122.419906</td>\n",
       "      <td>(37.7790262, -122.4199061)</td>\n",
       "    </tr>\n",
       "    <tr>\n",
       "      <th>3</th>\n",
       "      <td>Memed</td>\n",
       "      <td>Brazil</td>\n",
       "      <td>1</td>\n",
       "      <td>3</td>\n",
       "      <td>-23.550651</td>\n",
       "      <td>-46.633382</td>\n",
       "      <td>(-23.5506507, -46.6333824)</td>\n",
       "    </tr>\n",
       "    <tr>\n",
       "      <th>4</th>\n",
       "      <td>1859</td>\n",
       "      <td>United States</td>\n",
       "      <td>1</td>\n",
       "      <td>4</td>\n",
       "      <td>32.717420</td>\n",
       "      <td>-117.162773</td>\n",
       "      <td>(32.7174202, -117.1627728)</td>\n",
       "    </tr>\n",
       "    <tr>\n",
       "      <th>...</th>\n",
       "      <td>...</td>\n",
       "      <td>...</td>\n",
       "      <td>...</td>\n",
       "      <td>...</td>\n",
       "      <td>...</td>\n",
       "      <td>...</td>\n",
       "      <td>...</td>\n",
       "    </tr>\n",
       "    <tr>\n",
       "      <th>40505</th>\n",
       "      <td>ZWC Partners</td>\n",
       "      <td>Hong Kong</td>\n",
       "      <td>0</td>\n",
       "      <td>40505</td>\n",
       "      <td>22.279328</td>\n",
       "      <td>114.162813</td>\n",
       "      <td>(22.2793278, 114.1628131)</td>\n",
       "    </tr>\n",
       "    <tr>\n",
       "      <th>40506</th>\n",
       "      <td>Zygote Ventures</td>\n",
       "      <td>United States</td>\n",
       "      <td>0</td>\n",
       "      <td>40506</td>\n",
       "      <td>37.973535</td>\n",
       "      <td>-122.531087</td>\n",
       "      <td>(37.9735346, -122.5310874)</td>\n",
       "    </tr>\n",
       "    <tr>\n",
       "      <th>40507</th>\n",
       "      <td>Zynik Capital Corp.</td>\n",
       "      <td>Canada</td>\n",
       "      <td>0</td>\n",
       "      <td>40507</td>\n",
       "      <td>49.260872</td>\n",
       "      <td>-123.113953</td>\n",
       "      <td>(49.2608724, -123.1139529)</td>\n",
       "    </tr>\n",
       "    <tr>\n",
       "      <th>40508</th>\n",
       "      <td>ZZ Capital</td>\n",
       "      <td>China</td>\n",
       "      <td>0</td>\n",
       "      <td>40508</td>\n",
       "      <td>39.906217</td>\n",
       "      <td>116.391276</td>\n",
       "      <td>(39.906217, 116.3912757)</td>\n",
       "    </tr>\n",
       "    <tr>\n",
       "      <th>40509</th>\n",
       "      <td>Ñ‘people</td>\n",
       "      <td>India</td>\n",
       "      <td>0</td>\n",
       "      <td>40509</td>\n",
       "      <td>19.075990</td>\n",
       "      <td>72.877393</td>\n",
       "      <td>(19.0759899, 72.8773928)</td>\n",
       "    </tr>\n",
       "  </tbody>\n",
       "</table>\n",
       "<p>40510 rows × 7 columns</p>\n",
       "</div>"
      ],
      "text/plain": [
       "                      Node               Country  bipartite     id        lat  \\\n",
       "0                    Meddy  United Arab Emirates          1      0  25.075010   \n",
       "1          Lemonaid Health         United States          1      1  37.779026   \n",
       "2        Prellis Biologics         United States          1      2  37.779026   \n",
       "3                    Memed                Brazil          1      3 -23.550651   \n",
       "4                     1859         United States          1      4  32.717420   \n",
       "...                    ...                   ...        ...    ...        ...   \n",
       "40505         ZWC Partners             Hong Kong          0  40505  22.279328   \n",
       "40506      Zygote Ventures         United States          0  40506  37.973535   \n",
       "40507  Zynik Capital Corp.                Canada          0  40507  49.260872   \n",
       "40508           ZZ Capital                 China          0  40508  39.906217   \n",
       "40509             Ñ‘people                 India          0  40509  19.075990   \n",
       "\n",
       "             long                              Coo  \n",
       "0       55.188761  (25.0750095, 55.18876088183319)  \n",
       "1     -122.419906       (37.7790262, -122.4199061)  \n",
       "2     -122.419906       (37.7790262, -122.4199061)  \n",
       "3      -46.633382       (-23.5506507, -46.6333824)  \n",
       "4     -117.162773       (32.7174202, -117.1627728)  \n",
       "...           ...                              ...  \n",
       "40505  114.162813        (22.2793278, 114.1628131)  \n",
       "40506 -122.531087       (37.9735346, -122.5310874)  \n",
       "40507 -123.113953       (49.2608724, -123.1139529)  \n",
       "40508  116.391276         (39.906217, 116.3912757)  \n",
       "40509   72.877393         (19.0759899, 72.8773928)  \n",
       "\n",
       "[40510 rows x 7 columns]"
      ]
     },
     "execution_count": 98,
     "metadata": {},
     "output_type": "execute_result"
    }
   ],
   "source": [
    "nodes['Node']=='EASME - EU Executive Agency for SMEs'"
   ]
  },
  {
   "cell_type": "code",
   "execution_count": 104,
   "id": "loose-television",
   "metadata": {},
   "outputs": [],
   "source": [
    "# Do not repeat it\n",
    "\n",
    "# nodes['degrees']=np.nan"
   ]
  },
  {
   "cell_type": "code",
   "execution_count": 87,
   "id": "internal-luxembourg",
   "metadata": {},
   "outputs": [],
   "source": [
    "# I collegamenti interni ci sono perché hai più di un collegamento nel multigrafo\n",
    "# Con questa funzione ottieni tutti i collegamenti e tutti i round per anno di ogni singolo nodo di investitori\n",
    "\n",
    "\n",
    "# for i in B.adjacency():\n",
    "#     print(i)"
   ]
  },
  {
   "cell_type": "code",
   "execution_count": 108,
   "id": "verified-trunk",
   "metadata": {},
   "outputs": [
    {
     "data": {
      "application/vnd.jupyter.widget-view+json": {
       "model_id": "15c7d48af72a4d46a960c200a2dc96fc",
       "version_major": 2,
       "version_minor": 0
      },
      "text/plain": [
       "  0%|          | 0/40510 [00:00<?, ?it/s]"
      ]
     },
     "metadata": {},
     "output_type": "display_data"
    }
   ],
   "source": [
    "#adding the degree in the df - doesn't need repeating\n",
    "degrees=B.degree()\n",
    "for i in tqdm(range(len(nodes))):\n",
    "    try: \n",
    "        nodes.iloc[i,7]=degrees[i]\n",
    "    except:\n",
    "        nodes.iloc[i,7]=np.nan"
   ]
  },
  {
   "cell_type": "code",
   "execution_count": 109,
   "id": "lesser-breast",
   "metadata": {},
   "outputs": [
    {
     "data": {
      "text/html": [
       "<div>\n",
       "<style scoped>\n",
       "    .dataframe tbody tr th:only-of-type {\n",
       "        vertical-align: middle;\n",
       "    }\n",
       "\n",
       "    .dataframe tbody tr th {\n",
       "        vertical-align: top;\n",
       "    }\n",
       "\n",
       "    .dataframe thead th {\n",
       "        text-align: right;\n",
       "    }\n",
       "</style>\n",
       "<table border=\"1\" class=\"dataframe\">\n",
       "  <thead>\n",
       "    <tr style=\"text-align: right;\">\n",
       "      <th></th>\n",
       "      <th>Node</th>\n",
       "      <th>Country</th>\n",
       "      <th>bipartite</th>\n",
       "      <th>id</th>\n",
       "      <th>lat</th>\n",
       "      <th>long</th>\n",
       "      <th>Coo</th>\n",
       "      <th>degrees</th>\n",
       "    </tr>\n",
       "  </thead>\n",
       "  <tbody>\n",
       "    <tr>\n",
       "      <th>0</th>\n",
       "      <td>Meddy</td>\n",
       "      <td>United Arab Emirates</td>\n",
       "      <td>1</td>\n",
       "      <td>0</td>\n",
       "      <td>25.075010</td>\n",
       "      <td>55.188761</td>\n",
       "      <td>(25.0750095, 55.18876088183319)</td>\n",
       "      <td>6.0</td>\n",
       "    </tr>\n",
       "    <tr>\n",
       "      <th>1</th>\n",
       "      <td>Lemonaid Health</td>\n",
       "      <td>United States</td>\n",
       "      <td>1</td>\n",
       "      <td>1</td>\n",
       "      <td>37.779026</td>\n",
       "      <td>-122.419906</td>\n",
       "      <td>(37.7790262, -122.4199061)</td>\n",
       "      <td>18.0</td>\n",
       "    </tr>\n",
       "    <tr>\n",
       "      <th>2</th>\n",
       "      <td>Prellis Biologics</td>\n",
       "      <td>United States</td>\n",
       "      <td>1</td>\n",
       "      <td>2</td>\n",
       "      <td>37.779026</td>\n",
       "      <td>-122.419906</td>\n",
       "      <td>(37.7790262, -122.4199061)</td>\n",
       "      <td>15.0</td>\n",
       "    </tr>\n",
       "    <tr>\n",
       "      <th>3</th>\n",
       "      <td>Memed</td>\n",
       "      <td>Brazil</td>\n",
       "      <td>1</td>\n",
       "      <td>3</td>\n",
       "      <td>-23.550651</td>\n",
       "      <td>-46.633382</td>\n",
       "      <td>(-23.5506507, -46.6333824)</td>\n",
       "      <td>10.0</td>\n",
       "    </tr>\n",
       "    <tr>\n",
       "      <th>4</th>\n",
       "      <td>1859</td>\n",
       "      <td>United States</td>\n",
       "      <td>1</td>\n",
       "      <td>4</td>\n",
       "      <td>32.717420</td>\n",
       "      <td>-117.162773</td>\n",
       "      <td>(32.7174202, -117.1627728)</td>\n",
       "      <td>0.0</td>\n",
       "    </tr>\n",
       "    <tr>\n",
       "      <th>...</th>\n",
       "      <td>...</td>\n",
       "      <td>...</td>\n",
       "      <td>...</td>\n",
       "      <td>...</td>\n",
       "      <td>...</td>\n",
       "      <td>...</td>\n",
       "      <td>...</td>\n",
       "      <td>...</td>\n",
       "    </tr>\n",
       "    <tr>\n",
       "      <th>40505</th>\n",
       "      <td>ZWC Partners</td>\n",
       "      <td>Hong Kong</td>\n",
       "      <td>0</td>\n",
       "      <td>40505</td>\n",
       "      <td>22.279328</td>\n",
       "      <td>114.162813</td>\n",
       "      <td>(22.2793278, 114.1628131)</td>\n",
       "      <td>2.0</td>\n",
       "    </tr>\n",
       "    <tr>\n",
       "      <th>40506</th>\n",
       "      <td>Zygote Ventures</td>\n",
       "      <td>United States</td>\n",
       "      <td>0</td>\n",
       "      <td>40506</td>\n",
       "      <td>37.973535</td>\n",
       "      <td>-122.531087</td>\n",
       "      <td>(37.9735346, -122.5310874)</td>\n",
       "      <td>2.0</td>\n",
       "    </tr>\n",
       "    <tr>\n",
       "      <th>40507</th>\n",
       "      <td>Zynik Capital Corp.</td>\n",
       "      <td>Canada</td>\n",
       "      <td>0</td>\n",
       "      <td>40507</td>\n",
       "      <td>49.260872</td>\n",
       "      <td>-123.113953</td>\n",
       "      <td>(49.2608724, -123.1139529)</td>\n",
       "      <td>1.0</td>\n",
       "    </tr>\n",
       "    <tr>\n",
       "      <th>40508</th>\n",
       "      <td>ZZ Capital</td>\n",
       "      <td>China</td>\n",
       "      <td>0</td>\n",
       "      <td>40508</td>\n",
       "      <td>39.906217</td>\n",
       "      <td>116.391276</td>\n",
       "      <td>(39.906217, 116.3912757)</td>\n",
       "      <td>1.0</td>\n",
       "    </tr>\n",
       "    <tr>\n",
       "      <th>40509</th>\n",
       "      <td>Ñ‘people</td>\n",
       "      <td>India</td>\n",
       "      <td>0</td>\n",
       "      <td>40509</td>\n",
       "      <td>19.075990</td>\n",
       "      <td>72.877393</td>\n",
       "      <td>(19.0759899, 72.8773928)</td>\n",
       "      <td>1.0</td>\n",
       "    </tr>\n",
       "  </tbody>\n",
       "</table>\n",
       "<p>40510 rows × 8 columns</p>\n",
       "</div>"
      ],
      "text/plain": [
       "                      Node               Country  bipartite     id        lat  \\\n",
       "0                    Meddy  United Arab Emirates          1      0  25.075010   \n",
       "1          Lemonaid Health         United States          1      1  37.779026   \n",
       "2        Prellis Biologics         United States          1      2  37.779026   \n",
       "3                    Memed                Brazil          1      3 -23.550651   \n",
       "4                     1859         United States          1      4  32.717420   \n",
       "...                    ...                   ...        ...    ...        ...   \n",
       "40505         ZWC Partners             Hong Kong          0  40505  22.279328   \n",
       "40506      Zygote Ventures         United States          0  40506  37.973535   \n",
       "40507  Zynik Capital Corp.                Canada          0  40507  49.260872   \n",
       "40508           ZZ Capital                 China          0  40508  39.906217   \n",
       "40509             Ñ‘people                 India          0  40509  19.075990   \n",
       "\n",
       "             long                              Coo  degrees  \n",
       "0       55.188761  (25.0750095, 55.18876088183319)      6.0  \n",
       "1     -122.419906       (37.7790262, -122.4199061)     18.0  \n",
       "2     -122.419906       (37.7790262, -122.4199061)     15.0  \n",
       "3      -46.633382       (-23.5506507, -46.6333824)     10.0  \n",
       "4     -117.162773       (32.7174202, -117.1627728)      0.0  \n",
       "...           ...                              ...      ...  \n",
       "40505  114.162813        (22.2793278, 114.1628131)      2.0  \n",
       "40506 -122.531087       (37.9735346, -122.5310874)      2.0  \n",
       "40507 -123.113953       (49.2608724, -123.1139529)      1.0  \n",
       "40508  116.391276         (39.906217, 116.3912757)      1.0  \n",
       "40509   72.877393         (19.0759899, 72.8773928)      1.0  \n",
       "\n",
       "[40510 rows x 8 columns]"
      ]
     },
     "execution_count": 109,
     "metadata": {},
     "output_type": "execute_result"
    }
   ],
   "source": [
    "nodes['Node']==''"
   ]
  },
  {
   "cell_type": "code",
   "execution_count": 195,
   "id": "fixed-alliance",
   "metadata": {},
   "outputs": [],
   "source": [
    "# # In sospeso per ora, bisogna capire se un grafico è fattibile o meno\n",
    "\n",
    "# pos = nx.spring_layout(B)\n",
    "# nx.draw(B, pos, node_color=range(24), cmap=plt.cm.Blues)\n",
    "# plt.show()"
   ]
  },
  {
   "cell_type": "markdown",
   "id": "naked-capture",
   "metadata": {},
   "source": [
    "### Connected components"
   ]
  },
  {
   "cell_type": "code",
   "execution_count": 196,
   "id": "turkish-houston",
   "metadata": {},
   "outputs": [
    {
     "data": {
      "text/plain": [
       "7554"
      ]
     },
     "execution_count": 196,
     "metadata": {},
     "output_type": "execute_result"
    }
   ],
   "source": [
    "conn_components=nx.number_connected_components(B)\n",
    "conn_components"
   ]
  },
  {
   "cell_type": "code",
   "execution_count": 235,
   "id": "treated-energy",
   "metadata": {},
   "outputs": [
    {
     "data": {
      "text/plain": [
       "<AxesSubplot:>"
      ]
     },
     "execution_count": 235,
     "metadata": {},
     "output_type": "execute_result"
    },
    {
     "data": {
      "image/png": "[encoded data removed]",
      "text/plain": [
       "<Figure size 432x288 with 1 Axes>"
      ]
     },
     "metadata": {
      "needs_background": "light"
     },
     "output_type": "display_data"
    }
   ],
   "source": [
    "#connected components\n",
    "pd.Series([len(c) for c in sorted(nx.connected_components(B), key=len, reverse=True)]).plot()"
   ]
  },
  {
   "cell_type": "code",
   "execution_count": 237,
   "id": "designing-market",
   "metadata": {},
   "outputs": [],
   "source": [
    "# Length of connected components\n",
    "\n",
    "# [len(c) for c in sorted(nx.connected_components(B), key=len, reverse=True)]"
   ]
  },
  {
   "cell_type": "code",
   "execution_count": 151,
   "id": "severe-sight",
   "metadata": {},
   "outputs": [],
   "source": [
    "dictionary={}\n",
    "count=0\n",
    "for component in nx.connected_components(B):\n",
    "    dictionary[count]=(component,len(component))\n",
    "    count+=1"
   ]
  },
  {
   "cell_type": "code",
   "execution_count": 187,
   "id": "defensive-miami",
   "metadata": {},
   "outputs": [
    {
     "data": {
      "application/vnd.jupyter.widget-view+json": {
       "model_id": "31cf5de14011413cac0d108b04560330",
       "version_major": 2,
       "version_minor": 0
      },
      "text/plain": [
       "  0%|          | 0/40510 [00:00<?, ?it/s]"
      ]
     },
     "metadata": {},
     "output_type": "display_data"
    }
   ],
   "source": [
    "for node in tqdm(range(len(nodes))):\n",
    "    dictionary2={}\n",
    "    for component in range(len(dictionary)):\n",
    "        if node in dictionary[component][0]:\n",
    "            dictionary2[component]=dictionary[component][1]\n",
    "    try:\n",
    "        nodes.iloc[node,8]=[dictionary2]\n",
    "    except:\n",
    "        nodes.iloc[node,8]=np.nan"
   ]
  },
  {
   "cell_type": "code",
   "execution_count": 248,
   "id": "abroad-prince",
   "metadata": {},
   "outputs": [
    {
     "data": {
      "text/plain": [
       "Node                   AILIS Breast Cancer Prediction Technology\n",
       "Country                                                   Poland\n",
       "bipartite                                                      1\n",
       "id                                                         13433\n",
       "lat                                                    50.061947\n",
       "long                                                   19.936856\n",
       "Coo                                     (50.0619474, 19.9368564)\n",
       "degrees                                                      4.0\n",
       "Connected component                                   {1: 29284}\n",
       "Name: 13433, dtype: object"
      ]
     },
     "execution_count": 248,
     "metadata": {},
     "output_type": "execute_result"
    }
   ],
   "source": []
  },
  {
   "cell_type": "markdown",
   "id": "electoral-clause",
   "metadata": {},
   "source": [
    "### Measures of centrality"
   ]
  },
  {
   "cell_type": "code",
   "execution_count": 194,
   "id": "fatal-sphere",
   "metadata": {},
   "outputs": [],
   "source": [
    "deg_centrality=nx.degree_centrality(B)"
   ]
  },
  {
   "cell_type": "code",
   "execution_count": 214,
   "id": "french-netherlands",
   "metadata": {},
   "outputs": [],
   "source": [
    "insieme=set()\n",
    "count=0\n",
    "for i in B.edges():\n",
    "    if i in insieme:\n",
    "        count+=1\n",
    "    else:\n",
    "        insieme.add(i)"
   ]
  },
  {
   "cell_type": "code",
   "execution_count": 217,
   "id": "immediate-twenty",
   "metadata": {},
   "outputs": [
    {
     "data": {
      "text/plain": [
       "0.22679612198529517"
      ]
     },
     "execution_count": 217,
     "metadata": {},
     "output_type": "execute_result"
    }
   ],
   "source": [
    "#Percentuale di edges che sono ripetuti\n",
    "\n",
    "count/70861"
   ]
  },
  {
   "cell_type": "markdown",
   "id": "responsible-shelf",
   "metadata": {},
   "source": [
    "Questo significa che, se abbiamo 22% di edges ripetuti, semplificare il network senza considerare la ripetizione ci toglie abbastanza informazioni. Dovremmo andare a controllare i nodi"
   ]
  },
  {
   "cell_type": "markdown",
   "id": "noticed-vatican",
   "metadata": {},
   "source": [
    "<b>Voterank</b>"
   ]
  },
  {
   "cell_type": "code",
   "execution_count": 242,
   "id": "dental-morris",
   "metadata": {},
   "outputs": [],
   "source": [
    "votes=nx.voterank(B)"
   ]
  },
  {
   "cell_type": "code",
   "execution_count": 293,
   "id": "parental-retro",
   "metadata": {},
   "outputs": [],
   "source": [
    "# for count in range(len(nodes)):\n",
    "#     nodes.iloc[count,10]=[nodes.iloc[count]['Connected component'].keys()]\n",
    "#     nodes.iloc[count,11]=[nodes.iloc[count]['Connected component'].values()]"
   ]
  },
  {
   "cell_type": "code",
   "execution_count": 310,
   "id": "enabling-customs",
   "metadata": {},
   "outputs": [],
   "source": [
    "# for i in range(len(votes)):\n",
    "#     nodes.iloc[votes[i],8]=i+1"
   ]
  },
  {
   "cell_type": "markdown",
   "id": "comic-treaty",
   "metadata": {},
   "source": [
    "<b>Degree centrality</b>"
   ]
  },
  {
   "cell_type": "code",
   "execution_count": null,
   "id": "sophisticated-vaccine",
   "metadata": {},
   "outputs": [],
   "source": [
    "deg_centrality=nx.degree_centrality(B)"
   ]
  },
  {
   "cell_type": "code",
   "execution_count": 331,
   "id": "going-fifth",
   "metadata": {},
   "outputs": [],
   "source": [
    "for i in deg_centrality:\n",
    "    nodes.iloc[i,11]=deg_centrality[i]"
   ]
  },
  {
   "cell_type": "markdown",
   "id": "apparent-copper",
   "metadata": {},
   "source": [
    "<b>Eigenvector centrality</b>"
   ]
  },
  {
   "cell_type": "markdown",
   "id": "realistic-statistics",
   "metadata": {},
   "source": [
    "Per eigenvector centrality quello che facciamo è rendere il network da multigraph a single graph weighted. I weights li computiamo sulla base del totale dei soldi che sono stati raccolti da un lato e sulla base del totale dei soldi raccolti diviso il numero di investitori dall'altro. Computiamo poi eigenvector centrality con una moving window di quattro anni e poi sull'intero network. \n",
    "Facciamo la stessa cosa con il network di investitori. "
   ]
  },
  {
   "cell_type": "markdown",
   "id": "cleared-buyer",
   "metadata": {},
   "source": [
    "## Structural holes"
   ]
  },
  {
   "cell_type": "markdown",
   "id": "visible-sunset",
   "metadata": {},
   "source": [
    "Constraint means that "
   ]
  },
  {
   "cell_type": "code",
   "execution_count": 348,
   "id": "thousand-smith",
   "metadata": {},
   "outputs": [],
   "source": [
    "constraint=nx.constraint(B)"
   ]
  },
  {
   "cell_type": "code",
   "execution_count": 350,
   "id": "sharp-municipality",
   "metadata": {},
   "outputs": [],
   "source": [
    "# constraint"
   ]
  },
  {
   "cell_type": "markdown",
   "id": "understood-namibia",
   "metadata": {},
   "source": [
    "## Interpretation of the network"
   ]
  },
  {
   "cell_type": "code",
   "execution_count": 333,
   "id": "measured-street",
   "metadata": {},
   "outputs": [
    {
     "data": {
      "text/html": [
       "<div>\n",
       "<style scoped>\n",
       "    .dataframe tbody tr th:only-of-type {\n",
       "        vertical-align: middle;\n",
       "    }\n",
       "\n",
       "    .dataframe tbody tr th {\n",
       "        vertical-align: top;\n",
       "    }\n",
       "\n",
       "    .dataframe thead th {\n",
       "        text-align: right;\n",
       "    }\n",
       "</style>\n",
       "<table border=\"1\" class=\"dataframe\">\n",
       "  <thead>\n",
       "    <tr style=\"text-align: right;\">\n",
       "      <th></th>\n",
       "      <th>Node</th>\n",
       "      <th>Country</th>\n",
       "      <th>bipartite</th>\n",
       "      <th>id</th>\n",
       "      <th>lat</th>\n",
       "      <th>long</th>\n",
       "      <th>Coo</th>\n",
       "      <th>degrees</th>\n",
       "      <th>Vote_rank</th>\n",
       "      <th>Conn_component_nr</th>\n",
       "      <th>Conn_component_dim</th>\n",
       "      <th>degree_centrality</th>\n",
       "    </tr>\n",
       "  </thead>\n",
       "  <tbody>\n",
       "    <tr>\n",
       "      <th>27333</th>\n",
       "      <td>EASME - EU Executive Agency for SMEs</td>\n",
       "      <td>Belgium</td>\n",
       "      <td>0</td>\n",
       "      <td>27333</td>\n",
       "      <td>50.846557</td>\n",
       "      <td>4.351697</td>\n",
       "      <td>(50.8465573, 4.351697)</td>\n",
       "      <td>500.0</td>\n",
       "      <td>1.0</td>\n",
       "      <td>(1)</td>\n",
       "      <td>(29284)</td>\n",
       "      <td>0.012343</td>\n",
       "    </tr>\n",
       "    <tr>\n",
       "      <th>33854</th>\n",
       "      <td>New Enterprise Associates</td>\n",
       "      <td>United States</td>\n",
       "      <td>0</td>\n",
       "      <td>33854</td>\n",
       "      <td>37.451967</td>\n",
       "      <td>-122.177993</td>\n",
       "      <td>(37.4519671, -122.1779927)</td>\n",
       "      <td>394.0</td>\n",
       "      <td>2.0</td>\n",
       "      <td>(1)</td>\n",
       "      <td>(29284)</td>\n",
       "      <td>0.009726</td>\n",
       "    </tr>\n",
       "    <tr>\n",
       "      <th>40145</th>\n",
       "      <td>Y Combinator</td>\n",
       "      <td>United States</td>\n",
       "      <td>0</td>\n",
       "      <td>40145</td>\n",
       "      <td>37.389389</td>\n",
       "      <td>-122.083210</td>\n",
       "      <td>(37.3893889, -122.0832101)</td>\n",
       "      <td>323.0</td>\n",
       "      <td>3.0</td>\n",
       "      <td>(1)</td>\n",
       "      <td>(29284)</td>\n",
       "      <td>0.007974</td>\n",
       "    </tr>\n",
       "    <tr>\n",
       "      <th>32720</th>\n",
       "      <td>MassChallenge</td>\n",
       "      <td>United States</td>\n",
       "      <td>0</td>\n",
       "      <td>32720</td>\n",
       "      <td>42.360253</td>\n",
       "      <td>-71.058291</td>\n",
       "      <td>(42.3602534, -71.0582912)</td>\n",
       "      <td>321.0</td>\n",
       "      <td>4.0</td>\n",
       "      <td>(1)</td>\n",
       "      <td>(29284)</td>\n",
       "      <td>0.007924</td>\n",
       "    </tr>\n",
       "    <tr>\n",
       "      <th>37362</th>\n",
       "      <td>SOSV</td>\n",
       "      <td>United States</td>\n",
       "      <td>0</td>\n",
       "      <td>37362</td>\n",
       "      <td>40.349274</td>\n",
       "      <td>-74.659296</td>\n",
       "      <td>(40.3492744, -74.6592958)</td>\n",
       "      <td>310.0</td>\n",
       "      <td>5.0</td>\n",
       "      <td>(1)</td>\n",
       "      <td>(29284)</td>\n",
       "      <td>0.007653</td>\n",
       "    </tr>\n",
       "    <tr>\n",
       "      <th>...</th>\n",
       "      <td>...</td>\n",
       "      <td>...</td>\n",
       "      <td>...</td>\n",
       "      <td>...</td>\n",
       "      <td>...</td>\n",
       "      <td>...</td>\n",
       "      <td>...</td>\n",
       "      <td>...</td>\n",
       "      <td>...</td>\n",
       "      <td>...</td>\n",
       "      <td>...</td>\n",
       "      <td>...</td>\n",
       "    </tr>\n",
       "    <tr>\n",
       "      <th>40505</th>\n",
       "      <td>ZWC Partners</td>\n",
       "      <td>Hong Kong</td>\n",
       "      <td>0</td>\n",
       "      <td>40505</td>\n",
       "      <td>22.279328</td>\n",
       "      <td>114.162813</td>\n",
       "      <td>(22.2793278, 114.1628131)</td>\n",
       "      <td>2.0</td>\n",
       "      <td>NaN</td>\n",
       "      <td>(1)</td>\n",
       "      <td>(29284)</td>\n",
       "      <td>0.000049</td>\n",
       "    </tr>\n",
       "    <tr>\n",
       "      <th>40506</th>\n",
       "      <td>Zygote Ventures</td>\n",
       "      <td>United States</td>\n",
       "      <td>0</td>\n",
       "      <td>40506</td>\n",
       "      <td>37.973535</td>\n",
       "      <td>-122.531087</td>\n",
       "      <td>(37.9735346, -122.5310874)</td>\n",
       "      <td>2.0</td>\n",
       "      <td>NaN</td>\n",
       "      <td>(1)</td>\n",
       "      <td>(29284)</td>\n",
       "      <td>0.000049</td>\n",
       "    </tr>\n",
       "    <tr>\n",
       "      <th>40507</th>\n",
       "      <td>Zynik Capital Corp.</td>\n",
       "      <td>Canada</td>\n",
       "      <td>0</td>\n",
       "      <td>40507</td>\n",
       "      <td>49.260872</td>\n",
       "      <td>-123.113953</td>\n",
       "      <td>(49.2608724, -123.1139529)</td>\n",
       "      <td>1.0</td>\n",
       "      <td>NaN</td>\n",
       "      <td>(1)</td>\n",
       "      <td>(29284)</td>\n",
       "      <td>0.000025</td>\n",
       "    </tr>\n",
       "    <tr>\n",
       "      <th>40508</th>\n",
       "      <td>ZZ Capital</td>\n",
       "      <td>China</td>\n",
       "      <td>0</td>\n",
       "      <td>40508</td>\n",
       "      <td>39.906217</td>\n",
       "      <td>116.391276</td>\n",
       "      <td>(39.906217, 116.3912757)</td>\n",
       "      <td>1.0</td>\n",
       "      <td>NaN</td>\n",
       "      <td>(1)</td>\n",
       "      <td>(29284)</td>\n",
       "      <td>0.000025</td>\n",
       "    </tr>\n",
       "    <tr>\n",
       "      <th>40509</th>\n",
       "      <td>Ñ‘people</td>\n",
       "      <td>India</td>\n",
       "      <td>0</td>\n",
       "      <td>40509</td>\n",
       "      <td>19.075990</td>\n",
       "      <td>72.877393</td>\n",
       "      <td>(19.0759899, 72.8773928)</td>\n",
       "      <td>1.0</td>\n",
       "      <td>NaN</td>\n",
       "      <td>(1)</td>\n",
       "      <td>(29284)</td>\n",
       "      <td>0.000025</td>\n",
       "    </tr>\n",
       "  </tbody>\n",
       "</table>\n",
       "<p>40510 rows × 12 columns</p>\n",
       "</div>"
      ],
      "text/plain": [
       "                                       Node        Country  bipartite     id  \\\n",
       "27333  EASME - EU Executive Agency for SMEs        Belgium          0  27333   \n",
       "33854             New Enterprise Associates  United States          0  33854   \n",
       "40145                          Y Combinator  United States          0  40145   \n",
       "32720                         MassChallenge  United States          0  32720   \n",
       "37362                                  SOSV  United States          0  37362   \n",
       "...                                     ...            ...        ...    ...   \n",
       "40505                          ZWC Partners      Hong Kong          0  40505   \n",
       "40506                       Zygote Ventures  United States          0  40506   \n",
       "40507                   Zynik Capital Corp.         Canada          0  40507   \n",
       "40508                            ZZ Capital          China          0  40508   \n",
       "40509                              Ñ‘people          India          0  40509   \n",
       "\n",
       "             lat        long                         Coo  degrees  Vote_rank  \\\n",
       "27333  50.846557    4.351697      (50.8465573, 4.351697)    500.0        1.0   \n",
       "33854  37.451967 -122.177993  (37.4519671, -122.1779927)    394.0        2.0   \n",
       "40145  37.389389 -122.083210  (37.3893889, -122.0832101)    323.0        3.0   \n",
       "32720  42.360253  -71.058291   (42.3602534, -71.0582912)    321.0        4.0   \n",
       "37362  40.349274  -74.659296   (40.3492744, -74.6592958)    310.0        5.0   \n",
       "...          ...         ...                         ...      ...        ...   \n",
       "40505  22.279328  114.162813   (22.2793278, 114.1628131)      2.0        NaN   \n",
       "40506  37.973535 -122.531087  (37.9735346, -122.5310874)      2.0        NaN   \n",
       "40507  49.260872 -123.113953  (49.2608724, -123.1139529)      1.0        NaN   \n",
       "40508  39.906217  116.391276    (39.906217, 116.3912757)      1.0        NaN   \n",
       "40509  19.075990   72.877393    (19.0759899, 72.8773928)      1.0        NaN   \n",
       "\n",
       "      Conn_component_nr Conn_component_dim  degree_centrality  \n",
       "27333               (1)            (29284)           0.012343  \n",
       "33854               (1)            (29284)           0.009726  \n",
       "40145               (1)            (29284)           0.007974  \n",
       "32720               (1)            (29284)           0.007924  \n",
       "37362               (1)            (29284)           0.007653  \n",
       "...                 ...                ...                ...  \n",
       "40505               (1)            (29284)           0.000049  \n",
       "40506               (1)            (29284)           0.000049  \n",
       "40507               (1)            (29284)           0.000025  \n",
       "40508               (1)            (29284)           0.000025  \n",
       "40509               (1)            (29284)           0.000025  \n",
       "\n",
       "[40510 rows x 12 columns]"
      ]
     },
     "execution_count": 333,
     "metadata": {},
     "output_type": "execute_result"
    }
   ],
   "source": [
    "nodes.sort_values(by='Vote_rank')"
   ]
  },
  {
   "cell_type": "code",
   "execution_count": 339,
   "id": "complimentary-nutrition",
   "metadata": {},
   "outputs": [
    {
     "data": {
      "image/png": "[encoded data removed]",
      "text/plain": [
       "<Figure size 1600x1600 with 1 Axes>"
      ]
     },
     "metadata": {
      "needs_background": "light"
     },
     "output_type": "display_data"
    }
   ],
   "source": [
    "threedee = plt.figure(figsize=(20, 20), dpi=80).gca(projection='3d')\n",
    "threedee.scatter(nodes['Vote_rank'], nodes['degrees'], nodes['degree_centrality'],c=nodes['bipartite'])\n",
    "threedee.set_xlabel('Vote_rank')\n",
    "threedee.set_ylabel('degrees')\n",
    "threedee.set_zlabel('degree_centrality')\n",
    "plt.show()"
   ]
  },
  {
   "cell_type": "code",
   "execution_count": 342,
   "id": "smoking-officer",
   "metadata": {},
   "outputs": [],
   "source": [
    "# #Modify to get the mapping with the continents\n",
    "# threedee = plt.figure(figsize=(20, 20), dpi=80).gca(projection='3d')\n",
    "# threedee.scatter(nodes['Vote_rank'], nodes['degrees'], nodes['degree_centrality'],c=nodes['Country'])\n",
    "# threedee.set_xlabel('Vote_rank')\n",
    "# threedee.set_ylabel('degrees')\n",
    "# threedee.set_zlabel('degree_centrality')\n",
    "# plt.show()"
   ]
  },
  {
   "cell_type": "code",
   "execution_count": 347,
   "id": "final-hybrid",
   "metadata": {},
   "outputs": [
    {
     "data": {
      "image/png": "[encoded data removed]",
      "text/plain": [
       "<Figure size 432x288 with 1 Axes>"
      ]
     },
     "metadata": {
      "needs_background": "light"
     },
     "output_type": "display_data"
    }
   ],
   "source": [
    "fig=plt.figure()\n",
    "ax=fig.add_axes([0,0,1,1])\n",
    "ax.scatter(nodes['Vote_rank'], nodes['degrees'], c=nodes['bipartite'])\n",
    "ax.set_xlabel('Vote rank')\n",
    "ax.set_ylabel('Degree')\n",
    "ax.set_title('scatter plot')\n",
    "plt.show()"
   ]
  },
  {
   "cell_type": "markdown",
   "id": "expected-privacy",
   "metadata": {},
   "source": [
    "### Link prediction"
   ]
  },
  {
   "cell_type": "code",
   "execution_count": 93,
   "id": "twelve-contamination",
   "metadata": {},
   "outputs": [],
   "source": [
    "#to apply jaccard we need normalh graph. We consider a combination of B and bidbid\n",
    "##Bsingle\n",
    "Bsingle = nx.Graph()\n",
    "for u,v,data in B.edges(data=True):\n",
    "    d = data['date'] if 'date' in data else np.nan\n",
    "    m = data['m_raised'] if 'm_raised' in data else np.nan\n",
    "    if Bsingle.has_edge(u,v):\n",
    "        Bsingle[u][v]['date'] = B[u][v][0]['date']\n",
    "        if np.isnan(m):\n",
    "            Bsingle[u][v]['m_raised'] =B[u][v][0]['m_raised']\n",
    "        if np.isnan(m) == False and np.isnan(B[u][v][0]['m_raised']):\n",
    "            Bsingle[u][v]['m_raised'] = m\n",
    "        if np.isnan(m) == False and np.isnan(B[u][v][0]['m_raised'])==False:\n",
    "            Bsingle[u][v]['m_raised'] += m\n",
    "    else:\n",
    "        Bsingle.add_edge(u, v, date=d)\n",
    "        Bsingle.add_edge(u, v, m_raised = m)\n",
    "    "
   ]
  },
  {
   "cell_type": "code",
   "execution_count": null,
   "id": "sensitive-courage",
   "metadata": {},
   "outputs": [],
   "source": [
    "for u,v,data in orgorg.edges(data=True):\n",
    "    print(data['anno'])"
   ]
  },
  {
   "cell_type": "code",
   "execution_count": 94,
   "id": "commercial-astrology",
   "metadata": {},
   "outputs": [],
   "source": [
    "##orgorgs\n",
    "orgorgsingle = nx.Graph()\n",
    "for u,v,data in orgorg.edges(data=True):\n",
    "    if orgorgsingle.has_edge(u,v) == False:\n",
    "        orgorgsingle.add_edge(u, v, anno = data['anno'])"
   ]
  },
  {
   "cell_type": "code",
   "execution_count": 95,
   "id": "dietary-minority",
   "metadata": {},
   "outputs": [],
   "source": [
    "##grafo unito\n",
    "F = nx.compose(Bsingle,orgorgsingle)"
   ]
  },
  {
   "cell_type": "code",
   "execution_count": 18,
   "id": "destroyed-muslim",
   "metadata": {},
   "outputs": [
    {
     "data": {
      "text/plain": [
       "'Name: org-bid\\nType: MultiGraph\\nNumber of nodes: 40509\\nNumber of edges: 70861\\nAverage degree:   3.4985'"
      ]
     },
     "execution_count": 18,
     "metadata": {},
     "output_type": "execute_result"
    }
   ],
   "source": [
    "nx.info(B)"
   ]
  },
  {
   "cell_type": "markdown",
   "id": "handed-residence",
   "metadata": {},
   "source": [
    "#### Jaccard "
   ]
  },
  {
   "cell_type": "code",
   "execution_count": 96,
   "id": "completed-efficiency",
   "metadata": {},
   "outputs": [
    {
     "data": {
      "application/vnd.jupyter.widget-view+json": {
       "model_id": "d5a552986cbb415ba257df2f22db26c4",
       "version_major": 2,
       "version_minor": 0
      },
      "text/plain": [
       "HBox(children=(FloatProgress(value=0.0, max=130384.0), HTML(value='')))"
      ]
     },
     "metadata": {},
     "output_type": "display_data"
    },
    {
     "name": "stdout",
     "output_type": "stream",
     "text": [
      "\n"
     ]
    }
   ],
   "source": [
    "jacques = []\n",
    "for u,v,data in tqdm(F.edges(data=True)):\n",
    "    j = nx.jaccard_coefficient(F, [(u,v)])\n",
    "    for u,v,p in j:\n",
    "        jacques.append(p)\n",
    "    \n"
   ]
  },
  {
   "cell_type": "code",
   "execution_count": null,
   "id": "cleared-charles",
   "metadata": {},
   "outputs": [],
   "source": [
    "max(jacques)"
   ]
  },
  {
   "cell_type": "code",
   "execution_count": 97,
   "id": "narrative-tournament",
   "metadata": {},
   "outputs": [
    {
     "data": {
      "text/plain": [
       "[<matplotlib.lines.Line2D at 0x15d95de3460>]"
      ]
     },
     "execution_count": 97,
     "metadata": {},
     "output_type": "execute_result"
    },
    {
     "data": {
      "image/png": "[encoded data removed]",
      "text/plain": [
       "<Figure size 432x288 with 1 Axes>"
      ]
     },
     "metadata": {},
     "output_type": "display_data"
    }
   ],
   "source": [
    "plt.plot(sorted(jacques))"
   ]
  },
  {
   "cell_type": "markdown",
   "id": "prepared-local",
   "metadata": {},
   "source": [
    "#### Adamic/Adar"
   ]
  },
  {
   "cell_type": "code",
   "execution_count": 98,
   "id": "formed-austria",
   "metadata": {},
   "outputs": [
    {
     "data": {
      "application/vnd.jupyter.widget-view+json": {
       "model_id": "a7c9638a76b24d30ae3e3fcf25207d65",
       "version_major": 2,
       "version_minor": 0
      },
      "text/plain": [
       "HBox(children=(FloatProgress(value=0.0, max=130384.0), HTML(value='')))"
      ]
     },
     "metadata": {},
     "output_type": "display_data"
    },
    {
     "name": "stdout",
     "output_type": "stream",
     "text": [
      "\n"
     ]
    }
   ],
   "source": [
    "adam = []\n",
    "for u,v,data in tqdm(F.edges(data=True)):\n",
    "    j = nx.adamic_adar_index(F, [(u,v)])\n",
    "    for u,v,p in j:\n",
    "        adam.append(p)\n",
    "    \n"
   ]
  },
  {
   "cell_type": "code",
   "execution_count": null,
   "id": "adapted-stranger",
   "metadata": {},
   "outputs": [],
   "source": [
    "plt.plot(sorted(adam))"
   ]
  },
  {
   "cell_type": "code",
   "execution_count": 92,
   "id": "varying-testing",
   "metadata": {},
   "outputs": [
    {
     "ename": "ValueError",
     "evalue": "x and y must have the same length.",
     "output_type": "error",
     "traceback": [
      "\u001b[1;31m---------------------------------------------------------------------------\u001b[0m",
      "\u001b[1;31mValueError\u001b[0m                                Traceback (most recent call last)",
      "\u001b[1;32m<ipython-input-92-ca0a7f3076b6>\u001b[0m in \u001b[0;36m<module>\u001b[1;34m\u001b[0m\n\u001b[1;32m----> 1\u001b[1;33m \u001b[0mstats\u001b[0m\u001b[1;33m.\u001b[0m\u001b[0mpearsonr\u001b[0m\u001b[1;33m(\u001b[0m\u001b[0mjacques\u001b[0m\u001b[1;33m,\u001b[0m\u001b[0madam\u001b[0m\u001b[1;33m)\u001b[0m\u001b[1;33m\u001b[0m\u001b[1;33m\u001b[0m\u001b[0m\n\u001b[0m",
      "\u001b[1;32m~\\anaconda3\\lib\\site-packages\\scipy\\stats\\stats.py\u001b[0m in \u001b[0;36mpearsonr\u001b[1;34m(x, y)\u001b[0m\n\u001b[0;32m   3833\u001b[0m     \u001b[0mn\u001b[0m \u001b[1;33m=\u001b[0m \u001b[0mlen\u001b[0m\u001b[1;33m(\u001b[0m\u001b[0mx\u001b[0m\u001b[1;33m)\u001b[0m\u001b[1;33m\u001b[0m\u001b[1;33m\u001b[0m\u001b[0m\n\u001b[0;32m   3834\u001b[0m     \u001b[1;32mif\u001b[0m \u001b[0mn\u001b[0m \u001b[1;33m!=\u001b[0m \u001b[0mlen\u001b[0m\u001b[1;33m(\u001b[0m\u001b[0my\u001b[0m\u001b[1;33m)\u001b[0m\u001b[1;33m:\u001b[0m\u001b[1;33m\u001b[0m\u001b[1;33m\u001b[0m\u001b[0m\n\u001b[1;32m-> 3835\u001b[1;33m         \u001b[1;32mraise\u001b[0m \u001b[0mValueError\u001b[0m\u001b[1;33m(\u001b[0m\u001b[1;34m'x and y must have the same length.'\u001b[0m\u001b[1;33m)\u001b[0m\u001b[1;33m\u001b[0m\u001b[1;33m\u001b[0m\u001b[0m\n\u001b[0m\u001b[0;32m   3836\u001b[0m \u001b[1;33m\u001b[0m\u001b[0m\n\u001b[0;32m   3837\u001b[0m     \u001b[1;32mif\u001b[0m \u001b[0mn\u001b[0m \u001b[1;33m<\u001b[0m \u001b[1;36m2\u001b[0m\u001b[1;33m:\u001b[0m\u001b[1;33m\u001b[0m\u001b[1;33m\u001b[0m\u001b[0m\n",
      "\u001b[1;31mValueError\u001b[0m: x and y must have the same length."
     ]
    }
   ],
   "source": [
    "stats.pearsonr(jacques,adam)"
   ]
  },
  {
   "cell_type": "markdown",
   "id": "nuclear-wholesale",
   "metadata": {},
   "source": [
    "#### enorme trial"
   ]
  },
  {
   "cell_type": "code",
   "execution_count": 99,
   "id": "color-mineral",
   "metadata": {},
   "outputs": [
    {
     "data": {
      "application/vnd.jupyter.widget-view+json": {
       "model_id": "bd25494af8624145a4a0f02a0d4ad7c9",
       "version_major": 2,
       "version_minor": 0
      },
      "text/plain": [
       "HBox(children=(FloatProgress(value=0.0, max=1000.0), HTML(value='')))"
      ]
     },
     "metadata": {},
     "output_type": "display_data"
    },
    {
     "name": "stdout",
     "output_type": "stream",
     "text": [
      "\n"
     ]
    }
   ],
   "source": [
    "##vedo un po' quanto ci metto per subset di 1000\n",
    "import random\n",
    "jacqgrande = []\n",
    "oosn = list(orgorgsingle.nodes)\n",
    "random.seed(10)\n",
    "oosns = random.sample(oosn, 1000)\n",
    "for u in tqdm(oosns):\n",
    "    for v in oosns:\n",
    "        if u!=v:\n",
    "            j = nx.jaccard_coefficient(orgorgsingle, [(u,v)])\n",
    "            for u,v,p in j:\n",
    "                jacqgrande.append(p)\n",
    "    \n"
   ]
  },
  {
   "cell_type": "code",
   "execution_count": null,
   "id": "primary-premium",
   "metadata": {},
   "outputs": [],
   "source": [
    "plt.plot(sorted(jacqgrande))"
   ]
  },
  {
   "cell_type": "markdown",
   "id": "biblical-parking",
   "metadata": {},
   "source": [
    "#### Modello logistico"
   ]
  },
  {
   "cell_type": "code",
   "execution_count": 101,
   "id": "turkish-filing",
   "metadata": {},
   "outputs": [],
   "source": [
    "ootrial = nx.Graph([(u,v,d) for u,v,d in orgorgsingle.edges(data=True) if d['anno'] in range(2000,2019)])\n",
    "ootest = nx.Graph([(u,v,d) for u,v,d in orgorgsingle.edges(data=True) if d['anno'] in range (2000,2020)])"
   ]
  },
  {
   "cell_type": "code",
   "execution_count": 62,
   "id": "transsexual-moore",
   "metadata": {},
   "outputs": [
    {
     "data": {
      "application/vnd.jupyter.widget-view+json": {
       "model_id": "9bf6306ec4e64f41ba7ff092342ebc0e",
       "version_major": 2,
       "version_minor": 0
      },
      "text/plain": [
       "HBox(children=(FloatProgress(value=0.0, max=2000.0), HTML(value='')))"
      ]
     },
     "metadata": {},
     "output_type": "display_data"
    },
    {
     "name": "stdout",
     "output_type": "stream",
     "text": [
      "\n"
     ]
    }
   ],
   "source": [
    "import random\n",
    "col1 = []\n",
    "col2 = []\n",
    "jacqtrial = []\n",
    "adamtrial = []\n",
    "saltontrial =[]\n",
    "legame = []\n",
    "legame2 = []\n",
    "ootrn = list(ootrial.nodes)\n",
    "random.seed(10)\n",
    "ootrns = random.sample(ootrn, 2000)\n",
    "for u in tqdm(ootrns):\n",
    "    for v in ootrns:\n",
    "        if u!=v:\n",
    "            j = nx.jaccard_coefficient(ootrial, [(u,v)])\n",
    "            for u,v,p in j:\n",
    "                if u>v:\n",
    "                    col1.append(u)\n",
    "                    col2.append(v)\n",
    "                    jacqtrial.append(p)\n",
    "                    legame.append(int(ootrial.has_edge(u,v)))\n",
    "                    legame2.append(int(ootest.has_edge(u,v)))\n",
    "                    saltontrial.append(salton_index(ootrial, [(u,v)]))\n",
    "                    aa = nx.adamic_adar_index(ootrial, [(u,v)])\n",
    "                    for u,v,p in aa:\n",
    "                        adamtrial.append(p)"
   ]
  },
  {
   "cell_type": "code",
   "execution_count": 102,
   "id": "primary-silly",
   "metadata": {},
   "outputs": [],
   "source": [
    "dfpred = pd.DataFrame({'col1': col1, 'col2': col2, 'jacc': jacqtrial, 'legame': legame, 'legame2':legame2, 'adam':adamtrial, \n",
    "                       'salton':saltontrial, 'intercetta':1})"
   ]
  },
  {
   "cell_type": "code",
   "execution_count": 104,
   "id": "guilty-modeling",
   "metadata": {},
   "outputs": [
    {
     "data": {
      "text/plain": [
       "1999000"
      ]
     },
     "execution_count": 104,
     "metadata": {},
     "output_type": "execute_result"
    }
   ],
   "source": [
    "len(dfpred)"
   ]
  },
  {
   "cell_type": "code",
   "execution_count": 105,
   "id": "working-interface",
   "metadata": {},
   "outputs": [],
   "source": [
    "dfpred2 = dfpred[dfpred['legame']== 0]"
   ]
  },
  {
   "cell_type": "code",
   "execution_count": 106,
   "id": "focal-premiere",
   "metadata": {},
   "outputs": [
    {
     "data": {
      "text/html": [
       "<div>\n",
       "<style scoped>\n",
       "    .dataframe tbody tr th:only-of-type {\n",
       "        vertical-align: middle;\n",
       "    }\n",
       "\n",
       "    .dataframe tbody tr th {\n",
       "        vertical-align: top;\n",
       "    }\n",
       "\n",
       "    .dataframe thead th {\n",
       "        text-align: right;\n",
       "    }\n",
       "</style>\n",
       "<table border=\"1\" class=\"dataframe\">\n",
       "  <thead>\n",
       "    <tr style=\"text-align: right;\">\n",
       "      <th></th>\n",
       "      <th>col1</th>\n",
       "      <th>col2</th>\n",
       "      <th>jacc</th>\n",
       "      <th>legame</th>\n",
       "      <th>legame2</th>\n",
       "      <th>adam</th>\n",
       "      <th>salton</th>\n",
       "      <th>intercetta</th>\n",
       "    </tr>\n",
       "  </thead>\n",
       "  <tbody>\n",
       "    <tr>\n",
       "      <th>114585</th>\n",
       "      <td>39036</td>\n",
       "      <td>38505</td>\n",
       "      <td>0.000000</td>\n",
       "      <td>0</td>\n",
       "      <td>1</td>\n",
       "      <td>0.000000</td>\n",
       "      <td>0.000000</td>\n",
       "      <td>1</td>\n",
       "    </tr>\n",
       "    <tr>\n",
       "      <th>114827</th>\n",
       "      <td>39036</td>\n",
       "      <td>31360</td>\n",
       "      <td>0.000000</td>\n",
       "      <td>0</td>\n",
       "      <td>1</td>\n",
       "      <td>0.000000</td>\n",
       "      <td>0.000000</td>\n",
       "      <td>1</td>\n",
       "    </tr>\n",
       "    <tr>\n",
       "      <th>114873</th>\n",
       "      <td>39036</td>\n",
       "      <td>23523</td>\n",
       "      <td>0.011050</td>\n",
       "      <td>0</td>\n",
       "      <td>1</td>\n",
       "      <td>0.410513</td>\n",
       "      <td>0.021858</td>\n",
       "      <td>1</td>\n",
       "    </tr>\n",
       "    <tr>\n",
       "      <th>115059</th>\n",
       "      <td>39036</td>\n",
       "      <td>31124</td>\n",
       "      <td>0.008929</td>\n",
       "      <td>0</td>\n",
       "      <td>1</td>\n",
       "      <td>0.193834</td>\n",
       "      <td>0.022751</td>\n",
       "      <td>1</td>\n",
       "    </tr>\n",
       "    <tr>\n",
       "      <th>115061</th>\n",
       "      <td>39036</td>\n",
       "      <td>37467</td>\n",
       "      <td>0.087591</td>\n",
       "      <td>0</td>\n",
       "      <td>1</td>\n",
       "      <td>2.543387</td>\n",
       "      <td>0.165710</td>\n",
       "      <td>1</td>\n",
       "    </tr>\n",
       "    <tr>\n",
       "      <th>...</th>\n",
       "      <td>...</td>\n",
       "      <td>...</td>\n",
       "      <td>...</td>\n",
       "      <td>...</td>\n",
       "      <td>...</td>\n",
       "      <td>...</td>\n",
       "      <td>...</td>\n",
       "      <td>...</td>\n",
       "    </tr>\n",
       "    <tr>\n",
       "      <th>1991621</th>\n",
       "      <td>36750</td>\n",
       "      <td>24940</td>\n",
       "      <td>0.000000</td>\n",
       "      <td>0</td>\n",
       "      <td>1</td>\n",
       "      <td>0.000000</td>\n",
       "      <td>0.000000</td>\n",
       "      <td>1</td>\n",
       "    </tr>\n",
       "    <tr>\n",
       "      <th>1992045</th>\n",
       "      <td>36750</td>\n",
       "      <td>34332</td>\n",
       "      <td>0.000000</td>\n",
       "      <td>0</td>\n",
       "      <td>1</td>\n",
       "      <td>0.000000</td>\n",
       "      <td>0.000000</td>\n",
       "      <td>1</td>\n",
       "    </tr>\n",
       "    <tr>\n",
       "      <th>1992363</th>\n",
       "      <td>36750</td>\n",
       "      <td>27281</td>\n",
       "      <td>0.000000</td>\n",
       "      <td>0</td>\n",
       "      <td>1</td>\n",
       "      <td>0.000000</td>\n",
       "      <td>0.000000</td>\n",
       "      <td>1</td>\n",
       "    </tr>\n",
       "    <tr>\n",
       "      <th>1992795</th>\n",
       "      <td>36750</td>\n",
       "      <td>25600</td>\n",
       "      <td>0.016949</td>\n",
       "      <td>0</td>\n",
       "      <td>1</td>\n",
       "      <td>0.191757</td>\n",
       "      <td>0.041667</td>\n",
       "      <td>1</td>\n",
       "    </tr>\n",
       "    <tr>\n",
       "      <th>1992811</th>\n",
       "      <td>36750</td>\n",
       "      <td>35906</td>\n",
       "      <td>0.019231</td>\n",
       "      <td>0</td>\n",
       "      <td>1</td>\n",
       "      <td>0.781145</td>\n",
       "      <td>0.041100</td>\n",
       "      <td>1</td>\n",
       "    </tr>\n",
       "  </tbody>\n",
       "</table>\n",
       "<p>147 rows × 8 columns</p>\n",
       "</div>"
      ],
      "text/plain": [
       "          col1   col2      jacc  legame  legame2      adam    salton  \\\n",
       "114585   39036  38505  0.000000       0        1  0.000000  0.000000   \n",
       "114827   39036  31360  0.000000       0        1  0.000000  0.000000   \n",
       "114873   39036  23523  0.011050       0        1  0.410513  0.021858   \n",
       "115059   39036  31124  0.008929       0        1  0.193834  0.022751   \n",
       "115061   39036  37467  0.087591       0        1  2.543387  0.165710   \n",
       "...        ...    ...       ...     ...      ...       ...       ...   \n",
       "1991621  36750  24940  0.000000       0        1  0.000000  0.000000   \n",
       "1992045  36750  34332  0.000000       0        1  0.000000  0.000000   \n",
       "1992363  36750  27281  0.000000       0        1  0.000000  0.000000   \n",
       "1992795  36750  25600  0.016949       0        1  0.191757  0.041667   \n",
       "1992811  36750  35906  0.019231       0        1  0.781145  0.041100   \n",
       "\n",
       "         intercetta  \n",
       "114585            1  \n",
       "114827            1  \n",
       "114873            1  \n",
       "115059            1  \n",
       "115061            1  \n",
       "...             ...  \n",
       "1991621           1  \n",
       "1992045           1  \n",
       "1992363           1  \n",
       "1992795           1  \n",
       "1992811           1  \n",
       "\n",
       "[147 rows x 8 columns]"
      ]
     },
     "execution_count": 106,
     "metadata": {},
     "output_type": "execute_result"
    }
   ],
   "source": [
    "dfpred2[dfpred2['legame2']==1]"
   ]
  },
  {
   "cell_type": "code",
   "execution_count": 66,
   "id": "thousand-bleeding",
   "metadata": {},
   "outputs": [
    {
     "data": {
      "text/plain": [
       "[<matplotlib.lines.Line2D at 0x15c3094a8b0>]"
      ]
     },
     "execution_count": 66,
     "metadata": {},
     "output_type": "execute_result"
    },
    {
     "data": {
      "image/png": "[encoded data removed]",
      "text/plain": [
       "<Figure size 432x288 with 1 Axes>"
      ]
     },
     "metadata": {
      "needs_background": "light"
     },
     "output_type": "display_data"
    }
   ],
   "source": [
    "plt.plot(list(dfpred2['jacc']))"
   ]
  },
  {
   "cell_type": "code",
   "execution_count": 107,
   "id": "twenty-palace",
   "metadata": {},
   "outputs": [],
   "source": [
    "##tools necessari per logisticregression\n",
    "\n",
    "from sklearn import preprocessing\n",
    "import matplotlib.pyplot as plt \n",
    "plt.rc(\"font\", size=14)\n",
    "from sklearn.linear_model import LogisticRegression\n",
    "from sklearn.model_selection import train_test_split\n",
    "import seaborn as sns\n",
    "sns.set(style=\"white\")\n",
    "sns.set(style=\"whitegrid\", color_codes=True)"
   ]
  },
  {
   "cell_type": "code",
   "execution_count": 111,
   "id": "unlimited-empty",
   "metadata": {},
   "outputs": [
    {
     "data": {
      "text/plain": [
       "0    1997318\n",
       "1       1682\n",
       "Name: legame2, dtype: int64"
      ]
     },
     "execution_count": 111,
     "metadata": {},
     "output_type": "execute_result"
    }
   ],
   "source": [
    "dfpred['legame2'].value_counts()"
   ]
  },
  {
   "cell_type": "code",
   "execution_count": 113,
   "id": "upper-carolina",
   "metadata": {},
   "outputs": [
    {
     "data": {
      "text/html": [
       "<div>\n",
       "<style scoped>\n",
       "    .dataframe tbody tr th:only-of-type {\n",
       "        vertical-align: middle;\n",
       "    }\n",
       "\n",
       "    .dataframe tbody tr th {\n",
       "        vertical-align: top;\n",
       "    }\n",
       "\n",
       "    .dataframe thead th {\n",
       "        text-align: right;\n",
       "    }\n",
       "</style>\n",
       "<table border=\"1\" class=\"dataframe\">\n",
       "  <thead>\n",
       "    <tr style=\"text-align: right;\">\n",
       "      <th></th>\n",
       "      <th>col1</th>\n",
       "      <th>col2</th>\n",
       "      <th>jacc</th>\n",
       "      <th>legame</th>\n",
       "      <th>adam</th>\n",
       "      <th>salton</th>\n",
       "      <th>intercetta</th>\n",
       "    </tr>\n",
       "    <tr>\n",
       "      <th>legame2</th>\n",
       "      <th></th>\n",
       "      <th></th>\n",
       "      <th></th>\n",
       "      <th></th>\n",
       "      <th></th>\n",
       "      <th></th>\n",
       "      <th></th>\n",
       "    </tr>\n",
       "  </thead>\n",
       "  <tbody>\n",
       "    <tr>\n",
       "      <th>0</th>\n",
       "      <td>34697.298102</td>\n",
       "      <td>28668.019659</td>\n",
       "      <td>0.000628</td>\n",
       "      <td>0.0</td>\n",
       "      <td>0.005673</td>\n",
       "      <td>0.001466</td>\n",
       "      <td>1.0</td>\n",
       "    </tr>\n",
       "    <tr>\n",
       "      <th>1</th>\n",
       "      <td>35431.258503</td>\n",
       "      <td>29142.605442</td>\n",
       "      <td>0.018608</td>\n",
       "      <td>0.0</td>\n",
       "      <td>0.320420</td>\n",
       "      <td>0.037138</td>\n",
       "      <td>1.0</td>\n",
       "    </tr>\n",
       "  </tbody>\n",
       "</table>\n",
       "</div>"
      ],
      "text/plain": [
       "                 col1          col2      jacc  legame      adam    salton  \\\n",
       "legame2                                                                     \n",
       "0        34697.298102  28668.019659  0.000628     0.0  0.005673  0.001466   \n",
       "1        35431.258503  29142.605442  0.018608     0.0  0.320420  0.037138   \n",
       "\n",
       "         intercetta  \n",
       "legame2              \n",
       "0               1.0  \n",
       "1               1.0  "
      ]
     },
     "execution_count": 113,
     "metadata": {},
     "output_type": "execute_result"
    }
   ],
   "source": [
    "dfpred2.groupby('legame2').mean()"
   ]
  },
  {
   "cell_type": "code",
   "execution_count": 114,
   "id": "successful-denmark",
   "metadata": {},
   "outputs": [
    {
     "data": {
      "text/html": [
       "<div>\n",
       "<style scoped>\n",
       "    .dataframe tbody tr th:only-of-type {\n",
       "        vertical-align: middle;\n",
       "    }\n",
       "\n",
       "    .dataframe tbody tr th {\n",
       "        vertical-align: top;\n",
       "    }\n",
       "\n",
       "    .dataframe thead th {\n",
       "        text-align: right;\n",
       "    }\n",
       "</style>\n",
       "<table border=\"1\" class=\"dataframe\">\n",
       "  <thead>\n",
       "    <tr style=\"text-align: right;\">\n",
       "      <th></th>\n",
       "      <th>jacc</th>\n",
       "      <th>legame2</th>\n",
       "      <th>adam</th>\n",
       "      <th>intercetta</th>\n",
       "      <th>salton</th>\n",
       "    </tr>\n",
       "  </thead>\n",
       "  <tbody>\n",
       "    <tr>\n",
       "      <th>0</th>\n",
       "      <td>0.0</td>\n",
       "      <td>0</td>\n",
       "      <td>0.0</td>\n",
       "      <td>1</td>\n",
       "      <td>0.0</td>\n",
       "    </tr>\n",
       "    <tr>\n",
       "      <th>1</th>\n",
       "      <td>0.0</td>\n",
       "      <td>0</td>\n",
       "      <td>0.0</td>\n",
       "      <td>1</td>\n",
       "      <td>0.0</td>\n",
       "    </tr>\n",
       "    <tr>\n",
       "      <th>2</th>\n",
       "      <td>0.0</td>\n",
       "      <td>0</td>\n",
       "      <td>0.0</td>\n",
       "      <td>1</td>\n",
       "      <td>0.0</td>\n",
       "    </tr>\n",
       "    <tr>\n",
       "      <th>3</th>\n",
       "      <td>0.0</td>\n",
       "      <td>0</td>\n",
       "      <td>0.0</td>\n",
       "      <td>1</td>\n",
       "      <td>0.0</td>\n",
       "    </tr>\n",
       "    <tr>\n",
       "      <th>4</th>\n",
       "      <td>0.0</td>\n",
       "      <td>0</td>\n",
       "      <td>0.0</td>\n",
       "      <td>1</td>\n",
       "      <td>0.0</td>\n",
       "    </tr>\n",
       "  </tbody>\n",
       "</table>\n",
       "</div>"
      ],
      "text/plain": [
       "   jacc  legame2  adam  intercetta  salton\n",
       "0   0.0        0   0.0           1     0.0\n",
       "1   0.0        0   0.0           1     0.0\n",
       "2   0.0        0   0.0           1     0.0\n",
       "3   0.0        0   0.0           1     0.0\n",
       "4   0.0        0   0.0           1     0.0"
      ]
     },
     "execution_count": 114,
     "metadata": {},
     "output_type": "execute_result"
    }
   ],
   "source": [
    "dfpred3 = dfpred2[['jacc','legame2','adam','intercetta','salton']]\n",
    "dfpred3.head()"
   ]
  },
  {
   "cell_type": "code",
   "execution_count": 115,
   "id": "difficult-replacement",
   "metadata": {
    "scrolled": true
   },
   "outputs": [
    {
     "name": "stdout",
     "output_type": "stream",
     "text": [
      "length of oversampled data is  2796230\n",
      "Number of no subscription in oversampled data 1398115\n",
      "Number of subscription 1398115\n",
      "Proportion of no subscription data in oversampled data is  0.5\n",
      "Proportion of subscription data in oversampled data is  0.5\n"
     ]
    }
   ],
   "source": [
    "##oversampling\n",
    "X = dfpred3.loc[:, dfpred3.columns != 'legame2']\n",
    "y = dfpred3.loc[:, dfpred3.columns == 'legame2']\n",
    "from imblearn.over_sampling import SMOTE\n",
    "os = SMOTE(random_state=0)\n",
    "X_train, X_test, y_train, y_test = train_test_split(X, y, test_size=0.3, random_state=0)\n",
    "columns = X_train.columns\n",
    "os_data_X,os_data_y=os.fit_resample(X_train, y_train)\n",
    "os_data_X = pd.DataFrame(data=os_data_X,columns=columns )\n",
    "os_data_y= pd.DataFrame(data=os_data_y,columns=['legame2'])\n",
    "# we can Check the numbers of our data\n",
    "print(\"length of oversampled data is \",len(os_data_X))\n",
    "print(\"Number of no subscription in oversampled data\",len(os_data_y[os_data_y['legame2']==0]))\n",
    "print(\"Number of subscription\",len(os_data_y[os_data_y['legame2']==1]))\n",
    "print(\"Proportion of no subscription data in oversampled data is \",len(os_data_y[os_data_y['legame2']==0])/len(os_data_X))\n",
    "print(\"Proportion of subscription data in oversampled data is \",len(os_data_y[os_data_y['legame2']==1])/len(os_data_X))\n"
   ]
  },
  {
   "cell_type": "code",
   "execution_count": 117,
   "id": "found-voluntary",
   "metadata": {},
   "outputs": [
    {
     "data": {
      "text/html": [
       "<div>\n",
       "<style scoped>\n",
       "    .dataframe tbody tr th:only-of-type {\n",
       "        vertical-align: middle;\n",
       "    }\n",
       "\n",
       "    .dataframe tbody tr th {\n",
       "        vertical-align: top;\n",
       "    }\n",
       "\n",
       "    .dataframe thead th {\n",
       "        text-align: right;\n",
       "    }\n",
       "</style>\n",
       "<table border=\"1\" class=\"dataframe\">\n",
       "  <thead>\n",
       "    <tr style=\"text-align: right;\">\n",
       "      <th></th>\n",
       "      <th>jacc</th>\n",
       "      <th>adam</th>\n",
       "      <th>intercetta</th>\n",
       "      <th>salton</th>\n",
       "    </tr>\n",
       "  </thead>\n",
       "  <tbody>\n",
       "    <tr>\n",
       "      <th>0</th>\n",
       "      <td>0.000000</td>\n",
       "      <td>0.000000</td>\n",
       "      <td>1</td>\n",
       "      <td>0.000000</td>\n",
       "    </tr>\n",
       "    <tr>\n",
       "      <th>1</th>\n",
       "      <td>0.000000</td>\n",
       "      <td>0.000000</td>\n",
       "      <td>1</td>\n",
       "      <td>0.000000</td>\n",
       "    </tr>\n",
       "    <tr>\n",
       "      <th>2</th>\n",
       "      <td>0.000000</td>\n",
       "      <td>0.000000</td>\n",
       "      <td>1</td>\n",
       "      <td>0.000000</td>\n",
       "    </tr>\n",
       "    <tr>\n",
       "      <th>3</th>\n",
       "      <td>0.000000</td>\n",
       "      <td>0.000000</td>\n",
       "      <td>1</td>\n",
       "      <td>0.000000</td>\n",
       "    </tr>\n",
       "    <tr>\n",
       "      <th>4</th>\n",
       "      <td>0.000000</td>\n",
       "      <td>0.000000</td>\n",
       "      <td>1</td>\n",
       "      <td>0.000000</td>\n",
       "    </tr>\n",
       "    <tr>\n",
       "      <th>...</th>\n",
       "      <td>...</td>\n",
       "      <td>...</td>\n",
       "      <td>...</td>\n",
       "      <td>...</td>\n",
       "    </tr>\n",
       "    <tr>\n",
       "      <th>2796225</th>\n",
       "      <td>0.022249</td>\n",
       "      <td>0.819083</td>\n",
       "      <td>1</td>\n",
       "      <td>0.046265</td>\n",
       "    </tr>\n",
       "    <tr>\n",
       "      <th>2796226</th>\n",
       "      <td>0.013780</td>\n",
       "      <td>0.639050</td>\n",
       "      <td>1</td>\n",
       "      <td>0.029032</td>\n",
       "    </tr>\n",
       "    <tr>\n",
       "      <th>2796227</th>\n",
       "      <td>0.000000</td>\n",
       "      <td>0.000000</td>\n",
       "      <td>1</td>\n",
       "      <td>0.000000</td>\n",
       "    </tr>\n",
       "    <tr>\n",
       "      <th>2796228</th>\n",
       "      <td>0.012485</td>\n",
       "      <td>0.516267</td>\n",
       "      <td>1</td>\n",
       "      <td>0.032970</td>\n",
       "    </tr>\n",
       "    <tr>\n",
       "      <th>2796229</th>\n",
       "      <td>0.000000</td>\n",
       "      <td>0.000000</td>\n",
       "      <td>1</td>\n",
       "      <td>0.000000</td>\n",
       "    </tr>\n",
       "  </tbody>\n",
       "</table>\n",
       "<p>2796230 rows × 4 columns</p>\n",
       "</div>"
      ],
      "text/plain": [
       "             jacc      adam  intercetta    salton\n",
       "0        0.000000  0.000000           1  0.000000\n",
       "1        0.000000  0.000000           1  0.000000\n",
       "2        0.000000  0.000000           1  0.000000\n",
       "3        0.000000  0.000000           1  0.000000\n",
       "4        0.000000  0.000000           1  0.000000\n",
       "...           ...       ...         ...       ...\n",
       "2796225  0.022249  0.819083           1  0.046265\n",
       "2796226  0.013780  0.639050           1  0.029032\n",
       "2796227  0.000000  0.000000           1  0.000000\n",
       "2796228  0.012485  0.516267           1  0.032970\n",
       "2796229  0.000000  0.000000           1  0.000000\n",
       "\n",
       "[2796230 rows x 4 columns]"
      ]
     },
     "execution_count": 117,
     "metadata": {},
     "output_type": "execute_result"
    }
   ],
   "source": [
    "os_data_X"
   ]
  },
  {
   "cell_type": "code",
   "execution_count": 118,
   "id": "known-james",
   "metadata": {},
   "outputs": [
    {
     "name": "stdout",
     "output_type": "stream",
     "text": [
      "Optimization terminated successfully.\n",
      "         Current function value: 0.573556\n",
      "         Iterations 10\n",
      "                          Results: Logit\n",
      "===================================================================\n",
      "Model:              Logit            Pseudo R-squared: 0.173       \n",
      "Dependent Variable: legame2          AIC:              3207599.6614\n",
      "Date:               2021-08-15 00:02 BIC:              3207651.0366\n",
      "No. Observations:   2796230          Log-Likelihood:   -1.6038e+06 \n",
      "Df Model:           3                LL-Null:          -1.9382e+06 \n",
      "Df Residuals:       2796226          LLR p-value:      0.0000      \n",
      "Converged:          1.0000           Scale:            1.0000      \n",
      "No. Iterations:     10.0000                                        \n",
      "-------------------------------------------------------------------\n",
      "                Coef.   Std.Err.     z     P>|z|   [0.025   0.975] \n",
      "-------------------------------------------------------------------\n",
      "jacc           -19.2979   0.7020  -27.4917 0.0000 -20.6738 -17.9221\n",
      "adam            10.1439   0.0387  262.0659 0.0000  10.0680  10.2197\n",
      "intercetta      -0.4316   0.0014 -317.0298 0.0000  -0.4343  -0.4290\n",
      "salton           3.8483   0.3447   11.1656 0.0000   3.1728   4.5238\n",
      "===================================================================\n",
      "\n"
     ]
    }
   ],
   "source": [
    "logit_model=sm.Logit(os_data_y,os_data_X)\n",
    "result=logit_model.fit()\n",
    "print(result.summary2())\n"
   ]
  },
  {
   "cell_type": "code",
   "execution_count": 85,
   "id": "expanded-shower",
   "metadata": {},
   "outputs": [
    {
     "data": {
      "text/plain": [
       "LogisticRegression()"
      ]
     },
     "execution_count": 85,
     "metadata": {},
     "output_type": "execute_result"
    }
   ],
   "source": [
    "from sklearn.linear_model import LogisticRegression\n",
    "from sklearn import metrics\n",
    "X_train, X_test, y_train, y_test = train_test_split(os_data_X, os_data_y.values.ravel(), test_size=0.3, random_state=0)\n",
    "logreg = LogisticRegression()\n",
    "logreg.fit(X_train, y_train)"
   ]
  },
  {
   "cell_type": "code",
   "execution_count": 86,
   "id": "neural-knowing",
   "metadata": {},
   "outputs": [
    {
     "data": {
      "text/html": [
       "<div>\n",
       "<style scoped>\n",
       "    .dataframe tbody tr th:only-of-type {\n",
       "        vertical-align: middle;\n",
       "    }\n",
       "\n",
       "    .dataframe tbody tr th {\n",
       "        vertical-align: top;\n",
       "    }\n",
       "\n",
       "    .dataframe thead th {\n",
       "        text-align: right;\n",
       "    }\n",
       "</style>\n",
       "<table border=\"1\" class=\"dataframe\">\n",
       "  <thead>\n",
       "    <tr style=\"text-align: right;\">\n",
       "      <th></th>\n",
       "      <th>jacc</th>\n",
       "      <th>adam</th>\n",
       "      <th>intercetta</th>\n",
       "      <th>salton</th>\n",
       "    </tr>\n",
       "  </thead>\n",
       "  <tbody>\n",
       "    <tr>\n",
       "      <th>1907249</th>\n",
       "      <td>0.0</td>\n",
       "      <td>0.0</td>\n",
       "      <td>1</td>\n",
       "      <td>0.0</td>\n",
       "    </tr>\n",
       "    <tr>\n",
       "      <th>2264725</th>\n",
       "      <td>0.0</td>\n",
       "      <td>0.0</td>\n",
       "      <td>1</td>\n",
       "      <td>0.0</td>\n",
       "    </tr>\n",
       "    <tr>\n",
       "      <th>1197852</th>\n",
       "      <td>0.0</td>\n",
       "      <td>0.0</td>\n",
       "      <td>1</td>\n",
       "      <td>0.0</td>\n",
       "    </tr>\n",
       "    <tr>\n",
       "      <th>340907</th>\n",
       "      <td>0.0</td>\n",
       "      <td>0.0</td>\n",
       "      <td>1</td>\n",
       "      <td>0.0</td>\n",
       "    </tr>\n",
       "    <tr>\n",
       "      <th>2027577</th>\n",
       "      <td>0.0</td>\n",
       "      <td>0.0</td>\n",
       "      <td>1</td>\n",
       "      <td>0.0</td>\n",
       "    </tr>\n",
       "    <tr>\n",
       "      <th>...</th>\n",
       "      <td>...</td>\n",
       "      <td>...</td>\n",
       "      <td>...</td>\n",
       "      <td>...</td>\n",
       "    </tr>\n",
       "    <tr>\n",
       "      <th>2249467</th>\n",
       "      <td>0.0</td>\n",
       "      <td>0.0</td>\n",
       "      <td>1</td>\n",
       "      <td>0.0</td>\n",
       "    </tr>\n",
       "    <tr>\n",
       "      <th>963395</th>\n",
       "      <td>0.0</td>\n",
       "      <td>0.0</td>\n",
       "      <td>1</td>\n",
       "      <td>0.0</td>\n",
       "    </tr>\n",
       "    <tr>\n",
       "      <th>2215104</th>\n",
       "      <td>0.0</td>\n",
       "      <td>0.0</td>\n",
       "      <td>1</td>\n",
       "      <td>0.0</td>\n",
       "    </tr>\n",
       "    <tr>\n",
       "      <th>1484405</th>\n",
       "      <td>0.0</td>\n",
       "      <td>0.0</td>\n",
       "      <td>1</td>\n",
       "      <td>0.0</td>\n",
       "    </tr>\n",
       "    <tr>\n",
       "      <th>305711</th>\n",
       "      <td>0.0</td>\n",
       "      <td>0.0</td>\n",
       "      <td>1</td>\n",
       "      <td>0.0</td>\n",
       "    </tr>\n",
       "  </tbody>\n",
       "</table>\n",
       "<p>1957361 rows × 4 columns</p>\n",
       "</div>"
      ],
      "text/plain": [
       "         jacc  adam  intercetta  salton\n",
       "1907249   0.0   0.0           1     0.0\n",
       "2264725   0.0   0.0           1     0.0\n",
       "1197852   0.0   0.0           1     0.0\n",
       "340907    0.0   0.0           1     0.0\n",
       "2027577   0.0   0.0           1     0.0\n",
       "...       ...   ...         ...     ...\n",
       "2249467   0.0   0.0           1     0.0\n",
       "963395    0.0   0.0           1     0.0\n",
       "2215104   0.0   0.0           1     0.0\n",
       "1484405   0.0   0.0           1     0.0\n",
       "305711    0.0   0.0           1     0.0\n",
       "\n",
       "[1957361 rows x 4 columns]"
      ]
     },
     "execution_count": 86,
     "metadata": {},
     "output_type": "execute_result"
    }
   ],
   "source": [
    "X_train"
   ]
  },
  {
   "cell_type": "code",
   "execution_count": 88,
   "id": "going-exploration",
   "metadata": {},
   "outputs": [
    {
     "name": "stdout",
     "output_type": "stream",
     "text": [
      "Accuracy of logistic regression classifier on test set: 0.68\n"
     ]
    }
   ],
   "source": [
    "y_pred = logreg.predict(X_test)\n",
    "print('Accuracy of logistic regression classifier on test set: {:.2f}'.format(logreg.score(X_test, y_test)))"
   ]
  },
  {
   "cell_type": "code",
   "execution_count": 91,
   "id": "effective-reliance",
   "metadata": {},
   "outputs": [
    {
     "data": {
      "text/plain": [
       "array([0, 0, 1, ..., 0, 0, 0], dtype=int64)"
      ]
     },
     "execution_count": 91,
     "metadata": {},
     "output_type": "execute_result"
    }
   ],
   "source": []
  },
  {
   "cell_type": "code",
   "execution_count": 89,
   "id": "million-river",
   "metadata": {},
   "outputs": [
    {
     "name": "stdout",
     "output_type": "stream",
     "text": [
      "[[412912   6940]\n",
      " [262327 156690]]\n"
     ]
    }
   ],
   "source": [
    "from sklearn.metrics import confusion_matrix\n",
    "confusion_matrix = confusion_matrix(y_test, y_pred)\n",
    "print(confusion_matrix)"
   ]
  },
  {
   "cell_type": "code",
   "execution_count": null,
   "id": "radio-membership",
   "metadata": {},
   "outputs": [],
   "source": [
    "stats.pearsonr(list(dfpred3['legame2']),list(dfpred3['jacc']))"
   ]
  },
  {
   "cell_type": "markdown",
   "id": "employed-equipment",
   "metadata": {},
   "source": [
    "### Modello con aggiustamento rare events\n",
    "per info check King G and Zeng L (2001). “Logistic Regression in Rare Events Data.” Political Analysis, 9 (2), pp. 137-163."
   ]
  },
  {
   "cell_type": "code",
   "execution_count": 20,
   "id": "coordinate-hybrid",
   "metadata": {},
   "outputs": [],
   "source": [
    "##creo indice non presente in network x\n",
    "def salton_index(G, coppia):\n",
    "    u = coppia[0][0]\n",
    "    v = coppia[0][1]\n",
    "    neigh1 = [n for n in G[u]]\n",
    "    neigh2 = [n for n in G[v]]\n",
    "    numerator = len(list(set(neigh1) & set(neigh2)))\n",
    "    deg1 = G.degree[u]\n",
    "    deg2 = G.degree[v]\n",
    "    denominator = math.sqrt(deg1*deg2)\n",
    "    salton = numerator/denominator\n",
    "    return salton"
   ]
  },
  {
   "cell_type": "code",
   "execution_count": 24,
   "id": "closing-preparation",
   "metadata": {},
   "outputs": [],
   "source": [
    "##creo jacc modificato\n",
    "def jacc_index(G, coppia):\n",
    "    u = coppia[0][0]\n",
    "    v = coppia[0][1]\n",
    "    neigh1 = [n for n in G[u]]\n",
    "    neigh2 = [n for n in G[v]]\n",
    "    numerator = len(list(set(neigh1) & set(neigh2)))\n",
    "    denominator = len(list(set(neigh1 + neigh2)))\n",
    "    jacc = numerator/denominator\n",
    "    return jacc"
   ]
  },
  {
   "cell_type": "code",
   "execution_count": 26,
   "id": "important-queens",
   "metadata": {},
   "outputs": [
    {
     "data": {
      "text/plain": [
       "0.7142857142857143"
      ]
     },
     "execution_count": 26,
     "metadata": {},
     "output_type": "execute_result"
    }
   ],
   "source": [
    "jacc_index(F,[(22557,0)])"
   ]
  },
  {
   "cell_type": "code",
   "execution_count": 32,
   "id": "about-outside",
   "metadata": {},
   "outputs": [
    {
     "data": {
      "application/vnd.jupyter.widget-view+json": {
       "model_id": "1bcf743925654de491f6917aa207e1a5",
       "version_major": 2,
       "version_minor": 0
      },
      "text/plain": [
       "HBox(children=(FloatProgress(value=0.0, max=59588.0), HTML(value='')))"
      ]
     },
     "metadata": {},
     "output_type": "display_data"
    },
    {
     "name": "stdout",
     "output_type": "stream",
     "text": [
      "\n"
     ]
    },
    {
     "data": {
      "application/vnd.jupyter.widget-view+json": {
       "model_id": "1bf90929626e4b5885633a9399a5af1a",
       "version_major": 2,
       "version_minor": 0
      },
      "text/plain": [
       "HBox(children=(FloatProgress(value=0.0, max=32115.0), HTML(value='')))"
      ]
     },
     "metadata": {},
     "output_type": "display_data"
    },
    {
     "name": "stdout",
     "output_type": "stream",
     "text": [
      "\n"
     ]
    }
   ],
   "source": [
    "##Prima prendo quelli collegati nel network con 2020 compreso con valori di interesse\n",
    "import random\n",
    "col1 = []\n",
    "col2 = []\n",
    "existing = []\n",
    "linktrial = []\n",
    "linktest = []\n",
    "jacq = []\n",
    "adam = []\n",
    "salton = []\n",
    "for u,v,data in tqdm(ootest.edges(data=True)):\n",
    "    if u>v:\n",
    "        col1.append(u)\n",
    "        col2.append(v)\n",
    "        linktrial.append(int(ootrial.has_edge(u,v)))\n",
    "        linktest.append(int(ootest.has_edge(u,v)))\n",
    "        existing.append(int(ootrial.has_node(u)&ootrial.has_node(v)))\n",
    "        if int(ootrial.has_node(u)&ootrial.has_node(v)):\n",
    "            j = nx.jaccard_coefficient(ootrial, [(u,v)])\n",
    "            for u,v,p in j:\n",
    "                jacq.append(p)\n",
    "            aa = nx.adamic_adar_index(ootrial, [(u,v)])\n",
    "            for u,v,p in aa:\n",
    "                adam.append(p)\n",
    "            salton.append(salton_index(ootrial, [(u,v)]))\n",
    "        else:\n",
    "            jacq.append(0)\n",
    "            adam.append(0)\n",
    "            salton.append(0)\n",
    "dflogis = pd.DataFrame({'col1':col1, 'col2':col2, 'existing':existing, 'linktrial':linktrial, 'linktest':linktest,\n",
    "                       'jacq' : jacq, 'adam':adam, 'salton' : salton})\n",
    "numbers = len(dflogis[(dflogis['existing']==1) & (dflogis['linktest']== 1) & (dflogis['linktrial']== 0) ])\n",
    "list_of_candidates = list((ootrial.nodes))\n",
    "list_degree = [val for (node, val) in ootrial.degree()]\n",
    "list_degree_p = []\n",
    "for number in list_degree:\n",
    "    list_degree_p.append(number/sum(list_degree))\n",
    "random.seed(10)\n",
    "draw1 = choice(list_of_candidates, numbers*15,\n",
    "              p= list_degree_p, replace=True)\n",
    "p2 = []\n",
    "for number in list_degree:\n",
    "    p2.append(1/len(list_degree))\n",
    "random.seed(11)\n",
    "draw2 = choice(list_of_candidates, numbers*15,\n",
    "              p= list_degree_p, replace=True)\n",
    "count = 0\n",
    "\n",
    "for i in tqdm(range(len(draw1))):\n",
    "    while count < numbers*10:\n",
    "        if ootrial.has_edge(draw1[i], draw2[i])==False and ootest.has_edge(draw1[i], draw2[i]) == False:\n",
    "            col1.append(draw1[i])\n",
    "            col2.append(draw2[i])\n",
    "            existing.append(1)\n",
    "            linktrial.append(0)\n",
    "            linktest.append(0)\n",
    "            j = nx.jaccard_coefficient(ootrial, [(draw1[i],draw2[i])])\n",
    "            for u,v,p in j:\n",
    "                jacq.append(p)\n",
    "            aa = nx.adamic_adar_index(ootrial, [(draw1[i],draw2[i])])\n",
    "            for u,v,p in aa:\n",
    "                adam.append(p)\n",
    "            salton.append(salton_index(ootrial, [(draw1[i],draw2[i])]))\n",
    "            count+=1\n",
    "                          \n",
    "dflogis = pd.DataFrame({'col1':col1, 'col2':col2, 'existing':existing, 'linktrial':linktrial, 'linktest':linktest,\n",
    "                        'jacq':jacq, 'adam':adam, 'salton':salton})\n"
   ]
  },
  {
   "cell_type": "code",
   "execution_count": 34,
   "id": "possible-baseline",
   "metadata": {},
   "outputs": [
    {
     "data": {
      "text/plain": [
       "21410"
      ]
     },
     "execution_count": 34,
     "metadata": {},
     "output_type": "execute_result"
    }
   ],
   "source": [
    "len(dflogis[(dflogis['existing']==1) & (dflogis['linktest']== 0) & (dflogis['linktrial']== 0) ])\n"
   ]
  },
  {
   "cell_type": "code",
   "execution_count": 35,
   "id": "romantic-configuration",
   "metadata": {},
   "outputs": [
    {
     "data": {
      "text/plain": [
       "[<matplotlib.lines.Line2D at 0x15c7b3c3130>]"
      ]
     },
     "execution_count": 35,
     "metadata": {},
     "output_type": "execute_result"
    },
    {
     "data": {
      "image/png": "[encoded data removed]",
      "text/plain": [
       "<Figure size 432x288 with 1 Axes>"
      ]
     },
     "metadata": {
      "needs_background": "light"
     },
     "output_type": "display_data"
    }
   ],
   "source": [
    "plt.plot(list(dflogis[dflogis['linktrial']==0]['jacq']))"
   ]
  },
  {
   "cell_type": "code",
   "execution_count": 36,
   "id": "medieval-principle",
   "metadata": {},
   "outputs": [
    {
     "data": {
      "text/plain": [
       "'Name: \\nType: Graph\\nNumber of nodes: 10758\\nNumber of edges: 49601\\nAverage degree:   9.2212'"
      ]
     },
     "execution_count": 36,
     "metadata": {},
     "output_type": "execute_result"
    }
   ],
   "source": [
    "nx.info(ootrial)"
   ]
  },
  {
   "cell_type": "code",
   "execution_count": null,
   "id": "electronic-platinum",
   "metadata": {},
   "outputs": [],
   "source": [
    "jacqito = list(dflogis[(dflogis['existing']!=0) & (dflogis['linktrial']== 1)]['jacq'])"
   ]
  },
  {
   "cell_type": "code",
   "execution_count": null,
   "id": "departmental-shareware",
   "metadata": {},
   "outputs": [],
   "source": [
    "dfristretto = dflogis[(dflogis['existing']==1) & (dflogis['linktrial']== 0)]"
   ]
  },
  {
   "cell_type": "code",
   "execution_count": null,
   "id": "static-needle",
   "metadata": {},
   "outputs": [],
   "source": [
    "len(set(dfristretto['col1']))"
   ]
  },
  {
   "cell_type": "code",
   "execution_count": null,
   "id": "exempt-meditation",
   "metadata": {},
   "outputs": [],
   "source": [
    "plt.plot(sorted(jacqito))"
   ]
  },
  {
   "cell_type": "code",
   "execution_count": 37,
   "id": "major-destination",
   "metadata": {},
   "outputs": [
    {
     "data": {
      "text/plain": [
       "[<matplotlib.lines.Line2D at 0x15c7b4b04f0>]"
      ]
     },
     "execution_count": 37,
     "metadata": {},
     "output_type": "execute_result"
    },
    {
     "data": {
      "image/png": "[encoded data removed]",
      "text/plain": [
       "<Figure size 432x288 with 1 Axes>"
      ]
     },
     "metadata": {
      "needs_background": "light"
     },
     "output_type": "display_data"
    }
   ],
   "source": [
    "plt.plot(sorted(salton))"
   ]
  },
  {
   "cell_type": "code",
   "execution_count": 38,
   "id": "prepared-billion",
   "metadata": {},
   "outputs": [
    {
     "data": {
      "text/plain": [
       "(0.969012573633117, 0.0)"
      ]
     },
     "execution_count": 38,
     "metadata": {},
     "output_type": "execute_result"
    }
   ],
   "source": [
    "stats.pearsonr(jacq,salton)"
   ]
  },
  {
   "cell_type": "code",
   "execution_count": 39,
   "id": "faced-olympus",
   "metadata": {},
   "outputs": [
    {
     "name": "stderr",
     "output_type": "stream",
     "text": [
      "<ipython-input-39-05059706a07f>:2: SettingWithCopyWarning: \n",
      "A value is trying to be set on a copy of a slice from a DataFrame.\n",
      "Try using .loc[row_indexer,col_indexer] = value instead\n",
      "\n",
      "See the caveats in the documentation: https://pandas.pydata.org/pandas-docs/stable/user_guide/indexing.html#returning-a-view-versus-a-copy\n",
      "  dflogis2['intercetta']=1\n"
     ]
    }
   ],
   "source": [
    "dflogis2 = (dflogis[(dflogis['existing']==1) & (dflogis['linktrial']== 0) ])\n",
    "dflogis2['intercetta']=1"
   ]
  },
  {
   "cell_type": "code",
   "execution_count": 42,
   "id": "baking-wayne",
   "metadata": {},
   "outputs": [
    {
     "data": {
      "text/html": [
       "<div>\n",
       "<style scoped>\n",
       "    .dataframe tbody tr th:only-of-type {\n",
       "        vertical-align: middle;\n",
       "    }\n",
       "\n",
       "    .dataframe tbody tr th {\n",
       "        vertical-align: top;\n",
       "    }\n",
       "\n",
       "    .dataframe thead th {\n",
       "        text-align: right;\n",
       "    }\n",
       "</style>\n",
       "<table border=\"1\" class=\"dataframe\">\n",
       "  <thead>\n",
       "    <tr style=\"text-align: right;\">\n",
       "      <th></th>\n",
       "      <th>col1</th>\n",
       "      <th>col2</th>\n",
       "      <th>existing</th>\n",
       "      <th>linktrial</th>\n",
       "      <th>jacq</th>\n",
       "      <th>adam</th>\n",
       "      <th>salton</th>\n",
       "      <th>intercetta</th>\n",
       "    </tr>\n",
       "    <tr>\n",
       "      <th>linktest</th>\n",
       "      <th></th>\n",
       "      <th></th>\n",
       "      <th></th>\n",
       "      <th></th>\n",
       "      <th></th>\n",
       "      <th></th>\n",
       "      <th></th>\n",
       "      <th></th>\n",
       "    </tr>\n",
       "  </thead>\n",
       "  <tbody>\n",
       "    <tr>\n",
       "      <th>0</th>\n",
       "      <td>608622070</td>\n",
       "      <td>704538870</td>\n",
       "      <td>21410</td>\n",
       "      <td>0</td>\n",
       "      <td>0.000000</td>\n",
       "      <td>0.00000</td>\n",
       "      <td>0.000000</td>\n",
       "      <td>21410</td>\n",
       "    </tr>\n",
       "    <tr>\n",
       "      <th>1</th>\n",
       "      <td>74099268</td>\n",
       "      <td>61115408</td>\n",
       "      <td>2141</td>\n",
       "      <td>0</td>\n",
       "      <td>45.802672</td>\n",
       "      <td>1280.58529</td>\n",
       "      <td>97.570698</td>\n",
       "      <td>2141</td>\n",
       "    </tr>\n",
       "  </tbody>\n",
       "</table>\n",
       "</div>"
      ],
      "text/plain": [
       "               col1       col2  existing  linktrial       jacq        adam  \\\n",
       "linktest                                                                     \n",
       "0         608622070  704538870     21410          0   0.000000     0.00000   \n",
       "1          74099268   61115408      2141          0  45.802672  1280.58529   \n",
       "\n",
       "             salton  intercetta  \n",
       "linktest                         \n",
       "0          0.000000       21410  \n",
       "1         97.570698        2141  "
      ]
     },
     "execution_count": 42,
     "metadata": {},
     "output_type": "execute_result"
    }
   ],
   "source": [
    "dflogis2.groupby('linktest').sum()"
   ]
  },
  {
   "cell_type": "code",
   "execution_count": 559,
   "id": "historical-burns",
   "metadata": {},
   "outputs": [
    {
     "data": {
      "text/plain": [
       "27540"
      ]
     },
     "execution_count": 559,
     "metadata": {},
     "output_type": "execute_result"
    }
   ],
   "source": [
    "draw2[i]"
   ]
  },
  {
   "cell_type": "code",
   "execution_count": 43,
   "id": "professional-cherry",
   "metadata": {},
   "outputs": [],
   "source": [
    "y = dflogis2['linktest']\n",
    "X = dflogis2[['adam','salton','intercetta']]"
   ]
  },
  {
   "cell_type": "code",
   "execution_count": 46,
   "id": "electronic-physics",
   "metadata": {},
   "outputs": [
    {
     "name": "stdout",
     "output_type": "stream",
     "text": [
      "Warning: Maximum number of iterations has been exceeded.\n",
      "         Current function value: 0.202533\n",
      "         Iterations: 35\n",
      "                              Results: Logit\n",
      "==========================================================================\n",
      "Model:                  Logit               Pseudo R-squared:    0.335    \n",
      "Dependent Variable:     linktest            AIC:                 9545.7006\n",
      "Date:                   2021-08-14 15:26    BIC:                 9569.9013\n",
      "No. Observations:       23551               Log-Likelihood:      -4769.9  \n",
      "Df Model:               2                   LL-Null:             -7174.5  \n",
      "Df Residuals:           23548               LLR p-value:         0.0000   \n",
      "Converged:              0.0000              Scale:               1.0000   \n",
      "No. Iterations:         35.0000                                           \n",
      "--------------------------------------------------------------------------\n",
      "            Coef.     Std.Err.     z     P>|z|      [0.025       0.975]   \n",
      "--------------------------------------------------------------------------\n",
      "adam       126.7902 122735.8986   0.0010 0.9992  -240431.1508  240684.7311\n",
      "salton      63.4766 757219.8431   0.0001 0.9999 -1484060.1442 1484187.0974\n",
      "intercetta  -2.8593      0.0294 -97.4044 0.0000       -2.9168      -2.8018\n",
      "==========================================================================\n",
      "\n"
     ]
    },
    {
     "name": "stderr",
     "output_type": "stream",
     "text": [
      "C:\\Users\\Marco\\anaconda3\\lib\\site-packages\\statsmodels\\base\\model.py:567: ConvergenceWarning: Maximum Likelihood optimization failed to converge. Check mle_retvals\n",
      "  warn(\"Maximum Likelihood optimization failed to converge. \"\n"
     ]
    }
   ],
   "source": [
    "logit_model=sm.Logit(y,X)\n",
    "result=logit_model.fit()\n",
    "print(result.summary2())"
   ]
  },
  {
   "cell_type": "code",
   "execution_count": 49,
   "id": "parliamentary-designer",
   "metadata": {},
   "outputs": [
    {
     "data": {
      "text/plain": [
       "10       1\n",
       "12       1\n",
       "16       1\n",
       "17       1\n",
       "37       1\n",
       "        ..\n",
       "51425    0\n",
       "51426    0\n",
       "51427    0\n",
       "51428    0\n",
       "51429    0\n",
       "Name: linktest, Length: 23551, dtype: int64"
      ]
     },
     "execution_count": 49,
     "metadata": {},
     "output_type": "execute_result"
    }
   ],
   "source": [
    "y"
   ]
  },
  {
   "cell_type": "markdown",
   "id": "assumed-guatemala",
   "metadata": {},
   "source": [
    "### Summary statistics"
   ]
  },
  {
   "cell_type": "code",
   "execution_count": null,
   "id": "professional-composite",
   "metadata": {
    "scrolled": true
   },
   "outputs": [],
   "source": [
    "print(nx.info(B))"
   ]
  },
  {
   "cell_type": "code",
   "execution_count": null,
   "id": "first-framing",
   "metadata": {},
   "outputs": [],
   "source": [
    "bipartite.density(B, bid_nodes)"
   ]
  },
  {
   "cell_type": "markdown",
   "id": "irish-eight",
   "metadata": {},
   "source": [
    "### Dynamic community discovery"
   ]
  },
  {
   "cell_type": "code",
   "execution_count": null,
   "id": "basic-characteristic",
   "metadata": {},
   "outputs": [],
   "source": [
    "tc = TemporalClustering()\n",
    "for year in range(2000,2021):\n",
    "    coms = algorithms.bimlpa(locals()[\"SG_\"+str(year)])  # here any CDlib algorithm can be applied -- Ask Rossetti for ambiguity\n",
    "    tc.add_clustering(coms, year)"
   ]
  },
  {
   "cell_type": "code",
   "execution_count": null,
   "id": "equivalent-mattress",
   "metadata": {},
   "outputs": [],
   "source": [
    "from cdlib import TemporalClustering"
   ]
  },
  {
   "cell_type": "code",
   "execution_count": null,
   "id": "republican-mongolia",
   "metadata": {},
   "outputs": [],
   "source": [
    "tc2 = TemporalClustering()\n",
    "for year in range(2000,2021):\n",
    "    coms = algorithms.louvain(locals()[\"SG_\"+str(year)])  # Louvain\n",
    "    tc2.add_clustering(coms, year)"
   ]
  },
  {
   "cell_type": "code",
   "execution_count": null,
   "id": "artistic-breeding",
   "metadata": {
    "scrolled": true
   },
   "outputs": [],
   "source": [
    "size = [len(x) for x in tc2.get_clustering_at(2017).communities]\n",
    "mod = evaluation.avg_distance(SG_2017, tc2.get_clustering_at(2017), summary=False)"
   ]
  },
  {
   "cell_type": "code",
   "execution_count": null,
   "id": "extended-candle",
   "metadata": {
    "scrolled": true
   },
   "outputs": [],
   "source": [
    "plt.plot(size, mod, '.')\n",
    "plt.xlabel('size')\n",
    "plt.ylabel('avg_distance')\n",
    "plt.show()"
   ]
  },
  {
   "cell_type": "code",
   "execution_count": null,
   "id": "large-olive",
   "metadata": {},
   "outputs": [],
   "source": [
    "common_n = lambda x, y:  len(set(x) & set(y))\n",
    "match_list=tc2.community_matching(method=common_n)"
   ]
  },
  {
   "cell_type": "code",
   "execution_count": null,
   "id": "compact-marijuana",
   "metadata": {},
   "outputs": [],
   "source": [
    "[(x[0], len(tc2.get_community(x[0])), x[1], len(tc2.get_community(x[1])), x[2]) for x in match_list if x[2]>100]"
   ]
  },
  {
   "cell_type": "markdown",
   "id": "worst-meter",
   "metadata": {},
   "source": [
    "## Link prediction"
   ]
  },
  {
   "cell_type": "markdown",
   "id": "tropical-overview",
   "metadata": {},
   "source": [
    "## Functional data analysis"
   ]
  },
  {
   "cell_type": "markdown",
   "id": "ordinary-compilation",
   "metadata": {},
   "source": [
    "### Data preparation"
   ]
  },
  {
   "cell_type": "code",
   "execution_count": null,
   "id": "humanitarian-teaching",
   "metadata": {},
   "outputs": [],
   "source": [
    "data=Pallottola[['Organisation', 'id_x', 'USDraised_cpi', 'Date']]"
   ]
  },
  {
   "cell_type": "code",
   "execution_count": null,
   "id": "sitting-watts",
   "metadata": {},
   "outputs": [],
   "source": [
    "data.Date=data.Date.dt.year"
   ]
  },
  {
   "cell_type": "code",
   "execution_count": null,
   "id": "suspended-abraham",
   "metadata": {},
   "outputs": [],
   "source": [
    "data=data[data.Date>=2000]\n",
    "data=data[data.Date<2021]"
   ]
  },
  {
   "cell_type": "code",
   "execution_count": null,
   "id": "athletic-zambia",
   "metadata": {},
   "outputs": [],
   "source": [
    "data=data.groupby(['id_x','Organisation','Date']).sum().reset_index()"
   ]
  },
  {
   "cell_type": "code",
   "execution_count": null,
   "id": "thermal-torture",
   "metadata": {},
   "outputs": [],
   "source": [
    "data=data.pivot('Date','id_x','USDraised_cpi')"
   ]
  },
  {
   "cell_type": "code",
   "execution_count": null,
   "id": "suburban-vanilla",
   "metadata": {},
   "outputs": [],
   "source": [
    "data"
   ]
  },
  {
   "cell_type": "code",
   "execution_count": null,
   "id": "backed-pickup",
   "metadata": {},
   "outputs": [],
   "source": [
    "data.to_csv('to_functionalise.csv')"
   ]
  },
  {
   "cell_type": "markdown",
   "id": "proud-philosophy",
   "metadata": {},
   "source": [
    "### Functional clustering"
   ]
  },
  {
   "cell_type": "markdown",
   "id": "coordinated-parade",
   "metadata": {},
   "source": [
    "### Function - on - scalar and function - on - function regressions"
   ]
  }
 ],
 "metadata": {
  "kernelspec": {
   "display_name": "Python 3",
   "language": "python",
   "name": "python3"
  },
  "language_info": {
   "codemirror_mode": {
    "name": "ipython",
    "version": 3
   },
   "file_extension": ".py",
   "mimetype": "text/x-python",
   "name": "python",
   "nbconvert_exporter": "python",
   "pygments_lexer": "ipython3",
   "version": "3.9.2"
  }
 },
 "nbformat": 4,
 "nbformat_minor": 5
}
