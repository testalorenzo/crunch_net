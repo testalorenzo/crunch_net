{
 "cells": [
  {
   "cell_type": "code",
   "execution_count": null,
   "metadata": {
    "tags": []
   },
   "outputs": [],
   "source": [
    "import pandas as pd\n",
    "import networkx as nx\n",
    "from tqdm.notebook import tqdm\n",
    "import matplotlib.pyplot as plt\n",
    "import seaborn as sns\n",
    "import numpy as np\n",
    "import sys\n",
    "from pylab import rcParams\n",
    "from sklearn.metrics import confusion_matrix\n",
    "import pygraphviz as pgv\n",
    "from pyvis.network import Network\n",
    "import matplotlib.colors as pltcol\n",
    "from matplotlib.pyplot import figure\n",
    "from IPython.display import display"
   ]
  },
  {
   "cell_type": "code",
   "execution_count": null,
   "metadata": {},
   "outputs": [],
   "source": [
    "years = range(1990,2022)\n",
    "for y in years:\n",
    "    locals()['Gorg' + str(y)] = nx.read_gpickle('orgorg_single' +\n",
    "                                               str(y) +\n",
    "                                               '.gpickle')"
   ]
  },
  {
   "cell_type": "code",
   "execution_count": null,
   "metadata": {},
   "outputs": [],
   "source": [
    "for i in tqdm(range(1990,2021)):\n",
    "    nx.set_node_attributes(locals()['Gorg' + str(i)], pd.Series(nodes.node, index=nodes.id).to_dict(), 'name')\n",
    "    nx.set_node_attributes(locals()['Gorg' + str(i)], pd.Series(nodes.country, index=nodes.id).to_dict(), 'country')\n",
    "    nx.set_node_attributes(locals()['Gorg' + str(i)], pd.Series(nodes.continent, index=nodes.continent).to_dict(), 'continent')\n",
    "    nx.set_node_attributes(locals()['Gorg' + str(i)], pd.Series(nodes.industry, index=nodes.id).to_dict(), 'industry')\n",
    "    nx.set_node_attributes(locals()['Gorg' + str(i)], pd.Series(nodes.foundation, index=nodes.id).to_dict(), 'foundation')\n",
    "    nx.set_node_attributes(locals()['Gorg' + str(i)], pd.Series(nodes.bipartite, index=nodes.id).to_dict(), 'bipartite')\n",
    "    print(i)"
   ]
  },
  {
   "cell_type": "code",
   "execution_count": null,
   "metadata": {},
   "outputs": [],
   "source": [
    "feat = 'country'\n",
    "feat2 = 'industry'\n",
    "edges = nx.to_pandas_edgelist(Gorg2020)\n",
    "df = pd.merge(edges, nodes[[feat, feat2, 'id']], how = 'left', left_on = 'source', right_on = 'id' )\n",
    "df2 =pd.merge(df, nodes[[feat, feat2, 'id']], how = 'left', left_on = 'target', right_on = 'id' )\n",
    "weight = []\n",
    "sub = df2[[feat+'_x', feat+'_y', feat2+'_x', feat2+'_y']]\n",
    "sub2 = df2[[feat+'_x', feat+'_y', feat+'_x', feat+'_y']].drop_duplicates()\n",
    "sub3 = sub2.dropna()\n",
    "for i in tqdm(range(0,len(sub3))):\n",
    "    \n",
    "    sub4 = sub[((sub[feat+'_x']== sub3[feat+'_x'].values[i]) & (sub[feat+'_y']== sub3[feat+'_y'].values[i]))| ((sub[feat+'_y']== sub3[feat+'_x'].values[i]) & (sub[feat+'_x']== sub3[feat+'_y'].values[i]))  ]\n",
    "    peso = len(sub4)\n",
    "    weight.append(peso)\n",
    "sub3['weight'] = weight\n",
    "df3 = pd.merge(df2, sub3, left_on = [feat+'_x',feat+'_y'], right_on = [feat+'_x', feat+'_y'])\n",
    "df4 = df3[df3[feat+'_x']<=df3[feat+'_y']]\n",
    "df4['weight_l'] = np.log(df4['weight']+3)\n"
   ]
  },
  {
   "cell_type": "code",
   "execution_count": null,
   "metadata": {},
   "outputs": [],
   "source": [
    "G = nx.from_pandas_edgelist(df4, feat+'_x', feat+'_y', edge_attr = 'weight_l')\n",
    "nodebig = [20*np.sqrt(len(df4[(df4[(feat +'_x')]== i)| (df4[(feat +'_x')]== i)])) for i in list(G.nodes())]\n",
    "d = dict(G.degree)\n",
    "nodedeg = [d[k]*30 for k in d]\n",
    "pos = nx.spring_layout(G, scale=100, k=20/np.sqrt(G.order()))\n",
    "\n",
    "lung = len(G.edges)\n",
    "edgewidth = [list(list(G.edges(data= True))[i][2].values())[0] for i in range(0,lung-1)]\n",
    "fig, ax = plt.subplots(figsize=(16, 16))\n",
    "ax.spines['top'].set_visible(False)\n",
    "ax.spines['right'].set_visible(False)\n",
    "ax.spines['bottom'].set_visible(False)\n",
    "ax.spines['left'].set_visible(False)\n",
    "# Visualize graph components\n",
    "nx.draw_networkx_edges(G, pos, alpha=0.2, width=edgewidth, edge_color=\"tab:blue\")\n",
    "nx.draw_networkx_nodes(G, pos, node_size=nodebig, node_color=\"tab:blue\", alpha=1)\n",
    "label_options = {\"ec\": \"k\", \"fc\": \"white\", \"alpha\": 0.7}\n",
    "nx.draw_networkx_labels(G, pos, font_size=14, bbox=label_options)"
   ]
  }
 ],
 "metadata": {
  "kernelspec": {
   "display_name": "Python 3 (ipykernel)",
   "language": "python",
   "name": "python3"
  },
  "language_info": {
   "codemirror_mode": {
    "name": "ipython",
    "version": 3
   },
   "file_extension": ".py",
   "mimetype": "text/x-python",
   "name": "python",
   "nbconvert_exporter": "python",
   "pygments_lexer": "ipython3",
   "version": "3.8.2"
  }
 },
 "nbformat": 4,
 "nbformat_minor": 4
}
